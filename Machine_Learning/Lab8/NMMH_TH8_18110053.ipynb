{
 "cells": [
  {
   "cell_type": "markdown",
   "metadata": {},
   "source": [
    "## Khoa Học Tự Nhiên\n",
    "## Lab 8 - ML - Backpropagation\n",
    "### Nguyễn Quốc Bảo - 18110053"
   ]
  },
  {
   "cell_type": "markdown",
   "metadata": {},
   "source": [
    " "
   ]
  },
  {
   "cell_type": "markdown",
   "metadata": {},
   "source": [
    " "
   ]
  },
  {
   "cell_type": "markdown",
   "metadata": {
    "id": "j411dkkAuSvt"
   },
   "source": [
    "**Lab-08: Backpropagation**\n",
    "\n",
    "Trong bài thực hành này chúng ta sẽ thử cài đặt Backpropagation \n",
    "\n",
    "Ta muốn dựa vào 2 chiều của lá, phân biệt giữa loại lá 1 và loại lá 2. Cụ thể, với $x = (x_1,x_2, 1)$ là input, ta muốn đoán một phân phối\n",
    "    $$ P_\\theta(c|x),c = 0, 1 $$\n",
    "với $\\theta$ là các tham số\n",
    "Ta mô hình $P_\\theta$ là một neural network có 2 lớp ẩn, mỗi lớp 5 neurons, tức là\\n\",\n",
    "    $$ P_\\theta(c|x) = \\text{softmax}(\\max(0, \\max(0, x \\cdot W_1 + b_1) \\cdot W_2 + b_2) \\cdot W_3 + b_3 )$$\n",
    "\n",
    "với $x$ là vector dòng $[[x_1, x_2]]$ kích thước $ 1\\times 2$, $W_1, W_2, W_3$ là các ma trận có kích thước $2 \\times 5, 5 \\times 5, 5 \\times 3$, và $b_1, b_2, b_3$ là các ma trận kích thước $1 \\times 5, 1 \\times 5, 1 \\times 3$.\n",
    "\n",
    "Khi đó $P(c|x)$ là một vector dòng độ dài 3, xem như $P(c|x)= (P_1(c|x), P_2(c|x), P_3(c|x)) = (P(c=0|x), P(c=1|x), P(c=2|x))$\n",
    "Bộ các ma trận $\\\\theta = (W_1, W_2, W_3, b_1, b_2, b_3)$ chính là tham số cần tìm của model. Giờ cần tìm $\\\\theta$ sao cho \n",
    "\n",
    "$$ L = \\frac{1}{N} \\sum_{x,y} - y_0 \\log P_\\theta(0|x) -  y_1 \\log P_\\theta(1|x) - y_2 \\log P_\\theta(2|x) $$\n",
    "\n",
    "đạt giá trị nhỏ nhất với $y = (y_0, y_1, y_2)$ là one-hot vector biểu thị loại lá tương ứng với $x$\n",
    "\n"
   ]
  },
  {
   "cell_type": "markdown",
   "metadata": {},
   "source": [
    " "
   ]
  },
  {
   "cell_type": "markdown",
   "metadata": {
    "id": "zSZlBMhnewyH"
   },
   "source": [
    "# Bài Tập\n",
    "1. Từ code demo hãy cài đặt thêm một module để chọn ra được bộ weights sao cho accuracy trên tập validation là tốt nhất."
   ]
  },
  {
   "cell_type": "markdown",
   "metadata": {},
   "source": [
    "## Import library"
   ]
  },
  {
   "cell_type": "code",
   "execution_count": 1,
   "metadata": {
    "id": "hRjcNaFBigAx"
   },
   "outputs": [],
   "source": [
    "import numpy as np\n",
    "import matplotlib.pyplot as plt\n",
    "import pandas as pd"
   ]
  },
  {
   "cell_type": "markdown",
   "metadata": {
    "id": "2zS_ADnTigA3"
   },
   "source": [
    "# Preprocessing"
   ]
  },
  {
   "cell_type": "code",
   "execution_count": 2,
   "metadata": {
    "id": "DzecGvNIigA4"
   },
   "outputs": [],
   "source": [
    "def one_hot_vector(y):\n",
    "    out = np.zeros((y.shape[0], max(y)+1))\n",
    "    for i in range(y.shape[0]):\n",
    "        out[i, y[i]] = 1\n",
    "    return out"
   ]
  },
  {
   "cell_type": "code",
   "execution_count": 3,
   "metadata": {
    "id": "NpL3fpASigA5"
   },
   "outputs": [],
   "source": [
    "train = pd.read_csv(\"https://raw.githubusercontent.com/huynhthanh98/ML/master/lab-08/bt_train.csv\")\n",
    "valid = pd.read_csv(\"https://raw.githubusercontent.com/huynhthanh98/ML/master/lab-08/bt_valid.csv\")\n",
    "\n",
    "x1_train = train[\"x1\"].values\n",
    "x2_train = train[\"x2\"].values\n",
    "y_train = train[\"label\"].values\n",
    "\n",
    "x1_valid = valid['x1'].values\n",
    "x2_valid = valid['x2'].values\n",
    "y_valid = valid['label'].values\n",
    "\n",
    "# normalize\n",
    "x1_mean = np.mean(x1_train)\n",
    "x1_std = np.std(x1_train)\n",
    "x2_mean = np.mean(x2_train)\n",
    "x2_std = np.std(x2_train)\n",
    "\n",
    "x1_train = (x1_train - x1_mean)/ x1_std\n",
    "x2_train = (x2_train - x2_mean)/ x2_std\n",
    "\n",
    "x1_valid = (x1_valid - x1_mean)/ x1_std\n",
    "x2_valid = (x2_valid - x2_mean)/ x2_std\n",
    "\n",
    "\n",
    "\n",
    "X_train = np.concatenate([x1_train.reshape(-1,1), x2_train.reshape(-1,1)], axis=1)\n",
    "y_train = one_hot_vector(y_train)\n",
    "\n",
    "X_valid = np.concatenate([x1_valid.reshape(-1,1), x2_valid.reshape(-1,1)], axis=1)"
   ]
  },
  {
   "cell_type": "code",
   "execution_count": 4,
   "metadata": {},
   "outputs": [
    {
     "name": "stdout",
     "output_type": "stream",
     "text": [
      "(900, 3) (300, 3)\n"
     ]
    }
   ],
   "source": [
    "print(X_train.shape, X_valid.shape)"
   ]
  },
  {
   "cell_type": "code",
   "execution_count": 5,
   "metadata": {
    "id": "4_CidQJtigA7"
   },
   "outputs": [],
   "source": [
    "# initialize\n",
    "W1 = np.random.randn(2,5)\n",
    "W2 = np.random.randn(5,5)\n",
    "W3 = np.random.randn(5,3)\n",
    "\n",
    "b1 = np.random.randn(1,5)\n",
    "b2 = np.random.randn(1,5)\n",
    "b3 = np.random.randn(1,3)"
   ]
  },
  {
   "cell_type": "code",
   "execution_count": 6,
   "metadata": {
    "id": "Kw8mSDk6igA9"
   },
   "outputs": [],
   "source": [
    "def relu(h):\n",
    "    return np.array([max(0,i) for i in h.reshape(-1)]).reshape(h.shape)\n",
    "\n",
    "def softmax(z):\n",
    "    return np.exp(z)/ np.sum(np.exp(z), axis=1).reshape(-1,1)\n",
    "\n",
    "def sigmoid(Z):\n",
    "    return 1 / (1 + np.exp(-Z))\n",
    "\n",
    "def CrossEntropy(o,y):\n",
    "    return - np.sum(y*np.log(o))\n",
    "\n",
    "def predict(X_valid,y_valid , W1, b1, W2, b2, W3, b3):\n",
    "    z1_valid = np.dot(X_valid, W1) + b1\n",
    "    o1_valid = relu(z1_valid)\n",
    "\n",
    "    z2_valid = np.dot(o1_valid, W2) + b2\n",
    "    o2_valid = relu(z2_valid)\n",
    "\n",
    "    z3_valid = np.dot(o2_valid, W3) + b3\n",
    "    o3_valid = softmax(z3_valid)\n",
    "    \n",
    "    accuracy = np.sum(np.argmax(o3_valid, axis = 1) == y_valid)/ y_valid.shape[0]\n",
    "    \n",
    "    return accuracy\n",
    "\n",
    "ln = 0.001\n",
    "N = y_train.shape[0]"
   ]
  },
  {
   "cell_type": "code",
   "execution_count": 7,
   "metadata": {
    "id": "vjLI8EDoigA-"
   },
   "outputs": [],
   "source": [
    "ls_loss = []\n",
    "store = dict()\n",
    "for epochs in range(10000):\n",
    "    # foward\n",
    "    z1 = np.dot(X_train, W1) + b1\n",
    "    o1 = relu(z1)\n",
    "\n",
    "    z2 = np.dot(o1, W2) + b2\n",
    "    o2 = relu(z2)\n",
    "\n",
    "    z3 = np.dot(o2, W3) + b3\n",
    "    o3 = softmax(z3)\n",
    "    \n",
    "    Parameter = {'W1': W1, 'b1': b1, 'W2': W2, 'b2': b2, 'W3': W3, 'b3': b3}\n",
    "    accuracy = predict(X_valid, y_valid , W1, b1, W2, b2, W3, b3)\n",
    "    store[accuracy] = Parameter\n",
    "   \n",
    "    # backpropagation\n",
    "    dL_dz3 = 1/len(X_train)*(o3 - y_train) \n",
    "    dL_dW3 = np.dot(o2.T, dL_dz3)    \n",
    "    dL_db3 = np.sum(dL_dz3, axis = 0)\n",
    "\n",
    "\n",
    "    dL_do2 = np.dot(dL_dz3, W3.T)\n",
    "    dL_dz2 = dL_do2.copy()\n",
    "    dL_dz2[z2 < 0] = 0\n",
    "    dL_dW2 = np.dot(o1.T,dL_dz2)\n",
    "    dL_db2 = np.sum(dL_dz2, axis = 0)\n",
    "\n",
    "    dL_do1 = np.dot(dL_dz2, W2.T)\n",
    "    dL_dz1 = dL_do1.copy()\n",
    "    dL_dz1[z1 < 0] = 0\n",
    "    dL_dW1 = np.dot(X_train.T, dL_dz1)\n",
    "    dL_db1 = np.sum(dL_dz1, axis = 0)\n",
    "\n",
    "    W3 -= ln* dL_dW3\n",
    "    b3 -= ln* dL_db3\n",
    "    W2 -= ln* dL_dW2\n",
    "    b2 -= ln* dL_db2\n",
    "    W1 -= ln* dL_dW1\n",
    "    b1 -= ln* dL_db1"
   ]
  },
  {
   "cell_type": "code",
   "execution_count": 8,
   "metadata": {},
   "outputs": [
    {
     "name": "stdout",
     "output_type": "stream",
     "text": [
      "accuracy : 0.6633333333333333\n",
      "Parameter:  {'W1': array([[ 0.02694447, -0.7906416 ,  0.3302676 ,  2.35072935,  1.36882669],\n",
      "       [ 0.58438011,  0.38741171,  0.50252065,  0.03250823,  1.26698177]]), 'b1': array([[-0.97044389,  0.08331571,  0.26254916,  0.78149445,  0.46839515]]), 'W2': array([[ 0.48025174, -0.61985499,  0.96069146, -1.96437687,  0.41398502],\n",
      "       [-1.32433466, -0.91175675,  0.73369779, -1.79556679, -1.76457783],\n",
      "       [-1.23224983, -0.93832586, -0.0466786 ,  0.48377297,  0.63710807],\n",
      "       [-1.39352776,  0.28487368, -1.11022537,  0.69753778,  0.42563566],\n",
      "       [ 1.24757854,  0.25826951, -2.12480102,  0.97396357, -2.28130296]]), 'b2': array([[ 0.3392448 ,  0.77882641,  0.60510154, -0.23496288, -1.1806147 ]]), 'W3': array([[ 0.40194578,  0.11485569, -0.58658745],\n",
      "       [-1.81281847,  1.08732044, -0.23196456],\n",
      "       [-0.59930622, -0.75246117, -1.08292404],\n",
      "       [ 0.09991397, -0.4170902 ,  1.0432869 ],\n",
      "       [-1.39083156, -1.64351731, -0.87444904]]), 'b3': array([[ 0.37379614, -0.52107513, -1.21761842]])}\n"
     ]
    }
   ],
   "source": [
    "store = list(sorted(store.items(), reverse=True , key = lambda t: t[0]))\n",
    "accuracy, Parameter = store[0]\n",
    "print('accuracy :', accuracy)\n",
    "print('Parameter: ',Parameter)"
   ]
  },
  {
   "cell_type": "markdown",
   "metadata": {},
   "source": [
    " "
   ]
  },
  {
   "cell_type": "markdown",
   "metadata": {},
   "source": [
    " "
   ]
  },
  {
   "cell_type": "markdown",
   "metadata": {},
   "source": [
    " "
   ]
  },
  {
   "cell_type": "markdown",
   "metadata": {},
   "source": [
    " "
   ]
  },
  {
   "cell_type": "markdown",
   "metadata": {},
   "source": [
    " \n",
    "\n",
    "2. Từ bộ dữ liệu bên dưới hãy cài đặt backpropagation cho bài toán phân biệt ung thư vú. Hãy tự chọn số layers và số nodes mà mình cho là thích hợp, cũng như là nêu ra số layers và số nodes của mỗi layer mà mình đã chọn. Tính accuracy trên tập training."
   ]
  },
  {
   "cell_type": "code",
   "execution_count": 9,
   "metadata": {
    "colab": {
     "background_save": true
    },
    "id": "1NscLiyVYuPx"
   },
   "outputs": [],
   "source": [
    "from sklearn import datasets\n",
    "\n",
    "breast_cancer = datasets.load_breast_cancer()\n",
    "X = breast_cancer.data  \n",
    "y = breast_cancer.target\n",
    "\n",
    "from sklearn.model_selection import train_test_split\n",
    "X_train, X_valid, y_train, y_valid = train_test_split( X, y, test_size=0.2, random_state=42)\n",
    "\n",
    "X_mean=np.mean(X_train)\n",
    "X_std=np.std(X_train)\n",
    "\n",
    "X_valid=(X_valid-X_mean)/X_std\n",
    "X_train=(X_train-X_mean)/X_std"
   ]
  },
  {
   "cell_type": "code",
   "execution_count": 10,
   "metadata": {},
   "outputs": [
    {
     "name": "stdout",
     "output_type": "stream",
     "text": [
      "(455, 30) (114, 30)\n"
     ]
    }
   ],
   "source": [
    "print(X_train.shape, X_valid.shape)"
   ]
  },
  {
   "cell_type": "code",
   "execution_count": 11,
   "metadata": {},
   "outputs": [
    {
     "data": {
      "text/plain": [
       "array([0, 1])"
      ]
     },
     "execution_count": 11,
     "metadata": {},
     "output_type": "execute_result"
    }
   ],
   "source": [
    "np.unique(y)"
   ]
  },
  {
   "cell_type": "code",
   "execution_count": 18,
   "metadata": {},
   "outputs": [],
   "source": [
    "class NeuralNetwork:\n",
    "    def __init__(self, layers_size):\n",
    "        self.layers_size = layers_size\n",
    "        self.parameters = {}\n",
    "        self.L = len(self.layers_size)\n",
    "        self.n = 0\n",
    "        self.costs = []\n",
    "    \n",
    "    def initialize_parameters(self):\n",
    "        np.random.seed(1)\n",
    "        \n",
    "        for l in range(1, len(self.layers_size)):\n",
    "            self.parameters[\"W\" + str(l)] = np.random.randn(self.layers_size[l], \n",
    "                                        self.layers_size[l - 1]) / np.sqrt(self.layers_size[l - 1])\n",
    "            self.parameters[\"b\" + str(l)] = np.zeros((self.layers_size[l], 1))\n",
    "    def forward(self, X):\n",
    "        store = {}\n",
    " \n",
    "        O = X.T\n",
    "        for l in range(self.L - 1):\n",
    "            Z = self.parameters[\"W\" + str(l + 1)].dot(O) + self.parameters[\"b\" + str(l + 1)]\n",
    "            O = self._sigmoid(Z)\n",
    "            store[\"O\" + str(l + 1)] = O\n",
    "            store[\"W\" + str(l + 1)] = self.parameters[\"W\" + str(l + 1)]\n",
    "            store[\"Z\" + str(l + 1)] = Z\n",
    " \n",
    "        Z = self.parameters[\"W\" + str(self.L)].dot(O) + self.parameters[\"b\" + str(self.L)]\n",
    "        O = self._sigmoid(Z)\n",
    "        store[\"O\" + str(self.L)] = O\n",
    "        store[\"W\" + str(self.L)] = self.parameters[\"W\" + str(self.L)]\n",
    "        store[\"Z\" + str(self.L)] = Z\n",
    " \n",
    "        return O, store\n",
    "    \n",
    "    def _sigmoid(self, Z):\n",
    "        return 1 / (1 + np.exp(-Z))\n",
    "    \n",
    "    def _sigmoid_derivative(self, Z):\n",
    "        s = 1 / (1 + np.exp(-Z))\n",
    "        return s * (1 - s)\n",
    " \n",
    "    def backward(self, X, Y, store):\n",
    " \n",
    "        derivatives = {}\n",
    " \n",
    "        store[\"O0\"] = X.T\n",
    " \n",
    "        O = store[\"O\" + str(self.L)]\n",
    "        dO = -np.divide(Y, O) + np.divide(1 - Y, 1 - O)\n",
    " \n",
    "        dZ = dO * self._sigmoid_derivative(store[\"Z\" + str(self.L)])\n",
    "        dW = dZ.dot(store[\"O\" + str(self.L - 1)].T) / self.n\n",
    "        db = np.sum(dZ, axis=1, keepdims=True) / self.n\n",
    "        dAPrev = store[\"W\" + str(self.L)].T.dot(dZ)\n",
    " \n",
    "        derivatives[\"dW\" + str(self.L)] = dW\n",
    "        derivatives[\"db\" + str(self.L)] = db\n",
    " \n",
    "        for l in range(self.L - 1, 0, -1):\n",
    "            dZ = dAPrev * self._sigmoid_derivative(store[\"Z\" + str(l)])\n",
    "            dW = 1. / self.n * dZ.dot(store[\"O\" + str(l - 1)].T)\n",
    "            db = 1. / self.n * np.sum(dZ, axis=1, keepdims=True)\n",
    "            if l > 1:\n",
    "                dAPrev = store[\"W\" + str(l)].T.dot(dZ)\n",
    " \n",
    "            derivatives[\"dW\" + str(l)] = dW\n",
    "            derivatives[\"db\" + str(l)] = db\n",
    " \n",
    "        return derivatives\n",
    " \n",
    "    def fit(self, X, Y, learning_rate=0.01, n_iterations=2500):\n",
    "        np.random.seed(1)\n",
    " \n",
    "        self.n = X.shape[0]\n",
    " \n",
    "        self.layers_size.insert(0, X.shape[1])\n",
    " \n",
    "        self.initialize_parameters()\n",
    "        for epoch in range(1,n_iterations+1):\n",
    "            O, store = self.forward(X)\n",
    "            cost = np.squeeze(-(Y.dot(np.log(O.T)) + (1 - Y).dot(np.log(1 - O.T))) / self.n)\n",
    "            derivatives = self.backward(X, Y, store)\n",
    "\n",
    "            for l in range(1, self.L + 1):\n",
    "                self.parameters[\"W\" + str(l)] = self.parameters[\"W\" + str(l)] - learning_rate * derivatives[\"dW\" + str(l)]\n",
    "                self.parameters[\"b\" + str(l)] = self.parameters[\"b\" + str(l)] - learning_rate * derivatives[\"db\" + str(l)]\n",
    " \n",
    "            if epoch % 1000 == 0:\n",
    "                print('>> epoch=%d/%d, cost=%.3f' % (epoch, n_iterations, cost))\n",
    "                self.costs.append(cost)\n",
    " \n",
    "    def predict(self, X, Y):\n",
    "        O, cache = self.forward(X)\n",
    "        n = X.shape[0]\n",
    "        p = np.zeros((1, n))\n",
    " \n",
    "        for i in range(0, O.shape[1]):\n",
    "            if O[0, i] > 0.5:\n",
    "                p[0, i] = 1\n",
    "            else:\n",
    "                p[0, i] = 0\n",
    " \n",
    "        print(\"Accuracy: \" + str(np.sum((p == Y) / n)))\n",
    " \n",
    "    def plot_cost(self):\n",
    "        plt.figure()\n",
    "        plt.plot(np.arange(len(self.costs)), self.costs)\n",
    "        plt.xlabel(\"epochs\")\n",
    "        plt.ylabel(\"cost\")\n",
    "        plt.show()"
   ]
  },
  {
   "cell_type": "code",
   "execution_count": 19,
   "metadata": {},
   "outputs": [
    {
     "name": "stdout",
     "output_type": "stream",
     "text": [
      ">> epoch=1000/10000, cost=0.461\n",
      ">> epoch=2000/10000, cost=0.352\n",
      ">> epoch=3000/10000, cost=0.299\n",
      ">> epoch=4000/10000, cost=0.272\n",
      ">> epoch=5000/10000, cost=0.255\n",
      ">> epoch=6000/10000, cost=0.245\n",
      ">> epoch=7000/10000, cost=0.237\n",
      ">> epoch=8000/10000, cost=0.231\n",
      ">> epoch=9000/10000, cost=0.226\n",
      ">> epoch=10000/10000, cost=0.222\n",
      "\n",
      "accuracy trên tập training\n",
      "Accuracy: 0.9098901098901095\n",
      "accuracy trên tập validation\n",
      "Accuracy: 0.9473684210526316\n"
     ]
    },
    {
     "data": {
      "image/png": "[encoded data removed]",
      "text/plain": [
       "<Figure size 432x288 with 1 Axes>"
      ]
     },
     "metadata": {
      "needs_background": "light"
     },
     "output_type": "display_data"
    }
   ],
   "source": [
    "layer_size = [30, 1]\n",
    "nn = NeuralNetwork(layer_size)\n",
    "nn.fit(X_train, y_train, learning_rate=0.01, n_iterations=10000)\n",
    "print()\n",
    "print('accuracy trên tập training')\n",
    "nn.predict(X_train,y_train)\n",
    "print('accuracy trên tập validation')\n",
    "nn.predict(X_valid,y_valid)\n",
    "nn.plot_cost()"
   ]
  },
  {
   "cell_type": "code",
   "execution_count": null,
   "metadata": {},
   "outputs": [],
   "source": []
  }
 ],
 "metadata": {
  "colab": {
   "collapsed_sections": [],
   "name": "Copy of lab-08.ipynb",
   "provenance": []
  },
  "kernelspec": {
   "display_name": "Python 3",
   "language": "python",
   "name": "python3"
  },
  "language_info": {
   "codemirror_mode": {
    "name": "ipython",
    "version": 3
   },
   "file_extension": ".py",
   "mimetype": "text/x-python",
   "name": "python",
   "nbconvert_exporter": "python",
   "pygments_lexer": "ipython3",
   "version": "3.8.3"
  }
 },
 "nbformat": 4,
 "nbformat_minor": 1
}
