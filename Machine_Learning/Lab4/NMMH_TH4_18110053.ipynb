{
 "cells": [
  {
   "cell_type": "markdown",
   "metadata": {},
   "source": [
    "## Khoa Học Tự Nhiên\n",
    "## Lab 4 - ML - Naive Bayes\n",
    "### Nguyễn Quốc Bảo - 18110053\n",
    "\n",
    "\n"
   ]
  },
  {
   "cell_type": "markdown",
   "metadata": {
    "id": "9rGoUQXwYdOk"
   },
   "source": [
    "\n",
    "\n",
    "\n",
    "**lab 04: Naive Bayes**\n",
    "\n",
    "Ta  có $X_i=(x_i^1,x_i^2,...,x_i^n)$ là một sample có n features, với $c$ labels ($C_1,C_2,...C_c$). Ta muốn chọn được label cho sample $X_i$ thì dựa vào:\n",
    "$$C=\\mathop{argmax}_{C_j, j=\\overline{1,c}}P(C_j|X_i)$$\n",
    "Giả sử các thành phần của biến ngẫu nhiên X độc lập với nhau, ta được: \n",
    "$$C=\\mathop{argmax}_{C_j, j=\\overline{1,c}}P(C_j)\\prod_{i=1}^n P(X_i|C_j)$$\n",
    "\n",
    "Tóm lại: với mỗi label $C_j$ ta tính tích $P(C_j)\\prod_{i=1}^n P(X_i|C_j)$ và so sánh chúng với nhau từ đó chọn ra được label mang giá trị lớn nhất\n",
    "\n",
    "Một số phân phối:\n",
    "1. Categorical\n",
    "\n",
    "2. Gaussian\n"
   ]
  },
  {
   "cell_type": "markdown",
   "metadata": {
    "id": "qHV3q6WcqDXP"
   },
   "source": [
    "#### Bài tập\n",
    "1. Dùng các features: Sex, Pclass, và Embarked để xây dựng thuật toán Naive Bayes Categorical. (4đ)\n",
    "2. Dùng các features: SibSp,\tParch, và Fare để xây dựng thuật toán Naive Bayes Gaussian (Khỏi normalize). (4đ)\n",
    "3. Từ bộ dữ liệu liên minh hãy xây dựng thuật toán Naive Bayes bằng cách dùng tất cả features (mix cả Multinomial và Gaussian. Lưu ý: Khỏi chia tập train, test. Dự đoán thẳng trên tập train) (2đ)"
   ]
  },
  {
   "cell_type": "code",
   "execution_count": 1,
   "metadata": {
    "id": "SzGB6MDLsp09"
   },
   "outputs": [],
   "source": [
    "import pandas as pd\n",
    "import numpy as np"
   ]
  },
  {
   "cell_type": "code",
   "execution_count": 2,
   "metadata": {
    "colab": {
     "base_uri": "https://localhost:8080/",
     "height": 229
    },
    "id": "4__ub1vIiYeV",
    "outputId": "50271515-b34f-4a20-9011-276b043434de"
   },
   "outputs": [
    {
     "name": "stdout",
     "output_type": "stream",
     "text": [
      "(891, 12)\n"
     ]
    },
    {
     "data": {
      "text/html": [
       "<div>\n",
       "<style scoped>\n",
       "    .dataframe tbody tr th:only-of-type {\n",
       "        vertical-align: middle;\n",
       "    }\n",
       "\n",
       "    .dataframe tbody tr th {\n",
       "        vertical-align: top;\n",
       "    }\n",
       "\n",
       "    .dataframe thead th {\n",
       "        text-align: right;\n",
       "    }\n",
       "</style>\n",
       "<table border=\"1\" class=\"dataframe\">\n",
       "  <thead>\n",
       "    <tr style=\"text-align: right;\">\n",
       "      <th></th>\n",
       "      <th>PassengerId</th>\n",
       "      <th>Survived</th>\n",
       "      <th>Pclass</th>\n",
       "      <th>Name</th>\n",
       "      <th>Sex</th>\n",
       "      <th>Age</th>\n",
       "      <th>SibSp</th>\n",
       "      <th>Parch</th>\n",
       "      <th>Ticket</th>\n",
       "      <th>Fare</th>\n",
       "      <th>Cabin</th>\n",
       "      <th>Embarked</th>\n",
       "    </tr>\n",
       "  </thead>\n",
       "  <tbody>\n",
       "    <tr>\n",
       "      <th>0</th>\n",
       "      <td>1</td>\n",
       "      <td>0</td>\n",
       "      <td>3</td>\n",
       "      <td>Braund, Mr. Owen Harris</td>\n",
       "      <td>male</td>\n",
       "      <td>22.0</td>\n",
       "      <td>1</td>\n",
       "      <td>0</td>\n",
       "      <td>A/5 21171</td>\n",
       "      <td>7.2500</td>\n",
       "      <td>NaN</td>\n",
       "      <td>S</td>\n",
       "    </tr>\n",
       "    <tr>\n",
       "      <th>1</th>\n",
       "      <td>2</td>\n",
       "      <td>1</td>\n",
       "      <td>1</td>\n",
       "      <td>Cumings, Mrs. John Bradley (Florence Briggs Th...</td>\n",
       "      <td>female</td>\n",
       "      <td>38.0</td>\n",
       "      <td>1</td>\n",
       "      <td>0</td>\n",
       "      <td>PC 17599</td>\n",
       "      <td>71.2833</td>\n",
       "      <td>C85</td>\n",
       "      <td>C</td>\n",
       "    </tr>\n",
       "    <tr>\n",
       "      <th>2</th>\n",
       "      <td>3</td>\n",
       "      <td>1</td>\n",
       "      <td>3</td>\n",
       "      <td>Heikkinen, Miss. Laina</td>\n",
       "      <td>female</td>\n",
       "      <td>26.0</td>\n",
       "      <td>0</td>\n",
       "      <td>0</td>\n",
       "      <td>STON/O2. 3101282</td>\n",
       "      <td>7.9250</td>\n",
       "      <td>NaN</td>\n",
       "      <td>S</td>\n",
       "    </tr>\n",
       "    <tr>\n",
       "      <th>3</th>\n",
       "      <td>4</td>\n",
       "      <td>1</td>\n",
       "      <td>1</td>\n",
       "      <td>Futrelle, Mrs. Jacques Heath (Lily May Peel)</td>\n",
       "      <td>female</td>\n",
       "      <td>35.0</td>\n",
       "      <td>1</td>\n",
       "      <td>0</td>\n",
       "      <td>113803</td>\n",
       "      <td>53.1000</td>\n",
       "      <td>C123</td>\n",
       "      <td>S</td>\n",
       "    </tr>\n",
       "    <tr>\n",
       "      <th>4</th>\n",
       "      <td>5</td>\n",
       "      <td>0</td>\n",
       "      <td>3</td>\n",
       "      <td>Allen, Mr. William Henry</td>\n",
       "      <td>male</td>\n",
       "      <td>35.0</td>\n",
       "      <td>0</td>\n",
       "      <td>0</td>\n",
       "      <td>373450</td>\n",
       "      <td>8.0500</td>\n",
       "      <td>NaN</td>\n",
       "      <td>S</td>\n",
       "    </tr>\n",
       "  </tbody>\n",
       "</table>\n",
       "</div>"
      ],
      "text/plain": [
       "   PassengerId  Survived  Pclass  \\\n",
       "0            1         0       3   \n",
       "1            2         1       1   \n",
       "2            3         1       3   \n",
       "3            4         1       1   \n",
       "4            5         0       3   \n",
       "\n",
       "                                                Name     Sex   Age  SibSp  \\\n",
       "0                            Braund, Mr. Owen Harris    male  22.0      1   \n",
       "1  Cumings, Mrs. John Bradley (Florence Briggs Th...  female  38.0      1   \n",
       "2                             Heikkinen, Miss. Laina  female  26.0      0   \n",
       "3       Futrelle, Mrs. Jacques Heath (Lily May Peel)  female  35.0      1   \n",
       "4                           Allen, Mr. William Henry    male  35.0      0   \n",
       "\n",
       "   Parch            Ticket     Fare Cabin Embarked  \n",
       "0      0         A/5 21171   7.2500   NaN        S  \n",
       "1      0          PC 17599  71.2833   C85        C  \n",
       "2      0  STON/O2. 3101282   7.9250   NaN        S  \n",
       "3      0            113803  53.1000  C123        S  \n",
       "4      0            373450   8.0500   NaN        S  "
      ]
     },
     "execution_count": 2,
     "metadata": {},
     "output_type": "execute_result"
    }
   ],
   "source": [
    "data=pd.read_csv('https://raw.githubusercontent.com/huynhthanh98/ML/master/lab-04/train.csv')\n",
    "print(data.shape)\n",
    "data.head()"
   ]
  },
  {
   "cell_type": "markdown",
   "metadata": {
    "id": "49IXnfddkUCC"
   },
   "source": [
    "Đây là data thống kê các hành khách trên con tàu Titanic, trong đó:\n",
    "PassengerId là Id hành khách\n",
    "\n",
    "Survived là sống sót hay không (giá trị dự đoán). 1 là có, 0 là không\n",
    "\n",
    "Pclass: Loại vé [1,2,3]\n",
    "\n",
    "Name tên hành khách\n",
    "\n",
    "Age tuổi hành khách\n",
    "\n",
    "Parch: Số anh cha mẹ/con trên tàu\n",
    "\n",
    "SibSp: Số anh chị em/ vợ chông trên tàu\n",
    "\n",
    "ticket: mã  vé\n",
    "\n",
    "fare: Phí hành khách\n",
    "\n",
    "cabin: số khoang\n",
    "\n",
    "Embarked: Cảng lên tàu\n",
    "\n",
    "Chúng ta sẽ dự đoán với tất cả features trên thì ai có khả năng sống sót được.\n"
   ]
  },
  {
   "cell_type": "code",
   "execution_count": 3,
   "metadata": {},
   "outputs": [
    {
     "data": {
      "text/plain": [
       "PassengerId      0\n",
       "Survived         0\n",
       "Pclass           0\n",
       "Name             0\n",
       "Sex              0\n",
       "Age            177\n",
       "SibSp            0\n",
       "Parch            0\n",
       "Ticket           0\n",
       "Fare             0\n",
       "Cabin          687\n",
       "Embarked         2\n",
       "dtype: int64"
      ]
     },
     "execution_count": 3,
     "metadata": {},
     "output_type": "execute_result"
    }
   ],
   "source": [
    "data.isnull().sum()"
   ]
  },
  {
   "cell_type": "code",
   "execution_count": 4,
   "metadata": {
    "id": "0YKuwreQBtms"
   },
   "outputs": [
    {
     "data": {
      "text/plain": [
       "(889, 10)"
      ]
     },
     "execution_count": 4,
     "metadata": {},
     "output_type": "execute_result"
    }
   ],
   "source": [
    "data=data.drop([\"Cabin\",\"Age\"],axis=1)\n",
    "data=data.dropna()\n",
    "data.shape"
   ]
  },
  {
   "cell_type": "code",
   "execution_count": 5,
   "metadata": {
    "colab": {
     "base_uri": "https://localhost:8080/"
    },
    "id": "FoRn0yUCB0xy",
    "outputId": "8819190a-cdd7-4288-8ed7-630191afc200"
   },
   "outputs": [
    {
     "name": "stdout",
     "output_type": "stream",
     "text": [
      "Survived\n",
      "[0 1]\n",
      "Pclass\n",
      "[3 1 2]\n",
      "Sex\n",
      "['male' 'female']\n",
      "SibSp\n",
      "[1 0 3 4 2 5 8]\n",
      "Parch\n",
      "[0 1 2 5 3 4 6]\n",
      "Fare\n",
      "[  7.25    71.2833   7.925   53.1      8.05     8.4583  51.8625  21.075\n",
      "  11.1333  30.0708  16.7     26.55    31.275    7.8542  16.      29.125\n",
      "  13.      18.       7.225   26.       8.0292  35.5     31.3875 263.\n",
      "   7.8792   7.8958  27.7208 146.5208   7.75    10.5     82.1708  52.\n",
      "   7.2292  11.2417   9.475   21.      41.5792  15.5     21.6792  17.8\n",
      "  39.6875   7.8     76.7292  61.9792  27.75    46.9     83.475   27.9\n",
      "  15.2458   8.1583   8.6625  73.5     14.4542  56.4958   7.65    29.\n",
      "  12.475    9.       9.5      7.7875  47.1     15.85    34.375   61.175\n",
      "  20.575   34.6542  63.3583  23.      77.2875   8.6542   7.775   24.15\n",
      "   9.825   14.4583 247.5208   7.1417  22.3583   6.975    7.05    14.5\n",
      "  15.0458  26.2833   9.2167  79.2      6.75    11.5     36.75     7.7958\n",
      "  12.525   66.6      7.3125  61.3792   7.7333  69.55    16.1     15.75\n",
      "  20.525   55.      25.925   33.5     30.6958  25.4667  28.7125   0.\n",
      "  15.05    39.      22.025   50.       8.4042   6.4958  10.4625  18.7875\n",
      "  31.     113.275   27.      76.2917  90.       9.35    13.5      7.55\n",
      "  26.25    12.275    7.125   52.5542  20.2125  86.5    512.3292  79.65\n",
      " 153.4625 135.6333  19.5     29.7     77.9583  20.25    78.85    91.0792\n",
      "  12.875    8.85   151.55    30.5     23.25    12.35   110.8833 108.9\n",
      "  24.      56.9292  83.1583 262.375   14.     164.8667 134.5      6.2375\n",
      "  57.9792  28.5    133.65    15.9      9.225   35.      75.25    69.3\n",
      "  55.4417 211.5      4.0125 227.525   15.7417   7.7292  12.     120.\n",
      "  12.65    18.75     6.8583  32.5      7.875   14.4     55.9      8.1125\n",
      "  81.8583  19.2583  19.9667  89.1042  38.5      7.725   13.7917   9.8375\n",
      "   7.0458   7.5208  12.2875   9.5875  49.5042  78.2667  15.1      7.6292\n",
      "  22.525   26.2875  59.4      7.4958  34.0208  93.5    221.7792 106.425\n",
      "  49.5     71.      13.8625   7.8292  39.6     17.4     51.4792  26.3875\n",
      "  30.      40.125    8.7125  15.      33.      42.4     15.55    65.\n",
      "  32.3208   7.0542   8.4333  25.5875   9.8417   8.1375  10.1708 211.3375\n",
      "  57.      13.4167   7.7417   9.4833   7.7375   8.3625  23.45    25.9292\n",
      "   8.6833   8.5167   7.8875  37.0042   6.45     6.95     8.3      6.4375\n",
      "  39.4     14.1083  13.8583  50.4958   5.       9.8458  10.5167]\n",
      "Embarked\n",
      "['S' 'C' 'Q']\n"
     ]
    }
   ],
   "source": [
    "#Phân tích thử các giá trị có trong mỗi feature\n",
    "for i in data.drop(labels=[\"Name\",\"Ticket\",\"PassengerId\"],axis=1).columns:\n",
    "    print(i)\n",
    "    print(data[i].unique())"
   ]
  },
  {
   "cell_type": "markdown",
   "metadata": {
    "id": "eJGq306hoPnt"
   },
   "source": [
    "## Categorical\n",
    "* P(Survived)*P(X|Survived)\n",
    "\n",
    "\n",
    "* P(notSurvived)*P(X|notSurvived)\n"
   ]
  },
  {
   "cell_type": "markdown",
   "metadata": {},
   "source": [
    "#### 1. Dùng các features: Sex, Pclass, và Embarked để xây dựng thuật toán Naive Bayes Categorical. (4đ)"
   ]
  },
  {
   "cell_type": "code",
   "execution_count": 6,
   "metadata": {
    "colab": {
     "base_uri": "https://localhost:8080/",
     "height": 195
    },
    "id": "0BAxL1tFGepS",
    "outputId": "cd16b313-1476-4d3d-ec03-4f00e29e394b"
   },
   "outputs": [
    {
     "data": {
      "text/html": [
       "<div>\n",
       "<style scoped>\n",
       "    .dataframe tbody tr th:only-of-type {\n",
       "        vertical-align: middle;\n",
       "    }\n",
       "\n",
       "    .dataframe tbody tr th {\n",
       "        vertical-align: top;\n",
       "    }\n",
       "\n",
       "    .dataframe thead th {\n",
       "        text-align: right;\n",
       "    }\n",
       "</style>\n",
       "<table border=\"1\" class=\"dataframe\">\n",
       "  <thead>\n",
       "    <tr style=\"text-align: right;\">\n",
       "      <th></th>\n",
       "      <th>PassengerId</th>\n",
       "      <th>Survived</th>\n",
       "      <th>Pclass</th>\n",
       "      <th>Name</th>\n",
       "      <th>Sex</th>\n",
       "      <th>SibSp</th>\n",
       "      <th>Parch</th>\n",
       "      <th>Ticket</th>\n",
       "      <th>Fare</th>\n",
       "      <th>Embarked</th>\n",
       "    </tr>\n",
       "  </thead>\n",
       "  <tbody>\n",
       "    <tr>\n",
       "      <th>0</th>\n",
       "      <td>1</td>\n",
       "      <td>0</td>\n",
       "      <td>3</td>\n",
       "      <td>Braund, Mr. Owen Harris</td>\n",
       "      <td>male</td>\n",
       "      <td>1</td>\n",
       "      <td>0</td>\n",
       "      <td>A/5 21171</td>\n",
       "      <td>7.2500</td>\n",
       "      <td>S</td>\n",
       "    </tr>\n",
       "    <tr>\n",
       "      <th>1</th>\n",
       "      <td>2</td>\n",
       "      <td>1</td>\n",
       "      <td>1</td>\n",
       "      <td>Cumings, Mrs. John Bradley (Florence Briggs Th...</td>\n",
       "      <td>female</td>\n",
       "      <td>1</td>\n",
       "      <td>0</td>\n",
       "      <td>PC 17599</td>\n",
       "      <td>71.2833</td>\n",
       "      <td>C</td>\n",
       "    </tr>\n",
       "    <tr>\n",
       "      <th>2</th>\n",
       "      <td>3</td>\n",
       "      <td>1</td>\n",
       "      <td>3</td>\n",
       "      <td>Heikkinen, Miss. Laina</td>\n",
       "      <td>female</td>\n",
       "      <td>0</td>\n",
       "      <td>0</td>\n",
       "      <td>STON/O2. 3101282</td>\n",
       "      <td>7.9250</td>\n",
       "      <td>S</td>\n",
       "    </tr>\n",
       "    <tr>\n",
       "      <th>3</th>\n",
       "      <td>4</td>\n",
       "      <td>1</td>\n",
       "      <td>1</td>\n",
       "      <td>Futrelle, Mrs. Jacques Heath (Lily May Peel)</td>\n",
       "      <td>female</td>\n",
       "      <td>1</td>\n",
       "      <td>0</td>\n",
       "      <td>113803</td>\n",
       "      <td>53.1000</td>\n",
       "      <td>S</td>\n",
       "    </tr>\n",
       "    <tr>\n",
       "      <th>4</th>\n",
       "      <td>5</td>\n",
       "      <td>0</td>\n",
       "      <td>3</td>\n",
       "      <td>Allen, Mr. William Henry</td>\n",
       "      <td>male</td>\n",
       "      <td>0</td>\n",
       "      <td>0</td>\n",
       "      <td>373450</td>\n",
       "      <td>8.0500</td>\n",
       "      <td>S</td>\n",
       "    </tr>\n",
       "  </tbody>\n",
       "</table>\n",
       "</div>"
      ],
      "text/plain": [
       "   PassengerId  Survived  Pclass  \\\n",
       "0            1         0       3   \n",
       "1            2         1       1   \n",
       "2            3         1       3   \n",
       "3            4         1       1   \n",
       "4            5         0       3   \n",
       "\n",
       "                                                Name     Sex  SibSp  Parch  \\\n",
       "0                            Braund, Mr. Owen Harris    male      1      0   \n",
       "1  Cumings, Mrs. John Bradley (Florence Briggs Th...  female      1      0   \n",
       "2                             Heikkinen, Miss. Laina  female      0      0   \n",
       "3       Futrelle, Mrs. Jacques Heath (Lily May Peel)  female      1      0   \n",
       "4                           Allen, Mr. William Henry    male      0      0   \n",
       "\n",
       "             Ticket     Fare Embarked  \n",
       "0         A/5 21171   7.2500        S  \n",
       "1          PC 17599  71.2833        C  \n",
       "2  STON/O2. 3101282   7.9250        S  \n",
       "3            113803  53.1000        S  \n",
       "4            373450   8.0500        S  "
      ]
     },
     "execution_count": 6,
     "metadata": {},
     "output_type": "execute_result"
    }
   ],
   "source": [
    "data.head()"
   ]
  },
  {
   "cell_type": "code",
   "execution_count": 7,
   "metadata": {},
   "outputs": [
    {
     "data": {
      "text/plain": [
       "(889, 10)"
      ]
     },
     "execution_count": 7,
     "metadata": {},
     "output_type": "execute_result"
    }
   ],
   "source": [
    "data.shape"
   ]
  },
  {
   "cell_type": "code",
   "execution_count": 8,
   "metadata": {},
   "outputs": [],
   "source": [
    "df = data"
   ]
  },
  {
   "cell_type": "code",
   "execution_count": 9,
   "metadata": {},
   "outputs": [],
   "source": [
    "X = df.drop(['PassengerId',\"Ticket\", 'Name','Survived'],axis = 1)\n",
    "y = df['Survived']"
   ]
  },
  {
   "cell_type": "code",
   "execution_count": 10,
   "metadata": {},
   "outputs": [],
   "source": [
    "from sklearn.model_selection import train_test_split\n",
    "X_train, X_test, y_train, y_test = train_test_split( X,y ,test_size=0.2\n",
    "                                                    , random_state=42)\n",
    "\n",
    "# y_train = y_train.values\n",
    "y_test = y_test.values"
   ]
  },
  {
   "cell_type": "code",
   "execution_count": 11,
   "metadata": {},
   "outputs": [
    {
     "name": "stdout",
     "output_type": "stream",
     "text": [
      "(711, 6)\n",
      "(178, 6)\n"
     ]
    }
   ],
   "source": [
    "print(X_train.shape)\n",
    "print(X_test.shape)"
   ]
  },
  {
   "cell_type": "code",
   "execution_count": 12,
   "metadata": {},
   "outputs": [
    {
     "data": {
      "text/plain": [
       "Index(['Pclass', 'Sex', 'SibSp', 'Parch', 'Fare', 'Embarked'], dtype='object')"
      ]
     },
     "execution_count": 12,
     "metadata": {},
     "output_type": "execute_result"
    }
   ],
   "source": [
    "X_train.columns"
   ]
  },
  {
   "cell_type": "code",
   "execution_count": 13,
   "metadata": {
    "scrolled": true
   },
   "outputs": [],
   "source": [
    "###########################\n",
    "# Train Naive Bayes Model\n",
    "###########################\n",
    "def CategoricalNB_model(X, y, laplace=True):\n",
    "    # Calculate Prior Probability\n",
    "    y_unique = y.unique()\n",
    "    prior_probability = {}\n",
    "    for i in range(0,len(y_unique)):\n",
    "        prior_probability[y_unique[i]] = sum(y == y_unique[i])/len(y)\n",
    "    \n",
    "    # Calculate Conditional Probability\n",
    "    conditional_probability = {}\n",
    "    for col in X.columns:\n",
    "        x_unique = list(set(X[col]))\n",
    "        x_conditional_probability = np.zeros((len(y.unique()),len(set(X[col]))))\n",
    "        for j in range(0,len(y_unique)):\n",
    "            for k in range(0,len(x_unique)):\n",
    "                if (laplace==True):\n",
    "                    x_conditional_probability[j,k] = (X.loc[(X[col]==x_unique[k])&(y==y_unique[j]),].shape[0] + 1)/(sum(y==y_unique[j]) + len(x_unique))\n",
    "                else:\n",
    "                    x_conditional_probability[j,k] = X.loc[(X[col]==x_unique[k])&(y==y_unique[j]),].shape[0]/sum(y==y_unique[j])\n",
    "\n",
    "        x_conditional_probability = pd.DataFrame(x_conditional_probability,columns=x_unique,index=y_unique)   \n",
    "        conditional_probability[col] = x_conditional_probability       \n",
    "    \n",
    "    return prior_probability,conditional_probability\n",
    "\n",
    "\n",
    "prior_probability,conditional_probability = CategoricalNB_model(X_train[['Sex', 'Pclass', 'Embarked']], y_train)\n",
    "# print(conditional_probability)"
   ]
  },
  {
   "cell_type": "code",
   "execution_count": 14,
   "metadata": {},
   "outputs": [
    {
     "name": "stdout",
     "output_type": "stream",
     "text": [
      "Sex (2, 2)\n",
      "Pclass (2, 3)\n",
      "Embarked (2, 3)\n"
     ]
    }
   ],
   "source": [
    "for col in X_train[['Sex', 'Pclass', 'Embarked']].columns:\n",
    "    print(col, conditional_probability[col].shape)"
   ]
  },
  {
   "cell_type": "code",
   "execution_count": 15,
   "metadata": {},
   "outputs": [
    {
     "name": "stdout",
     "output_type": "stream",
     "text": [
      "       male    female\n",
      "1  0.344322  0.655678\n",
      "0  0.859729  0.140271\n"
     ]
    }
   ],
   "source": [
    "print(conditional_probability['Sex'])"
   ]
  },
  {
   "cell_type": "code",
   "execution_count": 16,
   "metadata": {},
   "outputs": [
    {
     "data": {
      "text/plain": [
       "{1: 0.38115330520393814, 0: 0.6188466947960619}"
      ]
     },
     "execution_count": 16,
     "metadata": {},
     "output_type": "execute_result"
    }
   ],
   "source": [
    "prior_probability"
   ]
  },
  {
   "cell_type": "code",
   "execution_count": 17,
   "metadata": {},
   "outputs": [
    {
     "data": {
      "text/plain": [
       "0.6188466947960619"
      ]
     },
     "execution_count": 17,
     "metadata": {},
     "output_type": "execute_result"
    }
   ],
   "source": [
    "list(prior_probability.values())[1]"
   ]
  },
  {
   "cell_type": "code",
   "execution_count": 18,
   "metadata": {},
   "outputs": [],
   "source": [
    "####################\n",
    "# Prediction\n",
    "####################\n",
    "def prediction_CategoricalNB(X_test, conditional_probability, prior_probability):\n",
    "    y_pred = []\n",
    "    for i in range(len(X_test)):\n",
    "        p0 = list(prior_probability.values())[1]  # P(notSurvived)\n",
    "        p1 = list(prior_probability.values())[0]  # P(Survived)\n",
    "        for col in X_test.columns:        \n",
    "            p0 = p0 *conditional_probability[col][X_test[col].values[i]][0]\n",
    "            p1 = p1 *conditional_probability[col][X_test[col].values[i]][1]\n",
    "        if p0>p1:\n",
    "            y_pred.append(0)\n",
    "        else:\n",
    "            y_pred.append(1)\n",
    "    \n",
    "    return np.array(y_pred)\n",
    "    \n",
    "y_pred = prediction_CategoricalNB(X_test[['Sex', 'Pclass', 'Embarked']], conditional_probability, prior_probability)"
   ]
  },
  {
   "cell_type": "code",
   "execution_count": 19,
   "metadata": {},
   "outputs": [
    {
     "data": {
      "text/plain": [
       "array([0, 1, 1, 0, 1, 1, 0, 0, 1, 1, 0, 1, 0, 0, 0, 0, 0, 0, 0, 0, 0, 1,\n",
       "       0, 0, 0, 0, 0, 1, 0, 0, 1, 1, 0, 0, 0, 0, 1, 1, 0, 0, 0, 0, 0, 0,\n",
       "       1, 1, 0, 0, 0, 1, 1, 1, 0, 0, 1, 1, 0, 0, 0, 0, 1, 0, 1, 0, 1, 0,\n",
       "       0, 0, 1, 1, 0, 0, 0, 1, 1, 1, 0, 0, 0, 0, 0, 1, 1, 1, 0, 0, 0, 0,\n",
       "       0, 0, 1, 0, 0, 0, 0, 0, 0, 0, 1, 0, 0, 1, 0, 0, 1, 0, 1, 1, 1, 0,\n",
       "       0, 1, 0, 1, 0, 0, 0, 0, 1, 0, 1, 1, 0, 0, 1, 1, 0, 1, 0, 0, 1, 0,\n",
       "       0, 0, 1, 1, 0, 1, 0, 1, 1, 0, 1, 0, 1, 1, 0, 1, 0, 0, 0, 1, 0, 1,\n",
       "       0, 1, 0, 0, 0, 1, 1, 1, 1, 0, 0, 0, 1, 0, 0, 1, 0, 1, 0, 0, 0, 1,\n",
       "       1, 1], dtype=int64)"
      ]
     },
     "execution_count": 19,
     "metadata": {},
     "output_type": "execute_result"
    }
   ],
   "source": [
    "y_test"
   ]
  },
  {
   "cell_type": "code",
   "execution_count": 20,
   "metadata": {},
   "outputs": [
    {
     "data": {
      "text/plain": [
       "array([0, 1, 1, 0, 1, 0, 0, 0, 1, 1, 0, 1, 0, 0, 0, 0, 1, 0, 0, 0, 1, 1,\n",
       "       0, 1, 0, 1, 0, 1, 0, 0, 0, 1, 0, 1, 0, 0, 1, 1, 0, 0, 0, 1, 0, 0,\n",
       "       0, 1, 1, 0, 0, 1, 1, 1, 0, 0, 1, 1, 1, 0, 0, 0, 1, 1, 1, 0, 1, 0,\n",
       "       0, 0, 1, 1, 0, 1, 1, 0, 1, 1, 0, 0, 1, 0, 1, 1, 1, 1, 0, 0, 0, 0,\n",
       "       0, 0, 0, 1, 0, 0, 0, 1, 0, 0, 0, 0, 0, 1, 1, 0, 0, 0, 1, 1, 0, 0,\n",
       "       0, 1, 0, 1, 0, 0, 0, 0, 1, 0, 0, 1, 0, 0, 1, 1, 1, 1, 1, 0, 1, 0,\n",
       "       0, 0, 1, 1, 0, 1, 1, 1, 1, 0, 1, 1, 1, 0, 0, 1, 0, 1, 0, 1, 0, 0,\n",
       "       0, 1, 0, 0, 0, 1, 0, 1, 0, 0, 1, 1, 1, 0, 0, 1, 1, 1, 1, 0, 1, 1,\n",
       "       1, 1])"
      ]
     },
     "execution_count": 20,
     "metadata": {},
     "output_type": "execute_result"
    }
   ],
   "source": [
    "y_pred"
   ]
  },
  {
   "cell_type": "code",
   "execution_count": 21,
   "metadata": {
    "scrolled": false
   },
   "outputs": [
    {
     "data": {
      "text/plain": [
       "0.7808988764044944"
      ]
     },
     "execution_count": 21,
     "metadata": {},
     "output_type": "execute_result"
    }
   ],
   "source": [
    "np.mean(y_pred == y_test)"
   ]
  },
  {
   "cell_type": "code",
   "execution_count": 22,
   "metadata": {},
   "outputs": [],
   "source": [
    "from sklearn.preprocessing import LabelEncoder\n",
    "def Encoder(data):\n",
    "    '''\n",
    "    Encode target data\n",
    "    Parameters:\n",
    "        data: dataframe nead encode\n",
    "    Returns:\n",
    "        data: datafram encoded\n",
    "    '''\n",
    "    labelencoder = LabelEncoder()\n",
    "    data_colums = data.dtypes.pipe(lambda X: X[X=='object']).index\n",
    "    for column in data_colums:\n",
    "        labelencoder.fit(data[column])\n",
    "        data[column] = labelencoder.transform(data[column])\n",
    "    return data"
   ]
  },
  {
   "cell_type": "code",
   "execution_count": 23,
   "metadata": {},
   "outputs": [
    {
     "name": "stderr",
     "output_type": "stream",
     "text": [
      "<ipython-input-22-e4fe50279b9b>:14: SettingWithCopyWarning: \n",
      "A value is trying to be set on a copy of a slice from a DataFrame.\n",
      "Try using .loc[row_indexer,col_indexer] = value instead\n",
      "\n",
      "See the caveats in the documentation: https://pandas.pydata.org/pandas-docs/stable/user_guide/indexing.html#returning-a-view-versus-a-copy\n",
      "  data[column] = labelencoder.transform(data[column])\n"
     ]
    }
   ],
   "source": [
    "data_train = Encoder(X_train)\n",
    "data_test = Encoder(X_test)"
   ]
  },
  {
   "cell_type": "code",
   "execution_count": 24,
   "metadata": {},
   "outputs": [
    {
     "data": {
      "text/plain": [
       "Pclass        int64\n",
       "Sex           int32\n",
       "SibSp         int64\n",
       "Parch         int64\n",
       "Fare        float64\n",
       "Embarked      int32\n",
       "dtype: object"
      ]
     },
     "execution_count": 24,
     "metadata": {},
     "output_type": "execute_result"
    }
   ],
   "source": [
    "data_train.dtypes"
   ]
  },
  {
   "cell_type": "code",
   "execution_count": 25,
   "metadata": {},
   "outputs": [
    {
     "name": "stdout",
     "output_type": "stream",
     "text": [
      "(711, 6)\n",
      "(178, 6)\n"
     ]
    }
   ],
   "source": [
    "print(data_train.shape)\n",
    "print(data_test.shape)"
   ]
  },
  {
   "cell_type": "code",
   "execution_count": 26,
   "metadata": {},
   "outputs": [
    {
     "name": "stdout",
     "output_type": "stream",
     "text": [
      "0.7808988764044944\n",
      "0.7808988764044944\n"
     ]
    }
   ],
   "source": [
    "## Dùng sklearn\n",
    "from sklearn.naive_bayes import CategoricalNB\n",
    "MNB = CategoricalNB().fit(data_train[['Sex','Pclass','Embarked']], y_train)\n",
    "print(np.mean(MNB.predict(data_test[['Sex','Pclass','Embarked']]) == y_test))\n",
    "print(MNB.score(data_test[['Sex','Pclass','Embarked']],y_test))"
   ]
  },
  {
   "cell_type": "markdown",
   "metadata": {
    "id": "7r27r2dgobAG"
   },
   "source": [
    "## Gaussian\n",
    "$$p(x_i|c)=P(x_i|\\mu_{ci},\\sigma_{ci}^2)=\\frac{1}{\\sqrt{2\\pi\\sigma_{ci}^2}}exp(-\\frac{(x_i-\\mu_{ci})^2}{2\\sigma_{ci}^2})$$"
   ]
  },
  {
   "cell_type": "markdown",
   "metadata": {},
   "source": [
    "#### 2. Dùng các features: SibSp,\tParch, và Fare để xây dựng thuật toán Naive Bayes Gaussian (Khỏi normalize). (4đ)"
   ]
  },
  {
   "cell_type": "code",
   "execution_count": 27,
   "metadata": {},
   "outputs": [],
   "source": [
    "def gaussian(x, mean, std):\n",
    "    return (1/(np.sqrt(2*np.pi)*std))*np.exp(-(np.square(x-mean))/(2*np.square(std)))\n",
    "\n",
    "def GaussianNB_model(X,y):\n",
    "    # Calculate Prior Probability\n",
    "    y_unique = y.unique()\n",
    "    prior_probability = {}\n",
    "    for i in range(0,len(y_unique)):\n",
    "        prior_probability[y_unique[i]] = sum(y == y_unique[i])/len(y)\n",
    "    \n",
    "    # Calculate Conditional Probability\n",
    "    conditional_probability = {}  \n",
    "    for col in X.columns:\n",
    "        x_conditional_probability = np.zeros((len(y.unique()),2))\n",
    "        Mu = {}\n",
    "        Std = {}\n",
    "        \n",
    "        for j in range(0,len(y_unique)):    \n",
    "            Mu_ci = np.mean(X.loc[y==y_unique[j]][[col]])\n",
    "            Mu[j] = Mu_ci\n",
    "            Std_ci = np.std(X.loc[y==y_unique[j]][[col]], ddof = 1)\n",
    "            Std[j] = Std_ci\n",
    "            x_conditional_probability[j] =  Mu[j], Std[j]\n",
    "            \n",
    "        x_conditional_probability = pd.DataFrame(x_conditional_probability,columns=['Mean','Std'],index=y_unique)   \n",
    "        conditional_probability[col] = x_conditional_probability\n",
    "    \n",
    "    return prior_probability,conditional_probability\n",
    "\n",
    "\n",
    "prior_probability,conditional_probability = GaussianNB_model(X_train[['SibSp', 'Parch','Fare']], y_train)"
   ]
  },
  {
   "cell_type": "code",
   "execution_count": 28,
   "metadata": {},
   "outputs": [
    {
     "data": {
      "text/html": [
       "<div>\n",
       "<style scoped>\n",
       "    .dataframe tbody tr th:only-of-type {\n",
       "        vertical-align: middle;\n",
       "    }\n",
       "\n",
       "    .dataframe tbody tr th {\n",
       "        vertical-align: top;\n",
       "    }\n",
       "\n",
       "    .dataframe thead th {\n",
       "        text-align: right;\n",
       "    }\n",
       "</style>\n",
       "<table border=\"1\" class=\"dataframe\">\n",
       "  <thead>\n",
       "    <tr style=\"text-align: right;\">\n",
       "      <th></th>\n",
       "      <th>Mean</th>\n",
       "      <th>Std</th>\n",
       "    </tr>\n",
       "  </thead>\n",
       "  <tbody>\n",
       "    <tr>\n",
       "      <th>1</th>\n",
       "      <td>0.464945</td>\n",
       "      <td>0.692331</td>\n",
       "    </tr>\n",
       "    <tr>\n",
       "      <th>0</th>\n",
       "      <td>0.609091</td>\n",
       "      <td>1.380604</td>\n",
       "    </tr>\n",
       "  </tbody>\n",
       "</table>\n",
       "</div>"
      ],
      "text/plain": [
       "       Mean       Std\n",
       "1  0.464945  0.692331\n",
       "0  0.609091  1.380604"
      ]
     },
     "execution_count": 28,
     "metadata": {},
     "output_type": "execute_result"
    }
   ],
   "source": [
    "conditional_probability['SibSp']"
   ]
  },
  {
   "cell_type": "code",
   "execution_count": 29,
   "metadata": {},
   "outputs": [
    {
     "data": {
      "text/plain": [
       "{1: 0.38115330520393814, 0: 0.6188466947960619}"
      ]
     },
     "execution_count": 29,
     "metadata": {},
     "output_type": "execute_result"
    }
   ],
   "source": [
    "prior_probability"
   ]
  },
  {
   "cell_type": "code",
   "execution_count": 30,
   "metadata": {
    "scrolled": false
   },
   "outputs": [],
   "source": [
    "####################\n",
    "# Prediction\n",
    "####################\n",
    "def prediction_GaussianNB(X_test, conditional_probability, prior_probability):\n",
    "    y_pred = []\n",
    "    for i in range(len(X_test)):\n",
    "        p0 = list(prior_probability.values())[1] # P(notSurvived)\n",
    "        p1 = list(prior_probability.values())[0] # P(Survived)\n",
    "        for col in X_test.columns:\n",
    "            p0 = p0*gaussian(X_test[col].values[i], conditional_probability[col]['Mean'][0],conditional_probability[col]['Std'][0])\n",
    "            p1 = p1*gaussian(X_test[col].values[i], conditional_probability[col]['Mean'][1],conditional_probability[col]['Std'][1])\n",
    "        if p0 > p1:\n",
    "            y_pred.append(0)\n",
    "        else:\n",
    "            y_pred.append(1)\n",
    "    return np.array(y_pred)\n",
    "\n",
    "pred = prediction_GaussianNB(X_test[['SibSp', 'Parch','Fare']], conditional_probability, prior_probability)"
   ]
  },
  {
   "cell_type": "code",
   "execution_count": 31,
   "metadata": {},
   "outputs": [
    {
     "data": {
      "text/plain": [
       "array([0, 1, 0, 0, 1, 0, 0, 0, 1, 1, 0, 0, 0, 0, 0, 0, 1, 0, 0, 0, 0, 1,\n",
       "       0, 0, 0, 0, 0, 0, 0, 0, 0, 0, 0, 0, 0, 0, 0, 1, 0, 0, 0, 0, 0, 0,\n",
       "       0, 0, 0, 0, 0, 1, 0, 0, 0, 0, 0, 0, 0, 0, 0, 0, 0, 0, 1, 0, 0, 0,\n",
       "       0, 0, 1, 1, 0, 1, 0, 0, 0, 0, 0, 0, 0, 0, 0, 0, 0, 0, 0, 0, 0, 0,\n",
       "       0, 0, 0, 0, 0, 0, 0, 0, 0, 0, 0, 0, 0, 1, 0, 0, 0, 0, 0, 0, 0, 0,\n",
       "       0, 1, 0, 0, 0, 0, 0, 0, 0, 0, 0, 1, 0, 0, 1, 1, 0, 0, 0, 0, 0, 0,\n",
       "       0, 0, 0, 0, 0, 0, 0, 0, 0, 0, 0, 0, 1, 0, 0, 1, 0, 1, 0, 0, 0, 0,\n",
       "       0, 0, 0, 1, 0, 1, 0, 1, 0, 0, 1, 0, 0, 0, 0, 0, 0, 0, 0, 0, 0, 0,\n",
       "       0, 0])"
      ]
     },
     "execution_count": 31,
     "metadata": {},
     "output_type": "execute_result"
    }
   ],
   "source": [
    "pred"
   ]
  },
  {
   "cell_type": "code",
   "execution_count": 32,
   "metadata": {
    "scrolled": true
   },
   "outputs": [
    {
     "data": {
      "text/plain": [
       "array([0, 1, 1, 0, 1, 1, 0, 0, 1, 1, 0, 1, 0, 0, 0, 0, 0, 0, 0, 0, 0, 1,\n",
       "       0, 0, 0, 0, 0, 1, 0, 0, 1, 1, 0, 0, 0, 0, 1, 1, 0, 0, 0, 0, 0, 0,\n",
       "       1, 1, 0, 0, 0, 1, 1, 1, 0, 0, 1, 1, 0, 0, 0, 0, 1, 0, 1, 0, 1, 0,\n",
       "       0, 0, 1, 1, 0, 0, 0, 1, 1, 1, 0, 0, 0, 0, 0, 1, 1, 1, 0, 0, 0, 0,\n",
       "       0, 0, 1, 0, 0, 0, 0, 0, 0, 0, 1, 0, 0, 1, 0, 0, 1, 0, 1, 1, 1, 0,\n",
       "       0, 1, 0, 1, 0, 0, 0, 0, 1, 0, 1, 1, 0, 0, 1, 1, 0, 1, 0, 0, 1, 0,\n",
       "       0, 0, 1, 1, 0, 1, 0, 1, 1, 0, 1, 0, 1, 1, 0, 1, 0, 0, 0, 1, 0, 1,\n",
       "       0, 1, 0, 0, 0, 1, 1, 1, 1, 0, 0, 0, 1, 0, 0, 1, 0, 1, 0, 0, 0, 1,\n",
       "       1, 1], dtype=int64)"
      ]
     },
     "execution_count": 32,
     "metadata": {},
     "output_type": "execute_result"
    }
   ],
   "source": [
    "y_test"
   ]
  },
  {
   "cell_type": "code",
   "execution_count": 33,
   "metadata": {},
   "outputs": [
    {
     "data": {
      "text/plain": [
       "0.6910112359550562"
      ]
     },
     "execution_count": 33,
     "metadata": {},
     "output_type": "execute_result"
    }
   ],
   "source": [
    "np.mean(pred == y_test)"
   ]
  },
  {
   "cell_type": "code",
   "execution_count": 34,
   "metadata": {},
   "outputs": [
    {
     "name": "stdout",
     "output_type": "stream",
     "text": [
      "0.6910112359550562\n"
     ]
    }
   ],
   "source": [
    "## Dùng sklearn\n",
    "from sklearn.naive_bayes import GaussianNB\n",
    "nb = GaussianNB().fit(X_train[['SibSp', 'Parch','Fare']], y_train)\n",
    "print(np.mean(y_test == nb.predict(X_test[['SibSp', 'Parch','Fare']])))"
   ]
  },
  {
   "cell_type": "markdown",
   "metadata": {},
   "source": [
    "# mixed naive bayes"
   ]
  },
  {
   "cell_type": "markdown",
   "metadata": {},
   "source": [
    "#### 3. Từ bộ dữ liệu liên minh hãy xây dựng thuật toán Naive Bayes bằng cách dùng tất cả features (mix cả Multinomial và Gaussian. Lưu ý: Khỏi chia tập train, test. Dự đoán thẳng trên tập train) (2đ)"
   ]
  },
  {
   "cell_type": "code",
   "execution_count": 35,
   "metadata": {
    "colab": {
     "base_uri": "https://localhost:8080/",
     "height": 195
    },
    "id": "P__YzVfGq1dr",
    "outputId": "7abf0ca7-c2a3-43d3-de80-f3362bff1093"
   },
   "outputs": [
    {
     "data": {
      "text/html": [
       "<div>\n",
       "<style scoped>\n",
       "    .dataframe tbody tr th:only-of-type {\n",
       "        vertical-align: middle;\n",
       "    }\n",
       "\n",
       "    .dataframe tbody tr th {\n",
       "        vertical-align: top;\n",
       "    }\n",
       "\n",
       "    .dataframe thead th {\n",
       "        text-align: right;\n",
       "    }\n",
       "</style>\n",
       "<table border=\"1\" class=\"dataframe\">\n",
       "  <thead>\n",
       "    <tr style=\"text-align: right;\">\n",
       "      <th></th>\n",
       "      <th>killsDiff</th>\n",
       "      <th>minionsKilledDiff</th>\n",
       "      <th>wardPlacedDiff</th>\n",
       "      <th>firstBlood</th>\n",
       "      <th>heralds</th>\n",
       "      <th>dragons</th>\n",
       "      <th>teamWins</th>\n",
       "    </tr>\n",
       "  </thead>\n",
       "  <tbody>\n",
       "    <tr>\n",
       "      <th>0</th>\n",
       "      <td>3</td>\n",
       "      <td>-2</td>\n",
       "      <td>13</td>\n",
       "      <td>blue</td>\n",
       "      <td>none</td>\n",
       "      <td>none</td>\n",
       "      <td>red</td>\n",
       "    </tr>\n",
       "    <tr>\n",
       "      <th>1</th>\n",
       "      <td>0</td>\n",
       "      <td>-66</td>\n",
       "      <td>0</td>\n",
       "      <td>red</td>\n",
       "      <td>red</td>\n",
       "      <td>red</td>\n",
       "      <td>red</td>\n",
       "    </tr>\n",
       "    <tr>\n",
       "      <th>2</th>\n",
       "      <td>-4</td>\n",
       "      <td>-17</td>\n",
       "      <td>0</td>\n",
       "      <td>red</td>\n",
       "      <td>none</td>\n",
       "      <td>blue</td>\n",
       "      <td>red</td>\n",
       "    </tr>\n",
       "    <tr>\n",
       "      <th>3</th>\n",
       "      <td>-1</td>\n",
       "      <td>-34</td>\n",
       "      <td>28</td>\n",
       "      <td>red</td>\n",
       "      <td>blue</td>\n",
       "      <td>none</td>\n",
       "      <td>red</td>\n",
       "    </tr>\n",
       "    <tr>\n",
       "      <th>4</th>\n",
       "      <td>0</td>\n",
       "      <td>-15</td>\n",
       "      <td>58</td>\n",
       "      <td>red</td>\n",
       "      <td>none</td>\n",
       "      <td>red</td>\n",
       "      <td>red</td>\n",
       "    </tr>\n",
       "  </tbody>\n",
       "</table>\n",
       "</div>"
      ],
      "text/plain": [
       "   killsDiff  minionsKilledDiff  wardPlacedDiff firstBlood heralds dragons  \\\n",
       "0          3                 -2              13       blue    none    none   \n",
       "1          0                -66               0        red     red     red   \n",
       "2         -4                -17               0        red    none    blue   \n",
       "3         -1                -34              28        red    blue    none   \n",
       "4          0                -15              58        red    none     red   \n",
       "\n",
       "  teamWins  \n",
       "0      red  \n",
       "1      red  \n",
       "2      red  \n",
       "3      red  \n",
       "4      red  "
      ]
     },
     "execution_count": 35,
     "metadata": {},
     "output_type": "execute_result"
    }
   ],
   "source": [
    "#Chuẩn bị data cho câu 3\n",
    "import pandas as pd\n",
    "df_lienminh = pd.read_csv(\"https://raw.githubusercontent.com/dinhvietcuong1996/Lab-MachineLearningCourse/master/Lab04/lienminh.csv\")\n",
    "df_lienminh.head()"
   ]
  },
  {
   "cell_type": "markdown",
   "metadata": {
    "id": "6zcKbREdrB_D"
   },
   "source": [
    "Về cơ bản, Liên Minh Huyền Thoại là một game giữa hai đội Blue và Red với mục tiêu là phá hủy nhà chính đối phương. Mỗi đội có 5 người chơi, mỗi người điều khiển 1 nhân vật. Trong trò chơi, để chiến thắng người chơi có thể:\n",
    "\n",
    "Hạ gục đối phương: thể hiện bằng chỉ số hạ gục (Kills)\n",
    "\n",
    "Hạ gục lính kiếm tiền mua trang bị (MinionsKilled)\n",
    "\n",
    "Cắm mắt để có tầm nhìn, thêm thông tin về đối phương (WardsPlaced)\n",
    "\n",
    "Ăn sứ giả lấy bùa và vật phẩm (Heralds)\n",
    "\n",
    "Ăn bùa rồng (Dragons)\n",
    "\n",
    "Mạng đầu tiên (firstBlood)\n",
    "\n",
    "Đội thắng (teamWins)"
   ]
  },
  {
   "cell_type": "code",
   "execution_count": 36,
   "metadata": {
    "scrolled": true
   },
   "outputs": [
    {
     "data": {
      "text/plain": [
       "killsDiff             33\n",
       "minionsKilledDiff    213\n",
       "wardPlacedDiff       284\n",
       "firstBlood             2\n",
       "heralds                3\n",
       "dragons                3\n",
       "teamWins               2\n",
       "dtype: int64"
      ]
     },
     "execution_count": 36,
     "metadata": {},
     "output_type": "execute_result"
    }
   ],
   "source": [
    "df_lienminh.nunique()"
   ]
  },
  {
   "cell_type": "code",
   "execution_count": 37,
   "metadata": {},
   "outputs": [
    {
     "name": "stdout",
     "output_type": "stream",
     "text": [
      "<class 'pandas.core.frame.DataFrame'>\n",
      "RangeIndex: 9879 entries, 0 to 9878\n",
      "Data columns (total 7 columns):\n",
      " #   Column             Non-Null Count  Dtype \n",
      "---  ------             --------------  ----- \n",
      " 0   killsDiff          9879 non-null   int64 \n",
      " 1   minionsKilledDiff  9879 non-null   int64 \n",
      " 2   wardPlacedDiff     9879 non-null   int64 \n",
      " 3   firstBlood         9879 non-null   object\n",
      " 4   heralds            9879 non-null   object\n",
      " 5   dragons            9879 non-null   object\n",
      " 6   teamWins           9879 non-null   object\n",
      "dtypes: int64(3), object(4)\n",
      "memory usage: 540.4+ KB\n"
     ]
    }
   ],
   "source": [
    "df_lienminh.info()"
   ]
  },
  {
   "cell_type": "code",
   "execution_count": 38,
   "metadata": {},
   "outputs": [
    {
     "name": "stdout",
     "output_type": "stream",
     "text": [
      "killsDiff\n",
      "[  3   0  -4  -1   2   1  -8   6  -5   8   5  -9  -2  -3  -6  -7   4   9\n",
      "   7 -11  11 -13  10 -10  12  13 -12  16 -15  14 -14 -17  15]\n",
      "minionsKilledDiff\n",
      "[  -2  -66  -17  -34  -15    4   61   52  -51  -27   15  -31  -19  -18\n",
      "  -28   53  -11   -6    7   18   11  -24   26    8    1   12   -3  -21\n",
      "   17  -23    9   46   10  -60   55  -38  -35    3   31    5   38   19\n",
      "   23  -37  -25   54   -4  -52   -1  -43   14   24   37   -5   32   16\n",
      "   44   21   28   41  -47  -22  112  -46   64   39  -13   27   13   20\n",
      "   -8  -70  -16  -42  -10  -36  -12   85  -26   36   -7  -50   35  -54\n",
      "   29  -41   74  -14  -20  -32  -63  -49    6  -71   33  -29    2   47\n",
      "   40   34  -53  -68  -45   50   63   22   43  -40   25 -101    0  -75\n",
      "  -39  104   96  -62   56   30   62   82   45  -61   59   69   42  -58\n",
      "  -93   76   65   57   49  -30  -44   51   79  -59   -9  110  -72   48\n",
      "  -76   72  -64  -33 -120   60  -84   77  -73  -48  -83  -98  -92   84\n",
      "   71  -81  -57  -74   80  -82   73  -65  100   89   83  -56  127 -117\n",
      "  111   93   91  -88   58  -99  -67   95   67  -90   87   92  -87  -55\n",
      "  -78   66   68 -111  103   70  -79  -85   75 -113  -69   78 -104 -108\n",
      "  -77  102   90   81  -95   86   94 -105  -80  -86  -91   99   88  117\n",
      "  115  -94   98]\n",
      "wardPlacedDiff\n",
      "[  13    0   28   58  -18  -39    1   -3    5   16    6   -6  -87   -1\n",
      "   26    2   -4   -2   63   15    8   40   -7   25    7  -20  -13   20\n",
      "  -21   29    3  -22   -8   22  -14  108   37   24    4  -35   27  -11\n",
      "  -41   48  -16   -5   11  -88   14  -28   23  -17  -23  -49   12   77\n",
      "  -25   57  -24   74  -12   39   19  -38  -27   50  -68   53  -70   18\n",
      "    9  107   21   60   17  -19  -48   42  -30 -125  -26  -15   35  -37\n",
      "  -34   69  -36   10   62   61  -29  -31 -131  128   81   33   34  135\n",
      "   -9  -32  -10   71   47   75  -33   72   67   51   66   31  -44   44\n",
      "  -64 -155  -59  -45  -58  -63  -53   30  -42  -46  109  -60   52   41\n",
      "  -61 -109   36  111  -66   64   56  -43  -91   32   89   59   65 -110\n",
      "  -89   38   73   70  -93  -50  -67  -73 -126  -69  142 -149 -112  -40\n",
      "  -57  151 -254  -52   91  -75   78  123  -55  -47   84  -54   90  -92\n",
      "   76   46  -71   68   97  -62  -72  116  -77  153 -108   55 -189  -80\n",
      " -260  -84 -130  -79   96  132  131   43  -86 -103  102   54 -115  -85\n",
      "  -76 -161  -56  -74 -113  -65 -128 -129   79  -78  -51  117  190  120\n",
      " -200  129 -120 -144   80   95   94 -173  124   49 -187  -98  134  -90\n",
      " -105   45 -174   86  103 -122 -102 -106 -154 -150   92 -101  173  -83\n",
      " -111 -197 -156 -121 -153  113   93  195  -99  110  144  192  186  161\n",
      "  -82  146 -116 -168  143  100  149 -104 -123  141 -117  118 -142  140\n",
      "   98   85  130 -114 -107   82 -146 -218  137  234  125 -148   83  158\n",
      " -143  119 -127   88]\n",
      "firstBlood\n",
      "['blue' 'red']\n",
      "heralds\n",
      "['none' 'red' 'blue']\n",
      "dragons\n",
      "['none' 'red' 'blue']\n",
      "teamWins\n",
      "['red' 'blue']\n"
     ]
    }
   ],
   "source": [
    "#Phân tích thử các giá trị có trong mỗi feature\n",
    "for i in df_lienminh.columns:\n",
    "    print(i)\n",
    "    print(df_lienminh[i].unique())"
   ]
  },
  {
   "cell_type": "code",
   "execution_count": 39,
   "metadata": {},
   "outputs": [],
   "source": [
    "X = df_lienminh.drop(['teamWins'],axis = 1)\n",
    "y = df_lienminh['teamWins']"
   ]
  },
  {
   "cell_type": "code",
   "execution_count": 40,
   "metadata": {},
   "outputs": [],
   "source": [
    "from sklearn.model_selection import train_test_split\n",
    "X_train, X_test, y_train, y_test = train_test_split( X,y ,test_size=0.2\n",
    "                                                    , random_state=42)\n",
    "\n",
    "# y_train = y_train.values\n",
    "y_test = y_test.values"
   ]
  },
  {
   "cell_type": "code",
   "execution_count": 41,
   "metadata": {},
   "outputs": [
    {
     "name": "stdout",
     "output_type": "stream",
     "text": [
      "(7903, 6)\n",
      "(1976, 6)\n"
     ]
    }
   ],
   "source": [
    "print(X_train.shape)\n",
    "print(X_test.shape)"
   ]
  },
  {
   "cell_type": "code",
   "execution_count": 42,
   "metadata": {
    "id": "X0sVxjDZxOK2"
   },
   "outputs": [],
   "source": [
    "def Mix_model(X,y):\n",
    "    X_cate = X.select_dtypes(include=['object'])\n",
    "    X_num = X.select_dtypes(exclude=['object'])\n",
    "    # Calculate Prior Probability\n",
    "    y_unique = y.unique()\n",
    "    prior_probability = {}\n",
    "    for i in range(len(y_unique)):\n",
    "        prior_probability[y_unique[i]] = sum(y == y_unique[i])/len(y)\n",
    "    # Calculate Conditional Probability\n",
    "    _, prob_cat = CategoricalNB_model(X_cate,y)\n",
    "    _, prob_num = GaussianNB_model(X_num,y)\n",
    "    return prior_probability, prob_cat, prob_num\n",
    "\n",
    "def prediction_Mix(X_test, prob_cat, prob_num, prior_probability):\n",
    "    X_test_cate = X_test.select_dtypes(include=['object'])\n",
    "    X_test_num = X_test.select_dtypes(exclude=['object'])\n",
    "    y_pred = []\n",
    "    for i in range(len(X_test)):\n",
    "        p0 = list(prior_probability.values())[0] # P(teamWins= red)\n",
    "        p1 = list(prior_probability.values())[1] # P(teamWins= blue)\n",
    "        for col in X_test_num.columns:\n",
    "            p0 = p0*gaussian(X_test_num[col].values[i], prob_num[col]['Mean'][0],prob_num[col]['Std'][0])\n",
    "            p1 = p1*gaussian(X_test_num[col].values[i], prob_num[col]['Mean'][1],prob_num[col]['Std'][1])\n",
    "        for col in X_test_cate.columns:        \n",
    "            p0 = p0*prob_cat[col][X_test_cate[col].values[i]][0]\n",
    "            p1 = p1*prob_cat[col][X_test_cate[col].values[i]][1]\n",
    "        if p0 > p1:\n",
    "            y_pred.append('red')\n",
    "        else:\n",
    "            y_pred.append('blue')\n",
    "    return np.array(y_pred)\n",
    "prior_probability, prob_cat, prob_num = Mix_model(X, y)"
   ]
  },
  {
   "cell_type": "code",
   "execution_count": 43,
   "metadata": {},
   "outputs": [
    {
     "name": "stdout",
     "output_type": "stream",
     "text": [
      "{'red': 0.5009616357930965, 'blue': 0.4990383642069035}\n"
     ]
    }
   ],
   "source": [
    "print(prior_probability)"
   ]
  },
  {
   "cell_type": "code",
   "execution_count": 44,
   "metadata": {},
   "outputs": [
    {
     "data": {
      "text/plain": [
       "array(['blue', 'red', 'red', ..., 'red', 'red', 'blue'], dtype='<U4')"
      ]
     },
     "execution_count": 44,
     "metadata": {},
     "output_type": "execute_result"
    }
   ],
   "source": [
    "y_pred = prediction_Mix(X, prob_cat, prob_num, prior_probability)\n",
    "y_pred"
   ]
  },
  {
   "cell_type": "code",
   "execution_count": 45,
   "metadata": {},
   "outputs": [
    {
     "data": {
      "text/plain": [
       "0.7116104868913857"
      ]
     },
     "execution_count": 45,
     "metadata": {},
     "output_type": "execute_result"
    }
   ],
   "source": [
    "np.mean(y_pred == y)"
   ]
  },
  {
   "cell_type": "code",
   "execution_count": 46,
   "metadata": {},
   "outputs": [
    {
     "name": "stderr",
     "output_type": "stream",
     "text": [
      "<ipython-input-22-e4fe50279b9b>:14: SettingWithCopyWarning: \n",
      "A value is trying to be set on a copy of a slice from a DataFrame.\n",
      "Try using .loc[row_indexer,col_indexer] = value instead\n",
      "\n",
      "See the caveats in the documentation: https://pandas.pydata.org/pandas-docs/stable/user_guide/indexing.html#returning-a-view-versus-a-copy\n",
      "  data[column] = labelencoder.transform(data[column])\n"
     ]
    }
   ],
   "source": [
    "data_train = Encoder(X_train)\n",
    "data_test = Encoder(X_test)"
   ]
  },
  {
   "cell_type": "code",
   "execution_count": 47,
   "metadata": {},
   "outputs": [],
   "source": [
    "from sklearn.preprocessing import LabelEncoder\n",
    "LE = LabelEncoder()\n",
    "LE.fit(y_train)\n",
    "label_train = LE.transform(y_train)\n",
    "label_test = LE.transform(y_test)"
   ]
  },
  {
   "cell_type": "code",
   "execution_count": 48,
   "metadata": {},
   "outputs": [
    {
     "name": "stdout",
     "output_type": "stream",
     "text": [
      "<class 'pandas.core.frame.DataFrame'>\n",
      "Int64Index: 7903 entries, 6392 to 7270\n",
      "Data columns (total 6 columns):\n",
      " #   Column             Non-Null Count  Dtype\n",
      "---  ------             --------------  -----\n",
      " 0   killsDiff          7903 non-null   int64\n",
      " 1   minionsKilledDiff  7903 non-null   int64\n",
      " 2   wardPlacedDiff     7903 non-null   int64\n",
      " 3   firstBlood         7903 non-null   int32\n",
      " 4   heralds            7903 non-null   int32\n",
      " 5   dragons            7903 non-null   int32\n",
      "dtypes: int32(3), int64(3)\n",
      "memory usage: 339.6 KB\n"
     ]
    }
   ],
   "source": [
    "data_train.info()"
   ]
  },
  {
   "cell_type": "code",
   "execution_count": 49,
   "metadata": {},
   "outputs": [
    {
     "data": {
      "text/plain": [
       "0.722165991902834"
      ]
     },
     "execution_count": 49,
     "metadata": {},
     "output_type": "execute_result"
    }
   ],
   "source": [
    "from sklearn.naive_bayes import GaussianNB\n",
    "GNB = GaussianNB().fit(data_train, label_train)\n",
    "GNB.score(data_test,label_test)"
   ]
  },
  {
   "cell_type": "code",
   "execution_count": 50,
   "metadata": {},
   "outputs": [
    {
     "name": "stdout",
     "output_type": "stream",
     "text": [
      "[]\n",
      "[1 0 0 1 1 1 0 0 0 0 0 1 1 1 0 0 0 0 1 1 1 1 0 0 1 0 1 1 1 0 1 1 0 0 1 1 0\n",
      " 1 1 0 1 0 1 0 0 0 1 0 1 1 1 0 1 0 1 0 1 0 0 1 0 0 0 1 0 0 0 1 1 1 0 0 1 1\n",
      " 1 1 1 1 1 1 1 0 0 1 1 1 0 1 1 0 1 0 1 0 0 0 1 0 1 0]\n",
      "[1 0 0 0 1 1 0 1 0 0 0 0 1 1 0 0 0 0 1 0 0 1 1 1 1 0 0 1 1 0 0 1 0 0 0 1 0\n",
      " 0 0 0 1 0 1 0 0 0 1 1 1 1 1 0 1 0 1 0 1 0 0 1 1 0 0 0 1 0 0 1 0 1 1 1 1 0\n",
      " 0 1 1 0 1 1 0 0 0 0 1 1 0 1 1 0 1 1 1 0 0 0 0 1 1 0]\n"
     ]
    }
   ],
   "source": [
    "from mixed_naive_bayes import MixedNB\n",
    "clf = MixedNB().fit(data_train,label_train)\n",
    "print(clf.predict(data_test)[:100])\n",
    "print(label_test[:100])"
   ]
  },
  {
   "cell_type": "code",
   "execution_count": 51,
   "metadata": {},
   "outputs": [
    {
     "data": {
      "text/plain": [
       "0.722165991902834"
      ]
     },
     "execution_count": 51,
     "metadata": {},
     "output_type": "execute_result"
    }
   ],
   "source": [
    "clf.score(data_test,label_test)"
   ]
  },
  {
   "cell_type": "code",
   "execution_count": null,
   "metadata": {},
   "outputs": [],
   "source": []
  }
 ],
 "metadata": {
  "colab": {
   "collapsed_sections": [],
   "name": "  lab-04",
   "provenance": [],
   "toc_visible": true
  },
  "kernelspec": {
   "display_name": "Python 3",
   "language": "python",
   "name": "python3"
  },
  "language_info": {
   "codemirror_mode": {
    "name": "ipython",
    "version": 3
   },
   "file_extension": ".py",
   "mimetype": "text/x-python",
   "name": "python",
   "nbconvert_exporter": "python",
   "pygments_lexer": "ipython3",
   "version": "3.8.3"
  }
 },
 "nbformat": 4,
 "nbformat_minor": 1
}
