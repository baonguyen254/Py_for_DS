{
  "nbformat": 4,
  "nbformat_minor": 0,
  "metadata": {
    "colab": {
      "name": "MHNC_TH9_18110053.ipynb",
      "provenance": [],
      "collapsed_sections": [],
      "toc_visible": true
    },
    "kernelspec": {
      "name": "python3",
      "display_name": "Python 3"
    }
  },
  "cells": [
    {
      "cell_type": "markdown",
      "source": [
        "# University of science\n",
        "## Advanced Machine Learning - Lab 09\n",
        "## Nguyễn Quốc Bảo - 18110053"
      ],
      "metadata": {
        "id": "mLtbGJVHGXe2"
      }
    },
    {
      "cell_type": "markdown",
      "metadata": {
        "id": "GLGmFg7QxPSa"
      },
      "source": [
        "**LAB 09: REFORCEMENT LEARNING**"
      ]
    },
    {
      "cell_type": "markdown",
      "metadata": {
        "id": "DPUcCnkgxfm6"
      },
      "source": [
        "1. Tìm hiểu về OpenAI\n",
        "2. Chơi thử trò SmartCar\n",
        "3. Làm quen với Naive và Q-Learning\n"
      ]
    },
    {
      "cell_type": "markdown",
      "metadata": {
        "id": "8dAqTNYhx146"
      },
      "source": [
        "* OpenAI là 1 công cụ được tạo ra nhằm giúp những nhà nghiên cứu dễ dàng hơn trong việc có 1 benchmark tốt bằng cách tạo một môi trường ổn định, có cách cài đặt đơn giản. Mục đích của công cụ này là giúp tăng khả năng reproduce lại các kết quả trong lĩnh vực AI, cũng như cung cấp 1 công cụ giúp chúng ta dễ dàng thao tác với các môi trường AI hơn. \n"
      ]
    },
    {
      "cell_type": "code",
      "metadata": {
        "id": "nKt5phSoAG0Q",
        "colab": {
          "base_uri": "https://localhost:8080/"
        },
        "outputId": "68ddb5f6-49b8-4c36-947b-2ff949a78c7f"
      },
      "source": [
        "#Cài đặt thư viện \n",
        "!pip install gym"
      ],
      "execution_count": null,
      "outputs": [
        {
          "output_type": "stream",
          "name": "stdout",
          "text": [
            "Requirement already satisfied: gym in /usr/local/lib/python3.7/dist-packages (0.17.3)\n",
            "Requirement already satisfied: numpy>=1.10.4 in /usr/local/lib/python3.7/dist-packages (from gym) (1.19.5)\n",
            "Requirement already satisfied: cloudpickle<1.7.0,>=1.2.0 in /usr/local/lib/python3.7/dist-packages (from gym) (1.3.0)\n",
            "Requirement already satisfied: pyglet<=1.5.0,>=1.4.0 in /usr/local/lib/python3.7/dist-packages (from gym) (1.5.0)\n",
            "Requirement already satisfied: scipy in /usr/local/lib/python3.7/dist-packages (from gym) (1.4.1)\n",
            "Requirement already satisfied: future in /usr/local/lib/python3.7/dist-packages (from pyglet<=1.5.0,>=1.4.0->gym) (0.16.0)\n"
          ]
        }
      ]
    },
    {
      "cell_type": "markdown",
      "metadata": {
        "id": "oFluN8jFASrO"
      },
      "source": [
        "Chúng ta sẽ nói về một environment đơn giản, có số state và số action hữu hạn (và khá nhỏ) là Taxi-v2. Trong environment này, agent của chúng ta đóng vai trò 1 tài xế taxi. Có 4 địa điểm cố định khác nhau trên bản đồ (được ký hiệu R, G, Y, B), và mỗi khi environment bắt đầu, sẽ có 2 điểm bất kỳ là điểm đón và trả khách (2 điểm này có thể trùng nhau), cũng như vị trí của taxi cũng là vị trí bất kỳ. Nhiệm vụ của chúng ta là đón hành khách (ở điểm màu xanh da trời) và trả khách (ở điểm màu tím).\n",
        "\n",
        "Agent của chúng ta có thể thực hiện 6 actions:\n",
        "\n",
        "0: xuống dưới\n",
        "\n",
        "1: lên trên\n",
        "\n",
        "2: sang trái\n",
        "\n",
        "3: sang phải\n",
        "\n",
        "4: đón khách\n",
        "\n",
        "5: trả khách\n",
        "\n",
        "Reward của environment này được tính như sau:\n",
        "\n",
        "cứ sau 1 time step (tức là khi xảy ra bất kỳ action nào), sẽ nhận -1 reward\n",
        "nhận được +20 reward nếu ta trả khách thành công (nghĩa là time step đó ta sẽ nhận +19 reward)\n",
        "nếu agent có hành vi đón khách và trả khách không hợp lệ, nhận -10 reward (nghĩa là time step đó ta sẽ nhận -11 reward).\n",
        "\n",
        "taxi sẽ hoạt động trên một khu vực 5x5, với 4 điểm trả khác và 5 địa điểm hành khách đang đứng nên số states sẽ là 5x5x5x4=500"
      ]
    },
    {
      "cell_type": "code",
      "metadata": {
        "id": "bkAJ7c3wCB_j"
      },
      "source": [
        "import numpy as np\n",
        "import gym\n",
        "import time\n",
        "from IPython.display import clear_output"
      ],
      "execution_count": null,
      "outputs": []
    },
    {
      "cell_type": "code",
      "metadata": {
        "colab": {
          "base_uri": "https://localhost:8080/"
        },
        "id": "RK4uhv_ZAvar",
        "outputId": "bbac0b3a-8bba-4483-b34d-6a3f62f31648"
      },
      "source": [
        "env = gym.make(\"Taxi-v3\") #Gọi môi trường ra\n",
        "env.env.s=env.encode(1,1,2,0)\n",
        "env.render()"
      ],
      "execution_count": null,
      "outputs": [
        {
          "output_type": "stream",
          "name": "stdout",
          "text": [
            "+---------+\n",
            "|\u001b[35mR\u001b[0m: | : :G|\n",
            "| :\u001b[43m \u001b[0m| : : |\n",
            "| : : : : |\n",
            "| | : | : |\n",
            "|\u001b[34;1mY\u001b[0m| : |B: |\n",
            "+---------+\n",
            "\n"
          ]
        }
      ]
    },
    {
      "cell_type": "markdown",
      "metadata": {
        "id": "9shg8mBWA2-h"
      },
      "source": [
        "Hành khách có thể ở 5 điểm là R, G, Y, B và trong xe, màu xanh dương để chỉ địa điểm hành khách đang đứng chờ (nếu hành khác trong taxi thì xe sẽ màu xanh lá), màu tím để chỉ địa điểm cần chở khách đến"
      ]
    },
    {
      "cell_type": "code",
      "metadata": {
        "colab": {
          "base_uri": "https://localhost:8080/"
        },
        "id": "T0ByBeA1BfsL",
        "outputId": "561790a2-78e6-41b2-a894-32e302a7ede1"
      },
      "source": [
        "env.env.s=env.encode(2,2,4,1)\n",
        "env.render()"
      ],
      "execution_count": null,
      "outputs": [
        {
          "output_type": "stream",
          "name": "stdout",
          "text": [
            "+---------+\n",
            "|R: | : :\u001b[35mG\u001b[0m|\n",
            "| : | : : |\n",
            "| : :\u001b[42m_\u001b[0m: : |\n",
            "| | : | : |\n",
            "|Y| : |B: |\n",
            "+---------+\n",
            "\n"
          ]
        }
      ]
    },
    {
      "cell_type": "markdown",
      "metadata": {
        "id": "vO3XzAmVBrAa"
      },
      "source": [
        "ta sẽ dùng env.encode(số_hàng,số_cột,hành_khách,điểm_trả_khách), với:\n",
        "* số_hàng thuộc [0,1,2,3,4]\n",
        "* số_cột thuộc  [0,1,2,3,4]\n",
        "* hành_khách: 0 là ở R, 1 là ở G, 2 là ở Y, 3 là ở B, 4 là trên xe\n",
        "* điểm_trả_khách: 0 là ở R, 1 là ở G, 2 là ở Y, 3 là ở B"
      ]
    },
    {
      "cell_type": "markdown",
      "metadata": {
        "id": "r8aRFBl4EF1J"
      },
      "source": [
        "#Naive-Learning"
      ]
    },
    {
      "cell_type": "markdown",
      "metadata": {
        "id": "6w-poHgtddc3"
      },
      "source": [
        "Bây giờ ta sẽ học Q-table một cách ngây thơ :\n",
        "\n",
        "* Chọn hành động tốt nhất dựa vào những gì đã học\n",
        "* Nếu điểm bằng nhau thì chọn ngẫu nhiên\n",
        "* Q-table cập nhất với discount = 0 (không xem xét tương lai)\n"
      ]
    },
    {
      "cell_type": "markdown",
      "metadata": {
        "id": "FWLkda4pETSu"
      },
      "source": [
        "Đầu tiên ta phải tạo ra một q-table là ma trận $size\\_state\\times size\\_action$"
      ]
    },
    {
      "cell_type": "code",
      "metadata": {
        "id": "hFMwLsuyc2k3"
      },
      "source": [
        "state_size = env.observation_space.n\n",
        "action_size = env.action_space.n\n",
        "\n",
        "q_table = np.zeros((state_size, action_size))\n",
        "\n",
        "FILE_SAVE_Naive = \"q_table_naive.npy\"\n",
        "total_episodes = 5000       # Total episodes\n",
        "total_test_episodes = 100     # Total test episodes\n",
        "max_steps = 99                # Max steps per episode\n",
        "           # Exponential decay rate for exploration prob"
      ],
      "execution_count": null,
      "outputs": []
    },
    {
      "cell_type": "code",
      "metadata": {
        "colab": {
          "base_uri": "https://localhost:8080/"
        },
        "id": "YGOCGE3ec83M",
        "outputId": "b72fc2ff-38b9-4435-de7b-bd1d9e51615c"
      },
      "source": [
        "import time\n",
        "for episode in range(total_episodes):\n",
        "    state = env.reset()   # reset lại môi trường\n",
        "    done = False          # đã hoàn thành trả khách hay chưa\n",
        "    for step in range(max_steps):\n",
        "        clear_output(wait=True)\n",
        "        print(\"episode: \",episode)\n",
        "        if  np.max(q_table[state]) ==0:         # nếu trong state q_value đều bằng 0 thì chọn đại 1 action\n",
        "            action=np.random.randint(0,action_size)\n",
        "        else:\n",
        "            action = np.argmax(q_table[state])  # chọn action có q_value lớn nhất\n",
        "\n",
        "        new_state, reward, done, _ = env.step(action)   # thực hiện hành động để nhận reward và state, action mới\n",
        "\n",
        "        q_table[state,action] += reward # cập nhật q_table\n",
        "        state = new_state\n",
        "        if done:       # nếu taxi có hành vi trả khách thì kết thúc episode\n",
        "            break"
      ],
      "execution_count": null,
      "outputs": [
        {
          "output_type": "stream",
          "name": "stdout",
          "text": [
            "episode:  4999\n"
          ]
        }
      ]
    },
    {
      "cell_type": "code",
      "metadata": {
        "id": "moGEPh_fMeTc"
      },
      "source": [
        "# lưu lại q_table\n",
        "np.save(FILE_SAVE_Naive,q_table)"
      ],
      "execution_count": null,
      "outputs": []
    },
    {
      "cell_type": "code",
      "metadata": {
        "id": "js8wTRHUMejA",
        "colab": {
          "base_uri": "https://localhost:8080/"
        },
        "outputId": "f404def2-3713-4047-ab69-e49811ed7235"
      },
      "source": [
        "# từ q_table bắt đầu chơi thử\n",
        "q_table=np.load(\"q_table_naive.npy\")\n",
        "rewards = []\n",
        "\n",
        "for episode in range(total_test_episodes):\n",
        "    state = env.reset()\n",
        "    step = 0\n",
        "    done = False\n",
        "    total_rewards = 0\n",
        "    \n",
        "\n",
        "    for step in range(max_steps):\n",
        "        print(\"****************************************************\")\n",
        "        print(\"EPISODE \", episode)\n",
        "        action = np.argmax(q_table[state,:])\n",
        "        \n",
        "        new_state, reward, done, info = env.step(action)\n",
        "        env.render() # hiển thị trò chơi\n",
        "        total_rewards += reward\n",
        "        print(total_rewards)\n",
        "        time.sleep(0.5)\n",
        "        clear_output(wait=True)\n",
        "        \n",
        "        if done:\n",
        "            rewards.append(total_rewards)\n",
        "            #print (\"Score\", total_rewards)\n",
        "            break\n",
        "        state = new_state\n"
      ],
      "execution_count": null,
      "outputs": [
        {
          "output_type": "stream",
          "name": "stdout",
          "text": [
            "Score over time: 0.0\n"
          ]
        }
      ]
    },
    {
      "cell_type": "code",
      "source": [
        "env.close()\n",
        "print (\"Score over time: \" +  str(sum(rewards)/total_test_episodes))"
      ],
      "metadata": {
        "id": "CVw4khJPWSn8"
      },
      "execution_count": null,
      "outputs": []
    },
    {
      "cell_type": "code",
      "source": [
        "q_table"
      ],
      "metadata": {
        "colab": {
          "base_uri": "https://localhost:8080/"
        },
        "id": "QpFMeqWHD-XW",
        "outputId": "3938497b-0714-43a1-f1da-0045721d630a"
      },
      "execution_count": null,
      "outputs": [
        {
          "output_type": "execute_result",
          "data": {
            "text/plain": [
              "array([[   0.,    0.,    0.,    0.,    0.,    0.],\n",
              "       [-251., -251., -251., -250., -250., -250.],\n",
              "       [-208., -208., -208., -208., -208., -210.],\n",
              "       ...,\n",
              "       [-124., -124., -123., -123., -130., -130.],\n",
              "       [-141., -141., -140., -140., -140., -140.],\n",
              "       [ -20.,  -20.,  -19.,  -19.,  -20.,  -30.]])"
            ]
          },
          "metadata": {},
          "execution_count": 16
        }
      ]
    },
    {
      "cell_type": "markdown",
      "metadata": {
        "id": "3SYLNclrdVJn"
      },
      "source": [
        "# Q-Learning"
      ]
    },
    {
      "cell_type": "markdown",
      "metadata": {
        "id": "IGXLLkkBdYYT"
      },
      "source": [
        "Giá trị Q-value được cập nhật như sau:$$Q(s_t, a_t) = Q(s_t, a_t) + \\alpha [r_{t+1} + \\lambda \\max_{a}Q(s_{t+1}, a) - Q(s_t, a_t)]$$với $\\alpha$ là learning rate, $\\lambda$ là discount rate, $s_t$ là quan sát thời điểm $t$ và $r_{t+1}$ là phần thưởng sau khi thực hiện hành động $a_t$ với quan sát $s_t$.\n",
        "\n",
        "Ngoài ra agent sẽ ngẫu nhiên thực hiện exploration với xác suất nào đó ở những state ban đầu"
      ]
    },
    {
      "cell_type": "code",
      "source": [
        "env = gym.make(\"Taxi-v3\")\n",
        "state_size = env.observation_space.n\n",
        "print(state_size)\n",
        "action_size = env.action_space.n\n",
        "print(action_size)"
      ],
      "metadata": {
        "colab": {
          "base_uri": "https://localhost:8080/"
        },
        "id": "L0Jza3Sjd4SC",
        "outputId": "e8d9ba2e-4115-460d-8a6b-f1ef001a2737"
      },
      "execution_count": null,
      "outputs": [
        {
          "output_type": "stream",
          "name": "stdout",
          "text": [
            "500\n",
            "6\n"
          ]
        }
      ]
    },
    {
      "cell_type": "code",
      "metadata": {
        "id": "zvs2PFgGo2Bt"
      },
      "source": [
        "\n",
        "env = gym.make(\"Taxi-v3\")\n",
        "state_size = env.observation_space.n\n",
        "action_size = env.action_space.n\n",
        "\n",
        "q_table = np.zeros((state_size, action_size))\n",
        "\n",
        "FILE_SAVE_Qlearning = \"q_table_qlearning.npy\"\n",
        "total_episodes = 5000         # Total episodes\n",
        "total_test_episodes = 10    # Total test episodes\n",
        "max_steps = 99                # Max steps per episode\n",
        "\n",
        "learning_rate = 0.7           # Learning rate\n",
        "discount_rate = 0.95         # Discounting rate\n",
        "\n",
        "# Exploration parameters\n",
        "epsilon = 1.0                 # Exploration rate\n",
        "max_epsilon = 1.0             # Exploration probability at start\n",
        "min_epsilon = 0.01            # Minimum exploration probability \n",
        "decay_rate = 0.01             # Exponential decay rate for exploration prob"
      ],
      "execution_count": null,
      "outputs": []
    },
    {
      "cell_type": "code",
      "metadata": {
        "colab": {
          "base_uri": "https://localhost:8080/"
        },
        "id": "1AcIuKE0aZMg",
        "outputId": "2a5bf53f-a933-43db-b608-3911de39a80d"
      },
      "source": [
        "q_table"
      ],
      "execution_count": null,
      "outputs": [
        {
          "output_type": "execute_result",
          "data": {
            "text/plain": [
              "array([[0., 0., 0., 0., 0., 0.],\n",
              "       [0., 0., 0., 0., 0., 0.],\n",
              "       [0., 0., 0., 0., 0., 0.],\n",
              "       ...,\n",
              "       [0., 0., 0., 0., 0., 0.],\n",
              "       [0., 0., 0., 0., 0., 0.],\n",
              "       [0., 0., 0., 0., 0., 0.]])"
            ]
          },
          "metadata": {},
          "execution_count": 18
        }
      ]
    },
    {
      "cell_type": "code",
      "metadata": {
        "colab": {
          "base_uri": "https://localhost:8080/"
        },
        "id": "VqAMf8YYevFC",
        "outputId": "0bcd43e7-6637-45bc-8b00-a18723f102da"
      },
      "source": [
        "import time\n",
        "for episode in range(total_episodes):\n",
        "    state = env.reset()\n",
        "    done = False\n",
        "    clear_output(wait=True)\n",
        "    print(\"episode: \",episode)\n",
        "    for step in range(max_steps):\n",
        "        #clear_output(wait=True)\n",
        "        \n",
        "        epsilon = min(min_epsilon, epsilon*decay_rate)\n",
        "        # kiểm tra xem agent dùng exploi hay explor\n",
        "        if np.random.rand() < epsilon:\n",
        "            # exploration\n",
        "            action = np.random.randint(0, action_size)\n",
        "        else:\n",
        "            # exploitation\n",
        "            if np.max(q_table[state]) == 0:\n",
        "                action=np.random.randint(0,action_size)\n",
        "            else:\n",
        "                action = np.argmax(q_table[state])\n",
        "            \n",
        "        # nhận reward và state tiếp theo\n",
        "        new_state, reward, done, _ = env.step(action)\n",
        "\n",
        "        # cập nhật q_table theo Bellman equation\n",
        "        update = reward + discount_rate*q_table[new_state].max() - q_table[state,action]\n",
        "        q_table[state,action] = q_table[state,action] + learning_rate*update\n",
        "        state = new_state\n",
        "        if done:\n",
        "            break"
      ],
      "execution_count": null,
      "outputs": [
        {
          "output_type": "stream",
          "name": "stdout",
          "text": [
            "episode:  4999\n"
          ]
        }
      ]
    },
    {
      "cell_type": "code",
      "metadata": {
        "id": "TKiSW-mMf_Wd"
      },
      "source": [
        "# lưu lại q_table\n",
        "np.save(FILE_SAVE_Qlearning,q_table)"
      ],
      "execution_count": null,
      "outputs": []
    },
    {
      "cell_type": "code",
      "metadata": {
        "colab": {
          "base_uri": "https://localhost:8080/"
        },
        "id": "4pvzBTLvgL8P",
        "outputId": "6b79789c-9217-45c1-a657-025935d233e9"
      },
      "source": [
        "# từ q_table bắt đầu chơi thử\n",
        "#q_table = np.load(\"q_table_qlearning.npy\")\n",
        "rewards = []\n",
        "\n",
        "for episode in range(total_test_episodes):\n",
        "    state = env.reset()\n",
        "    step = 0\n",
        "    done = False\n",
        "    total_rewards = 0\n",
        "    \n",
        "\n",
        "    for step in range(max_steps):\n",
        "        print(\"****************************************************\")\n",
        "        print(\"EPISODE \", episode)\n",
        "        \n",
        "        action = np.argmax(q_table[state,:])\n",
        "        new_state, reward, done, info = env.step(action)\n",
        "        env.render() # hiển thị trò chơi\n",
        "        total_rewards += reward\n",
        "        print(total_rewards)\n",
        "        time.sleep(0.5)\n",
        "        clear_output(wait=True)\n",
        "        \n",
        "        if done:\n",
        "            rewards.append(total_rewards)\n",
        "            #print (\"Score\", total_rewards)\n",
        "            break\n",
        "        state = new_state\n",
        "        \n",
        "# env.close()\n",
        "# print (\"Score over time: \" +  str(sum(rewards)/total_test_episodes))"
      ],
      "execution_count": null,
      "outputs": [
        {
          "output_type": "stream",
          "name": "stdout",
          "text": [
            "****************************************************\n",
            "EPISODE  9\n",
            "+---------+\n",
            "|\u001b[34;1mR\u001b[0m: | : :G|\n",
            "| : | : : |\n",
            "| : : : : |\n",
            "| | : | :\u001b[43m \u001b[0m|\n",
            "|Y| : |\u001b[35mB\u001b[0m: |\n",
            "+---------+\n",
            "  (South)\n",
            "-99\n"
          ]
        }
      ]
    },
    {
      "cell_type": "code",
      "source": [
        "q_table"
      ],
      "metadata": {
        "colab": {
          "base_uri": "https://localhost:8080/"
        },
        "id": "dZ66Q0YiUC9l",
        "outputId": "9a48aebc-4919-4132-fd23-8ec6fd21624d"
      },
      "execution_count": null,
      "outputs": [
        {
          "output_type": "execute_result",
          "data": {
            "text/plain": [
              "array([[ 0.        ,  0.        ,  0.        ,  0.        ,  0.        ,\n",
              "         0.        ],\n",
              "       [-5.46566072, -5.64429798, -5.6077611 , -5.48637774,  5.20997639,\n",
              "        -7.        ],\n",
              "       [-4.78898712, -4.5840672 , -4.47236866, -4.41448387, 10.9512375 ,\n",
              "        -9.73      ],\n",
              "       ...,\n",
              "       [-2.65639999, -2.37968605, -2.22291475, -2.79375875, -9.919     ,\n",
              "        -9.9757    ],\n",
              "       [-4.6502047 , -4.72978337, -4.5840672 , -4.81579966, -7.        ,\n",
              "        -7.        ],\n",
              "       [ 0.        , -0.7       ,  0.        , 18.        , -9.1       ,\n",
              "        -7.        ]])"
            ]
          },
          "metadata": {},
          "execution_count": 22
        }
      ]
    },
    {
      "cell_type": "markdown",
      "metadata": {
        "id": "rqLhCQdVltdm"
      },
      "source": [
        "#Bài tập"
      ]
    },
    {
      "cell_type": "markdown",
      "metadata": {
        "id": "Sc29B4SZlvxt"
      },
      "source": [
        "1. Giải thích vì sao khi dùng Naive-Learning thì xe taxi chỉ đứng yên một chỗ?\n",
        "2. Giải thích vì sao khi dùng Q-Leaning thì xe taxi có thể đón và trả khách được?\n",
        "3. Tìm hiểu một game khác trên OpenAI và thiết lập cho agent chơi được"
      ]
    },
    {
      "cell_type": "markdown",
      "metadata": {
        "id": "-hjajX_yKm1R"
      },
      "source": [
        "1. Khi dùng Naive-Learning\n",
        "\n",
        "Vì thực hiện các action chỉ lựa chọn theo giá trị tốt nhất và chỉ khi giá trị q-value tại state đó đều bằng 0 thì agent sẽ chọn action một cách ngẫu nhiên, nên trường hợp agent bị đứng yên là do khi đó giá trị hiện tại đang là tốt nhất nên nó sẽ chọn state đó.\n",
        "\n",
        "2. Khi dùng Q-Leaning\n",
        "\n",
        "Chia ra 2 trường hợp exploitation (lựa chọn action tốt nhất) và exploration (chọn action một cách ngẫu nhiên), ban đầu agent sẽ cố gắng exploration nhiều nhất có thể để có các giá trị reward và state value tương ứng. Sau đó mới chuyển sang exploitation để tối ưu các action tốt nhất. Chính vì thế khác với Naive-leaning, giai đoạn ban đầu thực hiện exploration nhiều action và cố gắng exploiration về sau đạt được reward tốt nhất nên có thể đón và trả khách.   \n",
        "\n"
      ]
    },
    {
      "cell_type": "markdown",
      "source": [
        "3.\n",
        "\n",
        "Car_Pole là một con lắc có trọng tâm nằm trên điểm quay của nó. Nó không ổn định, nhưng có thể được kiểm soát bằng cách di chuyển điểm trục xuống dưới tâm khối lượng. Mục đích là để giữ cân bằng cartpole bằng cách tác dụng các lực thích hợp lên một điểm trục.\n",
        "\n",
        "Cột được gắn bằng một khớp vào xe đẩy, khớp này di chuyển dọc theo đường ray. Hệ thống được điều khiển bằng cách tác dụng một lực theo hướng trái hoặc phải vào giỏ hàng. Con lắc bắt đầu thẳng đứng, và mục đích là ngăn nó rơi xuống. Phần thưởng +1 được cung cấp cho mỗi bước thời gian mà cột vẫn thẳng đứng. Tập kết thúc khi cột lệch hơn 15 độ so với phương thẳng đứng hoặc xe đẩy cách tâm hơn 2,4 đơn vị. Khi reward >195 chúng ta cũng sẽ kết thúc việc huấn luyện\n",
        "\n",
        "actions ở một state chính là 2 là lực tác động vào trò chơi theo hướng phải hay hướng trái."
      ],
      "metadata": {
        "id": "Sr3ITwIgf83Y"
      }
    },
    {
      "cell_type": "code",
      "source": [
        "!apt-get install -y xvfb python-opengl > /dev/null 2>&1"
      ],
      "metadata": {
        "id": "D0i-h5-JtdY7"
      },
      "execution_count": null,
      "outputs": []
    },
    {
      "cell_type": "code",
      "source": [
        "!pip install gym pyvirtualdisplay > /dev/null 2>&1"
      ],
      "metadata": {
        "id": "cl4GelTDtdON"
      },
      "execution_count": null,
      "outputs": []
    },
    {
      "cell_type": "code",
      "source": [
        "import gym\n",
        "import time\n",
        "import math\n",
        "import numpy as np\n",
        "import matplotlib.pyplot as plt\n",
        "from IPython import display as ipythondisplay"
      ],
      "metadata": {
        "id": "jqe0jZU7tdCl"
      },
      "execution_count": null,
      "outputs": []
    },
    {
      "cell_type": "code",
      "source": [
        "from pyvirtualdisplay import Display\n",
        "display = Display(visible=0, size=(400, 400))\n",
        "display.start()"
      ],
      "metadata": {
        "colab": {
          "base_uri": "https://localhost:8080/"
        },
        "id": "FjS7AsHfthL6",
        "outputId": "7cc320cb-49df-461b-e425-5aea1ba68c7a"
      },
      "execution_count": null,
      "outputs": [
        {
          "output_type": "execute_result",
          "data": {
            "text/plain": [
              "<pyvirtualdisplay.display.Display at 0x7fb901081110>"
            ]
          },
          "metadata": {},
          "execution_count": 6
        }
      ]
    },
    {
      "cell_type": "code",
      "source": [
        "env = gym.make(\"CartPole-v1\")\n",
        "env.reset()\n",
        "prev_screen = env.render(mode='rgb_array')\n",
        "plt.imshow(prev_screen)\n",
        "\n",
        "for i in range(50):\n",
        "  action = env.action_space.sample()\n",
        "  obs, reward, done, info = env.step(action)\n",
        "  screen = env.render(mode='rgb_array')\n",
        "  \n",
        "  plt.imshow(screen)\n",
        "  ipythondisplay.clear_output(wait=True)\n",
        "  ipythondisplay.display(plt.gcf())\n",
        "\n",
        "  if done:\n",
        "    break\n",
        "    \n",
        "ipythondisplay.clear_output(wait=True)\n",
        "env.close()\n"
      ],
      "metadata": {
        "colab": {
          "base_uri": "https://localhost:8080/",
          "height": 269
        },
        "id": "OFWbaBH3tg9L",
        "outputId": "d457ebd9-424c-4543-fd46-d192ac9e4992"
      },
      "execution_count": null,
      "outputs": [
        {
          "output_type": "display_data",
          "data": {
            "image/png": "[encoded data removed]",
            "text/plain": [
              "<Figure size 432x288 with 1 Axes>"
            ]
          },
          "metadata": {
            "needs_background": "light"
          }
        }
      ]
    },
    {
      "cell_type": "code",
      "source": [
        "# display.stop()"
      ],
      "metadata": {
        "colab": {
          "base_uri": "https://localhost:8080/"
        },
        "id": "OwJKqARutgvU",
        "outputId": "8d8a16f0-be25-4a52-8d81-7f4fd1cc8a25"
      },
      "execution_count": null,
      "outputs": [
        {
          "output_type": "execute_result",
          "data": {
            "text/plain": [
              "<pyvirtualdisplay.display.Display at 0x7f3453496cd0>"
            ]
          },
          "metadata": {},
          "execution_count": 7
        }
      ]
    },
    {
      "cell_type": "code",
      "source": [
        "LEARNING_RATE = 0.1\n",
        "FILE_SAVE_Qlearning = \"CartPole_q_table_qlearning.npy\"\n",
        "DISCOUNT = 0.95\n",
        "EPISODES = 20000\n",
        "total = 0\n",
        "total_reward = 0\n",
        "prior_reward = 0\n",
        "\n",
        "Observation = [30, 30, 50, 50]\n",
        "np_array_win_size = np.array([0.25, 0.25, 0.01, 0.1])\n",
        "\n",
        "epsilon = 1\n",
        "\n",
        "epsilon_decay_value = 0.99995\n",
        "test_episodes = 10"
      ],
      "metadata": {
        "id": "41d1HrzhoHfl"
      },
      "execution_count": null,
      "outputs": []
    },
    {
      "cell_type": "code",
      "source": [
        "q_table = np.random.uniform(low=0, high=1, size=(Observation + [env.action_space.n]))\n",
        "q_table.shape"
      ],
      "metadata": {
        "colab": {
          "base_uri": "https://localhost:8080/"
        },
        "id": "pa38cz3IoKI8",
        "outputId": "12c4809c-cdff-44c8-b781-5dfe2068b208"
      },
      "execution_count": null,
      "outputs": [
        {
          "output_type": "execute_result",
          "data": {
            "text/plain": [
              "(30, 30, 50, 50, 2)"
            ]
          },
          "metadata": {},
          "execution_count": 9
        }
      ]
    },
    {
      "cell_type": "code",
      "source": [
        "def get_discrete_state(state):\n",
        "    discrete_state = state/np_array_win_size+ np.array([15,10,1,10])\n",
        "    return tuple(discrete_state.astype(np.int))"
      ],
      "metadata": {
        "id": "wfcp1-AuoMpE"
      },
      "execution_count": null,
      "outputs": []
    },
    {
      "cell_type": "code",
      "source": [
        "\n",
        "for episode in range(EPISODES + 1): # go through the episodes\n",
        "    t0 = time.time() # set the initial time\n",
        "    discrete_state = get_discrete_state(env.reset()) # get the discrete start for the restarted environment \n",
        "    done = False\n",
        "    episode_reward = 0 # reward starts as 0 for each episode\n",
        "\n",
        "    if episode % 2000 == 0: \n",
        "        print(\"Episode: \" + str(episode))\n",
        "\n",
        "    while not done: \n",
        "\n",
        "        if np.random.random() > epsilon:\n",
        "            # exploitation\n",
        "            action = np.argmax(q_table[discrete_state]) # take cordinated action\n",
        "        else:\n",
        "            # exploration\n",
        "            action = np.random.randint(0, env.action_space.n) # do a random ation\n",
        "\n",
        "        new_state, reward, done, _ = env.step(action) # step action to get new states, reward, and the \"done\" status.\n",
        "\n",
        "        episode_reward += reward # add the reward\n",
        "\n",
        "        new_discrete_state = get_discrete_state(new_state)\n",
        "\n",
        "        if episode % 2000 == 0: # render\n",
        "            env.render()\n",
        "\n",
        "        if not done: # update q-table\n",
        "            max_future_q = np.max(q_table[new_discrete_state])\n",
        "\n",
        "            current_q = q_table[discrete_state + (action,)]\n",
        "\n",
        "            new_q = (1 - LEARNING_RATE) * current_q + LEARNING_RATE * (reward + DISCOUNT * max_future_q)\n",
        "\n",
        "            q_table[discrete_state + (action,)] = new_q\n",
        "\n",
        "        discrete_state = new_discrete_state\n",
        "\n",
        "    if epsilon > 0.05: # epsilon modification\n",
        "        if episode_reward > prior_reward and episode > 10000:\n",
        "            epsilon = math.pow(epsilon_decay_value, episode - 10000)\n",
        "\n",
        "            if episode % 500 == 0:\n",
        "                print(\"Epsilon: \" + str(epsilon))\n",
        "\n",
        "    t1 = time.time() # episode has finished\n",
        "    episode_total = t1 - t0 # episode total time\n",
        "    total = total + episode_total\n",
        "\n",
        "    total_reward += episode_reward # episode total reward\n",
        "    prior_reward = episode_reward\n",
        "\n",
        "    if episode % 1000 == 0: # every 1000 episodes print the average time and the average reward\n",
        "        mean = total / 1000\n",
        "        print(\"Time Average: \" + str(mean))\n",
        "        total = 0\n",
        "\n",
        "        mean_reward = total_reward / 1000\n",
        "        print(\"Mean Reward: \" + str(mean_reward))\n",
        "        total_reward = 0\n"
      ],
      "metadata": {
        "id": "_lyn3AqJnxBX",
        "colab": {
          "base_uri": "https://localhost:8080/"
        },
        "outputId": "c2bff242-9894-4dd5-ad5f-8d67911d8414"
      },
      "execution_count": null,
      "outputs": [
        {
          "output_type": "stream",
          "name": "stdout",
          "text": [
            "Episode: 0\n",
            "Time Average: 0.00011224603652954101\n",
            "Mean Reward: 0.017\n",
            "Time Average: 0.0009931690692901612\n",
            "Mean Reward: 22.354\n",
            "Episode: 2000\n",
            "Time Average: 0.0009659392833709717\n",
            "Mean Reward: 21.671\n",
            "Time Average: 0.000949415922164917\n",
            "Mean Reward: 21.824\n",
            "Episode: 4000\n",
            "Time Average: 0.000975822925567627\n",
            "Mean Reward: 22.246\n",
            "Time Average: 0.0009504084587097168\n",
            "Mean Reward: 22.19\n",
            "Episode: 6000\n",
            "Time Average: 0.0009934237003326415\n",
            "Mean Reward: 22.932\n",
            "Time Average: 0.000912360429763794\n",
            "Mean Reward: 22.11\n",
            "Episode: 8000\n",
            "Time Average: 0.000960597276687622\n",
            "Mean Reward: 22.113\n",
            "Time Average: 0.0009566988945007325\n",
            "Mean Reward: 22.192\n",
            "Episode: 10000\n",
            "Time Average: 0.0009985804557800294\n",
            "Mean Reward: 22.25\n",
            "Epsilon: 0.9512282354250458\n",
            "Time Average: 0.0009996068477630615\n",
            "Mean Reward: 23.381\n",
            "Episode: 12000\n",
            "Time Average: 0.0010502233505249024\n",
            "Mean Reward: 23.512\n",
            "Epsilon: 0.8824941446941661\n",
            "Time Average: 0.0011073687076568603\n",
            "Mean Reward: 24.688\n",
            "Epsilon: 0.8394533480303666\n",
            "Episode: 14000\n",
            "Time Average: 0.00119771409034729\n",
            "Mean Reward: 26.901\n",
            "Epsilon: 0.7985117269685725\n",
            "Time Average: 0.00120383620262146\n",
            "Mean Reward: 27.311\n",
            "Epsilon: 0.7595669010105212\n",
            "Episode: 16000\n",
            "Time Average: 0.001357741117477417\n",
            "Mean Reward: 30.261\n",
            "Epsilon: 0.7225214829355084\n",
            "Epsilon: 0.7046819235193919\n",
            "Time Average: 0.0014250969886779785\n",
            "Mean Reward: 31.759\n",
            "Epsilon: 0.687282835269431\n",
            "Episode: 18000\n",
            "Epsilon: 0.6703133426452782\n",
            "Time Average: 0.0016549172401428222\n",
            "Mean Reward: 35.911\n",
            "Epsilon: 0.6537628386312633\n",
            "Time Average: 0.001703510046005249\n",
            "Mean Reward: 38.561\n",
            "Episode: 20000\n",
            "Time Average: 0.0018897240161895752\n",
            "Mean Reward: 41.2\n"
          ]
        }
      ]
    },
    {
      "cell_type": "code",
      "source": [
        "# lưu lại q_table\n",
        "np.save(FILE_SAVE_Qlearning,q_table)"
      ],
      "metadata": {
        "id": "ARm4Q0IJY2fG"
      },
      "execution_count": null,
      "outputs": []
    },
    {
      "cell_type": "code",
      "source": [
        "# từ q_table bắt đầu chơi thử\n",
        "#q_table = np.load(\"CartPole_q_table_qlearning.npy\")\n",
        "rewards = []\n",
        "\n",
        "for episode in range(test_episodes):\n",
        "    state = env.reset()\n",
        "    step = 0\n",
        "    done = False\n",
        "    total_rewards = 0\n",
        "    \n",
        "\n",
        "    for step in range(100):\n",
        "        print(\"****************************************************\")\n",
        "        print(\"EPISODE \", episode)\n",
        "        \n",
        "        ##########\n",
        "        action = env.action_space.sample()\n",
        "        new_state, reward, done, info = env.step(action)\n",
        "        total_rewards += reward\n",
        "        print(total_rewards)\n",
        "        time.sleep(0.01)\n",
        "        screen = env.render(mode='rgb_array')\n",
        "\n",
        "        plt.imshow(screen)\n",
        "        ipythondisplay.clear_output(wait=True)\n",
        "        ipythondisplay.display(plt.gcf())\n",
        "        \n",
        "        if done:\n",
        "            rewards.append(total_rewards)\n",
        "            # print (\"Score\", total_rewards)\n",
        "            break\n",
        "        state = new_state\n",
        "        \n",
        "env.close()\n",
        "# print (\"Score over time: \" +  str(sum(rewards)/test_episodes))"
      ],
      "metadata": {
        "id": "Io-IvK-U5ldT",
        "colab": {
          "base_uri": "https://localhost:8080/",
          "height": 324
        },
        "outputId": "0cc3a69b-a335-4592-8272-ec1a99ba2c7f"
      },
      "execution_count": null,
      "outputs": [
        {
          "output_type": "display_data",
          "data": {
            "image/png": "[encoded data removed]",
            "text/plain": [
              "<Figure size 432x288 with 1 Axes>"
            ]
          },
          "metadata": {}
        },
        {
          "output_type": "stream",
          "name": "stdout",
          "text": [
            "****************************************************\n",
            "EPISODE  9\n",
            "25.0\n"
          ]
        }
      ]
    },
    {
      "cell_type": "code",
      "source": [
        ""
      ],
      "metadata": {
        "id": "lxAK4Q97CWGU"
      },
      "execution_count": null,
      "outputs": []
    }
  ]
}