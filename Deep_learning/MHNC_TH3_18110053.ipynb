{
  "nbformat": 4,
  "nbformat_minor": 0,
  "metadata": {
    "colab": {
      "name": "MHNC_TH3_18110053.ipynb",
      "provenance": [],
      "collapsed_sections": []
    },
    "kernelspec": {
      "name": "python3",
      "display_name": "Python 3"
    },
    "language_info": {
      "name": "python"
    }
  },
  "cells": [
    {
      "cell_type": "markdown",
      "metadata": {
        "id": "N5PjStdEVv37"
      },
      "source": [
        "# University of science\n",
        "## Advanced Machine Learning - Lab 03\n",
        "## Nguyễn Quốc Bảo - 18110053"
      ]
    },
    {
      "cell_type": "markdown",
      "metadata": {
        "id": "E8VwlpluDerd"
      },
      "source": [
        "Lab03:\n",
        "\n",
        "Ở bài thực hành này chúng ta thử custom vào từng layer của tensorflow hay nói cách khác là code theo dạng low-level"
      ]
    },
    {
      "cell_type": "code",
      "metadata": {
        "id": "MqAcMmNrcYNQ"
      },
      "source": [
        "#import thư viện cần thiết\n",
        "## thư viện machine learning và hỗ trợ\n",
        "import tensorflow as tf\n",
        "from tensorflow.keras import backend as K\n",
        "import numpy as np\n",
        "from tensorflow.keras.models import Sequential\n",
        "\n",
        "## thư viện để vẽ đồ thị\n",
        "import matplotlib.pyplot as plt\n"
      ],
      "execution_count": 1,
      "outputs": []
    },
    {
      "cell_type": "code",
      "metadata": {
        "id": "WXnpRf0oc2mC"
      },
      "source": [
        "#hàm build có tác dụng sẽ tự động khởi tạo các weights \n",
        "#hàm call sẽ tự động tính toán cho layer\n",
        "class Linear(tf.keras.layers.Layer):\n",
        "    def __init__(self, units=100):\n",
        "        super().__init__() \n",
        "        self.units = units #Định nghĩa số hidden nodes cho lớp Fully Connected \n",
        "    def build(self, input_shape):\n",
        "        #Định nghĩa ma trận weight W\n",
        "        ##shape là kích thước của ma trận\n",
        "        ##initializer là initial weight của ma trận\n",
        "        ##trainble cho phép ma trận có được cập nhật sau mỗi lần training hay không\n",
        "        self.w = self.add_weight(shape=(input_shape[-1], self.units),\n",
        "                                 initializer=tf.random_normal_initializer,\n",
        "                                 trainable=True,\n",
        "                                 name=\"w1\") \n",
        "        \n",
        "        #Định nghĩa bias để cộng thêm vào lớp FC\n",
        "        self.b = self.add_weight(shape=(self.units,),\n",
        "                                 initializer=tf.random_normal_initializer,\n",
        "                                 trainable=True,\n",
        "                                 name=\"b1\")\n",
        "    def call(self, inputs):\n",
        "        return tf.nn.relu(tf.matmul(inputs, self.w) + self.b)\n",
        "\n",
        "\n"
      ],
      "execution_count": 2,
      "outputs": []
    },
    {
      "cell_type": "code",
      "metadata": {
        "colab": {
          "base_uri": "https://localhost:8080/"
        },
        "id": "0rgu9d-ZHOgG",
        "outputId": "04b64d52-3443-40d2-c29b-763ea5e5b13e"
      },
      "source": [
        "#Chạy thử\n",
        "x = tf.ones((1, 2))\n",
        "linear_layer = Linear(100) ##hàm __init__ được gọi\n",
        "y = linear_layer(x)  ##hàm build và call được gọi\n",
        "print(y)"
      ],
      "execution_count": 3,
      "outputs": [
        {
          "output_type": "stream",
          "name": "stdout",
          "text": [
            "tf.Tensor(\n",
            "[[0.00900003 0.         0.1981614  0.         0.0691124  0.\n",
            "  0.         0.         0.09806626 0.05103619 0.16243525 0.050644\n",
            "  0.11277376 0.         0.00073051 0.         0.         0.\n",
            "  0.03984766 0.2024529  0.         0.21731752 0.16608244 0.\n",
            "  0.         0.         0.         0.0506441  0.         0.06832841\n",
            "  0.         0.04933136 0.11189217 0.         0.08759791 0.\n",
            "  0.         0.         0.02315946 0.         0.00968418 0.\n",
            "  0.00040436 0.02614306 0.05696829 0.10442799 0.08296447 0.\n",
            "  0.05070743 0.         0.         0.         0.         0.\n",
            "  0.         0.01521912 0.         0.         0.         0.13815343\n",
            "  0.08189351 0.         0.01930403 0.         0.         0.03909709\n",
            "  0.08736596 0.         0.07047623 0.         0.         0.06605398\n",
            "  0.         0.         0.         0.         0.         0.00874726\n",
            "  0.         0.03344254 0.         0.03931393 0.         0.\n",
            "  0.04759996 0.10722754 0.00089661 0.         0.03282719 0.03397638\n",
            "  0.05143884 0.         0.         0.         0.04799241 0.17209038\n",
            "  0.         0.15136504 0.         0.11842337]], shape=(1, 100), dtype=float32)\n"
          ]
        }
      ]
    },
    {
      "cell_type": "code",
      "metadata": {
        "colab": {
          "base_uri": "https://localhost:8080/"
        },
        "id": "Xqr7f0RtdJKG",
        "outputId": "f262cdb6-bfa9-47d2-8e66-6724d9e705ef"
      },
      "source": [
        "#in thử các weights có trong block\n",
        "for i in linear_layer.trainable_variables:\n",
        "    print(i.name)"
      ],
      "execution_count": 4,
      "outputs": [
        {
          "output_type": "stream",
          "name": "stdout",
          "text": [
            "linear/w1:0\n",
            "linear/b1:0\n"
          ]
        }
      ]
    },
    {
      "cell_type": "code",
      "metadata": {
        "id": "F7E31WIFHTov"
      },
      "source": [
        "#shape của kernel trong conv được định nghĩa theo dạng:\n",
        "# (width, height, dimension, number_of_filters)\n",
        "class ConvMaxpoolBlock(tf.keras.layers.Layer):\n",
        "    def __init__(self, filter_size, n_filters):\n",
        "        super().__init__()\n",
        "        self.filter_size = filter_size #định nghĩa window size \n",
        "        self.n_filters = n_filters #định nghĩa số filters\n",
        "    def build(self, input_shape):\n",
        "        self.kernel = self.add_weight(name=\"kernel\",\n",
        "                                      shape=(self.filter_size[0], self.filter_size[1], input_shape[-1], self.n_filters),\n",
        "                                      initializer=tf.random_normal_initializer,\n",
        "                                      trainable=True)\n",
        "        self.bias = self.add_weight(name=\"bias\",\n",
        "                                      shape=(1,self.n_filters),\n",
        "                                      initializer=tf.random_normal_initializer,\n",
        "                                      trainable=True)\n",
        "    def call(self, inputs):\n",
        "        conv = K.conv2d(x=inputs,\n",
        "                        kernel=self.kernel,\n",
        "                        padding=\"same\")\n",
        "        conv = conv+self.bias\n",
        "        conv = tf.nn.relu(conv)\n",
        "        maxpool = K.pool2d(conv, \n",
        "                           pool_size=(2,2), \n",
        "                           strides=(2,2),\n",
        "                          pool_mode='max')\n",
        "        return maxpool"
      ],
      "execution_count": 5,
      "outputs": []
    },
    {
      "cell_type": "code",
      "metadata": {
        "colab": {
          "base_uri": "https://localhost:8080/"
        },
        "id": "cCtmx0kVHTX3",
        "outputId": "58d37cb6-7fa2-403a-a55c-f44c25e85691"
      },
      "source": [
        "## Thử xem những tham số và kích thước của layer với input là ảnh (300,300,3)\n",
        "inputs = tf.keras.layers.Input(shape=(300,300,3))\n",
        "conv = ConvMaxpoolBlock(filter_size=[5,5], n_filters=10)  \n",
        "conv_output = conv(inputs)                                ##hàm build và call được gọi\n",
        "\n",
        "## In các biến train được của layer\n",
        "print(conv.trainable_variables)\n",
        "## In output của layer\n",
        "print(conv_output.shape)"
      ],
      "execution_count": 6,
      "outputs": [
        {
          "output_type": "stream",
          "name": "stdout",
          "text": [
            "[<tf.Variable 'conv_maxpool_block/kernel:0' shape=(5, 5, 3, 10) dtype=float32, numpy=\n",
            "array([[[[ 9.67940409e-03,  5.76046354e-04, -8.42521563e-02,\n",
            "          -6.28045574e-02,  2.01962818e-03, -5.31301685e-02,\n",
            "           2.98679974e-02,  1.03851510e-02,  2.14880444e-02,\n",
            "          -5.31653129e-03],\n",
            "         [-1.80999469e-02,  3.59507464e-03, -5.57834096e-02,\n",
            "          -2.40669828e-02,  8.50250348e-02, -7.05330214e-03,\n",
            "          -2.86708008e-02,  3.82490866e-02,  5.39044403e-02,\n",
            "           4.74449992e-02],\n",
            "         [-2.64329053e-02, -5.27414791e-02,  7.01330379e-02,\n",
            "          -5.29364236e-02, -5.66797554e-02,  3.71379107e-02,\n",
            "           6.05183803e-02, -1.99473817e-02, -4.52068523e-02,\n",
            "           2.85566188e-02]],\n",
            "\n",
            "        [[ 1.44872786e-02, -1.31568134e-01,  5.82414456e-02,\n",
            "          -4.18546014e-02,  2.33378075e-03,  5.44940829e-02,\n",
            "          -4.89370786e-02, -5.46742193e-02, -1.32708941e-02,\n",
            "           4.10298035e-02],\n",
            "         [-4.02281098e-02, -9.61984601e-03, -4.31643277e-02,\n",
            "           8.28794986e-02, -3.51858884e-02,  5.29162288e-02,\n",
            "           5.53751551e-02,  6.49094209e-02,  4.53092791e-02,\n",
            "          -4.69727740e-02],\n",
            "         [-5.12863090e-03,  1.07282795e-01, -8.07533413e-03,\n",
            "           9.29590873e-03, -7.43430182e-02, -5.33309579e-02,\n",
            "          -5.15291393e-02, -8.16330239e-02,  7.57405302e-03,\n",
            "          -2.51477072e-03]],\n",
            "\n",
            "        [[ 4.03731205e-02, -1.34318124e-03, -3.97901423e-02,\n",
            "           4.54482548e-02, -3.63594964e-02,  2.07379740e-02,\n",
            "           1.89310126e-02, -5.17554358e-02,  1.84623059e-03,\n",
            "          -4.33995202e-02],\n",
            "         [ 4.34841961e-02,  8.53434857e-03,  8.94099697e-02,\n",
            "          -6.39943173e-03,  9.73823294e-02,  7.02518364e-03,\n",
            "           3.22318338e-02,  4.16111685e-02,  5.18913865e-02,\n",
            "          -2.12159175e-02],\n",
            "         [ 6.71715289e-02,  4.03328426e-02, -6.60663173e-02,\n",
            "           1.76229235e-02,  1.57825090e-02,  1.06426952e-02,\n",
            "           1.01024628e-01, -1.07872169e-02, -2.78121885e-02,\n",
            "          -2.03459393e-02]],\n",
            "\n",
            "        [[ 2.13312563e-02, -7.17733148e-03, -8.49524140e-02,\n",
            "          -1.36530818e-02,  1.01291938e-02, -4.33065705e-02,\n",
            "          -8.08938667e-02, -4.34094388e-03, -8.90075192e-02,\n",
            "          -9.27047953e-02],\n",
            "         [-8.40623304e-02, -2.70723347e-02,  8.36395919e-02,\n",
            "           1.98191032e-02,  9.87735228e-04,  5.00966273e-02,\n",
            "          -7.39443377e-02, -1.85747650e-02, -7.75934458e-02,\n",
            "          -1.70177352e-02],\n",
            "         [-2.21276227e-02,  2.49770824e-02, -3.42444889e-02,\n",
            "          -6.48059174e-02,  1.72934437e-03, -6.49800524e-02,\n",
            "          -2.64052879e-02, -8.34837835e-03, -4.69783619e-02,\n",
            "           3.12526934e-02]],\n",
            "\n",
            "        [[-4.04254459e-02, -4.52555791e-02,  1.07426763e-01,\n",
            "          -5.16819358e-02,  4.17880006e-02, -1.95399262e-02,\n",
            "          -2.85385679e-02,  9.53885540e-02,  9.25299749e-02,\n",
            "           8.78429189e-02],\n",
            "         [ 1.04584862e-02, -1.44577727e-01, -2.12160852e-02,\n",
            "           1.79375205e-02, -1.28401697e-01, -4.87247296e-02,\n",
            "          -7.83996005e-03, -1.50279617e-02, -1.85666140e-02,\n",
            "           8.57817605e-02],\n",
            "         [ 9.74253044e-02, -3.96070406e-02,  3.56450081e-02,\n",
            "          -5.47584482e-02, -7.70308077e-02, -3.03197633e-02,\n",
            "          -4.71304543e-02,  1.45424856e-02, -4.07812707e-02,\n",
            "          -1.91932097e-02]]],\n",
            "\n",
            "\n",
            "       [[[-5.82600050e-02,  5.53931762e-03,  2.23429445e-02,\n",
            "          -5.10928743e-02,  7.14180176e-04,  5.83647192e-02,\n",
            "          -8.16850271e-03,  2.70352308e-02,  6.15264289e-02,\n",
            "           6.69922633e-03],\n",
            "         [ 3.18629034e-02,  6.39336854e-02,  2.30426826e-02,\n",
            "          -2.06788201e-02,  2.89292913e-02,  6.89904764e-02,\n",
            "          -1.66631602e-02, -1.13576204e-02, -3.58755663e-02,\n",
            "           4.36182804e-02],\n",
            "         [-5.74715575e-03,  8.50179940e-02, -5.15992716e-02,\n",
            "          -1.02596991e-01,  5.21506034e-02,  8.58121738e-02,\n",
            "          -5.36064319e-02,  4.25100885e-02,  1.77260172e-02,\n",
            "           7.27617368e-02]],\n",
            "\n",
            "        [[ 1.67236160e-02,  2.95490175e-02, -6.55160472e-02,\n",
            "          -9.87055823e-02,  3.44753489e-02,  3.57917510e-02,\n",
            "          -1.10830425e-03, -1.95671432e-02, -4.32651937e-02,\n",
            "          -2.71829795e-02],\n",
            "         [ 1.49501106e-02, -1.53962821e-02, -4.55603711e-02,\n",
            "          -7.92583451e-02,  3.57857384e-02, -1.40694246e-01,\n",
            "           6.29337132e-02, -2.70435791e-02, -1.08537572e-02,\n",
            "           3.91958980e-04],\n",
            "         [-6.07882552e-02,  3.36711593e-02,  6.61519766e-02,\n",
            "           5.29312678e-02,  1.41523868e-01, -5.18810339e-02,\n",
            "           2.49494091e-02, -1.67422574e-02,  6.36145845e-02,\n",
            "          -3.75954770e-02]],\n",
            "\n",
            "        [[-3.27933393e-02, -5.40218428e-02,  4.99503836e-02,\n",
            "          -2.14425083e-02,  2.51685884e-02, -3.90219241e-02,\n",
            "          -2.70068441e-02, -1.10708354e-02, -6.96344255e-03,\n",
            "           3.89239239e-03],\n",
            "         [-1.11152031e-01, -2.34463643e-02, -2.64550839e-02,\n",
            "           1.60250794e-02, -1.59535147e-02, -1.38362601e-01,\n",
            "           1.01918057e-01,  9.53443348e-02,  3.07606757e-02,\n",
            "           9.53373406e-03],\n",
            "         [ 6.48526996e-02,  5.47735691e-02,  1.86316483e-02,\n",
            "          -4.50794138e-02,  9.70500347e-04, -9.52967349e-03,\n",
            "          -5.34519367e-02,  4.95137088e-03,  5.84000861e-03,\n",
            "           6.75159618e-02]],\n",
            "\n",
            "        [[ 1.21823527e-01,  5.51400557e-02,  4.70234491e-02,\n",
            "           2.75618732e-02, -4.11520340e-02,  8.43890607e-02,\n",
            "          -1.10059818e-02,  1.97058991e-02, -1.16640860e-02,\n",
            "          -5.47911003e-02],\n",
            "         [ 5.76417260e-02, -4.41572536e-03,  2.37647188e-03,\n",
            "          -2.48872302e-03, -2.20226217e-02, -1.47922179e-02,\n",
            "          -5.58910370e-02,  8.17443356e-02, -4.57068533e-02,\n",
            "          -3.15165939e-03],\n",
            "         [ 6.64493889e-02,  8.19042400e-02, -6.12669960e-02,\n",
            "          -7.87610337e-02,  1.65997576e-02, -3.71811390e-02,\n",
            "          -6.45002499e-02, -7.85961673e-02,  1.37014827e-02,\n",
            "           3.46758217e-02]],\n",
            "\n",
            "        [[ 9.16199014e-02,  4.53090109e-02,  6.32367432e-02,\n",
            "           5.58474427e-03, -5.69008067e-02, -1.63214076e-02,\n",
            "          -2.71912552e-02,  3.09157129e-02,  5.75126670e-02,\n",
            "          -2.31765546e-02],\n",
            "         [-1.59054361e-02, -7.66872466e-02,  2.65723020e-02,\n",
            "          -7.42050484e-02,  1.03668347e-01, -6.93067238e-02,\n",
            "          -3.04888729e-02, -2.18755864e-02, -2.52454020e-02,\n",
            "          -4.64143744e-03],\n",
            "         [-7.01216608e-02,  5.87021410e-02, -5.22713847e-02,\n",
            "          -5.30056767e-02, -9.10933502e-03, -2.77082678e-02,\n",
            "          -2.21407171e-02,  2.84188241e-02,  9.06244442e-02,\n",
            "          -3.08572296e-02]]],\n",
            "\n",
            "\n",
            "       [[[-9.45023354e-03,  5.83116710e-02, -4.83232811e-02,\n",
            "           1.44440010e-02,  4.82757352e-02,  9.48947202e-03,\n",
            "          -8.46493896e-03,  2.23851893e-02,  4.21942910e-03,\n",
            "           6.40440583e-02],\n",
            "         [-3.62104028e-02,  6.56044334e-02,  1.03733335e-02,\n",
            "          -3.02815083e-02,  1.65594127e-02, -5.84231131e-02,\n",
            "           5.03695272e-02,  2.95579471e-02,  4.63098399e-02,\n",
            "           1.71869695e-02],\n",
            "         [-2.75369338e-03,  4.89087924e-02,  6.00529015e-02,\n",
            "          -3.85221541e-02, -4.45684195e-02,  1.29424836e-04,\n",
            "           1.45255610e-01,  1.17809661e-02,  4.07494791e-03,\n",
            "           3.43418755e-02]],\n",
            "\n",
            "        [[-7.55603984e-02,  3.80041860e-02, -7.92337805e-02,\n",
            "          -1.23369806e-02, -1.45588967e-03, -2.38586720e-02,\n",
            "           6.96917763e-03,  1.74635835e-02,  2.96740662e-02,\n",
            "           2.72000320e-02],\n",
            "         [-2.57801805e-02, -5.11422940e-02, -3.82675938e-02,\n",
            "          -6.07327335e-02,  8.06390028e-03,  1.42637584e-02,\n",
            "           2.48640422e-02,  4.06245589e-02,  4.00006361e-02,\n",
            "           4.03430639e-03],\n",
            "         [ 5.50846867e-02,  1.13586776e-01,  7.33609796e-02,\n",
            "          -9.47336759e-03,  2.62636095e-02,  6.45963624e-02,\n",
            "           1.22806065e-01, -7.75240064e-02,  3.08768684e-03,\n",
            "           8.72605145e-02]],\n",
            "\n",
            "        [[-9.03000124e-03,  3.18577774e-02,  3.69387157e-02,\n",
            "          -4.82675396e-02,  2.70088203e-02, -2.82978397e-02,\n",
            "          -1.30832061e-01, -1.84101071e-02,  3.10367369e-03,\n",
            "           4.71103154e-02],\n",
            "         [-8.72214735e-02, -9.38251801e-03,  3.74685712e-02,\n",
            "          -8.50658398e-03,  4.08900523e-04,  1.80473481e-03,\n",
            "          -9.26783979e-02,  1.89333167e-02,  1.03261424e-02,\n",
            "          -8.45513269e-02],\n",
            "         [ 1.71961430e-02, -1.13483727e-01,  1.16308173e-02,\n",
            "           7.46769691e-03, -9.40880701e-02, -6.29558507e-03,\n",
            "           5.41469716e-02, -1.25478534e-02, -8.50728676e-02,\n",
            "          -3.27121727e-02]],\n",
            "\n",
            "        [[ 2.97126658e-02, -4.60493844e-03,  4.22550216e-02,\n",
            "           2.63332017e-02, -2.28289198e-02,  4.43199975e-03,\n",
            "          -2.98923440e-02,  1.84950437e-02, -2.06454638e-02,\n",
            "           1.29507808e-02],\n",
            "         [ 1.91121865e-02,  1.62865352e-02, -7.60042891e-02,\n",
            "           1.25112189e-02, -1.45001884e-03,  2.48831343e-02,\n",
            "           2.10628863e-02,  4.97901230e-04, -1.07609285e-02,\n",
            "           5.64386090e-03],\n",
            "         [-4.92894612e-02,  5.21520264e-02, -2.48866566e-02,\n",
            "          -6.66726679e-02,  2.15209480e-02, -9.50814039e-03,\n",
            "          -5.62594719e-02, -4.63457741e-02, -1.17515676e-01,\n",
            "           8.52406248e-02]],\n",
            "\n",
            "        [[ 4.37900536e-02, -1.13806431e-03, -4.07239310e-02,\n",
            "           1.11519389e-01,  3.38527076e-02,  5.14995158e-02,\n",
            "          -7.46140257e-02,  6.87103271e-02,  9.20829829e-03,\n",
            "           3.67133953e-02],\n",
            "         [ 2.66539063e-02, -1.21428249e-02,  4.35395129e-02,\n",
            "           5.19721583e-02, -6.46764040e-02,  6.20683022e-02,\n",
            "           7.78705776e-02,  1.48552343e-01,  1.41369633e-03,\n",
            "          -5.63773811e-02],\n",
            "         [-3.16538550e-02, -2.16160342e-03, -5.62888458e-02,\n",
            "          -6.29686192e-02, -2.88121346e-02,  6.98608253e-03,\n",
            "          -6.46490380e-02,  7.74598354e-03,  5.59073761e-02,\n",
            "          -1.31145105e-01]]],\n",
            "\n",
            "\n",
            "       [[[-2.04723235e-02, -3.40081914e-03,  3.21404636e-02,\n",
            "          -1.08956229e-02, -6.70861155e-02, -3.62548195e-02,\n",
            "           1.08138703e-01,  3.27322409e-02,  4.74009626e-02,\n",
            "          -6.91323504e-02],\n",
            "         [ 4.16910741e-03,  1.48064615e-02, -6.02517789e-03,\n",
            "           1.94447804e-02, -5.42880371e-02, -6.67663515e-02,\n",
            "          -4.09779884e-02,  9.70668346e-02, -2.40035895e-02,\n",
            "           4.58613709e-02],\n",
            "         [ 9.58813354e-03, -9.45810974e-03,  6.66593537e-02,\n",
            "          -8.26710686e-02, -3.73155102e-02,  8.78999457e-02,\n",
            "          -6.25966042e-02,  2.89769620e-02, -1.25097334e-02,\n",
            "          -1.39516965e-02]],\n",
            "\n",
            "        [[-2.88948813e-03,  8.32752325e-03, -6.67666122e-02,\n",
            "           6.42886162e-02,  6.93252077e-03, -2.40321420e-02,\n",
            "          -2.74409484e-02,  1.93138961e-02,  7.54542649e-02,\n",
            "           5.59946112e-02],\n",
            "         [-2.44319011e-02,  3.42264920e-02, -3.78058478e-02,\n",
            "          -5.40394746e-02, -5.39717488e-02, -4.79440130e-02,\n",
            "           3.34143499e-03,  6.96830824e-02,  2.52407714e-04,\n",
            "          -8.93817935e-03],\n",
            "         [ 1.07893655e-02, -2.60765534e-02, -2.93263118e-03,\n",
            "          -6.17767237e-02,  3.46511379e-02,  5.19736223e-02,\n",
            "          -1.59424618e-02, -2.99402117e-03,  4.21627276e-02,\n",
            "          -5.51185124e-02]],\n",
            "\n",
            "        [[ 1.79432915e-03,  5.30405454e-02,  2.82046981e-02,\n",
            "           1.78906042e-02, -9.41736065e-03,  1.74776360e-03,\n",
            "           4.68361238e-03,  4.96846670e-03, -5.07042073e-02,\n",
            "          -9.63904988e-03],\n",
            "         [ 4.78333384e-02,  2.87315249e-03, -3.82513814e-02,\n",
            "          -7.42021725e-02,  6.50120601e-02, -5.12057953e-02,\n",
            "           1.61997154e-02,  5.63317053e-02, -1.00818661e-03,\n",
            "           2.47785449e-02],\n",
            "         [ 4.17379290e-02, -6.82756826e-02,  5.32749407e-02,\n",
            "           3.99769805e-02, -9.53932665e-03,  3.07564717e-02,\n",
            "           1.52865564e-02,  3.09427977e-02,  2.37420686e-02,\n",
            "           1.29839487e-03]],\n",
            "\n",
            "        [[ 4.65490334e-02, -7.47652873e-02, -1.33515790e-01,\n",
            "          -1.07297266e-03,  2.28139814e-02, -4.16410789e-02,\n",
            "          -6.14170097e-02, -7.17225894e-02,  2.85219532e-02,\n",
            "          -5.22500696e-03],\n",
            "         [ 5.92743047e-02, -1.09923761e-02,  1.94602031e-02,\n",
            "          -5.99515215e-02,  7.74226040e-02,  2.17636060e-02,\n",
            "           3.71623342e-03, -3.78399603e-02, -2.51493193e-02,\n",
            "          -2.60206498e-02],\n",
            "         [-6.92410618e-02, -6.61341920e-02, -1.15526929e-01,\n",
            "           1.69523414e-02, -4.37627286e-02, -4.83676754e-02,\n",
            "           5.20789102e-02,  9.99467522e-02,  3.47928032e-02,\n",
            "          -3.47273014e-02]],\n",
            "\n",
            "        [[-2.15880033e-02, -3.45613919e-02, -5.11592403e-02,\n",
            "           3.94485071e-02, -4.28195111e-03, -5.74117601e-02,\n",
            "          -5.81184514e-02, -8.65153444e-04,  4.61791120e-02,\n",
            "           6.29245117e-03],\n",
            "         [ 1.09954504e-02, -1.88793223e-02,  3.18517722e-02,\n",
            "           2.42316108e-02,  2.77480315e-02,  2.36035213e-02,\n",
            "          -3.22894976e-02,  7.37172291e-02, -2.26912107e-02,\n",
            "          -2.22035013e-02],\n",
            "         [-1.64968185e-02, -5.39210811e-02,  1.85356068e-03,\n",
            "           7.07735494e-02, -2.72647347e-02,  1.22507684e-01,\n",
            "          -7.26597104e-03, -1.03629246e-01,  3.27588134e-02,\n",
            "          -4.92344936e-03]]],\n",
            "\n",
            "\n",
            "       [[[-9.90621820e-02, -8.72060284e-03, -1.81301851e-02,\n",
            "          -2.02391502e-02, -4.55693677e-02,  3.91398929e-02,\n",
            "          -9.55696404e-02,  1.58394910e-02, -5.84056452e-02,\n",
            "           1.96585208e-02],\n",
            "         [ 3.08753946e-03,  2.82271989e-02, -4.04103957e-02,\n",
            "          -2.25354098e-02,  4.58206609e-02, -9.47383121e-02,\n",
            "           8.00670832e-02,  7.05255801e-03,  3.56249474e-02,\n",
            "          -3.23311202e-02],\n",
            "         [ 2.85820216e-02,  4.88316379e-02, -1.99892484e-02,\n",
            "          -4.93911840e-02,  1.31136421e-02,  1.11195020e-01,\n",
            "          -3.51168178e-02, -1.72413643e-02, -4.02416335e-03,\n",
            "           3.19134258e-02]],\n",
            "\n",
            "        [[-9.89616103e-03,  3.63421962e-02, -3.36435321e-03,\n",
            "          -8.56412873e-02, -3.56241278e-02, -4.32076566e-02,\n",
            "          -4.33808900e-02,  7.20669180e-02,  1.21760881e-02,\n",
            "           3.86297815e-02],\n",
            "         [ 1.74117729e-03, -5.92258275e-02, -8.78860056e-02,\n",
            "           3.37156877e-02, -4.61323969e-02,  3.66892628e-02,\n",
            "           7.03326687e-02,  1.07788935e-01,  4.95295301e-02,\n",
            "           1.92759763e-02],\n",
            "         [-3.22656892e-02,  2.19551343e-02,  7.44724348e-02,\n",
            "          -1.80453718e-01,  4.33425568e-02, -2.72665117e-02,\n",
            "           4.50827442e-02, -1.22158742e-02,  9.10125971e-02,\n",
            "           1.32858440e-01]],\n",
            "\n",
            "        [[-4.34707366e-02,  1.34320725e-02, -2.73153875e-02,\n",
            "          -5.16726039e-02,  1.45681696e-02, -5.56027703e-03,\n",
            "           1.07459918e-01,  4.48358022e-02,  2.40263883e-02,\n",
            "           2.12364811e-02],\n",
            "         [ 1.94169451e-02,  5.77754974e-02,  3.14764939e-02,\n",
            "          -1.69053704e-01, -2.55880635e-02, -3.79562913e-03,\n",
            "           5.12658246e-02,  7.94447213e-03, -1.23691596e-01,\n",
            "          -4.92104366e-02],\n",
            "         [ 6.91123009e-02, -2.12528314e-02,  4.35133539e-02,\n",
            "           2.38357279e-02, -2.90859528e-02, -1.05245609e-03,\n",
            "           4.39767875e-02, -5.42212091e-02,  5.78395091e-02,\n",
            "          -6.08563535e-02]],\n",
            "\n",
            "        [[ 1.41431959e-02,  5.97305000e-02,  9.89571139e-02,\n",
            "          -4.65122163e-02, -2.15588789e-02,  4.11990061e-02,\n",
            "           2.01837085e-02, -1.75104216e-02,  4.12022285e-02,\n",
            "           3.40077579e-02],\n",
            "         [ 4.50567491e-02, -8.55974108e-03,  2.85420865e-02,\n",
            "           7.08471239e-02, -7.59070832e-03, -1.43631371e-02,\n",
            "          -4.21550423e-02, -4.52266410e-02,  1.15422368e-01,\n",
            "           2.43249256e-02],\n",
            "         [ 2.23157811e-03, -6.38207942e-02,  3.58224176e-02,\n",
            "           1.60076674e-02,  3.32774743e-02,  2.55242791e-02,\n",
            "          -4.93671931e-02, -5.57562709e-03, -6.19542971e-02,\n",
            "          -5.09343222e-02]],\n",
            "\n",
            "        [[ 9.50091556e-02,  6.05126796e-03,  5.81792407e-02,\n",
            "          -6.89895973e-02,  1.19240403e-01, -6.57833740e-02,\n",
            "           7.84014538e-03,  3.44084986e-02, -4.99689355e-02,\n",
            "           2.45626476e-02],\n",
            "         [-5.21667674e-02,  5.29701076e-02,  1.16627239e-01,\n",
            "          -4.45487984e-02,  8.11722409e-03, -6.29206523e-02,\n",
            "           2.28414107e-02,  6.55353954e-03, -2.06665918e-02,\n",
            "          -1.47149554e-02],\n",
            "         [ 8.72879252e-02, -7.19164600e-05, -5.02057374e-02,\n",
            "          -2.59211995e-02,  2.33081309e-03, -6.58129156e-03,\n",
            "          -1.74572524e-02,  4.82416749e-02, -2.54101101e-02,\n",
            "          -1.01254862e-02]]]], dtype=float32)>, <tf.Variable 'conv_maxpool_block/bias:0' shape=(1, 10) dtype=float32, numpy=\n",
            "array([[ 0.00291379,  0.0302137 ,  0.05437312, -0.05081467, -0.04181771,\n",
            "        -0.01909734, -0.02625808,  0.0535592 ,  0.00226455, -0.00861203]],\n",
            "      dtype=float32)>]\n",
            "(None, 150, 150, 10)\n"
          ]
        }
      ]
    },
    {
      "cell_type": "markdown",
      "metadata": {
        "id": "WM-vXBP1i9eq"
      },
      "source": [
        "# Bài tập "
      ]
    },
    {
      "cell_type": "code",
      "metadata": {
        "colab": {
          "base_uri": "https://localhost:8080/",
          "height": 425
        },
        "id": "IKZ7KxtPS-0Y",
        "outputId": "4b9c97c1-7b9d-40e9-cd08-227ff202c8da"
      },
      "source": [
        "# Tải dataset MNIST từ tensorflow\n",
        "## MNIST là bài toán dự đoán một ảnh thể hiện ký tự số nào trong các số từ 1 đến 10\n",
        "\n",
        "## tải MNIST dataset từ keras\n",
        "(X_train, y_train), (X_test, y_test) = tf.keras.datasets.mnist.load_data()\n",
        "##resacle ảnh thành ảnh thực trong đoạn [0,1]\n",
        "X_train, X_test = X_train/255.0, X_test/255.0\n",
        "\n",
        "\n",
        "##in dataset\n",
        "print(X_train.shape, y_train.shape, X_test.shape, y_test.shape)\n",
        "print(\"Có 60000 ảnh dùng để train và valid, 10000 ảnh dùng để test\")\n",
        "print(\"Mỗi ảnh có một kênh màu, kích thước 28x28\")\n",
        "print()\n",
        "\n",
        "## in thử ảnh một ảnh\n",
        "index = 5\n",
        "print(\"Ảnh đầu tiên của tập train\")\n",
        "print(\"Label đầu tiên của tập train: \", y_train[index])\n",
        "plt.imshow(X_train[index], cmap='gray')\n",
        "plt.show()\n",
        "\n",
        "#Tách một phần tập train thành tập valid\n",
        "from sklearn.model_selection import train_test_split\n",
        "X_train, X_valid, y_train, y_valid = train_test_split(X_train, y_train, test_size=0.1)"
      ],
      "execution_count": 7,
      "outputs": [
        {
          "output_type": "stream",
          "name": "stdout",
          "text": [
            "Downloading data from https://storage.googleapis.com/tensorflow/tf-keras-datasets/mnist.npz\n",
            "11493376/11490434 [==============================] - 0s 0us/step\n",
            "11501568/11490434 [==============================] - 0s 0us/step\n",
            "(60000, 28, 28) (60000,) (10000, 28, 28) (10000,)\n",
            "Có 60000 ảnh dùng để train và valid, 10000 ảnh dùng để test\n",
            "Mỗi ảnh có một kênh màu, kích thước 28x28\n",
            "\n",
            "Ảnh đầu tiên của tập train\n",
            "Label đầu tiên của tập train:  2\n"
          ]
        },
        {
          "output_type": "display_data",
          "data": {
            "image/png": "[encoded data removed]",
            "text/plain": [
              "<Figure size 432x288 with 1 Axes>"
            ]
          },
          "metadata": {
            "needs_background": "light"
          }
        }
      ]
    },
    {
      "cell_type": "markdown",
      "metadata": {
        "id": "BXBwaFopiahG"
      },
      "source": [
        "1. Hãy tạo ra một block DoubleConvMaxpool gồm 2 lớp ConvMaxpool có số filters lần lượt là 16, 32, và một block DoubleFC có số hidden nodes lần lượt là 100, 50."
      ]
    },
    {
      "cell_type": "code",
      "metadata": {
        "id": "s9nyWtFcX0lW"
      },
      "source": [
        "class DoubleLinear(tf.keras.layers.Layer):\n",
        "    def __init__(self):\n",
        "        super().__init__()\n",
        "        self.double_linear = Sequential()\n",
        "        self.double_linear.add(Linear(100))\n",
        "        self.double_linear.add(Linear(50))\n",
        "    def call(self, inputs):\n",
        "        return self.double_linear(inputs)\n"
      ],
      "execution_count": 8,
      "outputs": []
    },
    {
      "cell_type": "code",
      "metadata": {
        "id": "-zLd59BlXAIP"
      },
      "source": [
        "class DoubleConvMaxpoolBlock(tf.keras.layers.Layer):\n",
        "    def __init__(self):\n",
        "        super().__init__()\n",
        "        self.double_conv_maxpool = Sequential()\n",
        "        self.double_conv_maxpool.add(ConvMaxpoolBlock(filter_size= [5,5],n_filters = 16))\n",
        "        self.double_conv_maxpool.add(ConvMaxpoolBlock(filter_size= [3,3],n_filters = 32))\n",
        "    def call(self, input_shape):\n",
        "        return self.double_conv_maxpool(input_shape)\n",
        "        "
      ],
      "execution_count": 9,
      "outputs": []
    },
    {
      "cell_type": "markdown",
      "metadata": {
        "id": "gPZTgPmRg6PM"
      },
      "source": [
        "\n",
        "\n",
        "2. Tạo ra model, train, và test trên tập mnist như hình bên dưới:\n",
        "![image.png](data:image/png;base64,iVBORw0KGgoAAAANSUhEUgAAAtAAAAGeCAYAAAC97TYdAAAgAElEQVR4Ae2dX47jutG3v614N5ObIMC5S4AgXsG5ebfQ6LU0ZimDXscAswl9EMkii8WiRNmyLdtPgBPrD1ksPlUkf6LVnv838T8IQAACEIAABCAAAQhAYJjA/xsuSUEIQAACEIAABCAAAQhAYEJAkwQQgAAEIAABCEAAAhDYQAABvQEWRSEAAQhAAAIQgAAEIICAJgcgAAEIQAACEIAABCCwgQACegMsikIAAhCAAAQgAAEIQAABTQ5AAAIQgAAEIAABCEBgAwEE9AZYFIUABCAAAQhAAAIQgAACmhyAAAQgAAEIQAACEIDABgII6A2wKAoBCEAAAhCAAAQgAAEENDkAAQhAAAIQgAAEIACBDQQQ0BtgURQCEIAABCAAAQhAAAIIaHIAAhCAAAQgAAEIQAACGwggoDfAoigEIAABCEAAAhCAAAQQ0OQABCAAAQhAAAIQgAAENhBAQG+ARVEIQAACEIAABCAAAQggoMkBCEAAAhCAAAQgAAEIbCCAgN4Ai6IQgAAEIAABCEAAAhDYRUB/f56m02ntvx/Tj9Uyp+n0v78GbJ2mf47Y+vf/Tf8ZKfevNd/n+39N/x2x9Y8fQ/7//fdImzDTeQUzlTPkmRpnjE09Tk5D8xlzi2bG3MLcovOhHL/J3HL+mv6ghzcT2EVAb26VChCAAAQgAAEIQAACEHhSAgjoJw0cbkMAAhCAAAQgAAEIPIYAAvox3GkVAhCAAAQgAAEIQOBJCSCgnzRwuA0BCEAAAhCAAAQg8BgCCOiruf+Zvs6n6fzzeV7BD3/0+fl9dc8xAAEIHJTA76/pfDpNH78O6h9uQQACEHhyAgjoKwMYf4HkY/Lk6J+f5+l08u9d2ex11dPi+kyi/7oOUxsCNYFHjM27tomArgPOGQQgAIGdCewqoJfE5M5+H8JcXBDP09dv3527Lpi+C/2rvz7Cz4CxQ9VHxJ1jEbA/l3nNA+AjxuaubabxW35uyzyoI6CPlbx4s04g5WzJ6fTTei/6bWn9TfD39HHqa4l1eJR4BAEE9MXU54RffnVj1wXzYj/7Fd/tgadPgjvHJhDH2kn/Vqksthcuro8Ym3u1Ge3Y1zO+pw+HDw/Ix85svFMEvIc+GedH/CZXuX7J4bz+5k2A0E8E9CUcH1nnMQJ6cfckvlPsvvqQBlNOukBOyssPwbdJWBYuU1YvOBujUGzaimmx7/6jK7JT5IgCMWV2h/OTap5MYl/dxdGyXRIYLk9xgk8IHINAd6yZceKX0w+6o2Nzmia1oMUHzTS/mDkj3DPXYl0RuBvaHMKd7C2N69lOGtvzHLHkf2jSzhmNWIltzrYiY5lrZS7Tjps5ll01DYfjJQIqZ6tiKT+rdT+VLbvV16z7NmeVsJ0dyXOBjOXYVh5XdvxXzvdOYpt5DQ999MZTrz7Xj0Dg/gJ6TsZq8pfkVcljFkYBFSdvPVDaxaQtU0/6ZRC2daWd9c/kc9WPtpa/oJdynq/z3TgwC488UNVi5NVtr631MfXjogmg9IMjCNyOwFIO1/f88RbLlHEfPfXLql7oBTqP87q9uXQYm3b8pLp5cUxmV9tUzfcPkw+2TVthwf+Kxch8PKU2502B3K43d7R82jnJOso5BBKBzriRh8GSt+bbFhmHan2cLcbciw97Vd05j/OYnsew1hTTNFnBHvw6T+fzXC7m/XwcbISypv5iQNO46W6w6TG2aIibByBwfwHtdboRzO1EPE0p8VTi+wtSr5zsCBUH3MWv3O4f9Qa6qeH7pwolO2Vwz/di3/W1KKDtILXl7HlqZ2WAr/qo3OUQAncnsDjW6rHu57I/LvyyqnepXb3QzndtPXcO6fhs66rWNh1GO1YYGBMd/11/TVUREOUBIDIs4jlVMHOL3786RrYpziGQCXTGTZuPuUY5SHX1uinjpORxLL4+BlLOysNiNZbSPfmWptEuxaXlo3lMlTU9+CrtLVfk7oEIHENAOwMnisayCytPoWUw9CdmO0DiQCrJejV/s3D07PkLii5tBup8y7Ft+xMtmP479UI5h632wGuvus8JBB5JYDF/6/Hjj7frBHSZbxIEM87csdnx2ffvUrhJ1MpOll18Oz64/loXmro+w3pONvORsjnUpirP4ZsSaPJOXp+od4x9Om2OXrPuVzlb+VXPOUPi3nM42CyaJLSnNge9Klw7HoGHCOiQLDLxq89qsaqSNu38VIuEWUCUnfBelCp7zUByQ2YWUbeMs1vlljO2vIFUDeZspF6wYh/l3cT2s2KbbfiCXd/mGAIPJWDmgdoXbwyoh+5QuF1Y58urYrbXrjde1VwTmuzUXW2z7tzwWRn7ZUGuxW0x5c0l6/Oxz7BuY3w+Lt5wBAFFII2b8l5zXMe8tavkfL3WtTvQakyopqrDTrv5G5dqPO8poMtc5a37lY+cHJLA3QV0nKxNUlcJKpz04hiP9eDwXumQmvYzDjbTpi205dwsor2qYwumXpzisZ0wvEWv6f+gT42vl9ZrDHEBArcgoMeHtV/f88dbXUYs+GXlbtn5smPRfmPjjk13PhsQ7ar5zYciAmQXq+OD9XdsPvYZ1gJaz9ebvacCBKo/fF3CEceufSWzzdFYbmXdt+MmNVyNk2osXSmgw3pbi/6RB4YlHtx7HIE7C+iY5Pa9wnoiVjBCsn1M3yGB24FQJbmqZg+HBpKttHReDaiFgoPiNPg372JJf41Jt5/WB3tubPROI5vyJNwrx3UIPIpAFHlOjprx5eZyKGP+qn7uiKnb9K0znuxYtOezneiHXeAH2myc2HAh+Zvn1iH/R+fjVpyUfpa4eCw29ICi706gk7M1FiNg8802R+M4bHVDrpLHalumyuXKL9N+ml+aB23diHMcfMvfXEXft9pwzHLpzgTuLKBT8skL+HNnUwLOT2FtAqUJfn49Q3ZWNCC7aOh76nhkIKniA4epH55Puvagf/IAMTOod9mjsWowh0tmEKc2Qzn1hwnaFf/Yt+OX5SoEHkTAG0fpWjVe7GKm5paq3NwNz6buXrpfzUnWvrMAi3h257O1NnX7vePZhjPvNGPf819+rSAv3KPzcStOhF/FdY/+9frN9dcn0MlZ2/Fertv1c2jdT2O65LGMCfVrGJVfZs105gTrr3cefMvjeB5frYj36nHtWARuIKC9ryfKLoX8ysSc7OG/eTKvErQGFAeLJ66lnBLZYtOI8aGBJOYGP6NN3a9ORbWIxz57dWTQ+oNIGGRmvQeKvKCbGOQF0/i4wN2U5BQCDybQjvNK3Cbv4riU/J/HWhxbZYFU3Vgam2lsVGOus8hV4zOMteir55/eMOjPB8pH77DxWy32Ur4ztoOv1XxguLrzsSmT5lm3f/on7zrzsbjIJwQqAp2crcqEE1kv9TiPOarH+ei6X88ZUWtU46Tyax8BHeyLgA72/bW/7TtXjkRgVwF9i47FxckTnbdobYvNtKjIINhStSlrBqW5Xw1mc++a01vZvcYn6kLgEASqRfMQHj3QiVacPNAZmoYABCBwCAIHF9DHnrjlydXfidkQ35XF+iZC98Kvnjb0iqIQeF4CK2PyeTt2iefHnocv6RF1IAABCFxL4MACenlX9tqO71U/7pBf8/XL+k727gI6iQP9dddePLADgZcggIBWYURAKxgcQgACEAgEDiigk6Cc35+r3tU7asSi0N8sRtMCHd6DXHkNZG8BHeyttHlU2vgFgbsQQEArzAhoBYNDCEAAAoHAAQU0kYEABCAAAQhAAAIQgMBxCSCgjxsbPIMABCAAAQhAAAIQOCABBPQBg4JLEIAABCAAAQhAAALHJYCAPm5s8AwCEIAABCAAAQhA4IAEENAHDAouQQACEIAABCAAAQgclwAC+rixwTMIQAACEIAABCAAgQMSQEAfMCi4BAEIQAACEIAABCBwXAII6OPGBs8gAAEIQAACEIAABA5IAAF9wKDgEgQgAAEIQAACEIDAcQkgoI8bGzyDAAQgAAEIQAACEDgggd0E9J+f5yn8s9TzP8Hd/Heevn7PvVf/THdT5jSd5J+X/vXh2Ch2P37NtuI/od22lcrlfwZ8rM0x/wfbHPJ/msbaHPN/Gmpz0P/BOI35P9jmkP8wC/kuuQ2z6XSSuYU8C7mR5tCxscncMjOL6wlzC3NL0RiBxdvNLQdUqAd3aTcBffB+4h4EIAABCEAAAhCAAAR2IYCA3gUjRiAAAQhAAAIQgAAE3oXAbgKarwxP04mv1tWrN3y1Hr8GTF8LbvpqndcRAjuYlfEkc8uur1fxCsecZ7zCoV5dkDzj9bA3fD3sXWTvfv3cTUDv5xKWIAABCEAAAhCAAAQgcFwCCOjjxgbPIAABCEAAAhCAAAQOSAABfcCg4BIEIAABCEAAAhCAwHEJIKCPGxs8gwAEIAABCEAAAhA4IAEE9AGDgksQgAAEIAABCEAAAsclgIA+bmzwDAIQgAAEIAABCEDggAQQ0AcMCi5BAAIQgAAEIAABCByXAAL6uLHBMwhAAAIQgAAEIACBAxJAQB8wKLgEAQhAAAIQgAAEIHBcAgjo48YGzyAAAQhAAAIQgAAEDkgAAX3AoOASBCAAAQhAAAIQgMBxCdxAQP+Zvs6n6XQ6TR+/jtvx5/bse/qA7wFDGHP//PPPAX17fpe+P+O8Ms8t4b/P75VOEY8VQC9xO+TFai7EOTPnDvPnS8SeTkDgkQTeR0D//prOLzFppgeU89f0XDItLmAvLy5/ffDweKMZLQilDXkfBffHtCazb+QuZu9FIM3tw3PLy6wF9wJMOxCAgEfgBgLaa+YA1/aeNJO90+k8ff32+2d3zPbYke+LgnaHJe+2bBAdfk/2uLouoP/8PE9LPPfw4h42XqUf92C1pY0tAroXg3j9NJ3smNh7ftjSsVuVzXOU7Nx35qr00JfniztsNNi58eTuIJdvM7NvNm7CbsuD6yvGWji8wGceo8PfNL1Ap+nCUxJAQG8OW9kB/u4KvlIm7xKnSXt4l8Tza3TiD4tJZ7H07N7l2vsI6Gly4n8Xxq/dyLiA7ueaCOvz2bxiNjq2ngVx6E89B0TRWl8THnoTQATMHg/8Hq7ghxbMiX0totOGgC43pWsdER37N/CNw6vF2oP8pNeaHHVz40k7h9svR2BHAW13C+qJWsjlyVMGRnrKrCfrOFHO12QyjzsQ9eQY79XXpjTJilCNA1J2YNrPul3xsv852xPb3uIz1/T9mqboi/W335a9E+p3Fo+q7IKADr4FG2kxSvylT2IntDUvXktx6ixE2s/IouUuO0q63R5P8al82lwrMZnLSJttbDvC1u7AVYv2NE2KZ4yh9Gchlslm60PpBUfbCOi8WqoZ4+/HJufYz4+pEmxLuSw7Yac6z2YfhsaJOLuWZ1LuVp+pj2XMpfFg893MobdyR9uN40rFTI05XW4ptjJXlf7pmuq4E2tVgsNHEOjFpZMLj3CRNiGgCewooJXZhYQvAqRMlnlRy69CKHGXBWMrfvzJNNZtJtHe4FRubz1s/Y4Wugv9Apf1tjv98ioutBN9ngWgesAJ5esduRKnUq7pb4ep3/91/xv7Xt+CaCk+hSLJ/xLzlD9WGCR/SzkR29qeUzfZD6I/22zzsXbXsVMX4GwjAT+vrJGeKIzlSo7N8VFxb3I5xS/PP1N5mMw5IA/F83hams8G88x2Ze/zJv87Odyw2NuR1l6cbwrD+NBaz0lzreUc6PTHNveA/lkXOG8JxLGpciAUSTF1Hl5bC1yBwH0JPEhAq4Vr7m8zoTmL11zOCEN/wMW6WiQFpE0b14Mui3Fty/dL/G8Xhbp258z0vVMqXl4oG32zPrTM4oJm4mR3pjpM/UWubcP2ocfTlmvP24WzWZDzzrSeoDs+WX7hvN197MY5OehzaL3nyhiBIZ6dnJQWdI7Nx3meMPV6sdX1Z5sxz8w4Mbbst2Lii53P8vVbHaQ8rr4VSb7mBwA5Vw8Jt3Kn2G3H73wvsi3jzmVdjISjXtyqYk18qrucPIhAO75lfv6Ov+x115x8EASafSoCjxHQeldnxtVMaDJw8hvEEaop50+WY3X3iJJdTLNNdxGKfs27mNUClistH/h97dSxAlAV8+20zNrJbDaSFjqZyEw8pBm/btuGlJfPLk8psPDZtNmIBeP7bKvHyfarsbXgiLrls1YFONxEoImxV7sX01S2zrE5J9MDVRVzX9AFE1W5zo6oKTOcZ15/drsm849+gBTjqb+d17mk1K0+Y0yKUK7aSWPPe4WvKicnK/EPxWx8pC6fDyVQje8qjs7c/VBPaRwCkQAC+opMqBdjYyhN0vKub9jhqSYFU37ldJMYW2jHt9OK22oyy76ZiayzEPl12zay2XSwyFMXbtimd5KrBzPP13qnMLYn7zO3n/lBJ/Dc/uDjs9Yd4XgLAT+vjIWF3J9L2hybbYZd6CqXTe7oJlI52bl2fapsSZttfsnckPNMt7PrsYjnOv9DEzKWZOykXM870rv60RrLY1AeylWRwDZvOKSYrH2VvxJ/3efbc1ed4XCVgIyl+Mf5+kFvYTyuWqUABG5HAAF9BVu7GK+ZukZQbaq7sIj4dlpxK5NZ/R2AmciMUJD++3XbNqS8fA7xlAXfLLhem7qv4VhEgjS4wEmKhM8kKrYuuLr9yh4nFxHwYtwYWolpk2NzPs15UeWyyXPdSFXuyh1obfdmx0V4tvmbhLUdF50xtruLaVw1PymYH3Tah9aQA/rddevUSvxDcRNDa4LzxxCIY9P5iUn76uBj3KNVCDQEnkpAW0Fiz0Pv0qQsO0Slx+sCrpQdO2oW48VqcSFr/VqsVG6OLAxSeqGsy8yZoFyxYhceex7a7yzK9vUP8VV9jvDslXH9Tf36+NVh7/qvHJLDlFOtAJEC/qfvk1+Wq+sEhniuxLTNnzk3ztPXr/ofWvLHiewml90x1yfrgz1f62oqf/0u8JJ4Lq/OVb9GEnzrjeH2veS1rnTvpzHliee5TuDqCOUYl1ZYSzu9uMn98Lk1HlVlTm5GoBeXhfXsZr5gGAIDBJ5HQKfBVQlQK2xkUna/5pPFpCx+A3wWi7SLcae4LIhm17RTunN5wwPAwoTjLzCt7VYYJH7VblVaaHO/0vn8LmVVLnaptyhKh4d4phiXPJC4LrU5f33ux33Np+CbzTNxePHTslkszM0BAm1OepVSPuScrMu4OTbH93w2/1KpEz9nDnJ9coTAUJ6Jqynf5lc8Sp7LzdHPMi76D35Spn61IzLy2pby/fE05J30z5kjcn0pU8VR5hd/LOe/0ViyOzfgxCe3y8FDCcRxouLrjLmHOkjjEFAE9hPQKdHlvb7qU01oYwuOTJT1e4PeQiCTfWxvHnhxkvcXntauZ1PxaQ7r9mr/imi07dQLVGN08ILLLte1bSrfFP/ov5qgQv1YVzOLE5myMYviajFLDZu4zzxDG6rN7KLsQnd+V7fPtuZny81tdtm4C3HxaD6y9kIuaf+TjU25EurUftetcraVQDfGxlCMp83xWCjes3EpY6eOcbku81l9v5N3HYG2mme5H0Wo6jGZb48cSN6rsSZ9qH7C0hmTcznbz9xktuvzzeW6B6VvxR81z+g5Jrel7utxadvocLfFENANkUNdsGvPxWPgUL3CmVcksJ+A3pVOK+h2Nf+sxtICcY8JZVSsHB5lWoS7guAmHUgiQYuBm7TzXkbHczIJ3yfmL2L7vnk7kk+J7ZKQHTFzgzLD+TEqtG/gIyYhAIHXIYCAfrJYxqdzu4O2fyeGF6P9m97V4iP64e9y7tqttzS2JZbHFaADoUsCz/3GZ6D6LYvca/7Z3IctD8oI6M14qQABCLQEENAtk4Nfka9AL/0Kdax7W8TKmMX7l3qIkN2ykN8fyVO3uDUnDyv2ulGQse29f9ytdJ8b+XWK2847F3Vm6zdzCOiLMFMJAhCoCSCg8198q/fsVt8brCHe/yx+jXrLr3e3ipX7M+i3GIXTHM/b79TXXkQBdI9XbOp23+OsxDWN1dVXNIjHO2RGyIvVXEivnqi5/Zbz5ztwp48QeHcCBxXQ7x4W+g8BCEAAAhCAAAQgcFQCCOijRga/IAABCEAAAhCAAAQOSQABfciw4BQEIAABCEAAAhCAwFEJIKCPGhn8ggAEIAABCEAAAhA4JAEE9CHDglMQgAAEIAABCEAAAkclgIA+amTwCwIQgAAEIAABCEDgkAQQ0IcMC05BAAIQgAAEIAABCByVAAL6qJHBLwhAAAIQgAAEIACBQxJAQB8yLDgFAQhAAAIQgAAEIHBUAgjoo0YGvyAAAQhAAAIQgAAEDkkAAX3IsOAUBCAAAQhAAAIQgMBRCSCgjxoZ/IIABCAAAQhAAAIQOCQBBPQhw4JTEIAABCAAAQhAAAJHJYCAPmpk8AsCEIAABCAAAQhA4JAEENCHDAtOQQACEIAABCAAAQgclQAC+qiRwS8IQAACEIAABCAAgUMSQEAfMiw4BQEIQAACEIAABCBwVAII6KNGBr8gAAEIQAACEIAABA5JAAF9yLDgFAQgAAEIQAACEIDAUQkgoI8aGfyCAAQgAAEIQAACEDgkgV0E9PfnaTqd1v77Mf1YLXOaTv/7a8DWafrniK1//9/0n5Fy/1rzfb7/1/TfEVv/+DHk/99/j7QJM51XMFM5Q56pccbY1OPkNDSfMbdoZswtzC06H8rxm8wt56/pzyEl6rGd2kVAH7uLeAcBCEAAAhCAAAQgAIH9CCCg92OJJQhAAAIQgAAEIACBNyCAgH6DINNFCEAAAhCAAAQgAIH9CCCg92OJJQhAAAIQgAAEIACBNyDw1AL6z8/zdDp9TN9vEKiLuvjr4xB8Dh2n31/T+XSevn5fRJhKDyIQcoo/fHkQ/Rdu9iBz5gsTpmsQeBkCCOiXCaXpSBCGp+n88/F/W3toAT1NU/wVGR7ETAYd9zSInNP08eu4LuLZsxL4M32dT9OJh7NnDSB+Q+BuBBDQd0PtNfQ9fTQ/jbfHbmiy+9nuzUcxq36yKLS/R5te/+K1owvoaWLR7EfvYHe6D4ZlLFlhHR6QXkwQNT8d6oz1nNd6jrkxh2Z+6bWXHoLKz4Xd54Eoc3N5Sa73508pweftCDQ5tBir2/mBZQisEUBArxG68/04wV8naJcEa3sviccbvsbQtnlnqCPNdYXZSGXK3ItAXwwn0XM+T2cj2vp17uX1vu2E/mhRkXL3pK9NnggURrf5zdcwziv2fntxPqjnuHjthiI6f2vhcXHik8s797h0MwLN+ufm9s2axzAENhHYUUDHiSm8MmB2F+yO0CSTe94Z8b8+l0k171JUC8Q0xftz3TQpJnvuawvGp+bd6TBQ46QeB3Hapa0WBGErolN2cuvFQEpd9JkmjJbZqDUVB6dKYaZuJjYtt5prwyyZqHid2tdGSpu1vbY9eZ1CuJ6mWhRM07QpTnV7Pf+FROyHn4tShs8HElgcGynWn1/T17kejyGuZhyvzS23zLNbEGxyN4zpmsPcbhmLt/CitRnb036kudPM5bImeHNCa3XjlZA3Mq4lT9pv52qrfCtV87jDWW98d3L5Dh7RBAQWCewuoKPYlclKJmw1gaZBoifKZvLPE72ql65pYakXwXzdG2xzm9WELQK4+BkXzCTccllvsm2vtYvEIvPlm71JZLlWuev1v9z1F9BQx+z+DMbJi933Zxs3eQhaitPMMd+ffU4+VCJars0PS0txGvRfoZkmj0NVgJNHEojjTI3ZypkyLkO5nBvpoSwLaGfsywN4LqNyr3ogLG3kpi/Js1x5v4NmHHZyOZTT/dzPBddSOzd2hGniWI1/1+K1F50Ydky2vncKcnkXAv74lvHabszs0ihGIHAFgf0FtJ2czcToT+BxUmtEtbVlOhoHnBF+aTHUtky1eGoXmORnEWWxmB3U9jyVin94ohZtt83Vi53FZbVeKeDzLfdb/9OCYn7NxLdj45T8Xen3NXEKfmjfBuM05n/hEo9s/+x9zh9HYC3XUh6HXJyPi9CuciGM+/oBL/RpcD6obMkfoDbz1L3zyJ834tgpwiOeO32/YVBjmyUWoSkZwxIjOV+ZR/ZxU+fJisXk1+1F/Yofb3Lbjq3yrcT3Tuvrm4Ckm3cjsL+AXpwEewtLuziK6Fr6a+hWDM7cem0YpnZytOdSvFpwWz+lWDv45c7aZ7K58jrLmpV4v++f1M9cc3t6J1dK9Ri29uMC6dkQW/IthFlEB+PUxHgoTuP+Fy/no7Z/9X3OHkegF1PxKN6XB+A5b+QhWo/NmK82F2cbxn4nz7Stpo64cuc8kjEt/c1uzAfpwcB+M1iVudWJtO2uCfW85/p+E7/qPFluwuTEcmHuXkmgGluD6+6VTVIdAlcRuK+ATouSfJ3ffNqJViZgEXvmfiOuAgp/0osLp3q3NtnMuwudBTMuQLJrkyZf8cd+NjtRF8Qm9fmyBWVdANbMZBGT/iV/N8ZJFnCJp/W9blOYeHHq8VWCZyROG/0XjxDQhcTxjrx80V6m3JE5IuRAzBu9MOtjXVvEsAhweX0ozw+pcFX/4jyrW77mLI896bcyJnNe7IOM9bIjrYrufyhztzcnCje5J2VlR3p/b5RFkyfqTnu4lnNtDa5cTkDG1nfz7zusr2uXt0pNCFxO4L4C2u7ybPBbFoO8wOX3pJW4CvbaSS/W9UViXiDTpJ7PxbcwuUvd+wxkmUi2/4Lzun+NmJXFrFqAW4aCY/nTX6SbNt04pYVNFtXUUFN3KE5X+l+xWO4xd+9FYC2mKX9U7OZxNI9nPZ70ce25sd/Js7q+qVMbvP2ZCE8zZuaGRVjb+Sz4f8Nf3AmdljnFFcQpTtZnqaPidxuAbZ7023lwfPuOveQdydn2W2fi8JIBf4FO3VlArwu8Jab14iWLxJqA7kyYdoG058kR26Y9X/L30nvXtLFWtxGk8h5ntaheE6e2rtem7Pjl3eokBuyC39QdilPrw1gsmKjHOD2i1KPAiNgAACAASURBVFpMnXE+59TndyWg62+UVD+qB+XyR4Q2H+vxteaTsp8OQ/3qDxPbMkNXFsTzXD+2Iw/+xaKIFNuv/KqHFbal6tiRCGFXPBeueiMkGk7xa9pPjE/2b13G3GlLOXnSFopXOnNNrzjXryTQ423H5pXNUB0CexG4s4Au7+Rl4eT2ZJ40fWGsJ95GXAVbVgTJBKzsyeKjJ2Vv8KZy1WIjC8SNdkq6C5zLybm4Mtm4zLw+pb4vx+l7+rALXrKl67lt2m8jHB9EbFQ/P5fKVTHx4jTkv+Hn2TFFOH0cAT+PxB9PGM1jf/5daP0vy6X5oMpbp66XZyJMdd1NeSZz0fwqmZqPpAujn6nNdqdOGZAy1TyV+um0LfPO/BpWNbaUydVDGcOO/VJXGNTiXtrX80asIz7rGBZr24+cWHeMRJ9qPztFubwTgTjnq7GRcqrNi50axAwEriBwfwE9O5snWv1Osp2o1MSZ3jW2g8hfUGO9uqyxNS+AdoEc8klIG3v2fWoptvbptakX57X67n2v/6Wgz6yzY+X5V+1U+7G0C7DfpuOnLPoq3k3dEZ+ku1vKeuJI7PB5DAIpnja/onNpTFaCUb6lsuJLRFyZf+r5ouS1bSss8HaMbsmznONKJGyi2/ouf3sQPnX/c1uln33RXeY02+dR98oDr2pP/k6kYub3oddunANsDEe9msuVvlWsFuft5KPmuaVJyl5MwOZRMzYvtkxFCOxLYEcBva9jd7e2uDjf3ZurGowLjn0gucrkcSrfKk63snscci/hSbND9XS9SmKuEpTH6ERke8B5Qx5Q7ilmw8PHAVkcI1XwAgIQmKYJAS1p8FIC6riLtOC++PMmcUq7TQcUNRdzetWKjxBTO7I8rEhNu9XH2+2T3epLd+wvCV6aP+8p2C9xkzoQgMBDCSCgBf9NhJkYf8DnkwuNLrEbxOn5dzW7tF7zxmHF3gLu/DrFPYXggj/5Vnm9ofcKRS5654PrX924xGEepi+hRh0IvCMBBLREfSdhlid9efev83mXxSos2kdbsAX4hZ87xSm3HuzxVW3m8SQHYZzxjcGTROuJ3HzFOfOJ8OMqBJ6JAAL6maKFrxCAAAQgAAEIQAACDyeAgH54CHAAAhCAAAQgAAEIQOCZCCCgnyla+AoBCEAAAhCAAAQg8HACCOiHhwAHIAABCEAAAhCAAASeiQAC+pmiha8QgAAEIAABCEAAAg8ngIB+eAhwAAIQgAAEIAABCEDgmQggoJ8pWvgKAQhAAAIQgAAEIPBwAgjoh4cAByAAAQhAAAIQgAAEnokAAvqZooWvEIAABCAAAQhAAAIPJ4CAfngIcAACEIAABCAAAQhA4JkIIKCfKVr4CgEIQAACEIAABCDwcAII6IeHAAcgAAEIQAACEIAABJ6JAAL6maKFrxCAAAQgAAEIQAACDyeAgH54CHAAAhCAAAQgAAEIQOCZCCCgnyla+AoBCEAAAhCAAAQg8HACCOiHhwAHIAABCEAAAhCAAASeiQAC+pmiha8QgAAEIAABCEAAAg8ngIB+eAhwAAIQgAAEIAABCEDgmQggoJ8pWvgKAQhAAAIQgAAEIPBwAgjoh4cAByAAAQhAAAIQgAAEnonALgL6+/M0nU5r//2YfqyWOU2n//01YOs0/XPE1r//b/rPSLl/rfk+3/9r+u+IrX/8GPL/779H2oSZziuYqZwhz9Q4Y2zqcXIams+YWzQz5hbmFp0P5fhN5pbz1/TnmZTrQXzdRUAfpC+4AQEIQAACEIAABCAAgZsTQEDfHDENQAACEIAABCAAAQi8EgEE9CtFk75AAAIQgAAEIAABCNycAAL65ohpAAIQgAAEIAABCEDglQjcWED/mb7Op+n0+X0TZn9+nqfT6WNatf7rQ/3B0e38uUknMXpTAvYPYD9+Xd5csLX6xxhpTOQ/SD1PX78vb3Os5vf0cTpN55+v82ciYeyvsh6jQ6k3IPD7azqf7jHW3oAlXYQABAKB9xDQOdi3FfS5GQ6ej0BYYE/T7QW0QhMe7O6xqL+YgE4PxNfESkWBwzchEB+WBzZc3oQH3YQABK4jgIC+jh+1X4UAAnpzJPPuvfcNk/3WJ++4XylgUpza3fT4kDD//JQV1mPfDGzu/mMqpP6Xn9lSPz82M/ZicaWn8Zs+006OZ8v7yuZS9RLP0lf/YbPxr/vNRNpA6d7fx3OsXErAfjtXcm5pvMf8aHOjyQvJ2U7883yWytl55NJeUe91CSCgXze29GwLAQT0OK28A5xEjifabrS73hfDyZfzeTqbBbJfZ7zLhy+5Q/5u7WMUKFc+EG1oNAqcWigFH6p4Sx50fte2+wC2wRGK3ojA4DfE8hCp5p1uboy84unYu1EHMftiBHYX0DGRy5NjeDpUiR74ScLKE2GT5HEStE+ddsIu52nSTPZsvRKz9QEabRb/+7aK1f6RfaKuJ3+pZ5nZNsP9maHhpp+Qow1vMUtsbAykce8ziJ+P6Tu3N9tVfalsqesuf4mN7bu9Hs/nPtUx8Po0TWvMQrey/xJP35Yuq5l6aJauBZ/mxdy027W5KjKFkfhvGYo3Nga2XLRT5ZXyseufmNefoZ5wTP5V+ZAKr/ZNGx08Tj77/oovX9PXue5/jotqps4xZ+c2tBXtVLlWiTUxaOMkfOT+7T+jj/dsV3iv/gXKfp1fjH9pJsa2zoFyV+aOe7LSrXPcJ5DmMW8+UZW88TzJ+qTqxjxYi/NYm6p5DiGQCewooFMiVgtMm5yycOlFME7+esKLk3O14E8irMqACLbmHSf9tW1YuHtfK7b+ZBKTM7GmCdv6oet0j1Pdk+XxqXdG0iKky0g9NRGUBdz0Xf9RTK/flwiZVOd8nttLsZg5//yTxG3x4/tTx22apuRHxazbJ103sZhFeObh5dQYs7E8U9FLPuq8VHeHDuPEPudj6Vf0o5xXhpZi43D0+pQfqjKzuYU/05eTZzkmEo+qTuXZ4EmKhcrVXHGpb7nQtoPY/5J7de3iSyinfKoX3JRT1UP7Qk5Vf3xZ2shtJ5aZrTeP5MI3OnB8uFFL2exiXudSOx8MjtFV39LYumas79wzzAUCy+tzhBTHoB5v4XqKqf5RgeX5IiG/wTyVLPPxBgT2E9BuItoB0Un+JNLK+3t+OTsg4rkVy57okkhaf+T6lHd37aRq21Q1Fg/rRdsv2rMdrxfRFQV0OQ/WmsXEWdxlMd8qlNJkFCepZDfZsL61PevwTzYDX32cDdTt5Msmr8aY+fkzNXmWW+nGX5VYPXTjtNSm6VtpoJenLduRPJN+e/EsbV5y5OdcsJRiXN5fnXfRe+J3pO0eE6mrfZmPS1sVox7z5G8e/2l8lTkptlPZ6o6vXv6Jr/t+xrwr/d3XumdNs/bu3+Jam/u9VtZ53Dc+PT+5bgmkGOdvpuM3b5VYbtY9tbFmxnZcK+Tbu/Rp1sK8ntj5ypSznnIOgZnAbgLaLiwRr1n07CKlYlDX9ye4nOypnj0Xc/0J1PgjFZzd7XzLDMp8ffHA97+usrAgmEmiZpOsmDLz1ZbHiB+1V+Gs6nO0IUIitmHEvDHh+itiQyZHtUMYq3d8rfo5yGw4z5TjVTvq+oZDv98LPlecVUPJl2rhSLfrGHeYKVPxUMp9hZ+zKzv8TcGNF+rcWK6cOKjd+eXy9q70ofdTfLUvMyfhp+MSjpW4Lq0Y+5180LbqB5Niyfs6Wd/d9XghV3ZtRxkbmQNU8SsOJWdEBA08JKSxL/OV33iy28xBfmmuPpCAjWc1Lk0ce/Npdj/NEWr8x/nAvsKVyiGiMzkOfAIPENC++KoXNrOYJd9r8eAJxljQlitdNwOu3Gjeqa13znyfVfX6sBrk9a1y1vdFvpb3BECu77Vhr4UJZWDRyUbTQTURpckkLTbN4pnarHnp1zC08XYCK3f9mAuLuDM4yKzyv7QwH9V5pu5ZdurW6GEtrkqt3vX4uouTWwu+VPwXypXW5yPhnoTIbsKhzo26Tecs+St57ZRYuNTJj1zD+BLairmv+evjXDUcePXtt1spf2RhTf1pcr/7kFi3uMdZ6I8SBHvYXLZhOC0X3vduGNcLv2ee7q8/IC7MI/t6jLUdCFQ5nuc8Zz5YmPezGylH5JumynYuJK8iOnOzLsPx2xM4loCWhSkt+HahtcLYnks0+4tkf+Ls2RKb2z6dwd0Y6PtSi0azaIudPJHIhfmzthk4XCKWqomoXjA9AWd3e3z+ybfzx/Qx/+M6Odbif4dZ1c+6f1IzfOpylf9VqSigm7b7r/DUtZfPFvvtxaHnp+6LabLO0w4zU0cEdBhPaQGxMWuqDF2oc2O9ytby2uJaX1vbczzmhVLHRR9r6xWj+UYnBnX9NZ/qFnY/Sz7aeXL3dpTBavyr6/c6rPmrVhOLsdeEFuYRZZLDYxCocy6Nc/13T8nNem7s+G7GTLdOb27umOXyexLYTUC7idgs1r0Fx16353Nw0qSndlvcNmW3zRMsYsO7t+uAEbGo/2CwTTDf/3Zn3V00Ogt83NWcd94iQ3nSbltfuFKxiHZEcEWf45O5PtbWPH+rsikv6oXfi3nLYoyZb6sRSdrpHk9dZuXY67cIsbqvyVDFWRvvLfD2+lie2X5Hhgs7edqVxeM6NxaLzjdT3C/KyaWxGxp2fJnb+/yuBHR319/GopMPdYxtPFYJpG9A9mC/8G1K5Uby0REcVbGhE4exVy+xGxOznoH+tZp/Kre5vd780G+XO48i0M5xbg6szg/R/2odmi/ZcZ+62VtnHkWBdo9JYDcB3QiFMKnNv8lav1/UJLD7tbodNGUR0JOyl+RhcCmRXWNPdjwBLQOwW7e2tHqWxIIIz1je/3WEqkxaDLTgcieMVK4VI3Fx+Pj8cHZ5V72OBapJpV40q/ilPhZfVZz0Lm9TThZ//RWZs6g5LEQMrjGr/EzdXsyNLs9BZpLHut+SU9U1Za/irK7Ph4mZjq/XJylX8ZjbXfoVDvH1alFV54bpQX2a+NZ+1kXWzrzxXup4vsz5mOagHIOUo/l8tuDU7eRDMxad3C4+2SM1Pq6dZ9yxYdtTfat+3cYrt37NzT+vWmIyv9pS5gav4LZrsX3zWo3k1Raeztja5gml70Ugztl6nSjfDuncWpzbxVl3rDrzwfDYEsN8viuB/QT0TFBNnCJ0Q2IbwSoTYX53sFrMJBRpUUvvE4bBEuyrd3rz5Cl/ZOK9GiBiTZWRdxQdAREHoilr/BcPVz8b/8xEEAzU/ZyZaNE0Fwk+WUbJti2by1+zeAXO4mstLuwiamM5+1P5mxmouFX9Nu2o2HgsQlURPKqsx8H61nttJOehsif5G9sb/P8q/zvvG2ceJsfmtm2MG3uWYfKrsSlMxe8YQ73glG90toqcNl81P4lDw97Ja/Fu+HMh510RnP+w1rLVQjbGoWZTFmnpj/hY5bZcbPjPNm0MUuEc004sxebKZ5ynOm2YujkWNr9MueXTFPchG4Vvw3W5kXLXY+q0HTk4Y8kbT8m6G8PSMkcPI+DMLU7Mg3tNfrTjqc2N3ngp+SpzmR33D0NCw4cmsK+APnRXce7YBDyRd2yP8e7+BOKi2C6W9/fk0ha3CNFL2zD1RGxcuhFgzI2cimg/nBBJLA7n1whUykAAAocigIA+VDje2RkE9DtHf7jvDxCDw74NFIwPAL2dsAEDm4vI7todHzoOG6PEoreruZktFSAAgXcmgIB+5+gfqu8I6EOF48jOpNcgLn494BF92+nVjS2uyy5w82rQFiObyopY3/pa0KZGLi78/N9eXNx1KkIAAjcggIAehpq+eq3ek3XevTvs7sbR/T+igD46s+HkXS4oO4ZruX3HVwCWHU6/znLYsbbmPffvTiDk+D13/u/eQxqEAATuTAABfWfgNAcBCEAAAhCAAAQg8NwEENDPHT+8hwAEIAABCEAAAhC4MwEE9J2B0xwEIAABCEAAAhCAwHMTQEA/d/zwHgIQgAAEIAABCEDgzgQQ0HcGTnMQgAAEIAABCEAAAs9NAAH93PHDewhAAAIQgAAEIACBOxNAQN8ZOM1BAAIQgAAEIAABCDw3AQT0c8cP7yEAAQhAAAIQgAAE7kwAAX1n4DQHAQhAAAIQgAAEIPDcBBDQzx0/vIcABCAAAQhAAAIQuDMBBPSdgdMcBCAAAQhAAAIQgMBzE0BAP3f88B4CEIAABCAAAQhA4M4EENB3Bk5zEIAABCAAAQhAAALPTQAB/dzxw3sIQAACEIAABCAAgTsTQEDfGTjNQQACEIAABCAAAQg8NwEE9HPHD+8hAAEIQAACEIAABO5MAAF9Z+A0BwEIQAACEIAABCDw3AQQ0M8dP7yHAAQgAAEIQAACELgzAQT0nYHTHAQgAAEIQAACEIDAcxNAQD93/PAeAhCAAAQgAAEIQODOBHYR0N+fp+l0Wvvvx/RjtcxpOv3vrwFbp+mfI7b+/X/Tf0bK/WvN9/n+X9N/R2z948eQ/3//PdImzHRewUzlDHmmxhljU4+T09B8xtyimTG3MLfofCjHbzK3nL+mP3cWn6/Q3C4C+hVA0AcIQAACEIAABCAAAQiMEEBAj1CiDAQgAAEIQAACEIAABBIBBDSpAAEIQAACEIAABCAAgQ0EENAbYFEUAhCAAAQgAAEIQAACNxLQf6avs/qjhNNpOv9Mr6j/+lB//HOaTp/fROFWBALrj+kiwu8Sp99f0/l0nr5+3yoI2L0FgT8/z9OJP3y5BdqrbIY/KGdOv4ohlSEAgecgcAMBLeJ5TbilcldPtt/ThxboPe5BKJ2mj1+9Ai92PfU3P7hc3L37xikIo9Na7lzcGbdi/BWZ+7bpOsLFMQLp4e5txvIYlWOU2m3eOUZ38AICEIBAj8D+Anp4Ar2vMJsOKKCXf/7vml3R+FDh7u4nDuVneso3Bb4guW+cHiGgpyn1kR3N3jxxnOvd+SXl/Kl9SA7j7BVjm78l8h7+Cg871t1xbucFh1c7X3ntTtPEA85xxssTehLXgLIuuevYE/YLl1+PwM0EtDtJV/zuK8yOKKArHOrk2gV/UYRufpC4b5wWfVeMdj/sCrPdW8LgFQT6YyMJxvN5Ohvx169zhSMPrVoekKOo9YRsLDPyDVS0sfTA7j1gpmudb4v6fj0UHI0fnECTi/Jgd/U31QfvOO49JYFDC+g4mPwn0eYp1fwjJ7JwNDZMOSv0rV2xI9EN98MCXe/w2HJSfvPn1UJuZeHcXUDLQlripFlYnnY3LJatWdoyJ2eRtnZ1mzPzEPd50pUJOMXdxlvHJ+aKJ0Z0KY4fRmAxd1MOfX5NX+daDIa4GlFt86fZ5QptRTvVHGLsRBY2f2+ZQ3G8SR73c3ZlHpAght3impfcyp897kt1Ux07LrNNDiBgCVySZ9YG5xC4I4GdBLRdQIqYimLIW1CS8Oo8Wc4LnCwSgUcaXM1CNw0uFL3BqWA3i5GzCJSFVy06O35l2fig/Bs6XFrUZgMDHOp2luP0/ak4zBUTi3bhHItT5OvlS/GqYeTEKZaZ87DYiraNv8Vs9r3KO32f44cSWM6NNAd9fk+hnJpXQi5k4SsPfCUvpjSHVH+UmHJqnr9KLpc2Mohu7mn7ufTuB81YyC2MjLflsZ1NOX2c7y3HI9nO3LM1DiDgEvDzScarHodudS5C4O4EdhLQyu802a6LkMHJW5n2F4uRhWJAOHb8toM6ntv3LAd9UH1xDzsLlVu2c7EWC06hTj+dkunS1jj1Fs4xRpZ341fHf1sv5ooRy526pY0xH0t5ju5HYC0PY+ziA/Z8XARsNSZ6D5j2ITjlin1gr2zJNx2NSLxfHsU8L30t8Ug8Fr9xEz+/m19NsvO3zHvCQ85tudL+msDWJTmGQPrWsBpLJj/VQzG8IHAEAk8loK1IigBlkK38S+4r4sm3LTuqRYj55QZ9WIl4fzFcqZhvr4mM8iAx8ppENDtgM7cfD6zISFeHfi3F51sa6N43wsj1YSUH8h8TMlEX4Ic5Whtj8b4WeLJzrHOhP8aM/U6uaFuycy3tFFTbx0ypu+2o35/WThw7aidPHhLMzzhKuUYc5/LzNztlTmxbSlfMmOyW4wYE7MNolTv3G08EAgJbCBxYQKcF0eyg6K/kY0fNwtfrfWdBlOJxIbKvnsh5WSx8ATfogzTmfSb/2sXYK9y7NjDRrHBoLa/YrBZV4XVyfqN3jJHPt3g1Gqda6KT6q31f6Wtxg6O7E1jLn3hfBHR8VSnuzOpc0Md1F7z69psms0vWy32Zs+7wIBbHg7cDXfcunqX8ll2+5H8757TjQES1lI3trvyOfyWCPH+4BoFCQMbm9/wb7+obJDY2CiOOjkXgoAI6LWYy0SdmvrhaW1hT5RXx5Ntug+WXG/ShNZevbFsIczVz0C58psC+70CLgDBCQSbC+juBMUY+39KLtftS0vVhJQeYqIXeET/X8ifezwI67WjNu6g6F/Rx3Utjv5MrdX1TpzZ4l7PgTyU2lputy/f8N/NIEMJq5zo1Ecdi+5CRPUBAZxQcrBOQfKr+FiFU6+Xpuk1KQOCWBI4poNOEbb9C9MWTmey7tFYG4eBk7/uwYrvrU7qRFmvZ3VkrvnS/XuCdkh1h4JRMl/p8I4uyOy82fB/6dqRe+FyLw9r9ZMz1YbXvV8ax6ggn+xJYy58YOy2gwx+0fn5XAjr+kWubs831Tq7UebXmU0sg1K/+MLEts+VKtDe6A20Z9fyvx4EIGzsf9/9gOPbAnyu39I6yb0WgM+aasflWUOjskQkcU0CngaQXQ1l46q92Itp4z1kUK/Jpseju1qzdj8b8RaFecKpmB062LYIrBtcEZm+S6prtLbLyfrjemRKG3iscaSdw7d1JJ/a1a9LGsmgITM03GKu/QBLYLeyo1Y5wdmcC/tgTJ6w4nK/PuTL/LrTOx5Q/VW44dTvjpMmrlDNjD7+Su/OrTsv5K71a+xyfO6Rt066T841NGZMVM7HXm3c9zmu94f67E+jl3tj4end69P/eBO4uoOMAUe/KyvuC9l8QSxO7/LHbPID6C6hM5sWuP+DSQtlrU/6QQd0P7atXFHwfrhDQsjipNq5LghVfOsLAtjkap8ijcLdfmdd2B+NkYu+JDdc/xTDcrxb88geUzU5actKtU3eAs0cSWMxdRwTnn1rTAnruwEAedtpyc0TGcDVvdIRlzm0jZDdwdXNf2pYx4Pkk92xb2ac0ju24mct79pYeAjr8bNOcQ8ASsPntr+W2FucQuD+B/QX0/ftAi4ZAFLWdBdyU5TQRYMF/ilSIi+vl4vPxnUxC3xOpj3duNw/cB43drGMIAhCAwOMJIKAfH4MbePAei/R+4Pi6eT+WN7YkO6G93dQbN3+t+fgA8OIPt2lHu/dNz7UMqQ8BCEDgCAQQ0EeIwi18eHKhcQskPZvPv6vZ69mLXk8C7am+2s2vSTzz7vlAPqV556liM9AtikAAAhCwBBDQlsiV5/adYHmH237eZXcmLNovvmBfGa/4bueL7whey+iA9cM4e/HXIA6IfdWl8DD6pN8OrHaOAhCAAAQUAQS0gsEhBCAAAQhAAAIQgAAE1gggoNcIcR8CEIAABCAAAQhAAAKKAAJaweAQAhCAAAQgAAEIQAACawQQ0GuEuA8BCEAAAhCAAAQgAAFFAAGtYHAIAQhAAAIQgAAEIACBNQII6DVC3IcABCAAAQhAAAIQgIAigIBWMDiEAAQgAAEIQAACEIDAGgEE9Boh7kMAAhCAAAQgAAEIQEARQEArGBxCAAIQgAAEIAABCEBgjQACeo0Q9yEAAQhAAAIQgAAEIKAIIKAVDA4hAAEIQAACEIAABCCwRgABvUaI+xCAAAQgAAEIQAACEFAEENAKBocQgAAEIAABCEAAAhBYI4CAXiPEfQhAAAIQgAAEIAABCCgCCGgFg0MIQAACEIAABCAAAQisEUBArxHiPgQgAAEIQAACEIAABBQBBLSCwSEEIAABCEAAAhCAAATWCCCg1whxHwIQgAAEIAABCEAAAooAAlrB4BACEIAABCAAAQhAAAJrBBDQa4S4DwEIQAACEIAABCAAAUVgFwH9/XmaTqe1/35MP1bLnKbT//4asHWa/jli69//N/1npNy/1nyf7/81/XfE1j9+DPn/998jbcJM5xXMVM6QZ2qcMTb1ODkNzWfMLZoZcwtzi86Hcvwmc8v5a/qjhCGHYwR2EdBjTVEKAhCAAAQgAAEIQAACz08AAf38MaQHEIAABCAAAQhAAAJ3JICAviNsmoIABCAAAQhAAAIQeH4CCOjnjyE9gAAEIAABCEAAAhC4I4EbC+g/09f5NJ0+v2/SpT8/z9Pp9DGtWv/1of7g6Hb+6E7aP6z8+KXv2uPE6XSalsvZepyPE/iePo7A9/fXdB7xI5XLf8xyzz/ykPFyzzbHAxlKhrF/YP82dueBxePcc/7JnxA9MAg0DQEIPCGB9xDQOTC3FfS5GX0wJJgQ0BrZ/seJ7xEE11A+1ATCw9g9fT+6gE7+8bBZ58nFZ/C8GB0VIQCB9yWAgL517C8QTLd26WH2867qefr67Xuxbefet2GvRpvtNxXxGwz1803pZwpvKswuyIc9BHSPgWV1+PPEr90xjd8wzDv2Nn578DsSl17enpyHrBj3kuMtt9izaLM/Lo/Uf3x5fQI5bxe/vS5jPn5T187xgZRsCHS/rS4bWNGOMw6yjTKWem0243OxD68fy1fuIQL61tG9QDDd2qX72y87wN/htRtngppKmfxlclcsbejBAv840ZlJVybKW016C/70erWHAIwLkulrr8EDX++zSIvp+TydjZDs1zlwRxdcc/O2KS+iQMU85bYvop3x19jkAgRuTCDl6MevNJ4787CIVPuwXHtXbPTnv1Im180+5CvTFK5565YqM01TbEeVS/P9rV5jrVvn7N4EdhfQMYHMU5odBJJU+R8mUZN8IBCT2k70duEo52kQJHu2lRnVJgAAIABJREFUXoGaFgnrTykwycCMT5enqW9LVVo6XBRMssgJLzXwlM3AdPbZcHMnjzT4xX934Bo7p1PbbmFrfDTiRLnZPZz9F47R7lJ7tZmYTzY/6jJLZ6F+x+fSx9qC5EDNt84xj5nblo2/Oo99S7Hv+Dh75trVLg/EPLa1wnHAzjRFDjMb4dTbiZnkoSiP8zbuuhurx4pdWzbF5/Nr+jrX7Xj8at+dv4sIbUU763GyubHCuXV+05Ve3lZGOgv+Yt0U/zrvK6ucQOB2BMKYk7Ej49n5C6fFeUDci+uW5HJv/vPmhjxv6Tm5M56ktfDZ82ukbmWIk2chsKOATkJLJ50soEqwysIliT2DismtF704eER0CUw7+YfzecdJf227uAgkH5U/Yrv4IQN4yoLV+qHrrB73BpWtuDDIygJefIssNDMRNPqaNwl9Tx9VjDz+YiuKu9J/z57tyPK55/dcw5/IpuEnf79VP4+krM0nuS4iMT98pJwqHAqfJo8NW3noyeVCPsy7pFq0LXPtspnEj7WYS4xL/pS+ekdL4yT5OoviPI68sd/2qRd7zwPvWj9ec+nSXiiXfbO5lXytvs5NdXXs0ridHw5K3Esb2b9UrpTZyjpbGj5Y5hDN+DmT/NfzZdWq07/qPicQuBeBfi76ub3sV6hTjfm5fH+ea8bYwvosLTd1wg2Zb/Q8IjX4fHYC+wloN8FsgsZBoRebCNAOFr+cTdB4bt95TG3qxTBHyfqTb2SxnIVOumXbVDXGDncT0FokFXFf/PWZDX315IgAn60VI2MIdKlo1/QlC0FH4CXxWvqpra0cuzlZ6vRjm/Ix5FAvZ9o8cyd2G/90XsRn9KfHZb7r2g3VxmPuLyCFRX3U63PwJvyaiX3f1rK059H+kt3ag/ZsrW6KWRDO83HJpYpfLydsnnXiVNnqxqYTl7ZTF12JbOVbK+8bDIdVzsNl32z/LnKQShC4moAez9pYye04p5Vx0OqKUi+WLXOC3OnlezMfp/khf7MbvlWr7bW2ZKx93/TXyKQvfN6fwG4Cuk2euTMl2UPX7CKl+lvXl8TLb8OGknZRtudiLthSC6hcb/wpN9LX0fWACLd7C66qu3iYF67FUos7rTWbZMfa7flpy7lutLybCcStt/1i127ysxaWaRLt7pgtt9/LD6nVv5/ydhbQyS9vcrb1h+LUi8fw2BDvF3bnnTb6Y0LZy4dm3Obr80GbK/PVmkW/vsuost878dstpVOupJ3n2R+JmW6zz8HYdxjObWlbPRZL80zxd8+j1Pc859X869iYfho36rLmJqcQuBuBejyXZiXXzcZZmj9lzJfy8ag77r16aex7r+kVu2mMqdcfq7mhWo/r8VhscPTsBB4goNvdxxlineD+JG8nd3suwehdX1rYYvvlabZ+0vR9lvYWPzsLcVOnGnD13Wpgyi1jN/a553892fTK6sknlrmi3+Kn+Vy0mycu6cfH9L3AxZhuTmNbzkNRKtm/nyZpJaC9HXDbl5E4Na90iNcmnnJ5/nTtZtEqrNpP7XPM7z4L3d7SOOmJxpplWeTqcZR8dL8dqj1oz/w5oZRLbcqrG4Fn7K/mp49L3fnIq1+Pm1Dq8zTl3fcmX00MxJe6oducJSEQY14W7La/yxzrON7GVaxCYJ2AGY+5Qu96f56cqy7Of2ns5Lnq/DXFP3ZfmS/T+Jd1U8ZaW7eMx9wNDl6CwLEEdF5Y/UneTu72XCIiiVzvX893+4ncsyU2L/5cEEaVzQWh6PbH2l2or9uJ/bTCoOUdy91ZQGtH0/E1cVmr272vJ0bLWflo6w/FqWdvIX6u3dmPhTrKzXAYbOQdSnvXnvfHiQhNWTSkZs1iqb7U2PrZ5mhtoV1Y5z7PglLz08de/dyvTpzq+ms+1S3c9EznbBYM+j311HqnX+JbHUe5yicE7k2gHc/Rg/7cUo/N2t9wb3j+q+eM2pI+q32MY0c9YOeiB5onsk8c7EFgNwHtTrxhgdeTeC+R7HV7Pnc1DRw1CNw27U5SRak/+LaIkcrk2snKgpWrL4ghd2Kwdu15NqwPUv/zg4rca3lHto8W0NHfLGrE3dHPBaazCT9/ZLdC+t7Lmfa6F6fYhnpg6cRpaYL37AYEHVseniX7bfm2b6VMmyvzPcuy63MxtPFoyafZVPSregVojv/ndyWgu+Pc5kqHbd2vNZ/aLsY47P8HRc14tf1Jrtg4WQ/r/tm7nEPgXgSc8Zya9nN0eSzGcbeyo5y7FtvW3+DlW/ogjLH1ub0752hbHD8lgd0EtHw1ncVOWIDsrw3IQiviJDJrkzsNhiz00rl5cd9bDFpbOi5Lg0zaGB1k2u7CcWchbmp0Fry5nDthOHZj32u2tp2mTLIzf32VY5cF0bIta3vkvFnoe5XEr6u+BvfFnjTZz5+aRZwA1UTZ4WP7Fs/j1/p5Mnbi5tkXH+dPN/6pQBNPXVEdx3Kjub00TnymDctd4qc6kJn3+uAtuHM/0hxk55J8Prfh1PXi5MUiLaJ67NRe6zOZY+ac6PVDlx88dn1Ibel+2gW/Me9waMpwAQL3ILCQi2ls6jFn517r4fD8544la638EX/1wC7zgx7bjq+ONS49KYH9BPQMICVffJcoLhAhcY0I0sIilNWTfAaZBlD6DdkwWIJ9tfDIIp3K9GzFwWPeT0x1srBJ7bpljf/Zxe5B7XvkIe2v+C99UUyCT+o8NNtZ4Bu2s72qrl7EZSGP/m6ZkLpdd264PjX9tMz2Ee8uu+Sj61fFSnWmym3hpu6nwyp/gq3Yr5Jnlv9sq+2r61tipuM0N+uWNf2o/BL24bPkY7+Mfnhoc6X4UGxFHDamcQwUFgna6Ecn56u2zFjNbCoebQwsU9kQsL66+eTNQ05Mg585jyyrUQjyDUlkGeeWNn+itbaftj9Vq8G3nq2qJCcQuAEBf76Q9bPK3WbMteNpaT7LwnfAztzRPI+oubPyR9Gw7TZziyrL4XMT2FdAPzcLvH9FAmmCZBJ7jeDGxaldLJ+nd0kkVIL+CN4nsW0eQI7gGT5AAAIQOCIBBPQRo4JPuxKIooudtV2hPsqY7Bg9qdA7ai7GHTbGyKPSmnYhAIHnI4CAfr6Y4fFmAvJV9jPvXG7u9OtWSK9BPNW3Cju8unGzgCbfel9J36xdDEMAAhB4YgII6OHgLb+fJe9p1e8bDxt/uoL2Pa/cf/WOmPdu7+M6GuOHSHhcBPZsOeyYHu41iD17eC9b8eHyqR5G7oWGdiAAAQgsEEBAL8DhFgQgAAEIQAACEIAABCwBBLQlwjkEIAABCEAAAhCAAAQWCCCgF+BwCwIQgAAEIAABCEAAApYAAtoS4RwCEIAABCAAAQhAAAILBBDQC3C4BQEIQAACEIAABCAAAUsAAW2JcA4BCEAAAhCAAAQgAIEFAgjoBTjcggAEIAABCEAAAhCAgCWAgLZEOIcABCAAAQhAAAIQgMACAQT0AhxuQQACEIAABCAAAQhAwBJAQFsinEMAAhCAAAQgAAEIQGCBAAJ6AQ63IAABCEAAAhCAAAQgYAkgoC0RziEAAQhAAAIQgAAEILBAAAG9AIdbEIAABCAAAQhAAAIQsAQQ0JYI5xCAAAQgAAEIQAACEFgggIBegMMtCEAAAhCAAAQgAAEIWAIIaEuEcwhAAAIQgAAEIAABCCwQQEAvwOEWBCAAAQhAAAIQgAAELAEEtCXCOQQgAAEIQAACEIAABBYIIKAX4HALAhCAAAQgAAEIQAAClgAC2hLhHAIQgAAEIAABCEAAAgsEdhHQ35+n6XRa++/H9GO1zGk6/e+vAVun6Z8jtv79f9N/Rsr9a833+f5f039HbP3jx5D/f/890ibMdF7BTOUMeabGGWNTj5PT0HzG3KKZMbcwt+h8KMdvMrecv6Y/C0KRWz6BXQS0b5qrEIAABCAAAQhAAAIQeD0CCOjXiyk9ggAEIAABCEAAAhC4IQEE9A3hYhoCEIAABCAAAQhA4PUIIKBfL6b0CAIQgAAEIAABCEDghgRuLKD/TF/n03T6/L5hF17L9J+f5+n0gi/0hz80JQ9eK1kf2JtXHSf3Rxrn6PNP/oTo/uxpEQIQeGYCCOgjRe/XR/hlgY9fR3JqJ19+f03n02liod6J5zubeeVx8oi4wvMR1GkTAhB4cgII6EsCmMRg/qmbPXaMewLTtiU/pfeMu7ks1JdkG3U0gd44mb6njzQ27ANo+PZjjzGq/TjCcRpPp9PH1PuOz/7EaO8BNuzon87T1+8jdAwf3pNA+sZa1jj16eZtXhsX8jaXkZ/p64+V92ROr68hgIDeSs8RgXGRum5gdhf5NAHUokDEwnVtbu36HuX3YLWHH9h4TgLdcSIC+nyezkYs9+s8J4NJ+vr5PfXHk4gRNUekucsVI1Mqb9g9KyH8fkYCKQdXN4dKrn7Przz2HvyafHfGxDNiwufDENhdQMcJXZ720mczIEQASjk1yQc08f4sGuPOSK/cXNja6j2N2nK2zZGYRBvNAtTdFRuxOU2TK5JT3d69dL15vzzvSvnsy7ujNY+mT3Pz0kbeCfCZ1TFaeU0j2XTbG8RFsTcl0BsLAUfK58+v6etczwGegLY524yj0Fa0U81prsCsx9LSjvD1kYsiQB6ouwI6zAM1h7nt2G9/HE9p7hDb1/uKBQhsITAmoOecl/Uj5nOb55M8EHa0h9Tf4h1lIWAJ7Cigy1Nh+XMUZ0A4AqpdBNSClAeAZ18WTf0F5vf0YRe5oTYtGue8u4A7/XSq9y4tLmrdNqdm96mdTFo+scwsrtWk4y2cDrMgqHM8Ym+a2Hn1qo57cawKcAIBl8DiOJEH6c/vKBJVnoYczXNCyr/qtYc0TnKZ+uGxLLbteJKHzFKmHZduZ3a62Iy/ZLfuszSW/D+dJl8kO/2TqnxC4OYEtq+j7ZqXnOysm3n902P95v2igVclsJ+Adnc82gGxNLGXRchZ0Lzdk84gscEaa9PW8s6jX8VPKXONKGwZidXwudDHuHiKEO74ZuIiE0i9gDp1Tb3KJznp+LYsdFZ2wcQ2nxCoCKyMEyWg47dSZZe1Gv+9vA7XlbBMuW13pitb8/dfnyfnV3Oc8VT1Zb+TOAeUvkbLDqs8Vpd98/uzn79YgkCfQMrb/I1n/Ba1XW+Lha6Adsa55HZ87cOOmWKTIwiMEthNQEtylt3n2QU7kfcm77FyrTCL9uY/5qsFoe7+aJu6Tv84LlgiWmM5EaWX/fxcz7/kQ174Wp+qycOZMEINU79lOJdyfBABoXeqjQu+rWmKXwXXjKqqPV+rQpxAQBNwclTfrgR0fEiThVfPTXH8eounsW/GjTSlbbnjJhS085nU3v/T70/dfj1OTT+NS3VZc5NTCNybQHqwtQ+y4kbMV2etqdaYOufJcaHH57UE7iugsyiTd5rNZ/7atU546aSf+GmxyE+tZjANtymtrH/GRav4fv75fcXvXft9zV50FvL5fvQj9jeyKT7lXwhJXOQBw2fY8yFeL7Zq4WE5lHKzHyYOuUMDAluX5RgCgUAvRwVPylWZQ8K4ifka8jR9ZauPpWb89Oq3D+ZV/RvMLbVP62dxDNbjUm9cVP4Gc8sc/flh3Q9KQOBWBPwcj63FfHXWGhHQv+LPp8r6N9cix28Vqfeze18B7e10usz9SX418fOCpgeUb8tt9uKL17SxUrcroNODg7zLJRPGys9Q+QxXfJi5yE6AenfUtzUAcdDXAUsUeRsCazka7+udqnnhnRdOLSL1cY3O2O+Mu7q+qVMbvMtZ8EeNSWk0Xnf+EatOv6TexWNaDPAJgZ0JxJzUa3ppoHvP1QKxXj2Giy2OILCVwG4C2p14RXTJrlDzSkfPXX9hctuwJpoFov460xbf5Tz00+4CjVpe8a/pT7Kb2MrX1PLHTPpJ2/PAZ+jzbupb4WvPmwr+Bd8HvyxXIRAJrIwT8wpHqDPnp/zU29qDps3lzrirF981n9rYibDN47YtsulKtOfMPbY/yera2Kv7t8kVCkPgBgTSGJPxa1qI+eyJ697YHFzrTDucQsAjsJuAFgGXF4awAM2/yWp2QcLEXn6GxnOq925hM/n/+sg/ZyN23AE11KZY2PYZFzBvAI/bafqlq3oLeeqPfed6xBe/rXZSmctZMd4u1mmScnbAdBfq4+UJsS7LGQQKAT935X7MYb0DHV9lSHNQXoC9/HPqeuNOXpvKtso3M3neE3fcTxkv8ytOjuh16yxfbMeklHf6meYNO66lhsy7NcNylyMI3JvA2poW54TO+tvkuzMm7t0h2nspAvsJ6BmLCLvw3m1cIMIAyDvQiV1anPrvzLaCbq7pLaDxmn73t7MwrbY5FtemPdu3MTN1qc5iHQpt9Lvxb46FWvA9hrJwWhEQJy/FVtnRHWjKzW32uCz1VRvlGAKWwGLuOCI4zxn1GMjvCKe/D5jnIZv7siFgxWbIdTsOtozRPEd25inbZ+fcHW/Sl2rcacEex7HtT2U++NYRI1VBTiBwCwJpDEsuz592rOkxrcvJsS2fx1tax+z9W3QDm29DYF8B/TbY9u9oXBQvX1T39+g2Fl0BcpumsPqCBJ5/nCSRcLiFPIntSoC/YALRJQhAAAI7EUBA7wTyajOyi/XKC1jaDVjcBbsaJAZemsCTj5P4AHC8Xd74zdTx/HrpXKZzEIDAUxNAQB8pfElgNl8nH8nHS31Jwucl+3YpE+pdRuAZx0n+KvmA3zLxYHtZHlILAhB4awIIaPnDIHmHqvt5n92ZsBN0uK93rx8jYeftlXfXr0eEhQ0EXnWcbECwU9H46gYPtjvhxAwEIPA2BBDQbxNqOgoBCEAAAhCAAAQgsAcBBPQeFLEBAQhAAAIQgAAEIPA2BBDQbxNqOgoBCEAAAhCAAAQgsAcBBPQeFLEBAQhAAAIQgAAEIPA2BBDQbxNqOgoBCEAAAhCAAAQgsAcBBPQeFLEBAQhAAAIQgAAEIPA2BBDQbxNqOgoBCEAAAhCAAAQgsAcBBPQeFLEBAQhAAAIQgAAEIPA2BBDQbxNqOgoBCEAAAhCAAAQgsAcBBPQeFLEBAQhAAAIQgAAEIPA2BHYT0OGf1l39Z7C/p49umdN0kn/q+dfHdFoo9/Frjk/8J2i75fI/hz3W5pj/g20O+T9NY22O+T8NtTno/zTW5pj/g20O+Q+zkO+S2zCbTqfz9PV7w3wAM8VsbJwzt5xgZtbjuAYzH7/WfPw2une3ju4moHfzCEMQgAAEIAABCEAAAhA4MAEE9IGDg2sQgAAEIAABCEAAAscjsJuAHvs6n68M5698+Ppr/ko0/cfrCIUFryMoFuWVrrG5hVeFwphKr8GNMWM+Zj5Wc/E8JzMfqzno3V4PO55APbpHuwnoo3cU/yAAAQhAAAIQgAAEILAHAQT0HhSxAQEIQAACEIAABCDwNgQQ0G8TajoKAQhAAAIQgAAEILAHAQT0HhSxAQEIQAACEIAABCDwNgQQ0G8TajoKAQhAAAIQgAAEILAHAQT0HhSxAQEIQAACEIAABCDwNgQQ0G8TajoKAQhAAAIQgAAEILAHAQT0HhSxAQEIQAACEIAABCDwNgQQ0G8TajoKAQhAAAIQgAAEILAHAQT0HhSxAQEIQAACEIAABCDwNgQQ0G8TajoKAQhAAAIQgAAEILAHgfcQ0L8+1L9vf5pOn997sMMGBCAAAQhAAAIQgMAbEji0gP7z8zydTh/TfnL3z/R1RkC/YZ7TZQhAAAIQgAAEILAbgZ0E9Pf0cTrVu7zm/Pzzz2anEdCbkR27wu+v6Rzy4jx9/e67GuNe8knnzvdnuX4yOXY6LdttW0wPVI2d06TbzPUG/Z9yueTr+Wvanv25VQ4gAAEIQAACEDgYgZ0EdN2rvYTvXnaKd+xAFxb3PErcz1/Td/hWoSd004PYBYIzCOvN9UbzYdT/aYoCv9e/ezKnLQhAAAIQgAAEbkXgMQLa7tBVr2ms7WabVzoaW0viZVQw9XEHUR+EWu2nt2PZ7JY2715HG6GueU/745fxwdy3r7aEtj6/p7x7O7el2NT2at8Xd27FRuO78W/hdPZN+ET//BiFPmwWwVPup7Sx4Iq5NZYPo/5PIUZ+30zDnEIAAhCAAAQg8MQE7i6gReBpQReEk/P1eyxrBHMF+3v6MIKrZytWGxNMVRPmRPyfXx/IfUjiNp9PUxCy+jyL2UqIaiFb+tmIzFnEVvVSP9SDRxSf51guCbnzeRZzts+pzcpey1G6Xfpb/JN7l3w2fRMjSahXzOTeymeM+SX+WTYrDaW4+g8c222tt0YJCEAAAhCAAASOSODOAlrtuFY0PFEXRajdaa2qeSdJiPm7kdeLHBGUtdAbs9sKvdRv8xAgYrtuw3TWiPbqwSHdiwySb9LGVqGayu/1yyVdAZ1E/9cveU9a3nVeEcaL8TbMmtPExrwD7edOrNz1f5Lc/o5/qKpsLsax8YkLEIAABCAAAQgcncB9BbQRfRpO3EGt/9gqipUVAaWNhGMRMt6fbY0J3cakutDzyfNfVQuHbV3/wcHWc8+NEK7arzgbAZ2EXrWD7jZwm4s9ARqvn6aTCP3QvAjcfg7EB4f+/c29SOx6Dww9/+Whx+5OS78Q0ZsjQQUIQAACEIDAYQk8QED774h6QiiKj2VxJALF/iKDv4t4TwGdxLHaiYw+6v6MC+jIR3Zly6cIs3EBPeeiCFOx48fkFlnbE6C96yJMpZ+VT1ftPleWqhMvF6XAmp9t3l2fc9I2nxCAAAQgAAEIHIPAsQR0tfu4/gqHiOdaXB1hBzoJ49X+jAnoKOiMyL14B9okXrJjd05Nqd1OuwJUXuGwP29n+qkdWRK6utzW466Pi+9A9/IOAb2VP+UhAAEIQAACRydwXwGd3xO1r1d0xEdPVAWqSZgYkTp125grXS9morjSu8izXeN/9QpFSYG27oiA7pQxwnLbDnTxKRwZW9VdEdjVHx1WJTaddMVpz4deDqTy7Y6vcSfFon41xJSpTnt5FQt1/e/mlsmNqi1OIAABCEAAAhB4RgJ3FtCyq1zvpnZ3ElfEW7MzK+VP5WfT6qDcRkA3/osfSnTGMvMrE1p8d8Rx5XTyWdcTUah+CSTYl4eJSsAbQfjrI/+knDTTF4USL+u31Nz+udRWw1He11YcpcW2rNypP2N78VWV+puKupycRbt1fsq9+XPJ//gzdurXWeZHq/APv+iYa2scQwACEIAABCDwjATuLqBnSFrUhPeCRfh5BJVYbN8hFnEp7/LOQqXd8YsiRsrUnyOiSrvV+D6/4+z5b/yed0pjXS2mRgT03HoqJ+9Tz+0lkS7+hz6KH0sC2uOvxbnu7HzsPAzYImvnLjPdF2XAxsrdYd7kU2EnrEpz5V5+h14YlkJtvorvXuxN3N3cULY5hAAEIAABCEDg+QjcREA/H4Zxj1sRPF6Xko8hEEV5f1f5MV7RKgQgAAEIQAACz0oAAb0xcgjojcAeXTztCLs72Y/2jfYhAAEIQAACEHhKAgjojWFDQG8E9rDi5fWM9tWNhzlFwxCAAAQgAAEIvAABBPTGICKgNwKjOAQgAAEIQAACEHgxAgjoFwso3YEABCAAAQhAAAIQuC0BBPRt+WIdAhCAAAQgAAEIQODFCCCgXyygdAcCEIAABCAAAQhA4LYEENC35Yt1CEAAAhCAAAQgAIEXI/AaAlr+YY2lfxBkp8CN/hGh/QdB+CWInQKAGQhAAAIQgAAEIPBgAgjojQEYFdDZrPkXA/N1DiAAAQhAAAIQgAAEnpLATgK6/OZu/ieR9T93fDpNr/IPWSCgnzLPV53O3xh8fi+UtXmu/ln2/C1I/U/F5/GwaNdp0v6T4Hk8qTZVtTH/pymXS/b4ZkRB5BACEIAABCAwSGAnAV23tllk1tUPfba5b+xAHzqeUxKqH7+SOO4I3Rj307RZcF4a/+DXwD8/Puj/JAK/079jBwnvIAABCEAAAscicHcBXQTon+nrrHbrzl/TH8PG7pad7OIvokB25xwbs8lgZ65ryrdiyPjk7JwX/+vdyO4O+4CAEnEmu5VdW4ZPfRr9mftU23N2LA2H06kVaqWfhknD2Ny3zEJbs33hFdvKsTX2at9PUxNz1eloo/VdFVk+DL4JnwUBPRDDXkPRR2mjV8q5PiKgR/2fUozs+HGa5RIEIAABCEAAAusEHiSgo3AuQrEVL7OQqgRuEjE9QRWEihFj0v0s1tQfGUahVouv78/6XHYni59JnJ7P0/mkdiPzLqC0qD5XxFcjsFJ53aaytnAoAvU0nTKHJJzy+Vz9e/qozuVr/brvWsgWX9o4rTIL/TlP5/NsP/ozH4c4GpHoxaTJg0yg9Lf4l29ecND2TYws5ZaUcT8vjuU0xdyrY+K2kS/2/d9uKxvlAAIQgAAEIAABh8DDBHQljmWX2Ag7628jNlWBJZET6xkxsiJso+lWgIqwrP1vy2XXltrp3IttbN21TALKMjQiNfulDxyh5/cziW3bhrYlu51SJtmODz6JkzzImAePpRhWTaQTN65ewaFrPQGafP78bt4fXhPu0b+tcUzOJjbyrUT8XLLV81++kfiYvq1NidEQHwpBAAIQgAAEICAEHiSgjZgVb1Y+l4Tlkvhy73XEq3XB1u350BVLC+30bF22YxgFVCPqFtovfW3rRt8ui1PFrGrfPGgYAR3b1DvoxcPbH/UEaLquv3GYnUm+N7zF0dTv7n0pN/wpDx+9mPT8l28Y7OswqTwiejgCFIQABCAAAQgIgQML6CJcRnbhKtEmvUuf7r1K2KWC6VrdXi3oeqK3d13eu653rGN7UXSr98DlXe7w2RNKpnP5NPJqBJvTzyxUq/bqX0qJZQZ8WGNWtb8soENX7C7p3d7b7QnQ3vXl3fgY26Ud4xy48YPEsolxsLDip+z669YC64EY6zocQwACEIAABCAwHVRAJzFgdse6InXlFZAhAS1C0Ag2W7fngy2Xc6uyWON0AAAMTUlEQVQSkPlqOOjZqkuNnkVmjbgy7cc21fvbwXxbN5ZbEVcjzKr2BwS06m4UoXbnVBXY9bAnQJPPJi/mptdi3sTian97PgZvpo/5gcjxs5tnCOirI4IBCEAAAhB4TwLHFNBpF9Lu2naFwJKY6d2rhJ28J9oKRiuSfB8WhI1pp0qzXQVMK4Lntmp/jYDNzrR1Y72WR66SbbdlKmZV/037nTjrNipb+obE1fkFEVNs8LQfQ9+HFWHt7fhWnqT69tWQqow5WeTV97/3SlCdG6YtTiEAAQhAAAIQ6BI4poBOokvvpgURE1458L8W90VO7Ld7rxJ23jutReCUX7WwglTZ7wkm204VCmnD71NVdPWkFcHy+ojeCY0clegV1ubn50YEdPsesPRHvfZS9T/dl28WKkE437McFkTh/Gsi6RUU3b9VTN0CC22lPuh2unycsn6TxX+dX37ZqfwEo7PDHOss+G//sHOuMOxn1yNuQAACEIAABN6WwDEF9ByOJK7kfeRZvNgds3juv0Osxc6QgM47qsXevAPe1E3CQ/wKnyIIcxopcWTeMz45QjuK2tJusNkVSrkRc+C3aXfxJxFT2a9ZtMa6mllXIJpWbQwaZolX9GNJQM+G2z5on0zT6Vcx1MOALbB63ran41qxa+JuxX5srHlAWfAhs2vyRx7U6pyo/Al2N/jfxN2+xrPgKLcgAAEIQAACEKgI3ERAVy1wcicCrQi+U8M0cykBEeWbH5YubZB6EIAABCAAAQjsQQABvQfFQ9hAQB8iDMNOyOsu/k72sBkKQgACEIAABCBwdwII6Lsjv1WDCOhbkd3b7tKrG3u3hT0IQAACEIAABPYngIDen+mDLCKgHwSeZiEAAQhAAAIQeDMCCOg3CzjdhQAEIAABCEAAAhC4jgAC+jp+1IYABCAAAQhAAAIQeDMCCOg3CzjdhQAEIAABCEAAAhC4jgAC+jp+1IYABCAAAQhAAAIQeDMCCOgbB1z+kZSlfxBkHxcG/4hQfntY/iEV5x/x2McfrEAAAhCAAAQgAIHXJPA+Arr6F/HuF8zDCWjV9eAbAloR4RACEIAABCAAAQisE9hNQItQPNl/VS38k9zX/HPL650YKvEgAT3k2y6FBnegVVsIaAXjkIcxpuWfFz/AODokJ5yCAAQgAAEI3JfAzgL6PJ3PZpFHQN8pogjoO4G+TzPyqo16II0PqWZ83ccbWoEABCAAAQhAQBHYWUB/TF8/z1P1vq8noEUcyHu4J/vPGUcx+PFrmvK/2hbK2nKqJ53DvDOe2zpNZUfvNM1txP8pARp8LuVKmVS08b8VNbbdxsZsKtiJdavy3msVxqdTh9nMfpRZaNNrK3VzmuwO6Hb+s6ngT2intlflSWqz4jDHTAnIWGRDnFaYhbY+vwuvuS0V2zpmte+nUxvzjE1sNL7nEqsHfmzSP/99hd3VhikAAQhAAAIQgMAqgd0F9HcQD0poGQEt4k6LkyiatCBRYiWLhSQeFgXfQn+TqNHt1qVVm0qcRn+Nb8aH1n9lealdEVqnk3roSH7kfiehrc+nxEL5KWJ3/gbglP1bZuaLtOR78k2L3NhPFVvVzaVDifn84JL5J3Gbz5PQ1udZzFZ9H4zT7H9Vr2UW+3+O5VKexm9QUtlc34nJ/HCROde9L/3dzipaiu1p9uF6fiC41G7tJ2cQgAAEIAABCFxGYH8BPU3TLEyyEKoEdEcYyE6nFSxGoERhcqF4WBKygV0SSaZNEXG5Px5nR2zmYkvtpnt2l3VR2IrhRoB2/G/KiYEYpyK2y/X5yPehF7+6rj0TQVkztCLV1ornwQ/nQaHxe4mzmDYsou30cJTuRdFqHjxGbEsb82cnrrrI4rHTXs794Kd+oFu0xE0IQAACEIAABG5A4CYCOggIEaJ6wTcCRvenFmy+UMsiQlccPXZESV01CdAs4uu7y2e+v6HOUrudezWLTstN3Y4PqVyzm9kVyXN7HVuy872RUS9uI/1s614RJ8Osar/KTSOg5QFP76B3wrLL5cpP86Chx9MujWEEAhCAAAQgAIGtBG4joJPQCjuOesHXx8bTIGbyTqMv4FoxlXZKzfvNnliUXcF6F1Q7MS7Moh/lHWl5p3pzu5VQKr5Uwi5djnzaNkt/fGZ9MdzbZVY7qIar9NPumBfP/SMvbnPJtp8pBk27+luH8TitMavaXxTQs7dJyGbfbrgLnPPCienCGPLpcxUCEIAABCAAgb0J3EhAT9M0L/TzTqVe8PWx6UklZjo7oD0hZkz5p1mU+LdFaK6JQxHPRbjO9hyhI80stdu5V7OQhwQj2Jq6HR+acuKYJ2DlXseW3N742Ytb3c/Ypn01o62byq3sggfb9g/9DIuq/ZCb8uqR3YE2HU52Fv+Q0FTZdpr66Ox4tzy2WaY0BCAAAQhAAALXE7idgA6i8mP6rkRzT5jZ6/Y8dvQ68eDbLAjj/WUB3RNWC7aNaCvtlZ3eWoxbYdvxq7Hr+xCZGfGdnKgEZOWYeW2gurf9xI+b8bcSsKWNtm6HR6mSH2iaWBpmVf+r9ntxVo0YW+rO9e9Au7vzcwv7xqXymRMIQAACEIAABIYJ3FBAx58vC78KoXYCPUEXdwvbr+ntKxGtmBruZxEf+TURW3dEmDm7wUlIza83WH9DCwNCa1lAJ9Gk/U5ir/pVC28XPLXt+tUVaYlLaqNX19JbOvfi1sRcOKqd5Vhmfm2lzY1GHFcOjDEbFtC/PprYenksLsR71m+5O/jpxK5hNmiKYhCAAAQgAAEI7EvgpgJa3ju2X3UXgZHe6ZU/OMx9M7uT6bonxHKVoYMkkvN7rPKV/Vx5TEDnXcBsYxZ31t+2nfz+sBaDHXFdCbvQL2Nv5uXULYKzvCttxXnDPvfDeQAQUavK2FiOYHfbbGKeXvtRbc3ivY35aJzWmVWcV3ag2z5oUW8oCDf1MGBKjJ2Kncxkoc0xi5SCAAQgAAEIQGAHArsJ6B18wcSLEmhF8It2lG5BAAIQgAAEIPAWBBDQbxHmx3YSAf1Y/rQOAQhAAAIQgMC+BBDQ+/LEmkMAAe1A4RIEIAABCEAAAk9LAAH9tKF7HscR0M8TKzyFAAQgAAEIQGCdAAJ6nRElIAABCEAAAhCAAAQgkAkgoDMKDiAAAQhAAAIQgAAEILBOAAG9zogSEIAABCAAAQhAAAIQyAQQ0BkFBxCAAAQgAAEIQAACEFgngIBeZ0QJCEAAAhCAAAQgAAEIZAII6IyCAwhAAAIQgAAEIAABCKwTQECvM6IEBCAAAQhAAAIQgAAEMgEEdEbBAQQgAAEIQAACEIAABNYJIKDXGVECAhCAAAQgAAEIQAACmQACOqPgAAIQgAAEIAABCEAAAusEENDrjCgBAQhAAAIQgAAEIACBTAABnVFwAAEIQAACEIAABCAAgXUCCOh1RpSAAAQgAAEIQAACEIBAJoCAzig4gAAEIAABCEAAAhCAwDoBBPQ6I0pAAAIQgAAEIAABCEAgE0BAZxQcQAACEIAABCAAAQhAYJ0AAnqdESUgAAEIQAACEIAABCCQCSCgMwoOIAABCEAAAhCAAAQgsE4AAb3OiBIQgAAEIAABCEAAAhDIBBDQGQUHEIAABCAAAQhAAAIQWCewi4D+/jxNp9Pafz+mH6tlTtPpf38N2DpN/xyx9e//m/4zUu5fa77P9/+a/jti6x8/hvz/+++RNmGm8wpmKmfIMzXOGJt6nJyG5jPmFs2MuYW5RedDOX6TueX8Nf1Z14uUMAR2EdDGJqcQgAAEIAABCEAAAhB4WQII6JcNLR2DAAQgAAEIQAACELgFAQT0LahiEwIQgAAEIAABCEDgZQkgoF82tHQMAhCAAAQgAAEIQOAWBBDQt6CKTQhAAAIQgAAEIACBlyWAgH7Z0NIxCEAAAhCAAAQgAIFbEEBA34IqNiEAAQhAAAIQgAAEXpYAAvplQ0vHIAABCEAAAhCAAARuQQABfQuq2IQABCAAAQhAAAIQeFkCCOiXDS0dgwAEIAABCEAAAhC4BQEE9C2oYhMCEIAABCAAAQhA4GUJIKBfNrR0DAIQgAAEIAABCEDgFgQQ0Legik0IQAACEIAABCAAgZclgIB+2dDSMQhAAAIQgAAEIACBWxBAQN+CKjYhAAEIQAACEIAABF6WAAL6ZUNLxyAAAQhAAAIQgAAEbkEAAX0LqtiEAAQgAAEIQAACEHhZAv8fJcE0XDA0594AAAAASUVORK5CYII=)"
      ]
    },
    {
      "cell_type": "code",
      "metadata": {
        "colab": {
          "base_uri": "https://localhost:8080/"
        },
        "id": "SmRihVuHqVVB",
        "outputId": "5cff3051-279e-44ab-c95e-8d5eb62a5763"
      },
      "source": [
        "def build_model():\n",
        "    Input = tf.keras.Input(shape=(28,28))\n",
        "    reshape = tf.keras.layers.Reshape((28,28,1))(Input)\n",
        "    Dense1 = DoubleConvMaxpoolBlock()(reshape)\n",
        "    flatten = tf.keras.layers.Flatten()(Dense1)\n",
        "    Dense2 = DoubleLinear()(flatten)\n",
        "    Output = tf.keras.layers.Dense(units=10, activation='softmax')(Dense2)\n",
        "    model=tf.keras.models.Model(inputs=Input, outputs=Output)\n",
        "    model.compile(loss = tf.keras.losses.sparse_categorical_crossentropy, \n",
        "                        optimizer= tf.keras.optimizers.Adam(learning_rate=3e-5), metrics=['accuracy'])\n",
        "    model.summary()\n",
        "    return model\n",
        "model = build_model()"
      ],
      "execution_count": 10,
      "outputs": [
        {
          "output_type": "stream",
          "name": "stdout",
          "text": [
            "Model: \"model\"\n",
            "_________________________________________________________________\n",
            "Layer (type)                 Output Shape              Param #   \n",
            "=================================================================\n",
            "input_2 (InputLayer)         [(None, 28, 28)]          0         \n",
            "_________________________________________________________________\n",
            "reshape (Reshape)            (None, 28, 28, 1)         0         \n",
            "_________________________________________________________________\n",
            "double_conv_maxpool_block (D (None, 7, 7, 32)          5056      \n",
            "_________________________________________________________________\n",
            "flatten (Flatten)            (None, 1568)              0         \n",
            "_________________________________________________________________\n",
            "double_linear (DoubleLinear) (None, 50)                161950    \n",
            "_________________________________________________________________\n",
            "dense (Dense)                (None, 10)                510       \n",
            "=================================================================\n",
            "Total params: 167,516\n",
            "Trainable params: 167,516\n",
            "Non-trainable params: 0\n",
            "_________________________________________________________________\n"
          ]
        }
      ]
    },
    {
      "cell_type": "code",
      "metadata": {
        "colab": {
          "base_uri": "https://localhost:8080/"
        },
        "id": "FO202TEzrLm-",
        "outputId": "f04ea2a9-b0c0-411e-a15f-e12421ec9ccd"
      },
      "source": [
        "mc = tf.keras.callbacks.ModelCheckpoint(filepath=\"/content/epoch:{epoch:02d}.hdf5\", \n",
        "                                     monitor='val_loss',\n",
        "                                     mode='min', \n",
        "                                     verbose=0, \n",
        "                                     save_best_only=True)\n",
        "\n",
        "history = model.fit(X_train, y_train,\n",
        "                    batch_size=256,\n",
        "                    epochs=10,\n",
        "                    validation_data=(X_valid, y_valid),\n",
        "                    callbacks=[mc]) "
      ],
      "execution_count": 11,
      "outputs": [
        {
          "output_type": "stream",
          "name": "stdout",
          "text": [
            "Epoch 1/10\n",
            "211/211 [==============================] - 39s 183ms/step - loss: 2.2685 - accuracy: 0.2850 - val_loss: 2.1791 - val_accuracy: 0.5505\n",
            "Epoch 2/10\n",
            "211/211 [==============================] - 39s 184ms/step - loss: 1.7794 - accuracy: 0.6193 - val_loss: 1.2562 - val_accuracy: 0.7188\n",
            "Epoch 3/10\n",
            "211/211 [==============================] - 39s 184ms/step - loss: 0.8892 - accuracy: 0.7869 - val_loss: 0.6791 - val_accuracy: 0.8120\n",
            "Epoch 4/10\n",
            "211/211 [==============================] - 39s 184ms/step - loss: 0.5746 - accuracy: 0.8429 - val_loss: 0.5139 - val_accuracy: 0.8515\n",
            "Epoch 5/10\n",
            "211/211 [==============================] - 39s 184ms/step - loss: 0.4610 - accuracy: 0.8700 - val_loss: 0.4357 - val_accuracy: 0.8743\n",
            "Epoch 6/10\n",
            "211/211 [==============================] - 39s 183ms/step - loss: 0.3979 - accuracy: 0.8855 - val_loss: 0.3823 - val_accuracy: 0.8937\n",
            "Epoch 7/10\n",
            "211/211 [==============================] - 39s 185ms/step - loss: 0.3546 - accuracy: 0.8966 - val_loss: 0.3479 - val_accuracy: 0.9033\n",
            "Epoch 8/10\n",
            "211/211 [==============================] - 40s 189ms/step - loss: 0.3242 - accuracy: 0.9061 - val_loss: 0.3190 - val_accuracy: 0.9120\n",
            "Epoch 9/10\n",
            "211/211 [==============================] - 39s 183ms/step - loss: 0.3003 - accuracy: 0.9122 - val_loss: 0.3004 - val_accuracy: 0.9157\n",
            "Epoch 10/10\n",
            "211/211 [==============================] - 39s 183ms/step - loss: 0.2805 - accuracy: 0.9183 - val_loss: 0.2826 - val_accuracy: 0.9202\n"
          ]
        }
      ]
    },
    {
      "cell_type": "code",
      "metadata": {
        "colab": {
          "base_uri": "https://localhost:8080/",
          "height": 265
        },
        "id": "pjkXzfPO23Tt",
        "outputId": "e6edd0ac-a68a-4ef7-bae2-f34005b3c7d5"
      },
      "source": [
        "#Vẽ thử đồ thị\n",
        "\n",
        "f,ax=plt.subplots(2,1) \n",
        "\n",
        "\n",
        "ax[0].plot(history.history['loss'],color='b',label='Training Loss')\n",
        "ax[0].plot(history.history['val_loss'],color='r',label='Validation Loss')\n",
        "ax[0].legend()\n",
        "\n",
        "ax[1].plot(history.history['accuracy'],color='b',label='Training  Accuracy')\n",
        "ax[1].plot(history.history['val_accuracy'],color='r',label='Validation Accuracy')\n",
        "\n",
        "ax[1].legend()\n",
        "plt.show()"
      ],
      "execution_count": 12,
      "outputs": [
        {
          "output_type": "display_data",
          "data": {
            "image/png": "[encoded data removed]",
            "text/plain": [
              "<Figure size 432x288 with 2 Axes>"
            ]
          },
          "metadata": {
            "needs_background": "light"
          }
        }
      ]
    },
    {
      "cell_type": "code",
      "metadata": {
        "colab": {
          "base_uri": "https://localhost:8080/"
        },
        "id": "xPbkguc_4QSr",
        "outputId": "ed4543f5-d4c8-4b9b-f3ad-eff5b0e2ff26"
      },
      "source": [
        "def evaluate_model(model, test, test_labels):\n",
        "    #Xem độ chính xác trên tập test\n",
        "    evaluation = model.evaluate(test, test_labels, verbose=1)\n",
        "    print(\"Model có độ chính xác là {} và loss là {}\".format(evaluation[1], evaluation[0]))\n",
        "evaluate_model(model, X_test, y_test)"
      ],
      "execution_count": 13,
      "outputs": [
        {
          "output_type": "stream",
          "name": "stdout",
          "text": [
            "313/313 [==============================] - 3s 11ms/step - loss: 0.2580 - accuracy: 0.9224\n",
            "Model có độ chính xác là 0.9223999977111816 và loss là 0.25803425908088684\n"
          ]
        }
      ]
    },
    {
      "cell_type": "code",
      "metadata": {
        "id": "RlC4dSxU5-S8"
      },
      "source": [
        ""
      ],
      "execution_count": 13,
      "outputs": []
    }
  ]
}