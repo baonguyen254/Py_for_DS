{
  "nbformat": 4,
  "nbformat_minor": 0,
  "metadata": {
    "accelerator": "GPU",
    "colab": {
      "name": "MHNC_TH5_18110053.ipynb",
      "provenance": [],
      "collapsed_sections": []
    },
    "kernelspec": {
      "display_name": "Python 3",
      "name": "python3"
    },
    "language_info": {
      "name": "python"
    }
  },
  "cells": [
    {
      "cell_type": "markdown",
      "metadata": {
        "id": "QKGWkWP2jlVt"
      },
      "source": [
        "# University of science\n",
        "## Advanced Machine Learning - Lab 05\n",
        "## Nguyễn Quốc Bảo - 18110053"
      ]
    },
    {
      "cell_type": "markdown",
      "metadata": {
        "id": "scujx_771Vso"
      },
      "source": [
        "Lab05:\n",
        "\n",
        "Ở Bài thực hành này ta sx làm quen với data dạng sequence "
      ]
    },
    {
      "cell_type": "markdown",
      "metadata": {
        "id": "VHbbUjLW1_5V"
      },
      "source": [
        "Chúng ta sẽ thực hành trên dataset về spam detection, đây là data về việc phát hiện có phải là spam hay không do đó gồm có 2 nhãn là spam và not spam"
      ]
    },
    {
      "cell_type": "code",
      "metadata": {
        "id": "9TT5ZZ4ZjPBL"
      },
      "source": [
        "import pandas as pd\n",
        "import numpy as np\n",
        "import matplotlib.pyplot as plt\n",
        "import tensorflow as tf\n",
        "import nltk\n",
        "from tensorflow import keras\n",
        "from time import time\n",
        "from tensorflow.keras.layers import Input, Dense, Convolution2D, MaxPool2D, BatchNormalization, ReLU, GlobalAveragePooling2D, Add\n",
        "from tensorflow.keras.models import Model\n",
        "from tensorflow.keras.layers import Input, Embedding, LSTM, Bidirectional, Dense\n",
        "from tensorflow.keras.preprocessing.text import Tokenizer\n",
        "from tensorflow.keras.preprocessing.sequence import pad_sequences"
      ],
      "execution_count": null,
      "outputs": []
    },
    {
      "cell_type": "markdown",
      "metadata": {
        "id": "tg70nTM7jI9z"
      },
      "source": [
        "Read data"
      ]
    },
    {
      "cell_type": "code",
      "metadata": {
        "colab": {
          "base_uri": "https://localhost:8080/",
          "height": 202
        },
        "id": "_tn3MOWXaImA",
        "outputId": "ec325147-d825-4989-c3ad-ebf6cb5b91a4"
      },
      "source": [
        "#đọc data\n",
        "df = pd.read_csv(\"https://raw.githubusercontent.com/huynhthanh98/AML/main/lab-04/spam_detection.csv\")\n",
        "df.head()"
      ],
      "execution_count": null,
      "outputs": [
        {
          "output_type": "execute_result",
          "data": {
            "text/html": [
              "<div>\n",
              "<style scoped>\n",
              "    .dataframe tbody tr th:only-of-type {\n",
              "        vertical-align: middle;\n",
              "    }\n",
              "\n",
              "    .dataframe tbody tr th {\n",
              "        vertical-align: top;\n",
              "    }\n",
              "\n",
              "    .dataframe thead th {\n",
              "        text-align: right;\n",
              "    }\n",
              "</style>\n",
              "<table border=\"1\" class=\"dataframe\">\n",
              "  <thead>\n",
              "    <tr style=\"text-align: right;\">\n",
              "      <th></th>\n",
              "      <th>Text</th>\n",
              "      <th>Label</th>\n",
              "      <th>y</th>\n",
              "    </tr>\n",
              "  </thead>\n",
              "  <tbody>\n",
              "    <tr>\n",
              "      <th>0</th>\n",
              "      <td>Go until jurong point, crazy.. Available only ...</td>\n",
              "      <td>ham</td>\n",
              "      <td>0</td>\n",
              "    </tr>\n",
              "    <tr>\n",
              "      <th>1</th>\n",
              "      <td>Ok lar... Joking wif u oni...</td>\n",
              "      <td>ham</td>\n",
              "      <td>0</td>\n",
              "    </tr>\n",
              "    <tr>\n",
              "      <th>2</th>\n",
              "      <td>Free entry in 2 a wkly comp to win FA Cup fina...</td>\n",
              "      <td>spam</td>\n",
              "      <td>1</td>\n",
              "    </tr>\n",
              "    <tr>\n",
              "      <th>3</th>\n",
              "      <td>U dun say so early hor... U c already then say...</td>\n",
              "      <td>ham</td>\n",
              "      <td>0</td>\n",
              "    </tr>\n",
              "    <tr>\n",
              "      <th>4</th>\n",
              "      <td>Nah I don't think he goes to usf, he lives aro...</td>\n",
              "      <td>ham</td>\n",
              "      <td>0</td>\n",
              "    </tr>\n",
              "  </tbody>\n",
              "</table>\n",
              "</div>"
            ],
            "text/plain": [
              "                                                Text Label  y\n",
              "0  Go until jurong point, crazy.. Available only ...   ham  0\n",
              "1                      Ok lar... Joking wif u oni...   ham  0\n",
              "2  Free entry in 2 a wkly comp to win FA Cup fina...  spam  1\n",
              "3  U dun say so early hor... U c already then say...   ham  0\n",
              "4  Nah I don't think he goes to usf, he lives aro...   ham  0"
            ]
          },
          "metadata": {},
          "execution_count": 2
        }
      ]
    },
    {
      "cell_type": "code",
      "metadata": {
        "colab": {
          "base_uri": "https://localhost:8080/"
        },
        "id": "a1nnAMXNeXAa",
        "outputId": "b05b6f5e-ddb0-414c-d66f-fa6a57f1a950"
      },
      "source": [
        "nltk.download('punkt')\n",
        "texts = df[\"Text\"].to_list()\n",
        "texts = [text.lower() for text in texts ]           # chuyển các đoạn text thành chữ thường (word embedding chỉ cho chữ thường)\n",
        "tokenized_texts = [nltk.tokenize.word_tokenize(text) for text in texts]    # tách câu thành một list các từ\n",
        "\n",
        "print(tokenized_texts[10])"
      ],
      "execution_count": null,
      "outputs": [
        {
          "output_type": "stream",
          "name": "stdout",
          "text": [
            "[nltk_data] Downloading package punkt to /root/nltk_data...\n",
            "[nltk_data]   Unzipping tokenizers/punkt.zip.\n",
            "['i', \"'m\", 'gon', 'na', 'be', 'home', 'soon', 'and', 'i', 'do', \"n't\", 'want', 'to', 'talk', 'about', 'this', 'stuff', 'anymore', 'tonight', ',', 'k', '?', 'i', \"'ve\", 'cried', 'enough', 'today', '.']\n"
          ]
        }
      ]
    },
    {
      "cell_type": "markdown",
      "metadata": {
        "id": "WlAN3OpJ2Unl"
      },
      "source": [
        "Để Vectorize các câu ta sử dụng một bộ trọng số có tên là Glove do Stanford phát triển. bộ weights này sẽ biến mỗi chữ thành 1 vector có số nhiều là 50, 100, 200, hoặc 300. Số chiều càng lớn thì vector sẽ càng biểu diễn được ngữ nghĩa của một từ "
      ]
    },
    {
      "cell_type": "code",
      "metadata": {
        "colab": {
          "base_uri": "https://localhost:8080/"
        },
        "id": "UzibQmpWetV7",
        "outputId": "66f2b38c-a941-41d1-8ea5-46b1fa238fd9"
      },
      "source": [
        "#Tải bộ weights Glove\n",
        "!wget http://nlp.stanford.edu/data/glove.6B.zip"
      ],
      "execution_count": null,
      "outputs": [
        {
          "output_type": "stream",
          "name": "stdout",
          "text": [
            "--2021-11-20 04:27:54--  http://nlp.stanford.edu/data/glove.6B.zip\n",
            "Resolving nlp.stanford.edu (nlp.stanford.edu)... 171.64.67.140\n",
            "Connecting to nlp.stanford.edu (nlp.stanford.edu)|171.64.67.140|:80... connected.\n",
            "HTTP request sent, awaiting response... 302 Found\n",
            "Location: https://nlp.stanford.edu/data/glove.6B.zip [following]\n",
            "--2021-11-20 04:27:54--  https://nlp.stanford.edu/data/glove.6B.zip\n",
            "Connecting to nlp.stanford.edu (nlp.stanford.edu)|171.64.67.140|:443... connected.\n",
            "HTTP request sent, awaiting response... 301 Moved Permanently\n",
            "Location: http://downloads.cs.stanford.edu/nlp/data/glove.6B.zip [following]\n",
            "--2021-11-20 04:27:55--  http://downloads.cs.stanford.edu/nlp/data/glove.6B.zip\n",
            "Resolving downloads.cs.stanford.edu (downloads.cs.stanford.edu)... 171.64.64.22\n",
            "Connecting to downloads.cs.stanford.edu (downloads.cs.stanford.edu)|171.64.64.22|:80... connected.\n",
            "HTTP request sent, awaiting response... 200 OK\n",
            "Length: 862182613 (822M) [application/zip]\n",
            "Saving to: ‘glove.6B.zip’\n",
            "\n",
            "glove.6B.zip        100%[===================>] 822.24M  5.15MB/s    in 2m 42s  \n",
            "\n",
            "2021-11-20 04:30:37 (5.09 MB/s) - ‘glove.6B.zip’ saved [862182613/862182613]\n",
            "\n"
          ]
        }
      ]
    },
    {
      "cell_type": "code",
      "metadata": {
        "colab": {
          "base_uri": "https://localhost:8080/"
        },
        "id": "od20jMkReuwn",
        "outputId": "0a7842ba-43f2-4378-9edc-19d7d34c1ac0"
      },
      "source": [
        "#Giải Nén\n",
        "! unzip glove.6B.zip"
      ],
      "execution_count": null,
      "outputs": [
        {
          "output_type": "stream",
          "name": "stdout",
          "text": [
            "Archive:  glove.6B.zip\n",
            "  inflating: glove.6B.50d.txt        \n",
            "  inflating: glove.6B.100d.txt       \n",
            "  inflating: glove.6B.200d.txt       \n",
            "  inflating: glove.6B.300d.txt       \n"
          ]
        }
      ]
    },
    {
      "cell_type": "code",
      "metadata": {
        "id": "K_FHeyWtewDb"
      },
      "source": [
        "## không cần hiểu đống này lắm đâu\n",
        "import io\n",
        "def load_word_embeddings(fname):\n",
        "    fin = io.open(fname, 'r', encoding='utf-8', newline='\\n', errors='ignore')\n",
        "    vocab, matrix = [], []\n",
        "    i=0\n",
        "    for line in fin:\n",
        "        tokens = line.rstrip().split(' ')\n",
        "        vocab.append(tokens[0])\n",
        "        matrix.append(list(map(float, tokens[1:])))\n",
        "    return vocab, np.asarray(matrix)"
      ],
      "execution_count": null,
      "outputs": []
    },
    {
      "cell_type": "code",
      "metadata": {
        "id": "VdpZ46UJfsDd"
      },
      "source": [
        "#vocab là bộ từ điển các từ có trong Glove\n",
        "#matrix chứa các vector biểu diễn các từ \n",
        "##Ta chọn bộ weighs có số chiều là 100\n",
        "vocab, matrix = load_word_embeddings(\"glove.6B.100d.txt\")"
      ],
      "execution_count": null,
      "outputs": []
    },
    {
      "cell_type": "code",
      "metadata": {
        "colab": {
          "base_uri": "https://localhost:8080/",
          "height": 34
        },
        "id": "LSa4hBWDd1bX",
        "outputId": "0235837a-5f20-4652-c602-be971ef570de"
      },
      "source": [
        "vocab[0]"
      ],
      "execution_count": null,
      "outputs": [
        {
          "output_type": "execute_result",
          "data": {
            "application/vnd.google.colaboratory.intrinsic+json": {
              "type": "string"
            },
            "text/plain": [
              "'the'"
            ]
          },
          "metadata": {},
          "execution_count": 8
        }
      ]
    },
    {
      "cell_type": "code",
      "metadata": {
        "colab": {
          "base_uri": "https://localhost:8080/"
        },
        "id": "Nx4i-8eOd3l-",
        "outputId": "0bdf3bc2-b11e-4b79-ce22-75d5142153a2"
      },
      "source": [
        "matrix[0].shape"
      ],
      "execution_count": null,
      "outputs": [
        {
          "output_type": "execute_result",
          "data": {
            "text/plain": [
              "(100,)"
            ]
          },
          "metadata": {},
          "execution_count": 9
        }
      ]
    },
    {
      "cell_type": "code",
      "metadata": {
        "colab": {
          "base_uri": "https://localhost:8080/"
        },
        "id": "R7QifIpxftQS",
        "outputId": "e636a929-c9e5-4e3c-b604-b028548e88a8"
      },
      "source": [
        "#in thử shape của matrix\n",
        "##Ta có thể thấy bộ từ điển này có 400000, mỗi từ là 1 vecotr có 100 chiều \n",
        "matrix.shape"
      ],
      "execution_count": null,
      "outputs": [
        {
          "output_type": "execute_result",
          "data": {
            "text/plain": [
              "(400000, 100)"
            ]
          },
          "metadata": {},
          "execution_count": 10
        }
      ]
    },
    {
      "cell_type": "code",
      "metadata": {
        "id": "dkWF1TdwfttL"
      },
      "source": [
        "\n",
        "## Gán các mã\n",
        "__PADDED_INDEX__ = 0    # mã dùng cho các vị trí chỉ có tính nối dài cho cùng kích thước\n",
        "__UNKNOWN_WORD__ = 1    # mã cho những từ không có trong embedding"
      ],
      "execution_count": null,
      "outputs": []
    },
    {
      "cell_type": "code",
      "metadata": {
        "id": "ALAcF_1pf9Ey"
      },
      "source": [
        "# Tạo một dictionary, có nhiệm vụ là một ánh xạ từ ảnh sang mã số, mã số được bắt đầu từ 2 vì số 0 và 1 được dành cho trường hợp đặc biệt\n",
        "word_to_index = {word: index+2 for index, word in enumerate(vocab)}"
      ],
      "execution_count": null,
      "outputs": []
    },
    {
      "cell_type": "code",
      "metadata": {
        "colab": {
          "base_uri": "https://localhost:8080/"
        },
        "id": "O251cquWf_fF",
        "outputId": "503e5642-ae69-4d48-d60a-90b330016eea"
      },
      "source": [
        "# Do do mã số được bắt đầu từ 2, nên cần thêm 2 vector vào đàu ma trận\n",
        "embedding_matrix = np.pad(matrix, ((2,0),(0,0)), mode='constant', constant_values =0.0)\n",
        "print(embedding_matrix)"
      ],
      "execution_count": null,
      "outputs": [
        {
          "output_type": "stream",
          "name": "stdout",
          "text": [
            "[[ 0.        0.        0.       ...  0.        0.        0.      ]\n",
            " [ 0.        0.        0.       ...  0.        0.        0.      ]\n",
            " [-0.038194 -0.24487   0.72812  ... -0.1459    0.8278    0.27062 ]\n",
            " ...\n",
            " [ 0.36088  -0.16919  -0.32704  ...  0.27139  -0.29188   0.16109 ]\n",
            " [-0.10461  -0.5047   -0.49331  ...  0.42527  -0.5125   -0.17054 ]\n",
            " [ 0.28365  -0.6263   -0.44351  ...  0.43678  -0.82607  -0.15701 ]]\n"
          ]
        }
      ]
    },
    {
      "cell_type": "code",
      "metadata": {
        "id": "AYd_tIdbgDsd"
      },
      "source": [
        "## Bây giờ ta sẽ chuyển data spam dection thành các mã số\n",
        "\n",
        "X = []\n",
        "for text in tokenized_texts:\n",
        "    cur_text_indices = []\n",
        "    for word in text:\n",
        "        if word in word_to_index:\n",
        "            cur_text_indices.append(word_to_index[word])    ## map từ word sang index\n",
        "        else:\n",
        "            cur_text_indices.append(__UNKNOWN_WORD__)       ## gán unknown cho từ không có trong bộ glove\n",
        "    X.append(cur_text_indices)\n",
        "\n",
        "## pad data cho có cùng chiều dài\n",
        "X = tf.keras.preprocessing.sequence.pad_sequences(sequences=X,       # sequences: list các câu có độ dài không bằng nhau\n",
        "                                                  padding='post')    # vị trí pad là 'pre' (trước) hoặc 'post' (sau)\n",
        "\n",
        "y = df['y'].values   ## Label của bài toán, 0 là không phải spam, 1 là spam"
      ],
      "execution_count": null,
      "outputs": []
    },
    {
      "cell_type": "code",
      "metadata": {
        "id": "Fy3sjsoZhj7X"
      },
      "source": [
        "## Chia data\n",
        "from sklearn.model_selection import train_test_split\n",
        "X_train, X_test, y_train, y_test = train_test_split(X, y, test_size= 0.2, random_state =0)"
      ],
      "execution_count": null,
      "outputs": []
    },
    {
      "cell_type": "code",
      "metadata": {
        "id": "PEzSVa6-Z_NJ"
      },
      "source": [
        "X_train, X_valid, y_train, y_valid = train_test_split(X_train, y_train, test_size= 0.1)"
      ],
      "execution_count": null,
      "outputs": []
    },
    {
      "cell_type": "code",
      "metadata": {
        "colab": {
          "base_uri": "https://localhost:8080/"
        },
        "id": "hqE4Losj2qjP",
        "outputId": "1524e37c-26d4-4e67-9f07-274a6d92d4c6"
      },
      "source": [
        "X_train.shape"
      ],
      "execution_count": null,
      "outputs": [
        {
          "output_type": "execute_result",
          "data": {
            "text/plain": [
              "(4013, 215)"
            ]
          },
          "metadata": {},
          "execution_count": 17
        }
      ]
    },
    {
      "cell_type": "code",
      "metadata": {
        "id": "_Jqhl5ibTtDa"
      },
      "source": [
        "SEQUENCE_LENGTH = 100 # the length of all sequences (number of words per sample)\n",
        "EMBEDDING_SIZE = 100  # Using 100-Dimensional GloVe embedding vectors\n",
        "\n",
        "label2int = {\"ham\": 0, \"spam\": 1}\n",
        "int2label = {0: \"ham\", 1: \"spam\"}\n",
        "\n",
        "tokenizer = Tokenizer()"
      ],
      "execution_count": null,
      "outputs": []
    },
    {
      "cell_type": "code",
      "metadata": {
        "id": "mRBvr-FPTkQO"
      },
      "source": [
        "def get_predictions(text):\n",
        "    sequence = tokenizer.texts_to_sequences([text])\n",
        "    # pad the sequence\n",
        "    sequence = pad_sequences(sequence, maxlen=SEQUENCE_LENGTH)\n",
        "    # get the prediction\n",
        "    prediction = model.predict(sequence)[0]\n",
        "    # one-hot encoded vector, revert using np.argmax\n",
        "    return int2label[np.argmax(prediction)]"
      ],
      "execution_count": null,
      "outputs": []
    },
    {
      "cell_type": "code",
      "metadata": {
        "id": "r60ERY4uqTcU"
      },
      "source": [
        "compare_result = {'acc_lstm':[], 'time_lstm':[], 'acc_gru':[], 'time_gru':[]}"
      ],
      "execution_count": null,
      "outputs": []
    },
    {
      "cell_type": "markdown",
      "metadata": {
        "id": "MqFgqYLHFse0"
      },
      "source": [
        "# LSTM 1"
      ]
    },
    {
      "cell_type": "code",
      "metadata": {
        "colab": {
          "base_uri": "https://localhost:8080/"
        },
        "id": "Mx47LfthhlhL",
        "outputId": "f8b02977-0228-448c-cf3b-54788e842133"
      },
      "source": [
        "inputs = Input(shape=(None,))                   ## None biểu thị kích thước không xác định của câu\n",
        "\n",
        "embed = Embedding(input_dim=embedding_matrix.shape[0],   ## Khai báo kích thước của vocab\n",
        "                 output_dim=embedding_matrix.shape[1],   ## Khai báo kích thước của embedding\n",
        "                  embeddings_initializer = tf.keras.initializers.Constant(value=embedding_matrix),  ## Khởi tạo cho embedding bằng ma trận có sẵn\n",
        "                  trainable=False,                       ## Không cần thiết train embedding\n",
        "                 mask_zero=True)(inputs)                 ## zero_mask: những vị trí có giá trị 0 không được tính toán, vì đó là giá trị thêm vào cho đủ độ dài mà thôi\n",
        "                                                         ##  (__PADDED_INDEX__ gán bằng 0)\n",
        "\n",
        "lstm = LSTM(units=100,                          ## units: kích thước của hidden_state trong LSTM\n",
        "            return_sequences=False)(embed)      ## return_sequences: LSTM trả về toàn bộ  hay là trả về hidden_state cuối cùng\n",
        "\n",
        "dense = Dense(units=2, activation='softmax')(lstm)\n",
        "model = Model(inputs=inputs,\n",
        "              outputs=dense, name='LSTM_1')\n",
        "\n",
        "model.compile(optimizer='adam',\n",
        "             loss='sparse_categorical_crossentropy',\n",
        "             metrics=['accuracy'])\n",
        "model.summary()"
      ],
      "execution_count": null,
      "outputs": [
        {
          "output_type": "stream",
          "name": "stdout",
          "text": [
            "Model: \"LSTM_1\"\n",
            "_________________________________________________________________\n",
            " Layer (type)                Output Shape              Param #   \n",
            "=================================================================\n",
            " input_1 (InputLayer)        [(None, None)]            0         \n",
            "                                                                 \n",
            " embedding (Embedding)       (None, None, 100)         40000200  \n",
            "                                                                 \n",
            " lstm (LSTM)                 (None, 100)               80400     \n",
            "                                                                 \n",
            " dense (Dense)               (None, 2)                 202       \n",
            "                                                                 \n",
            "=================================================================\n",
            "Total params: 40,080,802\n",
            "Trainable params: 80,602\n",
            "Non-trainable params: 40,000,200\n",
            "_________________________________________________________________\n"
          ]
        }
      ]
    },
    {
      "cell_type": "code",
      "metadata": {
        "colab": {
          "base_uri": "https://localhost:8080/"
        },
        "id": "ijmLJcmBimN-",
        "outputId": "dada3040-e020-4db3-9eb0-220b8b429bca"
      },
      "source": [
        "# Checkpoint Callback\n",
        "mc = keras.callbacks.ModelCheckpoint(filepath=\"/content/LSTM_1.hdf5\", \n",
        "                                     monitor='val_loss',\n",
        "                                     mode='min', \n",
        "                                     verbose=0, \n",
        "                                     save_best_only=True)\n",
        "start = time()\n",
        "## Train  ## Khuyến cáo chạy COLAB (hoặc tương tự)\n",
        "history = model.fit(X_train, y_train,\n",
        "                    batch_size=128,\n",
        "                    epochs=10,\n",
        "                    validation_data=(X_valid, y_valid),\n",
        "                    callbacks=[mc])\n",
        "end = time()-start\n",
        "print(end)\n",
        "compare_result['time_lstm'].append(end)   "
      ],
      "execution_count": null,
      "outputs": [
        {
          "output_type": "stream",
          "name": "stdout",
          "text": [
            "Epoch 1/10\n",
            "32/32 [==============================] - 41s 1s/step - loss: 0.2630 - accuracy: 0.9083 - val_loss: 0.1091 - val_accuracy: 0.9596\n",
            "Epoch 2/10\n",
            "32/32 [==============================] - 42s 1s/step - loss: 0.1006 - accuracy: 0.9661 - val_loss: 0.1037 - val_accuracy: 0.9552\n",
            "Epoch 3/10\n",
            "32/32 [==============================] - 60s 2s/step - loss: 0.0919 - accuracy: 0.9701 - val_loss: 0.0591 - val_accuracy: 0.9843\n",
            "Epoch 4/10\n",
            "32/32 [==============================] - 52s 2s/step - loss: 0.0614 - accuracy: 0.9836 - val_loss: 0.0510 - val_accuracy: 0.9821\n",
            "Epoch 5/10\n",
            "32/32 [==============================] - 46s 1s/step - loss: 0.0547 - accuracy: 0.9858 - val_loss: 0.0490 - val_accuracy: 0.9798\n",
            "Epoch 6/10\n",
            "32/32 [==============================] - 1s 33ms/step - loss: 0.0537 - accuracy: 0.9833 - val_loss: 0.1512 - val_accuracy: 0.9283\n",
            "Epoch 7/10\n",
            "32/32 [==============================] - 1s 33ms/step - loss: 0.0601 - accuracy: 0.9796 - val_loss: 0.0560 - val_accuracy: 0.9776\n",
            "Epoch 8/10\n",
            "32/32 [==============================] - 1s 32ms/step - loss: 0.0493 - accuracy: 0.9863 - val_loss: 0.0618 - val_accuracy: 0.9798\n",
            "Epoch 9/10\n",
            "32/32 [==============================] - 52s 2s/step - loss: 0.0393 - accuracy: 0.9895 - val_loss: 0.0398 - val_accuracy: 0.9865\n",
            "Epoch 10/10\n",
            "32/32 [==============================] - 40s 1s/step - loss: 0.0334 - accuracy: 0.9910 - val_loss: 0.0378 - val_accuracy: 0.9888\n",
            "336.06884145736694\n"
          ]
        }
      ]
    },
    {
      "cell_type": "code",
      "metadata": {
        "id": "pJBg44nGgVfC",
        "colab": {
          "base_uri": "https://localhost:8080/",
          "height": 264
        },
        "outputId": "11f33763-84a5-4073-8433-4887981a5acc"
      },
      "source": [
        "f,ax=plt.subplots(2,1) \n",
        "\n",
        "\n",
        "ax[0].plot(history.history['loss'],color='b',label='Training Loss')\n",
        "ax[0].plot(history.history['val_loss'],color='r',label='Validation Loss')\n",
        "ax[0].legend()\n",
        "\n",
        "ax[1].plot(history.history['accuracy'],color='b',label='Training  Accuracy')\n",
        "ax[1].plot(history.history['val_accuracy'],color='r',label='Validation Accuracy')\n",
        "\n",
        "ax[1].legend()\n",
        "plt.show()"
      ],
      "execution_count": null,
      "outputs": [
        {
          "output_type": "display_data",
          "data": {
            "image/png": "[encoded data removed]",
            "text/plain": [
              "<Figure size 432x288 with 2 Axes>"
            ]
          },
          "metadata": {
            "needs_background": "light"
          }
        }
      ]
    },
    {
      "cell_type": "code",
      "metadata": {
        "colab": {
          "base_uri": "https://localhost:8080/"
        },
        "id": "WQ6KHwEQlmzD",
        "outputId": "016d4742-5d7c-47bc-eb0a-7f1134309704"
      },
      "source": [
        "model.load_weights(\"/content/LSTM_1.hdf5\")\n",
        "val_loss, val_acc = model.evaluate(X_test, y_test)\n",
        "print(f\"Accuracy: {val_acc} and loss: {val_loss} on test\")\n",
        "compare_result['acc_lstm'].append(val_acc) "
      ],
      "execution_count": null,
      "outputs": [
        {
          "output_type": "stream",
          "name": "stdout",
          "text": [
            "35/35 [==============================] - 0s 9ms/step - loss: 0.0609 - accuracy: 0.9803\n",
            "Accuracy: 0.9802690744400024 and loss: 0.060885872691869736 on test\n"
          ]
        }
      ]
    },
    {
      "cell_type": "code",
      "metadata": {
        "id": "6fkKBOnNmPHR"
      },
      "source": [
        "quotes = [\n",
        "    \"It is not a lack of love, but a lack of friendship that makes unhappy marriages.\",\n",
        "    \"That which does not kill us makes us stronger.\",\n",
        "    \"I'm not upset that you lied to me, I'm upset that from now on I can't believe you.\",\n",
        "    \"And those who were seen dancing were thought to be insane by those who could not hear the music.\",\n",
        "    \"It is hard enough to remember my opinions, without also remembering my reasons for them!\"\n",
        "]"
      ],
      "execution_count": null,
      "outputs": []
    },
    {
      "cell_type": "code",
      "metadata": {
        "colab": {
          "base_uri": "https://localhost:8080/"
        },
        "id": "GSEtHWbxqh23",
        "outputId": "559b0b73-57ca-4341-9365-5ce5ac5b9f45"
      },
      "source": [
        "SEQUENCE_LENGTH = 100 # the length of all sequences (number of words per sample)\n",
        "\n",
        "for q in quotes:\n",
        "    seq = q.lower()\n",
        "    print(seq)\n",
        "    print(get_predictions(seq))\n",
        "    print()"
      ],
      "execution_count": null,
      "outputs": [
        {
          "output_type": "stream",
          "name": "stdout",
          "text": [
            "it is not a lack of love, but a lack of friendship that makes unhappy marriages.\n",
            "ham\n",
            "\n",
            "that which does not kill us makes us stronger.\n",
            "ham\n",
            "\n",
            "i'm not upset that you lied to me, i'm upset that from now on i can't believe you.\n",
            "ham\n",
            "\n",
            "and those who were seen dancing were thought to be insane by those who could not hear the music.\n",
            "ham\n",
            "\n",
            "it is hard enough to remember my opinions, without also remembering my reasons for them!\n",
            "ham\n",
            "\n"
          ]
        }
      ]
    },
    {
      "cell_type": "code",
      "metadata": {
        "colab": {
          "base_uri": "https://localhost:8080/"
        },
        "id": "HnA5zXalVFn9",
        "outputId": "89aeeae8-9759-444c-938f-e3cb5ac651ac"
      },
      "source": [
        "lstm[2]"
      ],
      "execution_count": null,
      "outputs": [
        {
          "output_type": "execute_result",
          "data": {
            "text/plain": [
              "<KerasTensor: shape=(100,) dtype=float32 (created by layer 'tf.__operators__.getitem')>"
            ]
          },
          "metadata": {},
          "execution_count": 27
        }
      ]
    },
    {
      "cell_type": "code",
      "metadata": {
        "colab": {
          "base_uri": "https://localhost:8080/"
        },
        "id": "QlreisheVMKp",
        "outputId": "82a5a612-a558-40cc-feb4-2f5e4dd155b8"
      },
      "source": [
        "lstm[1]"
      ],
      "execution_count": null,
      "outputs": [
        {
          "output_type": "execute_result",
          "data": {
            "text/plain": [
              "<KerasTensor: shape=(100,) dtype=float32 (created by layer 'tf.__operators__.getitem_1')>"
            ]
          },
          "metadata": {},
          "execution_count": 28
        }
      ]
    },
    {
      "cell_type": "code",
      "metadata": {
        "colab": {
          "base_uri": "https://localhost:8080/"
        },
        "id": "J_9tXtwbV6TS",
        "outputId": "47556f1a-0555-4cf8-c52b-aaaafbb3c8ec"
      },
      "source": [
        "embedding_matrix.shape[0]"
      ],
      "execution_count": null,
      "outputs": [
        {
          "output_type": "execute_result",
          "data": {
            "text/plain": [
              "400002"
            ]
          },
          "metadata": {},
          "execution_count": 29
        }
      ]
    },
    {
      "cell_type": "markdown",
      "metadata": {
        "id": "A1Eu1QcxFxUS"
      },
      "source": [
        "# LSTM 2"
      ]
    },
    {
      "cell_type": "code",
      "metadata": {
        "colab": {
          "base_uri": "https://localhost:8080/"
        },
        "id": "6AjII0JRhnDP",
        "outputId": "bcdbfe9a-9d6e-4146-91a0-2c015f96805a"
      },
      "source": [
        "from tensorflow.keras.layers import Input, Embedding, LSTM, Bidirectional, Dense, GRU, GlobalAveragePooling1D\n",
        "from tensorflow.keras.models import Model\n",
        "\n",
        "# inputs = Input(shape=(100,))                   ## None biểu thị kích thước không xác định của câu\n",
        "inputs = Input(shape=(215,)) \n",
        "embed = Embedding(input_dim=embedding_matrix.shape[0],   ## Khai báo kích thước của vocab\n",
        "                 output_dim=embedding_matrix.shape[1],   ## Khai báo kích thước của embedding\n",
        "                  embeddings_initializer = tf.keras.initializers.Constant(value=embedding_matrix),  ## Khởi tạo cho embedding bằng ma trận có sẵn\n",
        "                  trainable=False,                       ## Không cần thiết train embedding\n",
        "                 mask_zero=True)(inputs)                 ## zero_mask: những vị trí có giá trị 0 không được tính toán, vì đó là giá trị thêm vào cho đủ độ dài mà thôi\n",
        "                                                         ##  (__PADDED_INDEX__ gán bằng 0)\n",
        "\n",
        "lstm = LSTM(units=100,                          ## units: kích thước của hidden_state trong LSTM\n",
        "            return_sequences=True,          \n",
        "           return_state=True)(embed)      ## return_sequences: LSTM trả về toàn bộ  hay là trả về hidden_state cuối cùng\n",
        "                                        ## return_state: in toàn bộ output của hidden_state\n",
        "print(lstm)\n",
        "global_maxpool = GlobalAveragePooling1D()(lstm[0])\n",
        "dense = Dense(units=2, activation='softmax')(global_maxpool)\n",
        "model = Model(inputs=inputs,\n",
        "              outputs=dense, name='LSTM_2')\n",
        "\n",
        "model.compile(optimizer='adam',\n",
        "             loss='sparse_categorical_crossentropy',\n",
        "             metrics=['accuracy'])\n",
        "model.summary()"
      ],
      "execution_count": null,
      "outputs": [
        {
          "output_type": "stream",
          "name": "stdout",
          "text": [
            "[<KerasTensor: shape=(None, 215, 100) dtype=float32 (created by layer 'lstm_1')>, <KerasTensor: shape=(None, 100) dtype=float32 (created by layer 'lstm_1')>, <KerasTensor: shape=(None, 100) dtype=float32 (created by layer 'lstm_1')>]\n",
            "Model: \"LSTM_2\"\n",
            "_________________________________________________________________\n",
            " Layer (type)                Output Shape              Param #   \n",
            "=================================================================\n",
            " input_2 (InputLayer)        [(None, 215)]             0         \n",
            "                                                                 \n",
            " embedding_1 (Embedding)     (None, 215, 100)          40000200  \n",
            "                                                                 \n",
            " lstm_1 (LSTM)               [(None, 215, 100),        80400     \n",
            "                              (None, 100),                       \n",
            "                              (None, 100)]                       \n",
            "                                                                 \n",
            " global_average_pooling1d (G  (None, 100)              0         \n",
            " lobalAveragePooling1D)                                          \n",
            "                                                                 \n",
            " dense_1 (Dense)             (None, 2)                 202       \n",
            "                                                                 \n",
            "=================================================================\n",
            "Total params: 40,080,802\n",
            "Trainable params: 80,602\n",
            "Non-trainable params: 40,000,200\n",
            "_________________________________________________________________\n"
          ]
        }
      ]
    },
    {
      "cell_type": "code",
      "metadata": {
        "colab": {
          "base_uri": "https://localhost:8080/"
        },
        "id": "lw6KrGkQ0Ezs",
        "outputId": "0473aa9d-cc09-45d4-a17d-7567077661bc"
      },
      "source": [
        "# Checkpoint Callback\n",
        "mc = keras.callbacks.ModelCheckpoint(filepath=\"/content/LSTM_2.hdf5\", \n",
        "                                     monitor='val_loss',\n",
        "                                     mode='min', \n",
        "                                     verbose=0, \n",
        "                                     save_best_only=True)\n",
        "start = time()\n",
        "## Train  ## Khuyến cáo chạy COLAB (hoặc tương tự)\n",
        "history = model.fit(X_train, y_train,\n",
        "                    batch_size=128,\n",
        "                    epochs=10,\n",
        "                    validation_data=(X_valid, y_valid),\n",
        "                    callbacks=[mc])\n",
        "end = time()-start\n",
        "print(end)\n",
        "compare_result['time_lstm'].append(end)  "
      ],
      "execution_count": null,
      "outputs": [
        {
          "output_type": "stream",
          "name": "stdout",
          "text": [
            "Epoch 1/10\n",
            "32/32 [==============================] - 54s 2s/step - loss: 0.3530 - accuracy: 0.8537 - val_loss: 0.2511 - val_accuracy: 0.8610\n",
            "Epoch 2/10\n",
            "32/32 [==============================] - 54s 2s/step - loss: 0.1542 - accuracy: 0.9452 - val_loss: 0.1146 - val_accuracy: 0.9664\n",
            "Epoch 3/10\n",
            "32/32 [==============================] - 29s 931ms/step - loss: 0.0918 - accuracy: 0.9723 - val_loss: 0.0860 - val_accuracy: 0.9686\n",
            "Epoch 4/10\n",
            "32/32 [==============================] - 1s 33ms/step - loss: 0.0897 - accuracy: 0.9703 - val_loss: 0.1105 - val_accuracy: 0.9507\n",
            "Epoch 5/10\n",
            "32/32 [==============================] - 29s 932ms/step - loss: 0.0690 - accuracy: 0.9763 - val_loss: 0.0666 - val_accuracy: 0.9753\n",
            "Epoch 6/10\n",
            "32/32 [==============================] - 30s 969ms/step - loss: 0.0572 - accuracy: 0.9818 - val_loss: 0.0657 - val_accuracy: 0.9709\n",
            "Epoch 7/10\n",
            "32/32 [==============================] - 29s 933ms/step - loss: 0.0509 - accuracy: 0.9846 - val_loss: 0.0632 - val_accuracy: 0.9686\n",
            "Epoch 8/10\n",
            "32/32 [==============================] - 29s 923ms/step - loss: 0.0516 - accuracy: 0.9826 - val_loss: 0.0534 - val_accuracy: 0.9776\n",
            "Epoch 9/10\n",
            "32/32 [==============================] - 1s 33ms/step - loss: 0.0456 - accuracy: 0.9875 - val_loss: 0.0589 - val_accuracy: 0.9731\n",
            "Epoch 10/10\n",
            "32/32 [==============================] - 28s 913ms/step - loss: 0.0503 - accuracy: 0.9850 - val_loss: 0.0479 - val_accuracy: 0.9753\n",
            "283.90527296066284\n"
          ]
        }
      ]
    },
    {
      "cell_type": "code",
      "metadata": {
        "id": "L6HPwHfxgX-1",
        "colab": {
          "base_uri": "https://localhost:8080/",
          "height": 264
        },
        "outputId": "9ca71f2e-11be-4219-989a-18d5e3c92a9b"
      },
      "source": [
        "f,ax=plt.subplots(2,1) \n",
        "\n",
        "\n",
        "ax[0].plot(history.history['loss'],color='b',label='Training Loss')\n",
        "ax[0].plot(history.history['val_loss'],color='r',label='Validation Loss')\n",
        "ax[0].legend()\n",
        "\n",
        "ax[1].plot(history.history['accuracy'],color='b',label='Training  Accuracy')\n",
        "ax[1].plot(history.history['val_accuracy'],color='r',label='Validation Accuracy')\n",
        "\n",
        "ax[1].legend()\n",
        "plt.show()"
      ],
      "execution_count": null,
      "outputs": [
        {
          "output_type": "display_data",
          "data": {
            "image/png": "[encoded data removed]",
            "text/plain": [
              "<Figure size 432x288 with 2 Axes>"
            ]
          },
          "metadata": {
            "needs_background": "light"
          }
        }
      ]
    },
    {
      "cell_type": "code",
      "metadata": {
        "colab": {
          "base_uri": "https://localhost:8080/"
        },
        "id": "ljWcpea_N2C1",
        "outputId": "6e8c1ea4-b407-4796-d3d5-8e4140ea10f7"
      },
      "source": [
        "model.load_weights(\"/content/LSTM_2.hdf5\")\n",
        "val_loss, val_acc = model.evaluate(X_test, y_test)\n",
        "print(f\"Accuracy: {val_acc} and loss: {val_loss} on test\")\n",
        "compare_result['acc_lstm'].append(val_acc) "
      ],
      "execution_count": null,
      "outputs": [
        {
          "output_type": "stream",
          "name": "stdout",
          "text": [
            "35/35 [==============================] - 0s 9ms/step - loss: 0.0799 - accuracy: 0.9677\n",
            "Accuracy: 0.9677129983901978 and loss: 0.07988902926445007 on test\n"
          ]
        }
      ]
    },
    {
      "cell_type": "code",
      "metadata": {
        "colab": {
          "base_uri": "https://localhost:8080/"
        },
        "id": "rJzFE6YkhjU2",
        "outputId": "729e0bd0-30cc-493b-dd19-3197928564c2"
      },
      "source": [
        "SEQUENCE_LENGTH = 215\n",
        "for q in quotes:\n",
        "    seq = q.lower()\n",
        "    print(seq)\n",
        "    print(get_predictions(seq))\n",
        "    print()"
      ],
      "execution_count": null,
      "outputs": [
        {
          "output_type": "stream",
          "name": "stdout",
          "text": [
            "it is not a lack of love, but a lack of friendship that makes unhappy marriages.\n",
            "ham\n",
            "\n",
            "that which does not kill us makes us stronger.\n",
            "ham\n",
            "\n",
            "i'm not upset that you lied to me, i'm upset that from now on i can't believe you.\n",
            "ham\n",
            "\n",
            "and those who were seen dancing were thought to be insane by those who could not hear the music.\n",
            "ham\n",
            "\n",
            "it is hard enough to remember my opinions, without also remembering my reasons for them!\n",
            "ham\n",
            "\n"
          ]
        }
      ]
    },
    {
      "cell_type": "markdown",
      "metadata": {
        "id": "S8hM2Wh93PYd"
      },
      "source": [
        "# Bài Tập\n",
        "1. Tìm hiểu về cách dùng của GRU và chạy theo 2 cách hướng dẫn ở trên \n"
      ]
    },
    {
      "cell_type": "markdown",
      "metadata": {
        "id": "77Y0sGHxvA9e"
      },
      "source": [
        "# GRU 1"
      ]
    },
    {
      "cell_type": "code",
      "metadata": {
        "id": "8Y05yfgtgRmI",
        "colab": {
          "base_uri": "https://localhost:8080/"
        },
        "outputId": "502dabda-df42-42fd-cacb-901194c76890"
      },
      "source": [
        "from keras.layers import GRU\n",
        "\n",
        "inputs = Input(shape=(None,))                   ## None biểu thị kích thước không xác định của câu\n",
        "\n",
        "embed = Embedding(input_dim=embedding_matrix.shape[0],   ## Khai báo kích thước của vocab\n",
        "                 output_dim=embedding_matrix.shape[1],   ## Khai báo kích thước của embedding\n",
        "                  embeddings_initializer = tf.keras.initializers.Constant(value=embedding_matrix),  ## Khởi tạo cho embedding bằng ma trận có sẵn\n",
        "                  trainable=False,                       ## Không cần thiết train embedding\n",
        "                 mask_zero=True)(inputs)                 ## zero_mask: những vị trí có giá trị 0 không được tính toán, vì đó là giá trị thêm vào cho đủ độ dài mà thôi\n",
        "                                                         ##  (__PADDED_INDEX__ gán bằng 0)\n",
        "\n",
        "gru = GRU(units=100,                          ## units: kích thước của hidden_state trong GRU\n",
        "            return_sequences=False)(embed)      ## return_sequences: GRU trả về toàn bộ  hay là trả về hidden_state cuối cùng\n",
        "\n",
        "dense = Dense(units=2, activation='softmax')(gru)\n",
        "model = Model(inputs=inputs,\n",
        "              outputs=dense, name='GRU_1')\n",
        "\n",
        "model.compile(optimizer='adam',\n",
        "             loss='sparse_categorical_crossentropy',\n",
        "             metrics=['accuracy'])\n",
        "\n",
        "model.summary()"
      ],
      "execution_count": null,
      "outputs": [
        {
          "output_type": "stream",
          "name": "stdout",
          "text": [
            "Model: \"GRU_1\"\n",
            "_________________________________________________________________\n",
            " Layer (type)                Output Shape              Param #   \n",
            "=================================================================\n",
            " input_3 (InputLayer)        [(None, None)]            0         \n",
            "                                                                 \n",
            " embedding_2 (Embedding)     (None, None, 100)         40000200  \n",
            "                                                                 \n",
            " gru (GRU)                   (None, 100)               60600     \n",
            "                                                                 \n",
            " dense_2 (Dense)             (None, 2)                 202       \n",
            "                                                                 \n",
            "=================================================================\n",
            "Total params: 40,061,002\n",
            "Trainable params: 60,802\n",
            "Non-trainable params: 40,000,200\n",
            "_________________________________________________________________\n"
          ]
        }
      ]
    },
    {
      "cell_type": "code",
      "metadata": {
        "id": "L2XIKghnGWXT",
        "colab": {
          "base_uri": "https://localhost:8080/"
        },
        "outputId": "076904ea-9e17-4d3a-c039-84428287fa93"
      },
      "source": [
        "# Checkpoint Callback\n",
        "mc = keras.callbacks.ModelCheckpoint(filepath=\"/content/GRU_1.hdf5\", \n",
        "                                     monitor='val_loss',\n",
        "                                     mode='min', \n",
        "                                     verbose=0, \n",
        "                                     save_best_only=True)\n",
        "start = time()\n",
        "## Train  ## Khuyến cáo chạy COLAB (hoặc tương tự)\n",
        "history = model.fit(X_train, y_train,\n",
        "                    batch_size=128,\n",
        "                    epochs=10,\n",
        "                    validation_data=(X_valid, y_valid),\n",
        "                    callbacks=[mc])\n",
        "end = time()-start\n",
        "print(end)\n",
        "compare_result['time_gru'].append(end) "
      ],
      "execution_count": null,
      "outputs": [
        {
          "output_type": "stream",
          "name": "stdout",
          "text": [
            "Epoch 1/10\n",
            "32/32 [==============================] - 35s 963ms/step - loss: 0.3364 - accuracy: 0.8512 - val_loss: 0.2894 - val_accuracy: 0.8632\n",
            "Epoch 2/10\n",
            "32/32 [==============================] - 27s 880ms/step - loss: 0.2179 - accuracy: 0.9145 - val_loss: 0.1254 - val_accuracy: 0.9574\n",
            "Epoch 3/10\n",
            "32/32 [==============================] - 28s 903ms/step - loss: 0.1014 - accuracy: 0.9674 - val_loss: 0.0869 - val_accuracy: 0.9731\n",
            "Epoch 4/10\n",
            "32/32 [==============================] - 27s 885ms/step - loss: 0.0742 - accuracy: 0.9763 - val_loss: 0.0483 - val_accuracy: 0.9798\n",
            "Epoch 5/10\n",
            "32/32 [==============================] - 28s 891ms/step - loss: 0.0555 - accuracy: 0.9841 - val_loss: 0.0424 - val_accuracy: 0.9888\n",
            "Epoch 6/10\n",
            "32/32 [==============================] - 1s 29ms/step - loss: 0.0474 - accuracy: 0.9855 - val_loss: 0.0460 - val_accuracy: 0.9843\n",
            "Epoch 7/10\n",
            "32/32 [==============================] - 27s 880ms/step - loss: 0.0421 - accuracy: 0.9883 - val_loss: 0.0377 - val_accuracy: 0.9888\n",
            "Epoch 8/10\n",
            "32/32 [==============================] - 28s 898ms/step - loss: 0.0424 - accuracy: 0.9878 - val_loss: 0.0354 - val_accuracy: 0.9910\n",
            "Epoch 9/10\n",
            "32/32 [==============================] - 29s 921ms/step - loss: 0.0358 - accuracy: 0.9895 - val_loss: 0.0337 - val_accuracy: 0.9910\n",
            "Epoch 10/10\n",
            "32/32 [==============================] - 1s 29ms/step - loss: 0.0267 - accuracy: 0.9930 - val_loss: 0.0368 - val_accuracy: 0.9888\n",
            "266.28504252433777\n"
          ]
        }
      ]
    },
    {
      "cell_type": "code",
      "metadata": {
        "id": "YwxDuDEsgZ-D",
        "colab": {
          "base_uri": "https://localhost:8080/",
          "height": 264
        },
        "outputId": "960bdcd1-5e52-4f3d-8e16-918f4c3ebbfe"
      },
      "source": [
        "f,ax=plt.subplots(2,1) \n",
        "\n",
        "\n",
        "ax[0].plot(history.history['loss'],color='b',label='Training Loss')\n",
        "ax[0].plot(history.history['val_loss'],color='r',label='Validation Loss')\n",
        "ax[0].legend()\n",
        "\n",
        "ax[1].plot(history.history['accuracy'],color='b',label='Training  Accuracy')\n",
        "ax[1].plot(history.history['val_accuracy'],color='r',label='Validation Accuracy')\n",
        "\n",
        "ax[1].legend()\n",
        "plt.show()"
      ],
      "execution_count": null,
      "outputs": [
        {
          "output_type": "display_data",
          "data": {
            "image/png": "[encoded data removed]",
            "text/plain": [
              "<Figure size 432x288 with 2 Axes>"
            ]
          },
          "metadata": {
            "needs_background": "light"
          }
        }
      ]
    },
    {
      "cell_type": "code",
      "metadata": {
        "id": "yA-Z4joNGX6L",
        "colab": {
          "base_uri": "https://localhost:8080/"
        },
        "outputId": "880aa5cd-98c9-448c-fa1a-b260c716beec"
      },
      "source": [
        "model.load_weights(\"/content/GRU_1.hdf5\")\n",
        "val_loss, val_acc = model.evaluate(X_test, y_test)\n",
        "print(f\"Accuracy: {val_acc} and loss: {val_loss} on test\")\n",
        "compare_result['acc_gru'].append(val_acc) "
      ],
      "execution_count": null,
      "outputs": [
        {
          "output_type": "stream",
          "name": "stdout",
          "text": [
            "35/35 [==============================] - 0s 8ms/step - loss: 0.0566 - accuracy: 0.9821\n",
            "Accuracy: 0.9820627570152283 and loss: 0.05661835893988609 on test\n"
          ]
        }
      ]
    },
    {
      "cell_type": "code",
      "metadata": {
        "colab": {
          "base_uri": "https://localhost:8080/"
        },
        "id": "0BPzbpyFazu8",
        "outputId": "4ab716be-1ed5-49b6-ae36-e649c83f99f7"
      },
      "source": [
        "SEQUENCE_LENGTH = 100\n",
        "for q in quotes:\n",
        "    seq = q.lower()\n",
        "    print(seq)\n",
        "    print(get_predictions(seq))\n",
        "    print()"
      ],
      "execution_count": null,
      "outputs": [
        {
          "output_type": "stream",
          "name": "stdout",
          "text": [
            "it is not a lack of love, but a lack of friendship that makes unhappy marriages.\n",
            "ham\n",
            "\n",
            "that which does not kill us makes us stronger.\n",
            "ham\n",
            "\n",
            "i'm not upset that you lied to me, i'm upset that from now on i can't believe you.\n",
            "ham\n",
            "\n",
            "and those who were seen dancing were thought to be insane by those who could not hear the music.\n",
            "ham\n",
            "\n",
            "it is hard enough to remember my opinions, without also remembering my reasons for them!\n",
            "ham\n",
            "\n"
          ]
        }
      ]
    },
    {
      "cell_type": "markdown",
      "metadata": {
        "id": "pPs6TBrnGCeh"
      },
      "source": [
        "# GRU 2"
      ]
    },
    {
      "cell_type": "code",
      "metadata": {
        "id": "K-fFYlflGD5B",
        "colab": {
          "base_uri": "https://localhost:8080/"
        },
        "outputId": "66e4412e-ba1e-40c6-adac-b1791a033c6e"
      },
      "source": [
        "inputs = Input(shape=(215,))                   ## None biểu thị kích thước không xác định của câu\n",
        "\n",
        "embed = Embedding(input_dim=embedding_matrix.shape[0],   ## Khai báo kích thước của vocab\n",
        "                 output_dim=embedding_matrix.shape[1],   ## Khai báo kích thước của embedding\n",
        "                  embeddings_initializer = tf.keras.initializers.Constant(value=embedding_matrix),  ## Khởi tạo cho embedding bằng ma trận có sẵn\n",
        "                  trainable=False,                       ## Không cần thiết train embedding\n",
        "                 mask_zero=True)(inputs)                 ## zero_mask: những vị trí có giá trị 0 không được tính toán, vì đó là giá trị thêm vào cho đủ độ dài mà thôi\n",
        "                                                         ##  (__PADDED_INDEX__ gán bằng 0)\n",
        "\n",
        "gru = GRU(units=100,                          ## units: kích thước của hidden_state trong GRU\n",
        "            return_sequences=True,\n",
        "           return_state=True)(embed)      ## return_sequences: GRU trả về toàn bộ  hay là trả về hidden_state cuối cùng\n",
        "print(gru)\n",
        "global_maxpool = GlobalAveragePooling1D()(gru[0])\n",
        "dense = Dense(units=2, activation='softmax')(global_maxpool)\n",
        "model = Model(inputs=inputs,\n",
        "              outputs=dense, name='GRU_2')\n",
        "\n",
        "model.compile(optimizer='adam',\n",
        "             loss='sparse_categorical_crossentropy',\n",
        "             metrics=['accuracy'])\n",
        "model.summary()"
      ],
      "execution_count": null,
      "outputs": [
        {
          "output_type": "stream",
          "name": "stdout",
          "text": [
            "[<KerasTensor: shape=(None, 215, 100) dtype=float32 (created by layer 'gru_1')>, <KerasTensor: shape=(None, 100) dtype=float32 (created by layer 'gru_1')>]\n",
            "Model: \"GRU_2\"\n",
            "_________________________________________________________________\n",
            " Layer (type)                Output Shape              Param #   \n",
            "=================================================================\n",
            " input_4 (InputLayer)        [(None, 215)]             0         \n",
            "                                                                 \n",
            " embedding_3 (Embedding)     (None, 215, 100)          40000200  \n",
            "                                                                 \n",
            " gru_1 (GRU)                 [(None, 215, 100),        60600     \n",
            "                              (None, 100)]                       \n",
            "                                                                 \n",
            " global_average_pooling1d_1   (None, 100)              0         \n",
            " (GlobalAveragePooling1D)                                        \n",
            "                                                                 \n",
            " dense_3 (Dense)             (None, 2)                 202       \n",
            "                                                                 \n",
            "=================================================================\n",
            "Total params: 40,061,002\n",
            "Trainable params: 60,802\n",
            "Non-trainable params: 40,000,200\n",
            "_________________________________________________________________\n"
          ]
        }
      ]
    },
    {
      "cell_type": "code",
      "metadata": {
        "id": "cvpEaYExGc6Y",
        "colab": {
          "base_uri": "https://localhost:8080/"
        },
        "outputId": "ce2fa736-f6ee-43c9-e493-65d32eb92290"
      },
      "source": [
        "# Checkpoint Callback\n",
        "mc = keras.callbacks.ModelCheckpoint(filepath=\"/content/GRU_2.hdf5\", \n",
        "                                     monitor='val_loss',\n",
        "                                     mode='min', \n",
        "                                     verbose=0, \n",
        "                                     save_best_only=True)\n",
        "start = time()\n",
        "## Train  ## Khuyến cáo chạy COLAB (hoặc tương tự)\n",
        "history = model.fit(X_train, y_train,\n",
        "                    batch_size=128,\n",
        "                    epochs=10,\n",
        "                    validation_data=(X_valid, y_valid),\n",
        "                    callbacks=[mc])\n",
        "end = time()-start\n",
        "print(end)\n",
        "compare_result['time_gru'].append(end)   "
      ],
      "execution_count": null,
      "outputs": [
        {
          "output_type": "stream",
          "name": "stdout",
          "text": [
            "Epoch 1/10\n",
            "32/32 [==============================] - 39s 1s/step - loss: 0.3112 - accuracy: 0.8754 - val_loss: 0.2264 - val_accuracy: 0.9126\n",
            "Epoch 2/10\n",
            "32/32 [==============================] - 30s 961ms/step - loss: 0.1405 - accuracy: 0.9502 - val_loss: 0.1042 - val_accuracy: 0.9731\n",
            "Epoch 3/10\n",
            "32/32 [==============================] - 31s 1s/step - loss: 0.0881 - accuracy: 0.9684 - val_loss: 0.0737 - val_accuracy: 0.9709\n",
            "Epoch 4/10\n",
            "32/32 [==============================] - 30s 970ms/step - loss: 0.0712 - accuracy: 0.9738 - val_loss: 0.0718 - val_accuracy: 0.9709\n",
            "Epoch 5/10\n",
            "32/32 [==============================] - 30s 953ms/step - loss: 0.0610 - accuracy: 0.9801 - val_loss: 0.0558 - val_accuracy: 0.9776\n",
            "Epoch 6/10\n",
            "32/32 [==============================] - 1s 31ms/step - loss: 0.0510 - accuracy: 0.9836 - val_loss: 0.0569 - val_accuracy: 0.9776\n",
            "Epoch 7/10\n",
            "32/32 [==============================] - 31s 1s/step - loss: 0.0514 - accuracy: 0.9846 - val_loss: 0.0477 - val_accuracy: 0.9888\n",
            "Epoch 8/10\n",
            "32/32 [==============================] - 1s 30ms/step - loss: 0.0418 - accuracy: 0.9890 - val_loss: 0.0544 - val_accuracy: 0.9821\n",
            "Epoch 9/10\n",
            "32/32 [==============================] - 1s 29ms/step - loss: 0.0384 - accuracy: 0.9875 - val_loss: 0.0675 - val_accuracy: 0.9753\n",
            "Epoch 10/10\n",
            "32/32 [==============================] - 28s 911ms/step - loss: 0.0323 - accuracy: 0.9923 - val_loss: 0.0420 - val_accuracy: 0.9865\n",
            "265.83434867858887\n"
          ]
        }
      ]
    },
    {
      "cell_type": "code",
      "metadata": {
        "id": "7TajlPwtgbnY",
        "colab": {
          "base_uri": "https://localhost:8080/",
          "height": 264
        },
        "outputId": "4ede001e-8a02-4150-b3ad-2218b7823902"
      },
      "source": [
        "f,ax=plt.subplots(2,1) \n",
        "\n",
        "\n",
        "ax[0].plot(history.history['loss'],color='b',label='Training Loss')\n",
        "ax[0].plot(history.history['val_loss'],color='r',label='Validation Loss')\n",
        "ax[0].legend()\n",
        "\n",
        "ax[1].plot(history.history['accuracy'],color='b',label='Training  Accuracy')\n",
        "ax[1].plot(history.history['val_accuracy'],color='r',label='Validation Accuracy')\n",
        "\n",
        "ax[1].legend()\n",
        "plt.show()"
      ],
      "execution_count": null,
      "outputs": [
        {
          "output_type": "display_data",
          "data": {
            "image/png": "[encoded data removed]",
            "text/plain": [
              "<Figure size 432x288 with 2 Axes>"
            ]
          },
          "metadata": {
            "needs_background": "light"
          }
        }
      ]
    },
    {
      "cell_type": "code",
      "metadata": {
        "id": "Gbj0gdWzGeyx",
        "colab": {
          "base_uri": "https://localhost:8080/"
        },
        "outputId": "7ca00844-269c-4a1c-d129-07061e0f1a68"
      },
      "source": [
        "model.load_weights(\"/content/GRU_2.hdf5\")\n",
        "val_loss, val_acc = model.evaluate(X_test, y_test)\n",
        "print(f\"Accuracy: {val_acc} and loss: {val_loss} on test\")\n",
        "compare_result['acc_gru'].append(val_acc)"
      ],
      "execution_count": null,
      "outputs": [
        {
          "output_type": "stream",
          "name": "stdout",
          "text": [
            "35/35 [==============================] - 0s 9ms/step - loss: 0.0711 - accuracy: 0.9740\n",
            "Accuracy: 0.9739910364151001 and loss: 0.07113027572631836 on test\n"
          ]
        }
      ]
    },
    {
      "cell_type": "code",
      "metadata": {
        "id": "Ad7JkVcPe8uO",
        "colab": {
          "base_uri": "https://localhost:8080/"
        },
        "outputId": "3ec6bfb7-ce4c-437c-e975-f13295d542fd"
      },
      "source": [
        "SEQUENCE_LENGTH = 215\n",
        "for q in quotes:\n",
        "    seq = q.lower()\n",
        "    print(seq)\n",
        "    print(get_predictions(seq))\n",
        "    print()"
      ],
      "execution_count": null,
      "outputs": [
        {
          "output_type": "stream",
          "name": "stdout",
          "text": [
            "it is not a lack of love, but a lack of friendship that makes unhappy marriages.\n",
            "ham\n",
            "\n",
            "that which does not kill us makes us stronger.\n",
            "ham\n",
            "\n",
            "i'm not upset that you lied to me, i'm upset that from now on i can't believe you.\n",
            "ham\n",
            "\n",
            "and those who were seen dancing were thought to be insane by those who could not hear the music.\n",
            "ham\n",
            "\n",
            "it is hard enough to remember my opinions, without also remembering my reasons for them!\n",
            "ham\n",
            "\n"
          ]
        }
      ]
    },
    {
      "cell_type": "code",
      "metadata": {
        "colab": {
          "base_uri": "https://localhost:8080/"
        },
        "id": "_LNURFxEw9VA",
        "outputId": "01d049ac-b68b-49d4-b32d-a0b5dffc2e19"
      },
      "source": [
        "compare_result"
      ],
      "execution_count": null,
      "outputs": [
        {
          "output_type": "execute_result",
          "data": {
            "text/plain": [
              "{'acc_gru': [0.9820627570152283, 0.9739910364151001],\n",
              " 'acc_lstm': [0.9802690744400024, 0.9677129983901978],\n",
              " 'time_gru': [266.28504252433777, 265.83434867858887],\n",
              " 'time_lstm': [336.06884145736694, 283.90527296066284]}"
            ]
          },
          "metadata": {},
          "execution_count": 45
        }
      ]
    },
    {
      "cell_type": "markdown",
      "metadata": {
        "id": "SAONT4NzOPTt"
      },
      "source": [
        "2. So sánh giữa 2 cấu trúc của GRU và LSTM. Từ đó đưa ra kết luận của mình (có dẫn chứng )"
      ]
    },
    {
      "cell_type": "markdown",
      "metadata": {
        "id": "lk-kaOZ2p0ZB"
      },
      "source": [
        "Có thể thấy kết quả ở trên, mức độ hiệu quả của cả LSTM và GRU đều tốt trên tập data spam detection này, nhưng cấu trúc thứ hai ổn định hơn so với cấu trúc thứ nhất vì khi thêm GlobalAveragePooling1D sẽ trả về một vecto đầu ra cố định. Còn về thời gian huấn luyện thì GRU nhanh hơn một chút so với LSTM. "
      ]
    },
    {
      "cell_type": "code",
      "metadata": {
        "id": "RZUZi5NHxCwS"
      },
      "source": [
        ""
      ],
      "execution_count": null,
      "outputs": []
    }
  ]
}