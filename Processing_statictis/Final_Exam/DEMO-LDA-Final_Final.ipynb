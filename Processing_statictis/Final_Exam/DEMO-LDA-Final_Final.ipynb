{
 "cells": [
  {
   "cell_type": "code",
   "execution_count": 1,
   "metadata": {},
   "outputs": [],
   "source": [
    "###----Linear Discriminant Analysis----###\n",
    "#Load các thư viện cần dùng\n",
    "import numpy as np\n",
    "import pandas as pd\n",
    "from sklearn.preprocessing import StandardScaler\n",
    "from sklearn.model_selection import train_test_split\n",
    "import numpy as np\n",
    "from matplotlib import pyplot as plt\n",
    "from scipy.linalg import eigh\n",
    "from matplotlib.colors import ListedColormap\n",
    "from sklearn.linear_model import LogisticRegression\n",
    "from sklearn.discriminant_analysis import LinearDiscriminantAnalysis"
   ]
  },
  {
   "cell_type": "code",
   "execution_count": 2,
   "metadata": {},
   "outputs": [
    {
     "data": {
      "text/html": [
       "<div>\n",
       "<style scoped>\n",
       "    .dataframe tbody tr th:only-of-type {\n",
       "        vertical-align: middle;\n",
       "    }\n",
       "\n",
       "    .dataframe tbody tr th {\n",
       "        vertical-align: top;\n",
       "    }\n",
       "\n",
       "    .dataframe thead th {\n",
       "        text-align: right;\n",
       "    }\n",
       "</style>\n",
       "<table border=\"1\" class=\"dataframe\">\n",
       "  <thead>\n",
       "    <tr style=\"text-align: right;\">\n",
       "      <th></th>\n",
       "      <th>Class label</th>\n",
       "      <th>Alcohol</th>\n",
       "      <th>Malic acid</th>\n",
       "      <th>Ash</th>\n",
       "      <th>Alcalinity of ash</th>\n",
       "      <th>Magnesium</th>\n",
       "      <th>Total phenols</th>\n",
       "      <th>Flavanoids</th>\n",
       "      <th>Nonflavanoid phenols</th>\n",
       "      <th>Proanthocyanins</th>\n",
       "      <th>Color intensity</th>\n",
       "      <th>Hue</th>\n",
       "      <th>OD280/OD315 of diluted wines</th>\n",
       "      <th>Proline</th>\n",
       "    </tr>\n",
       "  </thead>\n",
       "  <tbody>\n",
       "    <tr>\n",
       "      <th>0</th>\n",
       "      <td>1</td>\n",
       "      <td>14.23</td>\n",
       "      <td>1.71</td>\n",
       "      <td>2.43</td>\n",
       "      <td>15.6</td>\n",
       "      <td>127</td>\n",
       "      <td>2.80</td>\n",
       "      <td>3.06</td>\n",
       "      <td>0.28</td>\n",
       "      <td>2.29</td>\n",
       "      <td>5.64</td>\n",
       "      <td>1.04</td>\n",
       "      <td>3.92</td>\n",
       "      <td>1065</td>\n",
       "    </tr>\n",
       "    <tr>\n",
       "      <th>1</th>\n",
       "      <td>1</td>\n",
       "      <td>13.20</td>\n",
       "      <td>1.78</td>\n",
       "      <td>2.14</td>\n",
       "      <td>11.2</td>\n",
       "      <td>100</td>\n",
       "      <td>2.65</td>\n",
       "      <td>2.76</td>\n",
       "      <td>0.26</td>\n",
       "      <td>1.28</td>\n",
       "      <td>4.38</td>\n",
       "      <td>1.05</td>\n",
       "      <td>3.40</td>\n",
       "      <td>1050</td>\n",
       "    </tr>\n",
       "    <tr>\n",
       "      <th>2</th>\n",
       "      <td>1</td>\n",
       "      <td>13.16</td>\n",
       "      <td>2.36</td>\n",
       "      <td>2.67</td>\n",
       "      <td>18.6</td>\n",
       "      <td>101</td>\n",
       "      <td>2.80</td>\n",
       "      <td>3.24</td>\n",
       "      <td>0.30</td>\n",
       "      <td>2.81</td>\n",
       "      <td>5.68</td>\n",
       "      <td>1.03</td>\n",
       "      <td>3.17</td>\n",
       "      <td>1185</td>\n",
       "    </tr>\n",
       "    <tr>\n",
       "      <th>3</th>\n",
       "      <td>1</td>\n",
       "      <td>14.37</td>\n",
       "      <td>1.95</td>\n",
       "      <td>2.50</td>\n",
       "      <td>16.8</td>\n",
       "      <td>113</td>\n",
       "      <td>3.85</td>\n",
       "      <td>3.49</td>\n",
       "      <td>0.24</td>\n",
       "      <td>2.18</td>\n",
       "      <td>7.80</td>\n",
       "      <td>0.86</td>\n",
       "      <td>3.45</td>\n",
       "      <td>1480</td>\n",
       "    </tr>\n",
       "    <tr>\n",
       "      <th>4</th>\n",
       "      <td>1</td>\n",
       "      <td>13.24</td>\n",
       "      <td>2.59</td>\n",
       "      <td>2.87</td>\n",
       "      <td>21.0</td>\n",
       "      <td>118</td>\n",
       "      <td>2.80</td>\n",
       "      <td>2.69</td>\n",
       "      <td>0.39</td>\n",
       "      <td>1.82</td>\n",
       "      <td>4.32</td>\n",
       "      <td>1.04</td>\n",
       "      <td>2.93</td>\n",
       "      <td>735</td>\n",
       "    </tr>\n",
       "  </tbody>\n",
       "</table>\n",
       "</div>"
      ],
      "text/plain": [
       "   Class label  Alcohol  Malic acid   Ash  Alcalinity of ash  Magnesium  \\\n",
       "0            1    14.23        1.71  2.43               15.6        127   \n",
       "1            1    13.20        1.78  2.14               11.2        100   \n",
       "2            1    13.16        2.36  2.67               18.6        101   \n",
       "3            1    14.37        1.95  2.50               16.8        113   \n",
       "4            1    13.24        2.59  2.87               21.0        118   \n",
       "\n",
       "   Total phenols  Flavanoids  Nonflavanoid phenols  Proanthocyanins  \\\n",
       "0           2.80        3.06                  0.28             2.29   \n",
       "1           2.65        2.76                  0.26             1.28   \n",
       "2           2.80        3.24                  0.30             2.81   \n",
       "3           3.85        3.49                  0.24             2.18   \n",
       "4           2.80        2.69                  0.39             1.82   \n",
       "\n",
       "   Color intensity   Hue  OD280/OD315 of diluted wines  Proline  \n",
       "0             5.64  1.04                          3.92     1065  \n",
       "1             4.38  1.05                          3.40     1050  \n",
       "2             5.68  1.03                          3.17     1185  \n",
       "3             7.80  0.86                          3.45     1480  \n",
       "4             4.32  1.04                          2.93      735  "
      ]
     },
     "execution_count": 2,
     "metadata": {},
     "output_type": "execute_result"
    }
   ],
   "source": [
    "#Load dữ liệu\n",
    "df_wine = pd.read_csv('https://archive.ics.uci.edu/ml/'\n",
    "                      'machine-learning-databases/wine/wine.data',\n",
    "                      header=None)\n",
    "#Rename lại tên các cột dữ liệu\n",
    "df_wine.columns = ['Class label', 'Alcohol', 'Malic acid', 'Ash',\n",
    "                   'Alcalinity of ash', 'Magnesium', 'Total phenols',\n",
    "                   'Flavanoids', 'Nonflavanoid phenols', 'Proanthocyanins',\n",
    "                   'Color intensity', 'Hue',\n",
    "                   'OD280/OD315 of diluted wines', 'Proline'] \n",
    "#In ra 5 bản ghi đầu tiên\n",
    "df_wine.head()"
   ]
  },
  {
   "cell_type": "code",
   "execution_count": 3,
   "metadata": {},
   "outputs": [
    {
     "data": {
      "text/plain": [
       "(178, 14)"
      ]
     },
     "execution_count": 3,
     "metadata": {},
     "output_type": "execute_result"
    }
   ],
   "source": [
    "#In ra shape của data, chúng ta có 178 bản ghi với 13 features với 1 cột label\n",
    "df_wine.shape"
   ]
  },
  {
   "cell_type": "code",
   "execution_count": 4,
   "metadata": {},
   "outputs": [
    {
     "data": {
      "text/plain": [
       "2    71\n",
       "1    59\n",
       "3    48\n",
       "Name: Class label, dtype: int64"
      ]
     },
     "execution_count": 4,
     "metadata": {},
     "output_type": "execute_result"
    }
   ],
   "source": [
    "#In ra số lượng từng class\n",
    "df_wine['Class label'].value_counts()"
   ]
  },
  {
   "cell_type": "code",
   "execution_count": 5,
   "metadata": {},
   "outputs": [],
   "source": [
    "#Phân chia dữ liệu bằng train_test_split\n",
    "#Phân tách dữ liệu X là tất cả 13 cột features và y là cột class label\n",
    "X_train, y_train = df_wine.iloc[:, 1:].values, df_wine.iloc[:, 0].values\n"
   ]
  },
  {
   "cell_type": "markdown",
   "metadata": {},
   "source": [
    "Step 1: Chuẩn hóa dữ liệu ($\\textit{d}$-chiều) ($\\textit{d}$ là số feature)."
   ]
  },
  {
   "cell_type": "markdown",
   "metadata": {},
   "source": [
    "Cách tính của StandardScaler là:\n",
    "    \\begin{equation*}\n",
    "        x_{scale}=\\dfrac{x-\\mu}{\\sigma}\n",
    "    \\end{equation*}"
   ]
  },
  {
   "cell_type": "code",
   "execution_count": 6,
   "metadata": {},
   "outputs": [],
   "source": [
    "#Cài đặt StandardScaler\n",
    "sc = StandardScaler()\n",
    "\n",
    "#Transform tập train về  dạng standard bằng cách trừ mean chia cho độ lệch chuẩn\n",
    "X_train_std = sc.fit_transform(X_train)"
   ]
  },
  {
   "cell_type": "code",
   "execution_count": 7,
   "metadata": {},
   "outputs": [],
   "source": [
    "#Phương sai có hiệu chỉnh \n",
    "X_train_std = (X_train - X_train.mean(axis = 0))/X_train.std(axis = 0, ddof = 1)"
   ]
  },
  {
   "cell_type": "markdown",
   "metadata": {},
   "source": [
    "Step 2: Với mỗi class, tính vectơ trung bình $\\textit{d}$ chiều."
   ]
  },
  {
   "cell_type": "markdown",
   "metadata": {},
   "source": [
    "Mỗi vector trung bình $m_i$ chứa các giá trị trung bình\n",
    "theo feature $\\mu_m$ tương ứng với samples của class i\n",
    "\\begin{equation*}\n",
    "m_i=\\dfrac{1}{n_i}\\displaystyle\\sum_{x\\in D_i}^{c}x_m\n",
    "\\end{equation*}"
   ]
  },
  {
   "cell_type": "code",
   "execution_count": 8,
   "metadata": {},
   "outputs": [
    {
     "name": "stdout",
     "output_type": "stream",
     "text": [
      "Mean Vector: Label  1 \n",
      " [[ 0.9166]\n",
      " [-0.2915]\n",
      " [ 0.3247]\n",
      " [-0.7359]\n",
      " [ 0.4619]\n",
      " [ 0.8709]\n",
      " [ 0.9542]\n",
      " [-0.5774]\n",
      " [ 0.5389]\n",
      " [ 0.2028]\n",
      " [ 0.4576]\n",
      " [ 0.7692]\n",
      " [ 1.1712]]\n",
      "Mean Vector: Label  2 \n",
      " [[-0.8892]\n",
      " [-0.3613]\n",
      " [-0.4437]\n",
      " [ 0.2225]\n",
      " [-0.3635]\n",
      " [-0.0579]\n",
      " [ 0.0516]\n",
      " [ 0.0145]\n",
      " [ 0.0688]\n",
      " [-0.8504]\n",
      " [ 0.4324]\n",
      " [ 0.2446]\n",
      " [-0.7221]]\n",
      "Mean Vector: Label  3 \n",
      " [[ 0.1886]\n",
      " [ 0.8928]\n",
      " [ 0.2572]\n",
      " [ 0.5754]\n",
      " [-0.03  ]\n",
      " [-0.9848]\n",
      " [-1.2492]\n",
      " [ 0.6882]\n",
      " [-0.7641]\n",
      " [ 1.0086]\n",
      " [-1.202 ]\n",
      " [-1.3073]\n",
      " [-0.3715]]\n"
     ]
    }
   ],
   "source": [
    "#Hàm tính vectơ trung bình d chiều\n",
    "def calculate_mean_feature(X_train_std,y_train):\n",
    "    #Khai báo mean_vecs là một list rỗng\n",
    "    mean_vecs = []\n",
    "    #Chạy vòng lặp theo số lượng label, ở đây có 3 label.\n",
    "    for label in range(1, 4):\n",
    "        #Nối vào cuối means_vector các vectơ trung bình của từng label theo từng cột\n",
    "        mean_vecs.append(np.mean(X_train_std[y_train == label], axis=0))\n",
    "    return mean_vecs \n",
    "\n",
    "#Xét chỉ hiện 4 chữ số thập phân sau dấu phẩy\n",
    "np.set_printoptions(precision=4)\n",
    "#In ra mean vector cần tính\n",
    "mean_vecs=calculate_mean_feature(X_train_std,y_train)\n",
    "for label in range(1,4):\n",
    "    print('Mean Vector: Label ',label,'\\n', np.array([mean_vecs[label - 1]]).T)"
   ]
  },
  {
   "cell_type": "markdown",
   "metadata": {},
   "source": [
    "Step 3: Xây dựng ma trận phân tán giữa các class $S_B$ (between-class scatter matrix) và ma trận phân tán trong class (within-class scatter matrix) $S_w$."
   ]
  },
  {
   "cell_type": "markdown",
   "metadata": {},
   "source": [
    "Ta sẽ tính ma trận phân tán trong class (Within-class\n",
    "scatter matrix $S_w$):\n",
    "    \\begin{equation*}\n",
    "        S_{w}=\\displaystyle\\sum_{i=1}^{c}S_i\n",
    "    \\end{equation*}\n",
    "Trong đó $S_i$ chính là ma trận phân tán của class i,\n",
    "được tính như sau:\n",
    "    \\begin{equation*}\n",
    "        S_i=\\displaystyle\\sum_{x\\in D_i}^{c}(x-m_i)(x-m_i)^{T}\n",
    "    \\end{equation*}"
   ]
  },
  {
   "cell_type": "markdown",
   "metadata": {},
   "source": [
    "Khi chúng ta chia ma trận phân tán bởi số sample trong class, ta thấy rằng tính ma trận phân tán\n",
    "thực ra là giống như tính ma trận hiệp phương sai (covariance matrix $\\Sigma$):\n",
    "                                                   \\begin{equation*}\n",
    "                                                       \\Sigma=\\dfrac{1}{n_i}S_W=\\dfrac{1}{n_i}\\sum_{x\\in D_i}^{c}(x-m_i)(x-m_i)^{T}\n",
    "                                                   \\end{equation*}"
   ]
  },
  {
   "cell_type": "code",
   "execution_count": 9,
   "metadata": {},
   "outputs": [
    {
     "data": {
      "text/plain": [
       "(13, 13)"
      ]
     },
     "execution_count": 9,
     "metadata": {},
     "output_type": "execute_result"
    }
   ],
   "source": [
    "#Hàm tính ma trận phân tán trong class\n",
    "def build_SW(X_train_std,y_train,mean_vecs):\n",
    "    #Đặt số chiều là số features\n",
    "    d=13\n",
    "    #Khai báo ma trận không, kích thước d x d\n",
    "    S_W = np.zeros((d, d))\n",
    "    for label, mv in zip(range(1, 4), mean_vecs):\n",
    "        class_scatter = np.cov(X_train_std[y_train == label].T)\n",
    "        S_W += class_scatter\n",
    "    return S_W\n",
    "S_W=build_SW(X_train_std,y_train,mean_vecs)\n",
    "S_W.shape"
   ]
  },
  {
   "cell_type": "markdown",
   "metadata": {},
   "source": [
    "Ta sẽ tính ma trận phân tán giữa các class $S_B$ như sau:\\\n",
    "Với $m$ là mean tổng của tất cả sample của tất cả class\n",
    "    \\begin{equation*}\n",
    "        S_B=\\displaystyle\\sum_{i=1}^{c}n_i(m_i-m)(m_i-m)^{T}\n",
    "    \\end{equation*}"
   ]
  },
  {
   "cell_type": "code",
   "execution_count": 10,
   "metadata": {},
   "outputs": [
    {
     "data": {
      "text/plain": [
       "(13, 13)"
      ]
     },
     "execution_count": 10,
     "metadata": {},
     "output_type": "execute_result"
    }
   ],
   "source": [
    "#Hàm tính ma trận phân tán giữa các class\n",
    "def build_SB(X_train_std,y_train,mean_vecs):\n",
    "    #Tính vectơ trung bình của tất cả sample\n",
    "    mean_overall = np.mean(X_train_std, axis=0)\n",
    "    #Khai báo số chiều bằng số features\n",
    "    d = 13\n",
    "    #Khai báo ma trận không, kích cỡ d x d\n",
    "    S_B = np.zeros((d, d))\n",
    "    for i, mean_vec in enumerate(mean_vecs):\n",
    "        n = X_train[y_train == i + 1, :].shape[0]\n",
    "        mean_vec = mean_vec.reshape(d, 1)  \n",
    "        mean_overall = mean_overall.reshape(d, 1)\n",
    "        S_B += n * (mean_vec - mean_overall).dot((mean_vec - mean_overall).T)\n",
    "    return S_B\n",
    "\n",
    "S_B=build_SB(X_train_std,y_train,mean_vecs)\n",
    "S_B.shape"
   ]
  },
  {
   "cell_type": "markdown",
   "metadata": {},
   "source": [
    "Step 4: Tính vectơ riêng và trị riêng tương ứng của ma trận $S_w^{-1}S_B$."
   ]
  },
  {
   "cell_type": "code",
   "execution_count": 11,
   "metadata": {},
   "outputs": [
    {
     "name": "stdout",
     "output_type": "stream",
     "text": [
      "The shape of eigen values:  (13,)\n",
      "The shape of eigen vector:  (13, 13)\n"
     ]
    }
   ],
   "source": [
    "#Hàm tính vectơ riêng, trị riêng của ma trận cần tìm\n",
    "def calculate_eigen(S_B,S_W):\n",
    "    return np.linalg.eig(np.linalg.inv(S_W).dot(S_B))\n",
    "\n",
    "eigen_values,eigen_vector=calculate_eigen(S_B,S_W)\n",
    "print('The shape of eigen values: ',eigen_values.shape)\n",
    "print('The shape of eigen vector: ',eigen_vector.shape)"
   ]
  },
  {
   "cell_type": "markdown",
   "metadata": {},
   "source": [
    "Step 5: Sắp xết các trị riêng giảm dần."
   ]
  },
  {
   "cell_type": "code",
   "execution_count": 12,
   "metadata": {},
   "outputs": [
    {
     "name": "stdout",
     "output_type": "stream",
     "text": [
      "546.4164942544581\n",
      "243.23261924246484\n",
      "9.340226749345777e-14\n",
      "3.728807674126057e-14\n",
      "3.5141673953922935e-14\n",
      "3.100522364061576e-14\n",
      "3.100522364061576e-14\n",
      "1.535015713091948e-14\n",
      "9.485170926622045e-15\n",
      "8.848285748656519e-15\n",
      "8.848285748656519e-15\n",
      "1.9979137577554484e-15\n",
      "0.0\n"
     ]
    }
   ],
   "source": [
    "#Chuyển đổi từ dạng tuple sang list để thuận tiện\n",
    "eigen_pairs = [(np.abs(eigen_values[i]), eigen_vector[:, i])\n",
    "               for i in range(len(eigen_values))]\n",
    "\n",
    "#Sắp xếp các trị riêng giảm dần\n",
    "eigen_pairs = sorted(eigen_pairs, key=lambda k: k[0], reverse=True)\n",
    "\n",
    "#In ra kết quả theo chiều giảm dần các trị riêng\n",
    "for eigen_values in eigen_pairs:\n",
    "    print(eigen_values[0])"
   ]
  },
  {
   "cell_type": "markdown",
   "metadata": {},
   "source": [
    "Step 6: Chọn $\\textit{k}$ vectơ riêng tương ứng với $\\textit{k}$ trị riêng lớn nhất để xây dựng một ma trận chuyển đổi $W$ có $dxk$ chiều."
   ]
  },
  {
   "cell_type": "code",
   "execution_count": 13,
   "metadata": {},
   "outputs": [
    {
     "data": {
      "text/plain": [
       "0.6919737955947028"
      ]
     },
     "execution_count": 13,
     "metadata": {},
     "output_type": "execute_result"
    }
   ],
   "source": [
    "#Ta có thể nhận thấy là có 2 trị riêng lớn hẳn hơn 0\n",
    "#Các trị riêng còn lại đều rất nhỏ.\n",
    "\n",
    "#Lấy các trị riêng ra\n",
    "eigenvalues = [eigenvalues for (eigenvalues, eigenvector) in eigen_pairs]\n",
    "\n",
    "#Đưa về dạng numpy array\n",
    "eigenvalúess = np.array(eigenvalues)\n",
    "\n",
    "#tính tổng tích luỹ các trị riêng\n",
    "cumsum = np.cumsum(eigenvalues)\n",
    "cumsum /= cumsum[-1]\n",
    "cumsum[0]\n",
    "#Ta có thể thấy 2 trị riêng lớn nhất đã capture gần như\n",
    "#100% thông tin, nên ta sẽ lấy 2 trị riêng này "
   ]
  },
  {
   "cell_type": "code",
   "execution_count": 14,
   "metadata": {},
   "outputs": [
    {
     "name": "stdout",
     "output_type": "stream",
     "text": [
      "Matrix W:\n",
      " [[ 0.1301 -0.4225]\n",
      " [-0.0725 -0.1823]\n",
      " [ 0.0411 -0.3905]\n",
      " [-0.21    0.2966]\n",
      " [ 0.011  -0.0077]\n",
      " [-0.1606  0.0109]\n",
      " [ 0.7338  0.2778]\n",
      " [ 0.0764  0.1153]\n",
      " [-0.0236  0.1237]\n",
      " [-0.3032 -0.2793]\n",
      " [ 0.0904  0.2465]\n",
      " [ 0.3717  0.0164]\n",
      " [ 0.3508 -0.5503]]\n",
      "The shape of transformation matrix:  (13, 2)\n"
     ]
    }
   ],
   "source": [
    "#Xếp 2 trị riêng đã chọn thành các cột để tạo ra ma trận\n",
    "#chuyển đổi W\n",
    "w = np.hstack((eigen_pairs[0][1][:, np.newaxis].real,\n",
    "              eigen_pairs[1][1][:, np.newaxis].real))\n",
    "print('Matrix W:\\n', w)\n",
    "print('The shape of transformation matrix: ',w.shape)"
   ]
  },
  {
   "cell_type": "markdown",
   "metadata": {},
   "source": [
    "Step 7: Chiếu mẫu lên không gian con mới sử dụng ma trận chuyển đổi $W$."
   ]
  },
  {
   "cell_type": "markdown",
   "metadata": {},
   "source": [
    "Chúng ta sẽ chuyển đổi tập train bằng cách nhân với ma trận chuyển đổi\n",
    "\\begin{equation*}\n",
    "X'=XW\n",
    "\\end{equation*}"
   ]
  },
  {
   "cell_type": "code",
   "execution_count": 15,
   "metadata": {},
   "outputs": [
    {
     "data": {
      "text/plain": [
       "(178, 2)"
      ]
     },
     "execution_count": 15,
     "metadata": {},
     "output_type": "execute_result"
    }
   ],
   "source": [
    "X_train_lda = X_train_std.dot(w)\n",
    "X_train_lda.shape\n",
    "#Lúc này tập train chỉ còn 2 chiều."
   ]
  },
  {
   "cell_type": "code",
   "execution_count": 16,
   "metadata": {},
   "outputs": [
    {
     "data": {
      "image/png": "[encoded data removed]",
      "text/plain": [
       "<Figure size 432x288 with 1 Axes>"
      ]
     },
     "metadata": {
      "needs_background": "light"
     },
     "output_type": "display_data"
    }
   ],
   "source": [
    "#Chúng ta sẽ minh hoạ tập train sau khi đã thực hiện\n",
    "#LDA lên để xem các class đã phân tách nhau như thế nào\n",
    "\n",
    "#Xét tông màu và markers\n",
    "colors = ['y', 'g', 'r']\n",
    "markers = ['s', 'x', 'o']\n",
    "\n",
    "for l, c, m in zip(np.unique(y_train), colors, markers):\n",
    "    plt.scatter(X_train_lda[y_train == l, 0],\n",
    "                X_train_lda[y_train == l, 1] * (-1),\n",
    "                c=c, label=l, marker=m)\n",
    "\n",
    "plt.xlabel('LD 1')\n",
    "plt.ylabel('LD 2')\n",
    "plt.legend(loc='lower right')\n",
    "plt.title('LDA using function')\n",
    "plt.tight_layout()\n",
    "#Chúng ta có thể thấy các tập đều tách rời nhau"
   ]
  },
  {
   "cell_type": "markdown",
   "metadata": {},
   "source": [
    "So sánh với thuật toán LDA trong thư viện Scikit-Learn"
   ]
  },
  {
   "cell_type": "code",
   "execution_count": 17,
   "metadata": {},
   "outputs": [
    {
     "data": {
      "image/png": "[encoded data removed]",
      "text/plain": [
       "<Figure size 432x288 with 1 Axes>"
      ]
     },
     "metadata": {
      "needs_background": "light"
     },
     "output_type": "display_data"
    }
   ],
   "source": [
    "from sklearn.discriminant_analysis import LinearDiscriminantAnalysis as LDA\n",
    "lda = LDA(n_components=2)\n",
    "X_train_lda_sklearn = lda.fit_transform(X_train_std, y_train)\n",
    "\n",
    "colors = ['r', 'g', 'b']\n",
    "markers = ['s', 'x', 'o']\n",
    "\n",
    "for l, c, m in zip(np.unique(y_train), colors, markers):\n",
    "    plt.scatter(X_train_lda_sklearn[y_train == l, 0],\n",
    "                X_train_lda_sklearn[y_train == l, 1],\n",
    "                c=c, label=l, marker=m)\n",
    "plt.title('LDA using Library Scikit-learn')\n",
    "plt.xlabel('LD 1')\n",
    "plt.ylabel('LD 2')\n",
    "plt.legend(loc='lower right')\n",
    "plt.tight_layout()"
   ]
  },
  {
   "cell_type": "code",
   "execution_count": 18,
   "metadata": {
    "scrolled": false
   },
   "outputs": [
    {
     "data": {
      "text/plain": [
       "['T',\n",
       " '__abs__',\n",
       " '__add__',\n",
       " '__and__',\n",
       " '__array__',\n",
       " '__array_finalize__',\n",
       " '__array_function__',\n",
       " '__array_interface__',\n",
       " '__array_prepare__',\n",
       " '__array_priority__',\n",
       " '__array_struct__',\n",
       " '__array_ufunc__',\n",
       " '__array_wrap__',\n",
       " '__bool__',\n",
       " '__class__',\n",
       " '__complex__',\n",
       " '__contains__',\n",
       " '__copy__',\n",
       " '__deepcopy__',\n",
       " '__delattr__',\n",
       " '__delitem__',\n",
       " '__dir__',\n",
       " '__divmod__',\n",
       " '__doc__',\n",
       " '__eq__',\n",
       " '__float__',\n",
       " '__floordiv__',\n",
       " '__format__',\n",
       " '__ge__',\n",
       " '__getattribute__',\n",
       " '__getitem__',\n",
       " '__gt__',\n",
       " '__hash__',\n",
       " '__iadd__',\n",
       " '__iand__',\n",
       " '__ifloordiv__',\n",
       " '__ilshift__',\n",
       " '__imatmul__',\n",
       " '__imod__',\n",
       " '__imul__',\n",
       " '__index__',\n",
       " '__init__',\n",
       " '__init_subclass__',\n",
       " '__int__',\n",
       " '__invert__',\n",
       " '__ior__',\n",
       " '__ipow__',\n",
       " '__irshift__',\n",
       " '__isub__',\n",
       " '__iter__',\n",
       " '__itruediv__',\n",
       " '__ixor__',\n",
       " '__le__',\n",
       " '__len__',\n",
       " '__lshift__',\n",
       " '__lt__',\n",
       " '__matmul__',\n",
       " '__mod__',\n",
       " '__mul__',\n",
       " '__ne__',\n",
       " '__neg__',\n",
       " '__new__',\n",
       " '__or__',\n",
       " '__pos__',\n",
       " '__pow__',\n",
       " '__radd__',\n",
       " '__rand__',\n",
       " '__rdivmod__',\n",
       " '__reduce__',\n",
       " '__reduce_ex__',\n",
       " '__repr__',\n",
       " '__rfloordiv__',\n",
       " '__rlshift__',\n",
       " '__rmatmul__',\n",
       " '__rmod__',\n",
       " '__rmul__',\n",
       " '__ror__',\n",
       " '__rpow__',\n",
       " '__rrshift__',\n",
       " '__rshift__',\n",
       " '__rsub__',\n",
       " '__rtruediv__',\n",
       " '__rxor__',\n",
       " '__setattr__',\n",
       " '__setitem__',\n",
       " '__setstate__',\n",
       " '__sizeof__',\n",
       " '__str__',\n",
       " '__sub__',\n",
       " '__subclasshook__',\n",
       " '__truediv__',\n",
       " '__xor__',\n",
       " 'all',\n",
       " 'any',\n",
       " 'argmax',\n",
       " 'argmin',\n",
       " 'argpartition',\n",
       " 'argsort',\n",
       " 'astype',\n",
       " 'base',\n",
       " 'byteswap',\n",
       " 'choose',\n",
       " 'clip',\n",
       " 'compress',\n",
       " 'conj',\n",
       " 'conjugate',\n",
       " 'copy',\n",
       " 'ctypes',\n",
       " 'cumprod',\n",
       " 'cumsum',\n",
       " 'data',\n",
       " 'diagonal',\n",
       " 'dot',\n",
       " 'dtype',\n",
       " 'dump',\n",
       " 'dumps',\n",
       " 'fill',\n",
       " 'flags',\n",
       " 'flat',\n",
       " 'flatten',\n",
       " 'getfield',\n",
       " 'imag',\n",
       " 'item',\n",
       " 'itemset',\n",
       " 'itemsize',\n",
       " 'max',\n",
       " 'mean',\n",
       " 'min',\n",
       " 'nbytes',\n",
       " 'ndim',\n",
       " 'newbyteorder',\n",
       " 'nonzero',\n",
       " 'partition',\n",
       " 'prod',\n",
       " 'ptp',\n",
       " 'put',\n",
       " 'ravel',\n",
       " 'real',\n",
       " 'repeat',\n",
       " 'reshape',\n",
       " 'resize',\n",
       " 'round',\n",
       " 'searchsorted',\n",
       " 'setfield',\n",
       " 'setflags',\n",
       " 'shape',\n",
       " 'size',\n",
       " 'sort',\n",
       " 'squeeze',\n",
       " 'std',\n",
       " 'strides',\n",
       " 'sum',\n",
       " 'swapaxes',\n",
       " 'take',\n",
       " 'tobytes',\n",
       " 'tofile',\n",
       " 'tolist',\n",
       " 'tostring',\n",
       " 'trace',\n",
       " 'transpose',\n",
       " 'var',\n",
       " 'view']"
      ]
     },
     "execution_count": 18,
     "metadata": {},
     "output_type": "execute_result"
    }
   ],
   "source": [
    "dir(X_train_lda_sklearn)"
   ]
  },
  {
   "cell_type": "code",
   "execution_count": null,
   "metadata": {},
   "outputs": [],
   "source": []
  }
 ],
 "metadata": {
  "kernelspec": {
   "display_name": "Python 3",
   "language": "python",
   "name": "python3"
  },
  "language_info": {
   "codemirror_mode": {
    "name": "ipython",
    "version": 3
   },
   "file_extension": ".py",
   "mimetype": "text/x-python",
   "name": "python",
   "nbconvert_exporter": "python",
   "pygments_lexer": "ipython3",
   "version": "3.8.3"
  }
 },
 "nbformat": 4,
 "nbformat_minor": 4
}
