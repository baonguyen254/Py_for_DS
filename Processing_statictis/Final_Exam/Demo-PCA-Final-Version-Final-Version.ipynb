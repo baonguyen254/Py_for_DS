{
 "cells": [
  {
   "cell_type": "code",
   "execution_count": 1,
   "metadata": {},
   "outputs": [],
   "source": [
    "# Read data\n",
    "import pandas as pd\n",
    "\n",
    "data = pd.read_csv('https://archive.ics.uci.edu/ml/machine-learning-databases/wine/wine.data', header = None)"
   ]
  },
  {
   "cell_type": "code",
   "execution_count": 2,
   "metadata": {},
   "outputs": [
    {
     "data": {
      "text/html": [
       "<div>\n",
       "<style scoped>\n",
       "    .dataframe tbody tr th:only-of-type {\n",
       "        vertical-align: middle;\n",
       "    }\n",
       "\n",
       "    .dataframe tbody tr th {\n",
       "        vertical-align: top;\n",
       "    }\n",
       "\n",
       "    .dataframe thead th {\n",
       "        text-align: right;\n",
       "    }\n",
       "</style>\n",
       "<table border=\"1\" class=\"dataframe\">\n",
       "  <thead>\n",
       "    <tr style=\"text-align: right;\">\n",
       "      <th></th>\n",
       "      <th>0</th>\n",
       "      <th>1</th>\n",
       "      <th>2</th>\n",
       "      <th>3</th>\n",
       "      <th>4</th>\n",
       "      <th>5</th>\n",
       "      <th>6</th>\n",
       "      <th>7</th>\n",
       "      <th>8</th>\n",
       "      <th>9</th>\n",
       "      <th>10</th>\n",
       "      <th>11</th>\n",
       "      <th>12</th>\n",
       "      <th>13</th>\n",
       "    </tr>\n",
       "  </thead>\n",
       "  <tbody>\n",
       "    <tr>\n",
       "      <th>0</th>\n",
       "      <td>1</td>\n",
       "      <td>14.23</td>\n",
       "      <td>1.71</td>\n",
       "      <td>2.43</td>\n",
       "      <td>15.6</td>\n",
       "      <td>127</td>\n",
       "      <td>2.80</td>\n",
       "      <td>3.06</td>\n",
       "      <td>0.28</td>\n",
       "      <td>2.29</td>\n",
       "      <td>5.64</td>\n",
       "      <td>1.04</td>\n",
       "      <td>3.92</td>\n",
       "      <td>1065</td>\n",
       "    </tr>\n",
       "    <tr>\n",
       "      <th>1</th>\n",
       "      <td>1</td>\n",
       "      <td>13.20</td>\n",
       "      <td>1.78</td>\n",
       "      <td>2.14</td>\n",
       "      <td>11.2</td>\n",
       "      <td>100</td>\n",
       "      <td>2.65</td>\n",
       "      <td>2.76</td>\n",
       "      <td>0.26</td>\n",
       "      <td>1.28</td>\n",
       "      <td>4.38</td>\n",
       "      <td>1.05</td>\n",
       "      <td>3.40</td>\n",
       "      <td>1050</td>\n",
       "    </tr>\n",
       "    <tr>\n",
       "      <th>2</th>\n",
       "      <td>1</td>\n",
       "      <td>13.16</td>\n",
       "      <td>2.36</td>\n",
       "      <td>2.67</td>\n",
       "      <td>18.6</td>\n",
       "      <td>101</td>\n",
       "      <td>2.80</td>\n",
       "      <td>3.24</td>\n",
       "      <td>0.30</td>\n",
       "      <td>2.81</td>\n",
       "      <td>5.68</td>\n",
       "      <td>1.03</td>\n",
       "      <td>3.17</td>\n",
       "      <td>1185</td>\n",
       "    </tr>\n",
       "    <tr>\n",
       "      <th>3</th>\n",
       "      <td>1</td>\n",
       "      <td>14.37</td>\n",
       "      <td>1.95</td>\n",
       "      <td>2.50</td>\n",
       "      <td>16.8</td>\n",
       "      <td>113</td>\n",
       "      <td>3.85</td>\n",
       "      <td>3.49</td>\n",
       "      <td>0.24</td>\n",
       "      <td>2.18</td>\n",
       "      <td>7.80</td>\n",
       "      <td>0.86</td>\n",
       "      <td>3.45</td>\n",
       "      <td>1480</td>\n",
       "    </tr>\n",
       "    <tr>\n",
       "      <th>4</th>\n",
       "      <td>1</td>\n",
       "      <td>13.24</td>\n",
       "      <td>2.59</td>\n",
       "      <td>2.87</td>\n",
       "      <td>21.0</td>\n",
       "      <td>118</td>\n",
       "      <td>2.80</td>\n",
       "      <td>2.69</td>\n",
       "      <td>0.39</td>\n",
       "      <td>1.82</td>\n",
       "      <td>4.32</td>\n",
       "      <td>1.04</td>\n",
       "      <td>2.93</td>\n",
       "      <td>735</td>\n",
       "    </tr>\n",
       "  </tbody>\n",
       "</table>\n",
       "</div>"
      ],
      "text/plain": [
       "   0      1     2     3     4    5     6     7     8     9     10    11    12  \\\n",
       "0   1  14.23  1.71  2.43  15.6  127  2.80  3.06  0.28  2.29  5.64  1.04  3.92   \n",
       "1   1  13.20  1.78  2.14  11.2  100  2.65  2.76  0.26  1.28  4.38  1.05  3.40   \n",
       "2   1  13.16  2.36  2.67  18.6  101  2.80  3.24  0.30  2.81  5.68  1.03  3.17   \n",
       "3   1  14.37  1.95  2.50  16.8  113  3.85  3.49  0.24  2.18  7.80  0.86  3.45   \n",
       "4   1  13.24  2.59  2.87  21.0  118  2.80  2.69  0.39  1.82  4.32  1.04  2.93   \n",
       "\n",
       "     13  \n",
       "0  1065  \n",
       "1  1050  \n",
       "2  1185  \n",
       "3  1480  \n",
       "4   735  "
      ]
     },
     "execution_count": 2,
     "metadata": {},
     "output_type": "execute_result"
    }
   ],
   "source": [
    "# Read data description: https://archive.ics.uci.edu/ml/datasets/wine\n",
    "# Columns names (1 - 13): Alcohol, Malic acid, Ash, Alcalinity of ash, Magnesium, Total phenols, Flavanoids\n",
    "# Nonflavanoid phenols, Proanthocyanins, Color intensity, Hue, OD280/OD315 of diluted wines, Proline\n",
    "# Label column (column 0): Wine quality\n",
    "data.head()"
   ]
  },
  {
   "cell_type": "code",
   "execution_count": 3,
   "metadata": {},
   "outputs": [],
   "source": [
    "X, y = data.iloc[:, 1:].values, data.iloc[:, 0].values"
   ]
  },
  {
   "cell_type": "markdown",
   "metadata": {},
   "source": [
    "# Nhắc lại các bước của thuật toán PCA:\n",
    "1. Chuẩn hóa dữ liệu\n",
    "2. Xây dựng ma trận hiệp phương sai từ dữ liệu đã được chuẩn hoá\n",
    "3. Tìm các vectơ riêng, trị riêng của ma trận hiệp phương sai\n",
    "4. Xây dựng tập trực chuẩn từ tập hợp các vecto trên\n",
    "5. Sắp xếp các trị riêng theo chiều tăng dần\n",
    "6. Chọn k vectơ riêng đầu tiên ứng với k trị riêng đầu tiên trong bộ trị riêng có thứ tự ở bước trên (k << d)\n",
    "7. Xây dựng ma trận chiếu W từ các vectơ riêng trên\n",
    "8. Tìm hình chiếu Y của ma trận dữ liệu X trong không gian mới sinh bởi ma trận W, Y = WX"
   ]
  },
  {
   "cell_type": "code",
   "execution_count": 4,
   "metadata": {},
   "outputs": [],
   "source": [
    "from sklearn.preprocessing import StandardScaler\n",
    "# Chuẩn hóa dữ liệu\n",
    "sc = StandardScaler()\n",
    "\n",
    "X_std = sc.fit_transform(X)\n"
   ]
  },
  {
   "cell_type": "code",
   "execution_count": 5,
   "metadata": {},
   "outputs": [
    {
     "data": {
      "text/plain": [
       "array([[ 1.51861254, -0.5622498 ,  0.23205254, ...,  0.36217728,\n",
       "         1.84791957,  1.01300893],\n",
       "       [ 0.24628963, -0.49941338, -0.82799632, ...,  0.40605066,\n",
       "         1.1134493 ,  0.96524152],\n",
       "       [ 0.19687903,  0.02123125,  1.10933436, ...,  0.31830389,\n",
       "         0.78858745,  1.39514818],\n",
       "       ...,\n",
       "       [ 0.33275817,  1.74474449, -0.38935541, ..., -1.61212515,\n",
       "        -1.48544548,  0.28057537],\n",
       "       [ 0.20923168,  0.22769377,  0.01273209, ..., -1.56825176,\n",
       "        -1.40069891,  0.29649784],\n",
       "       [ 1.39508604,  1.58316512,  1.36520822, ..., -1.52437837,\n",
       "        -1.42894777, -0.59516041]])"
      ]
     },
     "execution_count": 5,
     "metadata": {},
     "output_type": "execute_result"
    }
   ],
   "source": [
    "(X - X.mean(axis = 0))/X.std(axis = 0, ddof = 0)"
   ]
  },
  {
   "cell_type": "code",
   "execution_count": 6,
   "metadata": {},
   "outputs": [
    {
     "data": {
      "text/plain": [
       "True"
      ]
     },
     "execution_count": 6,
     "metadata": {},
     "output_type": "execute_result"
    }
   ],
   "source": [
    "# sklearn dùng phương sai không hiệu chỉnh!\n",
    "(X_std == (X - X.mean(axis = 0))/X.std(axis = 0, ddof = 0)).all()"
   ]
  },
  {
   "cell_type": "code",
   "execution_count": 7,
   "metadata": {},
   "outputs": [],
   "source": [
    "# Ta sẽ dùng phương sai có hiệu chỉnh\n",
    "# Xem thêm: https://numpy.org/doc/stable/reference/generated/numpy.std.html\n",
    "\n",
    "X_std = (X - X.mean(axis = 0))/X.std(axis = 0, ddof = 1)"
   ]
  },
  {
   "cell_type": "code",
   "execution_count": 8,
   "metadata": {},
   "outputs": [],
   "source": [
    "import numpy as np\n",
    "from matplotlib import pyplot as plt\n",
    "\n",
    "def covariance(X):\n",
    "    '''\n",
    "        Tính ma trận hiệp phương sai của dữ liệu\n",
    "        -----------------------\n",
    "        Các tham số:\n",
    "            X: numpy-ndarray\n",
    "                Ma trận dữ liệu, trong đó mỗi dòng là một quan sát\n",
    "        -----------------------\n",
    "        Trả về: numpy-ndarray\n",
    "            Ma trận hiệp phương sai\n",
    "    '''\n",
    "    return np.cov(X.T)\n",
    "    # Có thể dùng thay thế: return np.cov(X, rowvar = False)\n",
    "    # Tham số rowvar được mặc định để là True, khi đó mỗi dòng của ma trận là một biến, mỗi cột là một quan sát\n",
    "    # Xem thêm: https://numpy.org/doc/stable/reference/generated/numpy.cov.html\n",
    "\n",
    "def calculateEigen(Sigma):\n",
    "    '''\n",
    "        Tính trị riêng và vectơ riêng của ma trận đối xứng\n",
    "        -----------------------\n",
    "        Các tham số:\n",
    "            Sigma: numpy-ndarray\n",
    "                Ma trận đối xứng cần tính\n",
    "        -----------------------\n",
    "        Trả về: list of tuples\n",
    "            Một danh sách các bộ có thứ tự, trong đó mỗi bộ gồm (trị riêng, vectơ riêng ứng với trị riêng đó)\n",
    "    '''\n",
    "    return np.linalg.eig(Sigma)\n",
    "    # Nguyên nhân ta dùng np.linalg.eigh thay vì np.linalg.eig đã được nói trong slide \n",
    "\n",
    "def PCAMethod(X, k = None):\n",
    "    '''\n",
    "        Thực hiện thuật toán PCA\n",
    "        -----------------------\n",
    "        Các tham số:\n",
    "            X: numpy-ndarray\n",
    "                Ma trận dữ liệu trong đó mỗi dòng là một quan sát\n",
    "            k: int, default: None\n",
    "                Số vectơ thành phần chính\n",
    "        -----------------------\n",
    "        Trả về:\n",
    "            Kết quả của thuật toán PCA, là một danh sách các bộ có thứ tự, \n",
    "            trong đó mỗi bộ gồm (trị riêng, vectơ riêng ứng với trị riêng đó).\n",
    "            \n",
    "            Nếu tham số k là None thì trả về toàn bộ danh sách, ngược lại, ta chỉ lấy k phần tử đầu tiên\n",
    "    '''\n",
    "    \n",
    "    # 1) Tính ma trận hiệp phương sai mẫu\n",
    "    Sigma = covariance(X)\n",
    "    # 2) Tìm trị riêng, vectơ riêng của ma trận hiệp phương sai mẫu\n",
    "    eigenvals, eigenvecs = calculateEigen(Sigma)\n",
    "    print(eigenvals)\n",
    "    # 3) Sắp xếp cặp (trị riêng, vectơ riêng) với trị riêng theo chiều giảm dần\n",
    "    eigenpairs = [(abs(eigenval), eigenvec) for (eigenval, eigenvec) in zip(eigenvals, eigenvecs.T)]\n",
    "    eigenpairs = sorted(eigenpairs, key = lambda pair: pair[0], reverse = True)\n",
    "\n",
    "    if k is None:\n",
    "        return eigenpairs\n",
    "    else:\n",
    "        return eigenpairs[:k]\n",
    "\n",
    "def findNumPC(eigenpairs, thres = 0.95):\n",
    "    '''\n",
    "        Tìm số lượng vectơ thành phần chính\n",
    "        -----------------------\n",
    "        Các tham số:\n",
    "            eigenpairs: list-like\n",
    "                Cặp (trị riêng, vectơ riêng) có từ thuật toán PCA\n",
    "            thres: float, default = 0.95\n",
    "                Ngưỡng thông tin ta muốn giữ lại từ dữ liệu (mặc định ta giữ lại 95% dữ liệu ban đầu)\n",
    "        -----------------------\n",
    "        Trả về:\n",
    "            Số lượng vectơ thành phần chính\n",
    "    '''\n",
    "    # 1) Lấy ra các trị riêng\n",
    "    eigenvals = [eigenval for (eigenval, _) in eigenpairs]\n",
    "    print(eigenvals)\n",
    "    eigenvals = np.array(eigenvals)\n",
    "    print(eigenvals)\n",
    "    # 2) Tính tổng dồn các trị riêng\n",
    "    cumsum = np.cumsum(eigenvals)\n",
    "    # 3) Tính phần trăm\n",
    "    cumsum /= cumsum[-1]\n",
    "\n",
    "    # 4) Lặp từng phần tử trong cumsum, khi nào phần trăm cộng dồn vừa đến ngưỡng thì ta dừng\n",
    "    for i, val in enumerate(cumsum):\n",
    "        if val >= thres:\n",
    "            return i + 1\n",
    "\n",
    "def construct_W(eigenpairs):\n",
    "    '''\n",
    "        Xây dựng ma trận chiếu W từ cặp (trị riêng, vectơ riêng) có được từ thuật toán PCA\n",
    "        -----------------------\n",
    "        Các tham số:\n",
    "            eigenpairs: list-like\n",
    "                Danh sách các cặp (trị riêng, vectơ riêng) có từ thuật toán PCA\n",
    "        -----------------------\n",
    "        Trả về: numpy-ndarray\n",
    "            Ma trận phép chiếu W trong đó mỗi dòng là một vectơ riêng\n",
    "    '''\n",
    "    eigenvecs = [eigenvec for (_, eigenvec) in eigenpairs]\n",
    "    W = np.array([e.T for e in eigenvecs])\n",
    "    return W\n",
    "\n",
    "def screeplot(eigenpairs):\n",
    "    '''\n",
    "        Vẽ đồ thị scree\n",
    "        -----------------------\n",
    "        Tham số:\n",
    "            eigenpairs: list-like\n",
    "                Cặp (trị riêng, vectơ riêng) có từ thuật toán PCA\n",
    "        -----------------------\n",
    "        Trả về: None\n",
    "            Vễ đồ thị scree biểu diễn lượng thông tin có được ứng với mỗi vectơ riêng\n",
    "    '''\n",
    "    fig, axes = plt.subplots(nrows = 2, ncols = 1, figsize = (10, 8), sharex = True)\n",
    "    eigenvals = [eigenval for (eigenval, _) in eigenpairs]\n",
    "    eigenvals = np.array(eigenvals)\n",
    "    cumsum = np.cumsum(eigenvals)\n",
    "    cumsum /= cumsum[-1]\n",
    "\n",
    "    axes[0].plot(range(len(eigenvals)), eigenvals, marker = '.', color = 'b', label = 'Eigenvalue')\n",
    "    axes[1].plot(range(len(cumsum)), cumsum, marker = '.', color = 'r', label = 'Cumulative propotion')\n",
    "\n",
    "    axes[0].legend()\n",
    "    axes[1].legend()\n",
    "    plt.show()"
   ]
  },
  {
   "cell_type": "code",
   "execution_count": 9,
   "metadata": {},
   "outputs": [
    {
     "name": "stdout",
     "output_type": "stream",
     "text": [
      "[4.70585025 2.49697373 1.44607197 0.91897392 0.85322818 0.64165703\n",
      " 0.55102831 0.34849736 0.10337794 0.16877023 0.28887994 0.22578864\n",
      " 0.25090248]\n"
     ]
    }
   ],
   "source": [
    "eigenpairs = PCAMethod(X_std)"
   ]
  },
  {
   "cell_type": "code",
   "execution_count": 10,
   "metadata": {},
   "outputs": [
    {
     "data": {
      "image/png": "[encoded data removed]",
      "text/plain": [
       "<Figure size 720x576 with 2 Axes>"
      ]
     },
     "metadata": {
      "needs_background": "light"
     },
     "output_type": "display_data"
    }
   ],
   "source": [
    "# Nhận xét: Đồ thị scree khá thoải, dẫn đến việc ta cần nhiều trị riêng để giữ nhiều thông tin của dữ liệu\n",
    "screeplot(eigenpairs)"
   ]
  },
  {
   "cell_type": "code",
   "execution_count": 11,
   "metadata": {},
   "outputs": [
    {
     "name": "stdout",
     "output_type": "stream",
     "text": [
      "0.9999999999999998\n",
      "8.326672684688674e-17\n",
      "3.469446951953614e-17\n",
      "-1.8041124150158794e-16\n",
      "-1.3183898417423734e-16\n",
      "-2.7755575615628914e-17\n",
      "-2.636779683484747e-16\n",
      "-2.983724378680108e-16\n",
      "-1.1102230246251565e-16\n",
      "-2.914335439641036e-16\n",
      "1.6653345369377348e-16\n",
      "-2.220446049250313e-16\n",
      "2.220446049250313e-16\n",
      "--------------------------------------------------\n",
      "8.326672684688674e-17\n",
      "0.9999999999999998\n",
      "-1.942890293094024e-16\n",
      "3.2612801348363973e-16\n",
      "-3.2439329000766293e-16\n",
      "1.97758476261356e-16\n",
      "-2.0816681711721685e-16\n",
      "-2.7755575615628914e-17\n",
      "-2.220446049250313e-16\n",
      "1.249000902703301e-16\n",
      "-2.498001805406602e-16\n",
      "-8.326672684688674e-17\n",
      "1.1449174941446927e-16\n",
      "--------------------------------------------------\n",
      "3.469446951953614e-17\n",
      "-1.942890293094024e-16\n",
      "1.0000000000000002\n",
      "1.6653345369377348e-16\n",
      "-1.942890293094024e-16\n",
      "3.677613769070831e-16\n",
      "-1.1102230246251565e-16\n",
      "-4.85722573273506e-16\n",
      "-1.1796119636642288e-16\n",
      "2.0816681711721685e-16\n",
      "-5.134781488891349e-16\n",
      "1.3877787807814457e-16\n",
      "0.0\n",
      "--------------------------------------------------\n",
      "-1.8041124150158794e-16\n",
      "3.2612801348363973e-16\n",
      "1.6653345369377348e-16\n",
      "0.9999999999999998\n",
      "-6.938893903907228e-16\n",
      "6.106226635438361e-16\n",
      "-3.885780586188048e-16\n",
      "6.661338147750939e-16\n",
      "-4.85722573273506e-16\n",
      "2.7755575615628914e-16\n",
      "-3.608224830031759e-16\n",
      "2.220446049250313e-16\n",
      "-3.608224830031759e-16\n",
      "--------------------------------------------------\n",
      "-1.3183898417423734e-16\n",
      "-3.2439329000766293e-16\n",
      "-1.942890293094024e-16\n",
      "-6.938893903907228e-16\n",
      "1.0\n",
      "-4.85722573273506e-16\n",
      "1.6653345369377348e-16\n",
      "-2.914335439641036e-16\n",
      "1.6653345369377348e-16\n",
      "2.0816681711721685e-16\n",
      "-1.6653345369377348e-16\n",
      "5.551115123125783e-17\n",
      "1.249000902703301e-16\n",
      "--------------------------------------------------\n",
      "-2.7755575615628914e-17\n",
      "1.97758476261356e-16\n",
      "3.677613769070831e-16\n",
      "6.106226635438361e-16\n",
      "-4.85722573273506e-16\n",
      "1.0\n",
      "-1.3322676295501878e-15\n",
      "9.818534874028728e-16\n",
      "3.0531133177191805e-16\n",
      "-5.863365348801608e-16\n",
      "0.0\n",
      "3.608224830031759e-16\n",
      "1.6653345369377348e-16\n",
      "--------------------------------------------------\n",
      "-2.636779683484747e-16\n",
      "-2.0816681711721685e-16\n",
      "-1.1102230246251565e-16\n",
      "-3.885780586188048e-16\n",
      "1.6653345369377348e-16\n",
      "-1.3322676295501878e-15\n",
      "1.0\n",
      "-5.689893001203927e-16\n",
      "-5.134781488891349e-16\n",
      "2.0816681711721685e-17\n",
      "-9.540979117872439e-17\n",
      "8.326672684688674e-17\n",
      "-2.5326962749261384e-16\n",
      "--------------------------------------------------\n",
      "-2.983724378680108e-16\n",
      "-2.7755575615628914e-17\n",
      "-4.85722573273506e-16\n",
      "6.661338147750939e-16\n",
      "-2.914335439641036e-16\n",
      "9.818534874028728e-16\n",
      "-5.689893001203927e-16\n",
      "1.0\n",
      "1.5126788710517758e-15\n",
      "-7.216449660063518e-16\n",
      "-1.6653345369377348e-16\n",
      "-7.632783294297951e-16\n",
      "7.216449660063518e-16\n",
      "--------------------------------------------------\n",
      "-1.1102230246251565e-16\n",
      "-2.220446049250313e-16\n",
      "-1.1796119636642288e-16\n",
      "-4.85722573273506e-16\n",
      "1.6653345369377348e-16\n",
      "3.0531133177191805e-16\n",
      "-5.134781488891349e-16\n",
      "1.5126788710517758e-15\n",
      "0.9999999999999999\n",
      "-4.649058915617843e-15\n",
      "9.43689570931383e-16\n",
      "1.249000902703301e-16\n",
      "-8.604228440844963e-16\n",
      "--------------------------------------------------\n",
      "-2.914335439641036e-16\n",
      "1.249000902703301e-16\n",
      "2.0816681711721685e-16\n",
      "2.7755575615628914e-16\n",
      "2.0816681711721685e-16\n",
      "-5.863365348801608e-16\n",
      "2.0816681711721685e-17\n",
      "-7.216449660063518e-16\n",
      "-4.649058915617843e-15\n",
      "1.0\n",
      "4.038436252074007e-15\n",
      "1.2490009027033011e-15\n",
      "7.771561172376096e-16\n",
      "--------------------------------------------------\n",
      "1.6653345369377348e-16\n",
      "-2.498001805406602e-16\n",
      "-5.134781488891349e-16\n",
      "-3.608224830031759e-16\n",
      "-1.6653345369377348e-16\n",
      "0.0\n",
      "-9.540979117872439e-17\n",
      "-1.6653345369377348e-16\n",
      "9.43689570931383e-16\n",
      "4.038436252074007e-15\n",
      "0.9999999999999998\n",
      "-1.3183898417423734e-15\n",
      "-8.604228440844963e-16\n",
      "--------------------------------------------------\n",
      "-2.220446049250313e-16\n",
      "-8.326672684688674e-17\n",
      "1.3877787807814457e-16\n",
      "2.220446049250313e-16\n",
      "5.551115123125783e-17\n",
      "3.608224830031759e-16\n",
      "8.326672684688674e-17\n",
      "-7.632783294297951e-16\n",
      "1.249000902703301e-16\n",
      "1.2490009027033011e-15\n",
      "-1.3183898417423734e-15\n",
      "0.9999999999999999\n",
      "-1.582067810090848e-15\n",
      "--------------------------------------------------\n",
      "2.220446049250313e-16\n",
      "1.1449174941446927e-16\n",
      "0.0\n",
      "-3.608224830031759e-16\n",
      "1.249000902703301e-16\n",
      "1.6653345369377348e-16\n",
      "-2.5326962749261384e-16\n",
      "7.216449660063518e-16\n",
      "-8.604228440844963e-16\n",
      "7.771561172376096e-16\n",
      "-8.604228440844963e-16\n",
      "-1.582067810090848e-15\n",
      "1.0\n",
      "--------------------------------------------------\n"
     ]
    }
   ],
   "source": [
    "# Kiểm chứng sự trực chuẩn của họ các vectơ riêng\n",
    "# Sự trực chuẩn này có được là nhờ sử dụng hàm np.linalg.eigh\n",
    "\n",
    "eigenvecs = [eigenvec for (_, eigenvec) in eigenpairs]\n",
    "\n",
    "for vec_x in eigenvecs:\n",
    "    for vec_y in eigenvecs:\n",
    "        print(vec_x.T.dot(vec_y))\n",
    "    print('-' * 50)"
   ]
  },
  {
   "cell_type": "code",
   "execution_count": 12,
   "metadata": {},
   "outputs": [
    {
     "name": "stdout",
     "output_type": "stream",
     "text": [
      "[4.705850252990425, 2.496973733411161, 1.4460719697124977, 0.9189739237528225, 0.8532281783543179, 0.6416570314989337, 0.5510283119410323, 0.348497363289252, 0.2888799426226624, 0.25090248221273026, 0.22578863969868884, 0.1687702348285476, 0.10337793568692862]\n",
      "[4.70585025 2.49697373 1.44607197 0.91897392 0.85322818 0.64165703\n",
      " 0.55102831 0.34849736 0.28887994 0.25090248 0.22578864 0.16877023\n",
      " 0.10337794]\n"
     ]
    },
    {
     "data": {
      "text/plain": [
       "10"
      ]
     },
     "execution_count": 12,
     "metadata": {},
     "output_type": "execute_result"
    }
   ],
   "source": [
    "# Cần 10 vectơ chính ta mới có thể giữ lại 95% thông tin của dữ liệu\n",
    "findNumPC(eigenpairs, thres = 0.95)"
   ]
  },
  {
   "cell_type": "code",
   "execution_count": 13,
   "metadata": {},
   "outputs": [
    {
     "data": {
      "text/plain": [
       "3"
      ]
     },
     "execution_count": 13,
     "metadata": {},
     "output_type": "execute_result"
    }
   ],
   "source": [
    "import numpy as np\n",
    "a = np.array([0,1,2,3,4,5,6,7,8,9])\n",
    "np.cumsum(a)[2]\n"
   ]
  },
  {
   "cell_type": "code",
   "execution_count": 14,
   "metadata": {},
   "outputs": [
    {
     "name": "stdout",
     "output_type": "stream",
     "text": [
      "[4.70585025 2.49697373 1.44607197 0.91897392 0.85322818 0.64165703\n",
      " 0.55102831 0.34849736 0.28887994 0.25090248 0.22578864 0.16877023\n",
      " 0.10337794]\n"
     ]
    },
    {
     "data": {
      "text/plain": [
       "0.6652996889318527"
      ]
     },
     "execution_count": 14,
     "metadata": {},
     "output_type": "execute_result"
    }
   ],
   "source": [
    "# Ta chỉ giữ lại 66% dữ liệu khi lấy 2 vectơ chính\n",
    "eigenvals = [eigenval for (eigenval, _) in eigenpairs]\n",
    "eigenvals = np.array(eigenvals)\n",
    "print(eigenvals)\n",
    "# 2) Tính tổng dồn các trị riêng\n",
    "cumsum = np.cumsum(eigenvals)\n",
    "# 3) Tính phần trăm\n",
    "cumsum /= cumsum[-1]\n",
    "\n",
    "cumsum[2]"
   ]
  },
  {
   "cell_type": "code",
   "execution_count": 15,
   "metadata": {},
   "outputs": [
    {
     "name": "stdout",
     "output_type": "stream",
     "text": [
      "[4.70585025 2.49697373 1.44607197 0.91897392 0.85322818 0.64165703\n",
      " 0.55102831 0.34849736 0.10337794 0.16877023 0.28887994 0.22578864\n",
      " 0.25090248]\n"
     ]
    }
   ],
   "source": [
    "# Để dễ trực quan, ta sẽ dùng 2 vectơ, tức chỉ giữ lại 66% thông tin của dữ liệu\n",
    "eigenpairs = PCAMethod(X_std, k = 2)\n",
    "W = construct_W(eigenpairs)"
   ]
  },
  {
   "cell_type": "code",
   "execution_count": 16,
   "metadata": {},
   "outputs": [],
   "source": [
    "X_pca = W.dot(X_std.T)\n",
    "X_pca = X_pca.T"
   ]
  },
  {
   "cell_type": "code",
   "execution_count": 17,
   "metadata": {},
   "outputs": [
    {
     "data": {
      "text/plain": [
       "(178, 2)"
      ]
     },
     "execution_count": 17,
     "metadata": {},
     "output_type": "execute_result"
    }
   ],
   "source": [
    "X_pca.shape"
   ]
  },
  {
   "cell_type": "code",
   "execution_count": 18,
   "metadata": {
    "scrolled": false
   },
   "outputs": [
    {
     "data": {
      "image/png": "[encoded data removed]",
      "text/plain": [
       "<Figure size 720x576 with 1 Axes>"
      ]
     },
     "metadata": {
      "needs_background": "light"
     },
     "output_type": "display_data"
    }
   ],
   "source": [
    "colors = ['r', 'b', 'g']\n",
    "markers = ['s', 'x', 'o']\n",
    "\n",
    "fig, ax = plt.subplots(figsize = (10, 8))\n",
    "\n",
    "for l, c, m in zip(np.unique(y), colors, markers):\n",
    "    ax.scatter(X_pca[y == l, 0], X_pca[y == l, 1], c = c, label = l, marker = m)\n",
    "ax.set(xlabel = 'PC 1', ylabel = 'PC 2')\n",
    "plt.legend(loc='lower left')\n",
    "plt.show()"
   ]
  },
  {
   "cell_type": "markdown",
   "metadata": {},
   "source": [
    "# So sánh với hàm thư viện"
   ]
  },
  {
   "cell_type": "code",
   "execution_count": 19,
   "metadata": {},
   "outputs": [],
   "source": [
    "from sklearn.decomposition import PCA\n",
    "\n",
    "pca = PCA(n_components = 2)\n",
    "X_pca = pca.fit_transform(X_std)"
   ]
  },
  {
   "cell_type": "code",
   "execution_count": 20,
   "metadata": {},
   "outputs": [
    {
     "data": {
      "image/png": "[encoded data removed]",
      "text/plain": [
       "<Figure size 720x576 with 1 Axes>"
      ]
     },
     "metadata": {
      "needs_background": "light"
     },
     "output_type": "display_data"
    }
   ],
   "source": [
    "colors = ['r', 'b', 'g']\n",
    "markers = ['s', 'x', 'o']\n",
    "\n",
    "fig, ax = plt.subplots(figsize = (10, 8))\n",
    "\n",
    "for l, c, m in zip(np.unique(y), colors, markers):\n",
    "    ax.scatter(X_pca[y == l, 0]*(-1), X_pca[y == l, 1]*(-1), c = c, label = l, marker = m)\n",
    "ax.set(xlabel = 'PC 1', ylabel = 'PC 2')\n",
    "plt.legend(loc='lower left')\n",
    "plt.show()"
   ]
  },
  {
   "cell_type": "code",
   "execution_count": null,
   "metadata": {},
   "outputs": [],
   "source": []
  }
 ],
 "metadata": {
  "kernelspec": {
   "display_name": "Python 3",
   "language": "python",
   "name": "python3"
  },
  "language_info": {
   "codemirror_mode": {
    "name": "ipython",
    "version": 3
   },
   "file_extension": ".py",
   "mimetype": "text/x-python",
   "name": "python",
   "nbconvert_exporter": "python",
   "pygments_lexer": "ipython3",
   "version": "3.7.9"
  }
 },
 "nbformat": 4,
 "nbformat_minor": 4
}
