{
 "cells": [
  {
   "cell_type": "code",
   "execution_count": 47,
   "metadata": {},
   "outputs": [],
   "source": [
    "import numpy as np\n",
    "from numpy.random import randn"
   ]
  },
  {
   "cell_type": "code",
   "execution_count": 46,
   "metadata": {},
   "outputs": [],
   "source": [
    "# Create ndarray, pass a list objects into the array() method \n",
    "names = np.array(['Bob', 'Joe', 'Will', 'Bob', 'Will', 'Joe', 'Joe']) \n"
   ]
  },
  {
   "cell_type": "code",
   "execution_count": 19,
   "metadata": {},
   "outputs": [
    {
     "data": {
      "text/plain": [
       "array([[ 0.45458939, -0.45934074, -0.58018593,  0.32799179],\n",
       "       [-0.59585869, -0.60380541, -0.07232276,  0.81464442],\n",
       "       [-2.83281838,  0.86558939, -0.06453426, -2.24688031],\n",
       "       [-0.6189538 ,  1.03881246, -0.15386808,  0.9265009 ],\n",
       "       [-1.19842156, -0.48208815, -1.13004477,  1.78282575],\n",
       "       [ 1.24971655,  0.99225303,  0.28732829, -1.7132989 ],\n",
       "       [ 0.95578037,  0.66493227, -0.60896727,  0.67895099]])"
      ]
     },
     "execution_count": 19,
     "metadata": {},
     "output_type": "execute_result"
    }
   ],
   "source": [
    "# Creates an array of specified shape(7,4) \n",
    "#and fills it with random values as per standard normal distribution.\n",
    "data = randn(7, 4) "
   ]
  },
  {
   "cell_type": "code",
   "execution_count": 20,
   "metadata": {},
   "outputs": [
    {
     "data": {
      "text/plain": [
       "array(['Bob', 'Joe', 'Will', 'Bob', 'Will', 'Joe', 'Joe'], dtype='<U4')"
      ]
     },
     "execution_count": 20,
     "metadata": {},
     "output_type": "execute_result"
    }
   ],
   "source": [
    "# Recall variable 'names' before.\n",
    "names"
   ]
  },
  {
   "cell_type": "code",
   "execution_count": 25,
   "metadata": {},
   "outputs": [
    {
     "data": {
      "text/plain": [
       "array([[ 0.45458939, -0.45934074, -0.58018593,  0.32799179],\n",
       "       [-0.59585869, -0.60380541, -0.07232276,  0.81464442],\n",
       "       [-2.83281838,  0.86558939, -0.06453426, -2.24688031],\n",
       "       [-0.6189538 ,  1.03881246, -0.15386808,  0.9265009 ],\n",
       "       [-1.19842156, -0.48208815, -1.13004477,  1.78282575],\n",
       "       [ 1.24971655,  0.99225303,  0.28732829, -1.7132989 ],\n",
       "       [ 0.95578037,  0.66493227, -0.60896727,  0.67895099]])"
      ]
     },
     "execution_count": 25,
     "metadata": {},
     "output_type": "execute_result"
    }
   ],
   "source": [
    "# Recall variable 'data' before.\n",
    "data"
   ]
  },
  {
   "cell_type": "code",
   "execution_count": 24,
   "metadata": {},
   "outputs": [
    {
     "data": {
      "text/plain": [
       "array([ True, False, False,  True, False, False, False])"
      ]
     },
     "execution_count": 24,
     "metadata": {},
     "output_type": "execute_result"
    }
   ],
   "source": [
    "# Comparing names with the string 'Bob' yields a boolean array.\n",
    "names == 'Bob'"
   ]
  },
  {
   "cell_type": "code",
   "execution_count": 26,
   "metadata": {},
   "outputs": [
    {
     "data": {
      "text/plain": [
       "array([[ 0.45458939, -0.45934074, -0.58018593,  0.32799179],\n",
       "       [-0.6189538 ,  1.03881246, -0.15386808,  0.9265009 ]])"
      ]
     },
     "execution_count": 26,
     "metadata": {},
     "output_type": "execute_result"
    }
   ],
   "source": [
    "#The same as: data[[True, False, False, True, False, False, False]]\n",
    "#and this just means to get row 0 and row 4 from data.\n",
    "data[names == 'Bob']"
   ]
  },
  {
   "cell_type": "code",
   "execution_count": 27,
   "metadata": {},
   "outputs": [
    {
     "data": {
      "text/plain": [
       "array([[-0.58018593,  0.32799179],\n",
       "       [-0.15386808,  0.9265009 ]])"
      ]
     },
     "execution_count": 27,
     "metadata": {},
     "output_type": "execute_result"
    }
   ],
   "source": [
    "# Gives the same rows, but now restricts the columns to start with column 2. \n",
    "data[names == 'Bob', 2:]"
   ]
  },
  {
   "cell_type": "code",
   "execution_count": 28,
   "metadata": {},
   "outputs": [
    {
     "data": {
      "text/plain": [
       "array([0.32799179, 0.9265009 ])"
      ]
     },
     "execution_count": 28,
     "metadata": {},
     "output_type": "execute_result"
    }
   ],
   "source": [
    "# Before the comma concerns the rows, after the comma concerns the columns.\n",
    "data[names == 'Bob', 3]"
   ]
  },
  {
   "cell_type": "code",
   "execution_count": 31,
   "metadata": {},
   "outputs": [
    {
     "data": {
      "text/plain": [
       "array([False,  True,  True, False,  True,  True,  True])"
      ]
     },
     "execution_count": 31,
     "metadata": {},
     "output_type": "execute_result"
    }
   ],
   "source": [
    "# Comparing names with the string 'Bob' yields a boolean array.\n",
    "names != 'Bob'"
   ]
  },
  {
   "cell_type": "code",
   "execution_count": 34,
   "metadata": {},
   "outputs": [
    {
     "data": {
      "text/plain": [
       "array([[-0.59585869, -0.60380541, -0.07232276,  0.81464442],\n",
       "       [-2.83281838,  0.86558939, -0.06453426, -2.24688031],\n",
       "       [-1.19842156, -0.48208815, -1.13004477,  1.78282575],\n",
       "       [ 1.24971655,  0.99225303,  0.28732829, -1.7132989 ],\n",
       "       [ 0.95578037,  0.66493227, -0.60896727,  0.67895099]])"
      ]
     },
     "execution_count": 34,
     "metadata": {},
     "output_type": "execute_result"
    }
   ],
   "source": [
    "# The same as: data[[False,  True,  True, False,  True,  True,  True]]\n",
    "#and this just means to get row 1,2,4,5 and row 6 from data.\n",
    "data[~(names == 'Bob')]"
   ]
  },
  {
   "cell_type": "code",
   "execution_count": 37,
   "metadata": {},
   "outputs": [],
   "source": [
    "# Combine multiple boolean conditions, names with the string 'Bob' or names with the string 'Will'.\n",
    "mask = (names == 'Bob') | (names == 'Will')"
   ]
  },
  {
   "cell_type": "code",
   "execution_count": 39,
   "metadata": {},
   "outputs": [
    {
     "data": {
      "text/plain": [
       "array([ True, False,  True,  True,  True, False, False])"
      ]
     },
     "execution_count": 39,
     "metadata": {},
     "output_type": "execute_result"
    }
   ],
   "source": [
    "# Recall variable 'mask' before\n",
    "mask"
   ]
  },
  {
   "cell_type": "code",
   "execution_count": 40,
   "metadata": {},
   "outputs": [
    {
     "data": {
      "text/plain": [
       "array([[ 0.45458939, -0.45934074, -0.58018593,  0.32799179],\n",
       "       [-2.83281838,  0.86558939, -0.06453426, -2.24688031],\n",
       "       [-0.6189538 ,  1.03881246, -0.15386808,  0.9265009 ],\n",
       "       [-1.19842156, -0.48208815, -1.13004477,  1.78282575]])"
      ]
     },
     "execution_count": 40,
     "metadata": {},
     "output_type": "execute_result"
    }
   ],
   "source": [
    "# The same as: data[[ True, False,  True,  True,  True, False, False]]\n",
    "data[mask]"
   ]
  },
  {
   "cell_type": "code",
   "execution_count": 41,
   "metadata": {},
   "outputs": [],
   "source": [
    "# Set all of the negative values in data to 0\n",
    "data[data < 0] = 0"
   ]
  },
  {
   "cell_type": "code",
   "execution_count": 42,
   "metadata": {},
   "outputs": [
    {
     "data": {
      "text/plain": [
       "array([[0.45458939, 0.        , 0.        , 0.32799179],\n",
       "       [0.        , 0.        , 0.        , 0.81464442],\n",
       "       [0.        , 0.86558939, 0.        , 0.        ],\n",
       "       [0.        , 1.03881246, 0.        , 0.9265009 ],\n",
       "       [0.        , 0.        , 0.        , 1.78282575],\n",
       "       [1.24971655, 0.99225303, 0.28732829, 0.        ],\n",
       "       [0.95578037, 0.66493227, 0.        , 0.67895099]])"
      ]
     },
     "execution_count": 42,
     "metadata": {},
     "output_type": "execute_result"
    }
   ],
   "source": [
    "# Recall variable 'data' before\n",
    "data"
   ]
  },
  {
   "cell_type": "code",
   "execution_count": 43,
   "metadata": {},
   "outputs": [],
   "source": [
    "# Set all of the different values 'Joe' in data to 7\n",
    "data[names != 'Joe'] = 7"
   ]
  },
  {
   "cell_type": "code",
   "execution_count": 44,
   "metadata": {},
   "outputs": [
    {
     "data": {
      "text/plain": [
       "array([[7.        , 7.        , 7.        , 7.        ],\n",
       "       [0.        , 0.        , 0.        , 0.81464442],\n",
       "       [7.        , 7.        , 7.        , 7.        ],\n",
       "       [7.        , 7.        , 7.        , 7.        ],\n",
       "       [7.        , 7.        , 7.        , 7.        ],\n",
       "       [1.24971655, 0.99225303, 0.28732829, 0.        ],\n",
       "       [0.95578037, 0.66493227, 0.        , 0.67895099]])"
      ]
     },
     "execution_count": 44,
     "metadata": {},
     "output_type": "execute_result"
    }
   ],
   "source": [
    "# Recall variable 'data' before\n",
    "data"
   ]
  }
 ],
 "metadata": {
  "kernelspec": {
   "display_name": "Python 3",
   "language": "python",
   "name": "python3"
  },
  "language_info": {
   "codemirror_mode": {
    "name": "ipython",
    "version": 3
   },
   "file_extension": ".py",
   "mimetype": "text/x-python",
   "name": "python",
   "nbconvert_exporter": "python",
   "pygments_lexer": "ipython3",
   "version": "3.8.3"
  }
 },
 "nbformat": 4,
 "nbformat_minor": 4
}
