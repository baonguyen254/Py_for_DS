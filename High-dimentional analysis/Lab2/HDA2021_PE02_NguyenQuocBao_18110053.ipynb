{
 "cells": [
  {
   "cell_type": "markdown",
   "metadata": {},
   "source": [
    "## HIGH DIMENSIONAL ANALYSIS\n",
    "### Programming Exercise: 02\n",
    "### Nguyễn Quốc Bảo - 18110053"
   ]
  },
  {
   "cell_type": "markdown",
   "metadata": {},
   "source": [
    " "
   ]
  },
  {
   "cell_type": "markdown",
   "metadata": {},
   "source": [
    " "
   ]
  },
  {
   "cell_type": "markdown",
   "metadata": {},
   "source": [
    " "
   ]
  },
  {
   "cell_type": "markdown",
   "metadata": {},
   "source": [
    " "
   ]
  },
  {
   "cell_type": "markdown",
   "metadata": {},
   "source": [
    "# Table of Content\n",
    "1. Introduction\n",
    "2. Read data\n",
    "3. apply Linear Discriminant Analysis\n",
    "4. comparison between LDA and PCA"
   ]
  },
  {
   "cell_type": "markdown",
   "metadata": {},
   "source": [
    "# Introduction\n",
    "\n",
    "The Iris flower data set is a multivariate data set introduced by the British statistician and biologist Ronald Fisher in his 1936 paper The use of multiple measurements in taxonomic problems. It is sometimes called Anderson's Iris data set because Edgar Anderson collected the data to quantify the morphologic variation of Iris flowers of three related species. The data set consists of 50 samples from each of three species of Iris (Iris Setosa, Iris virginica, and Iris versicolor). Four features were measured from each sample: the length and the width of the sepals and petals, in centimeters\n",
    "\n",
    "#### Apply Linear Discriminant Analysis algorithm on the Iris flower dataset. Make a comparison between LDA and PCA projected samples."
   ]
  },
  {
   "cell_type": "markdown",
   "metadata": {},
   "source": [
    "# Import library"
   ]
  },
  {
   "cell_type": "code",
   "execution_count": 1,
   "metadata": {},
   "outputs": [],
   "source": [
    "import pandas as pd\n",
    "import numpy as np\n",
    "import matplotlib.pyplot as plt\n",
    "import seaborn as sns\n",
    "from sklearn.preprocessing import StandardScaler"
   ]
  },
  {
   "cell_type": "markdown",
   "metadata": {},
   "source": [
    " "
   ]
  },
  {
   "cell_type": "markdown",
   "metadata": {},
   "source": [
    "# Read data"
   ]
  },
  {
   "cell_type": "code",
   "execution_count": 2,
   "metadata": {},
   "outputs": [
    {
     "name": "stdout",
     "output_type": "stream",
     "text": [
      "(150, 5)\n"
     ]
    },
    {
     "data": {
      "text/html": [
       "<div>\n",
       "<style scoped>\n",
       "    .dataframe tbody tr th:only-of-type {\n",
       "        vertical-align: middle;\n",
       "    }\n",
       "\n",
       "    .dataframe tbody tr th {\n",
       "        vertical-align: top;\n",
       "    }\n",
       "\n",
       "    .dataframe thead th {\n",
       "        text-align: right;\n",
       "    }\n",
       "</style>\n",
       "<table border=\"1\" class=\"dataframe\">\n",
       "  <thead>\n",
       "    <tr style=\"text-align: right;\">\n",
       "      <th></th>\n",
       "      <th>sepal length</th>\n",
       "      <th>sepal width</th>\n",
       "      <th>petal length</th>\n",
       "      <th>petal width</th>\n",
       "      <th>label</th>\n",
       "    </tr>\n",
       "  </thead>\n",
       "  <tbody>\n",
       "    <tr>\n",
       "      <th>0</th>\n",
       "      <td>5.1</td>\n",
       "      <td>3.5</td>\n",
       "      <td>1.4</td>\n",
       "      <td>0.2</td>\n",
       "      <td>Iris-setosa</td>\n",
       "    </tr>\n",
       "    <tr>\n",
       "      <th>1</th>\n",
       "      <td>4.9</td>\n",
       "      <td>3.0</td>\n",
       "      <td>1.4</td>\n",
       "      <td>0.2</td>\n",
       "      <td>Iris-setosa</td>\n",
       "    </tr>\n",
       "    <tr>\n",
       "      <th>2</th>\n",
       "      <td>4.7</td>\n",
       "      <td>3.2</td>\n",
       "      <td>1.3</td>\n",
       "      <td>0.2</td>\n",
       "      <td>Iris-setosa</td>\n",
       "    </tr>\n",
       "    <tr>\n",
       "      <th>3</th>\n",
       "      <td>4.6</td>\n",
       "      <td>3.1</td>\n",
       "      <td>1.5</td>\n",
       "      <td>0.2</td>\n",
       "      <td>Iris-setosa</td>\n",
       "    </tr>\n",
       "    <tr>\n",
       "      <th>4</th>\n",
       "      <td>5.0</td>\n",
       "      <td>3.6</td>\n",
       "      <td>1.4</td>\n",
       "      <td>0.2</td>\n",
       "      <td>Iris-setosa</td>\n",
       "    </tr>\n",
       "  </tbody>\n",
       "</table>\n",
       "</div>"
      ],
      "text/plain": [
       "   sepal length  sepal width  petal length  petal width        label\n",
       "0           5.1          3.5           1.4          0.2  Iris-setosa\n",
       "1           4.9          3.0           1.4          0.2  Iris-setosa\n",
       "2           4.7          3.2           1.3          0.2  Iris-setosa\n",
       "3           4.6          3.1           1.5          0.2  Iris-setosa\n",
       "4           5.0          3.6           1.4          0.2  Iris-setosa"
      ]
     },
     "execution_count": 2,
     "metadata": {},
     "output_type": "execute_result"
    }
   ],
   "source": [
    "path = './iris.data'\n",
    "data = pd.read_csv(path,  names=['sepal length', 'sepal width', 'petal length','petal width','label'])\n",
    "print(data.shape)\n",
    "data.head()"
   ]
  },
  {
   "cell_type": "code",
   "execution_count": 3,
   "metadata": {},
   "outputs": [
    {
     "name": "stdout",
     "output_type": "stream",
     "text": [
      "<class 'pandas.core.frame.DataFrame'>\n",
      "RangeIndex: 150 entries, 0 to 149\n",
      "Data columns (total 5 columns):\n",
      " #   Column        Non-Null Count  Dtype  \n",
      "---  ------        --------------  -----  \n",
      " 0   sepal length  150 non-null    float64\n",
      " 1   sepal width   150 non-null    float64\n",
      " 2   petal length  150 non-null    float64\n",
      " 3   petal width   150 non-null    float64\n",
      " 4   label         150 non-null    object \n",
      "dtypes: float64(4), object(1)\n",
      "memory usage: 6.0+ KB\n"
     ]
    }
   ],
   "source": [
    "data.info()"
   ]
  },
  {
   "cell_type": "code",
   "execution_count": 4,
   "metadata": {},
   "outputs": [
    {
     "data": {
      "text/plain": [
       "sepal length    0\n",
       "sepal width     0\n",
       "petal length    0\n",
       "petal width     0\n",
       "label           0\n",
       "dtype: int64"
      ]
     },
     "execution_count": 4,
     "metadata": {},
     "output_type": "execute_result"
    }
   ],
   "source": [
    "# Check null\n",
    "data.isnull().sum()"
   ]
  },
  {
   "cell_type": "markdown",
   "metadata": {},
   "source": [
    " "
   ]
  },
  {
   "cell_type": "code",
   "execution_count": 5,
   "metadata": {},
   "outputs": [
    {
     "data": {
      "text/plain": [
       "(150, 4)"
      ]
     },
     "execution_count": 5,
     "metadata": {},
     "output_type": "execute_result"
    }
   ],
   "source": [
    "# split label from dataset\n",
    "X = data.drop(['label'],axis=1).values\n",
    "y = data.label.values\n",
    "X.shape"
   ]
  },
  {
   "cell_type": "code",
   "execution_count": 6,
   "metadata": {},
   "outputs": [],
   "source": [
    "#convert các feature từ string sang int\n",
    "from sklearn import preprocessing\n",
    "le = preprocessing.LabelEncoder()\n",
    "y = le.fit_transform(y)\n"
   ]
  },
  {
   "cell_type": "code",
   "execution_count": 7,
   "metadata": {},
   "outputs": [
    {
     "data": {
      "text/plain": [
       "array([0, 1, 2])"
      ]
     },
     "execution_count": 7,
     "metadata": {},
     "output_type": "execute_result"
    }
   ],
   "source": [
    "np.unique(y)"
   ]
  },
  {
   "cell_type": "markdown",
   "metadata": {},
   "source": [
    " "
   ]
  },
  {
   "cell_type": "markdown",
   "metadata": {},
   "source": [
    " # Apply LDA"
   ]
  },
  {
   "cell_type": "markdown",
   "metadata": {},
   "source": [
    " "
   ]
  },
  {
   "cell_type": "markdown",
   "metadata": {},
   "source": [
    "Mỗi vector trung bình $m_i$ chứa các giá trị trung bình\n",
    "theo feature $\\mu_m$ tương ứng với samples của class i\n",
    "\\begin{equation*}\n",
    "m_i=\\dfrac{1}{n_i}\\displaystyle\\sum_{x\\in D_i}^{c}x_m\n",
    "\\end{equation*}\n",
    "\n",
    "Ta sẽ tính ma trận phân tán trong class (Within-class\n",
    "scatter matrix $S_w$):\n",
    "    \\begin{equation*}\n",
    "        S_{w}=\\displaystyle\\sum_{i=1}^{c}S_i\n",
    "    \\end{equation*}\n",
    "Trong đó $S_i$ chính là ma trận phân tán của class i,\n",
    "được tính như sau:\n",
    "    \\begin{equation*}\n",
    "        S_i=\\displaystyle\\sum_{x\\in D_i}^{c}(x-m_i)(x-m_i)^{T}\n",
    "    \\end{equation*}\n",
    "\n",
    "Ta sẽ tính ma trận phân tán giữa các class $S_B$ như sau:\\\n",
    "Với $m$ là mean tổng của tất cả sample của tất cả class\n",
    "    \\begin{equation*}\n",
    "        S_B=\\displaystyle\\sum_{i=1}^{c}n_i(m_i-m)(m_i-m)^{T}\n",
    "    \\end{equation*}\n",
    "Tính vectơ riêng và trị riêng tương ứng của ma trận $S_w^{-1}S_B$.\n",
    "\n",
    "Sắp xết các trị riêng giảm dần.\n",
    "\n",
    "Chọn $\\textit{k}$ vectơ riêng tương ứng với $\\textit{k}$ trị riêng lớn nhất để xây dựng một ma trận chuyển đổi $W$ có $dxk$ chiều."
   ]
  },
  {
   "cell_type": "code",
   "execution_count": 8,
   "metadata": {},
   "outputs": [],
   "source": [
    "def Standard_data(X):\n",
    "    return (X - X.mean(axis = 0))/X.std(axis=0)"
   ]
  },
  {
   "cell_type": "code",
   "execution_count": 9,
   "metadata": {},
   "outputs": [],
   "source": [
    "class LDA:\n",
    "    def __init__(self,n_components):\n",
    "        self.n_components = n_components\n",
    "    \n",
    "    def fit_transform(self, X,y):\n",
    "        n_features = X.shape[1]\n",
    "        class_labels = np.unique(y)\n",
    "        \n",
    "        \n",
    "        mean_overall = np.mean(X, axis=0)\n",
    "\n",
    "        \n",
    "        # within class scatter matrix  SW\n",
    "        SW = np.zeros((n_features, n_features) )\n",
    "        \n",
    "        # Between class scatter SB\n",
    "        SB = np.zeros((n_features, n_features) )\n",
    "        \n",
    "        for c in class_labels:\n",
    "            X_c = X[y==c]\n",
    "            \n",
    "            mean_c = np.mean(X_c, axis=0)\n",
    "\n",
    "            \n",
    "            SW += (X_c - mean_c).T.dot((X_c - mean_c))\n",
    "            \n",
    "            n_c = X_c.shape[0]\n",
    "            \n",
    "            mean_vecs_ = (mean_c - mean_overall).reshape(n_features,1)\n",
    "\n",
    "            \n",
    "            SB += n_c * (mean_vecs_).dot(mean_vecs_.T)\n",
    "        \n",
    "\n",
    "        \n",
    "        # Determine SW^-1 *SB\n",
    "        SW = Standard_data(SW)\n",
    "        A = np.linalg.inv(SW).dot(SB)\n",
    "\n",
    "        # get eigenvalues and eigenvectors of SW^-1 * SB\n",
    "        \n",
    "        eigvals, eigvecs   = np.linalg.eigh(A)\n",
    "\n",
    "        \n",
    "        # sort eigenvalues high to low\n",
    "        eigvals = eigvals[::-1]\n",
    "        eigvecs = eigvecs[:,::-1]\n",
    "\n",
    "\n",
    "        self.eigenvalues = eigvals\n",
    "        self.eigenvectors = eigvecs\n",
    "        \n",
    "        W = eigvecs[:,:self.n_components]\n",
    "\n",
    "        \n",
    "        return X.dot(W)\n",
    "        \n",
    "        "
   ]
  },
  {
   "cell_type": "code",
   "execution_count": 10,
   "metadata": {
    "scrolled": false
   },
   "outputs": [
    {
     "data": {
      "image/png": "[encoded data removed]",
      "text/plain": [
       "<Figure size 432x288 with 1 Axes>"
      ]
     },
     "metadata": {
      "needs_background": "light"
     },
     "output_type": "display_data"
    },
    {
     "data": {
      "text/plain": [
       "(150, 2)"
      ]
     },
     "execution_count": 10,
     "metadata": {},
     "output_type": "execute_result"
    }
   ],
   "source": [
    "lda_m = LDA(n_components=2)\n",
    "X_LDA = lda_m.fit_transform(X ,y)\n",
    "plt.scatter(X_LDA[:,0],X_LDA[:,1], c=y,\n",
    "        cmap=plt.cm.get_cmap('viridis', 3))\n",
    "plt.xlabel('LD1',fontsize=13)\n",
    "plt.ylabel('LD2',fontsize=13)\n",
    "plt.show()\n",
    "X_LDA.shape"
   ]
  },
  {
   "cell_type": "markdown",
   "metadata": {},
   "source": [
    "# Comparison between LDA and PCA "
   ]
  },
  {
   "cell_type": "code",
   "execution_count": 11,
   "metadata": {
    "scrolled": true
   },
   "outputs": [
    {
     "data": {
      "image/png": "[encoded data removed]",
      "text/plain": [
       "<Figure size 432x288 with 1 Axes>"
      ]
     },
     "metadata": {
      "needs_background": "light"
     },
     "output_type": "display_data"
    }
   ],
   "source": [
    "from sklearn.decomposition import PCA\n",
    "pca = PCA(n_components=2)\n",
    "X_pca = pca.fit_transform(X)\n",
    "plt.scatter(X_pca[:,0],X_pca[:,1], c = y)\n",
    "plt.xlabel('PC1',fontsize=13)\n",
    "plt.ylabel('PC2',fontsize=13)\n",
    "plt.show()"
   ]
  },
  {
   "cell_type": "markdown",
   "metadata": {},
   "source": [
    "## Nhận xét:\n",
    "### Cả LDA và PCA đều là kỹ thuật biến đổi tuyến tính: LDA là một kỹ thuật được giám sát trong khi PCA là không được giám sát - PCA bỏ qua các nhãn lớp. Ngược lại với PCA, LDA cố gắng tìm một không gian con chứa các feature và tối đa hóa khả năng phân tách lớp."
   ]
  },
  {
   "cell_type": "code",
   "execution_count": null,
   "metadata": {},
   "outputs": [],
   "source": []
  }
 ],
 "metadata": {
  "kernelspec": {
   "display_name": "Python 3",
   "language": "python",
   "name": "python3"
  },
  "language_info": {
   "codemirror_mode": {
    "name": "ipython",
    "version": 3
   },
   "file_extension": ".py",
   "mimetype": "text/x-python",
   "name": "python",
   "nbconvert_exporter": "python",
   "pygments_lexer": "ipython3",
   "version": "3.8.3"
  }
 },
 "nbformat": 4,
 "nbformat_minor": 4
}
